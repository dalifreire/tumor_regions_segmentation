{
 "cells": [
  {
   "cell_type": "markdown",
   "metadata": {},
   "source": [
    "# Train the model using the OCDC dataset images"
   ]
  },
  {
   "cell_type": "code",
   "execution_count": null,
   "metadata": {},
   "outputs": [],
   "source": [
    "from ocdc_train import *\n",
    "\n",
    "dataset_dir = \"../../datasets/OCDC\"\n",
    "model_dir = \"../../models\"\n",
    "\n",
    "augmentation_strategy = \"random\" # \"no_augmentation\", \"color_augmentation\", \"inpainting_augmentation\", \"standard\", \"random\"\n",
    "augmentation = [None,\n",
    "                \"horizontal_flip\", \n",
    "                \"vertical_flip\", \n",
    "                \"rotation\", \n",
    "                \"transpose\", \n",
    "                \"elastic_transformation\", \n",
    "                \"grid_distortion\", \n",
    "                \"optical_distortion\", \n",
    "                \"color_transfer\", \n",
    "                \"inpainting\"]\n",
    "#[None, \"horizontal_flip\", \"vertical_flip\", \"rotation\", \"transpose\", \"elastic_transformation\", \"grid_distortion\", \"optical_distortion\", \"color_transfer\", \"inpainting\"]\n",
    "\n",
    "start_epoch = 1\n",
    "batch_size = 1\n",
    "patch_size = (640, 640)\n",
    "color_model = \"LAB\"\n",
    "dataloaders = create_dataloader(tile_size=\"{}x{}\".format(patch_size[0], patch_size[1]),\n",
    "                                batch_size=batch_size,\n",
    "                                shuffle=False,\n",
    "                                img_input_size=patch_size,\n",
    "                                img_output_size=patch_size,\n",
    "                                dataset_dir=dataset_dir,\n",
    "                                color_model=color_model,\n",
    "                                augmentation=augmentation,\n",
    "                                augmentation_strategy=augmentation_strategy,\n",
    "                                start_epoch=start_epoch,\n",
    "                                validation_split=0.0)\n",
    "\n",
    "# loads our u-net based model to continue previous training\n",
    "#trained_model_version = \"OCDC__Size-640x640_Epoch-001_Images-840_Batch-1__no_augmentation\"\n",
    "#trained_model_path = \"{}/{}.pth\".format(model_dir, trained_model_version)\n",
    "#model = load_checkpoint(file_path=trained_model_path, img_input_size=patch_size, use_cuda=True)\n",
    "\n",
    "# starts the training from scratch\n",
    "model = None\n",
    "\n",
    "# train the model\n",
    "result_file_csv = \"../../datasets/OCDC/training/ocdc_training_accuracy_loss.csv\"\n",
    "train_model_with_validation(dataloaders=dataloaders,\n",
    "                            model=model,\n",
    "                            n_epochs=400,\n",
    "                            start_epoch=start_epoch,\n",
    "                            augmentation_strategy=augmentation_strategy,\n",
    "                            output_dir=model_dir,\n",
    "                            augmentation_operations=augmentation,\n",
    "                            result_file_csv=result_file_csv)"
   ]
  },
  {
   "cell_type": "code",
   "execution_count": null,
   "metadata": {},
   "outputs": [],
   "source": []
  }
 ],
 "metadata": {
  "kernelspec": {
   "display_name": "Python 3",
   "language": "python",
   "name": "python3"
  },
  "language_info": {
   "codemirror_mode": {
    "name": "ipython",
    "version": 3
   },
   "file_extension": ".py",
   "mimetype": "text/x-python",
   "name": "python",
   "nbconvert_exporter": "python",
   "pygments_lexer": "ipython3",
   "version": "3.8.10"
  }
 },
 "nbformat": 4,
 "nbformat_minor": 4
}
