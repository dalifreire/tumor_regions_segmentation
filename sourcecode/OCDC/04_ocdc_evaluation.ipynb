{
 "cells": [
  {
   "cell_type": "markdown",
   "source": [
    "# Quantitative metrics for image-patches"
   ],
   "metadata": {}
  },
  {
   "cell_type": "code",
   "execution_count": 1,
   "source": [
    "import os\n",
    "import sys\n",
    "import csv\n",
    "\n",
    "from scipy import ndimage as nd\n",
    "from skimage import measure\n",
    "\n",
    "\n",
    "\n",
    "current_path = os.path.abspath('.')\n",
    "root_path = os.path.dirname(os.path.dirname(current_path))\n",
    "sys.path.append(root_path)\n",
    "\n",
    "from sourcecode.OCDC.ocdc_dataloader import *\n",
    "from sourcecode.wsi_image_utils import *\n",
    "from sourcecode.evaluation_utils import *\n",
    "\n",
    "\n",
    "\n",
    "#dataset_dir = \"../../datasets/OCDC\"\n",
    "dataset_dir = \"/media/dalifreire/DADOS/PhD/github/tumor_regions_segmentation/datasets/OCDC\"\n",
    "\n",
    "batch_size = 1\n",
    "patch_size = (640, 640)\n",
    "color_model = \"LAB\"\n",
    "dataloaders = create_dataloader(tile_size=\"{}x{}\".format(patch_size[0], patch_size[1]),\n",
    "                                batch_size=batch_size, \n",
    "                                shuffle=False,\n",
    "                                img_input_size=patch_size,\n",
    "                                img_output_size=patch_size,\n",
    "                                dataset_dir=dataset_dir,\n",
    "                                color_model=color_model)\n",
    "\n",
    "dataset_train_size = len(dataloaders['train'].dataset)\n",
    "dataset_test_size = len(dataloaders['test'].dataset)\n",
    "print(\"-\")\n",
    "\n",
    "tile_size = 20\n",
    "magnification=0.625\n",
    "\n",
    "threshold_prob = 0.50\n",
    "threshold_itc = 200/(0.243 * pow(2, 5))\n",
    "\n",
    "wsi_images_dir_normal = \"{}/testing/normal/wsi\".format(dataset_dir)\n",
    "wsi_images_dir_tumor = \"{}/testing/tumor/wsi\".format(dataset_dir)\n",
    "\n",
    "trained_model_version = \"OCDC__Size-640x640_Epoch-400_Images-840_Batch-1__random_9_operations\"\n",
    "results_dir=\"{}/results/{}/testing\".format(dataset_dir, trained_model_version)\n",
    "csv_file_path = \"{}/ocdc_quantitative_analysis_{}.csv\".format(results_dir, threshold_prob)\n",
    "\n",
    "wsi_tissue_patches = {}\n",
    "with open(csv_file_path, mode='w') as medidas_file:\n",
    "\n",
    "    medidas_writer = csv.writer(medidas_file, delimiter=',', quotechar='\"', quoting=csv.QUOTE_MINIMAL)\n",
    "    medidas_writer.writerow(['wsi_image', 'patch_image', 'class', 'accuracy', 'precision', 'f1/dice', 'jaccard', 'sensitivity/recall', 'specificity', 'pixels', 'tp', 'tn', 'fp', 'fn'])\n",
    "\n",
    "    for batch_idx, (data, target, fname, original_size) in enumerate(dataloaders['test']):\n",
    "\n",
    "        # wsi image number\n",
    "        wsi_image_number = fname[0].split(\"_\")[0]\n",
    "        if wsi_image_number not in wsi_tissue_patches:\n",
    "            \n",
    "            # extract the tissue region from original image and draw the heat grid\n",
    "            wsi_image_path = \"{}/{}.svs\".format(wsi_images_dir_tumor, wsi_image_number)\n",
    "            if not os.path.exists(wsi_image_path):\n",
    "                wsi_image_path = \"{}/{}.svs\".format(wsi_images_dir_normal, wsi_image_number)\n",
    "            \n",
    "             # scale down image\n",
    "            wsi_image = open_wsi(wsi_image_path)\n",
    "            pil_scaled_down_image = scale_down_wsi(wsi_image, magnification, False)\n",
    "            np_scaled_down_image = pil_to_np(pil_scaled_down_image)\n",
    "\n",
    "            # extract tissue region \n",
    "            np_tissue_mask, np_masked_image = extract_normal_region_from_wsi(wsi_image_path, np_scaled_down_image, None)\n",
    "            pil_masked_image = np_to_pil(np_masked_image)\n",
    "\n",
    "            # draw the heat grid\n",
    "            pil_img_result, heat_grid, number_of_tiles = draw_heat_grid(np_masked_image, tile_size)\n",
    "\n",
    "            tissue_patches = []\n",
    "            for idx, (position, row, column, location, size, color) in enumerate(heat_grid):\n",
    "                if color != GREEN_COLOR: \n",
    "                    tissue_patches.append(\"{}_r{}c{}.png\".format(wsi_image_number, row, column))\n",
    "\n",
    "            wsi_tissue_patches[wsi_image_number] = tissue_patches\n",
    "            #print(wsi_tissue_patches)\n",
    "\n",
    "        # check if the patch was excluded in preprocessing step\n",
    "        patch_excludde_in_preprocessing = fname[0] not in wsi_tissue_patches[wsi_image_number]\n",
    "\n",
    "        # load the mask image\n",
    "        mask_np_img = target[0].numpy()\n",
    "\n",
    "        # roi x non_roi classes\n",
    "        wsi_class = \"tumor\" if wsi_image_path.find(\"tumor\") > 0 else \"normal\"\n",
    "        patch_class = \"roi\" if np.max(np.unique(mask_np_img)) > 0 else 'non_roi'\n",
    "                \n",
    "\n",
    "        # load the predicted image result\n",
    "        patch_results_dir = \"{}/{}/patch/640x640/{}\".format(results_dir, wsi_class, wsi_image_number)\n",
    "        unet_result_img = \"{}/01-unet_result/{}\".format(patch_results_dir, fname[0])\n",
    "        predicted_pil_img = Image.fromarray(np.zeros(mask_np_img.shape)) if patch_excludde_in_preprocessing else load_pil_image(unet_result_img, gray=True) if os.path.isfile(unet_result_img) else Image.fromarray(np.zeros(mask_np_img.shape))\n",
    "        predicted_np_img = np.copy(pil_to_np(predicted_pil_img))\n",
    "        predicted_np_img = predicted_np_img * (1.0/255)\n",
    "        predicted_np_img = basic_threshold(predicted_np_img, threshold=threshold_prob, output_type=\"uint8\")\n",
    "\n",
    "        predicted_labels = measure.label(predicted_np_img, connectivity=2)\n",
    "        predicted_np_img = np.zeros((predicted_np_img.shape[0], predicted_np_img.shape[1]))\n",
    "        labels = np.unique(predicted_labels)\n",
    "        properties = measure.regionprops(predicted_labels)\n",
    "        for lbl in range(1, np.max(labels)):\n",
    "            major_axis_length = properties[lbl-1].major_axis_length\n",
    "            if major_axis_length > threshold_itc:\n",
    "                predicted_np_img[predicted_labels == lbl] = 1\n",
    "\n",
    "\n",
    "        # metrics\n",
    "        auc = 0.0 #roc_auc_score(mask_np_img, predicted_np_img)\n",
    "        precision = precision_score(mask_np_img, predicted_np_img)\n",
    "        recall = recall_score(mask_np_img, predicted_np_img)\n",
    "        accuracy = accuracy_score(mask_np_img, predicted_np_img)\n",
    "        f1 = f1_score(mask_np_img, predicted_np_img)\n",
    "        specificity = specificity_score(mask_np_img, predicted_np_img)\n",
    "        jaccard = jaccard_score(mask_np_img, predicted_np_img)\n",
    "\n",
    "        total_pixels, tn, fp, fn, tp = tn_fp_fn_tp(mask_np_img, predicted_np_img)\n",
    "\n",
    "        print(\"Results for {:26} ({:7} - {:8} - {:04.2f} accuracy)\".format(fname[0], patch_class, \"excluded\" if patch_excludde_in_preprocessing else \"unet\", accuracy))\n",
    "        #print(\"   Precision: \\t{}\".format(precision))\n",
    "        #print(\"   Recall/Sen: \\t{}\".format(recall))\n",
    "        #print(\"   F1/Dice: \\t{}\".format(f1))\n",
    "        #print(\"   Accuracy: \\t{}\".format(accuracy))\n",
    "        #print(\"   Specificity: {}\".format(specificity))\n",
    "        #print(\"   Jaccard: \\t{}\".format(jaccard))\n",
    "        #print(\"   TP = {} TN = {} FP = {} FN = {}\".format(tp, tn, fp, fn))\n",
    "        #print(\"-\")\n",
    "\n",
    "        medidas_writer.writerow([wsi_image_number, fname[0], patch_class, accuracy, precision, f1, jaccard, recall, specificity, total_pixels, tp, tn, fp, fn])\n"
   ],
   "outputs": [
    {
     "output_type": "stream",
     "name": "stderr",
     "text": [
      "2021-10-23 11:38:17,193 :: INFO load_dataset :: [training] /media/dalifreire/DADOS/PhD/github/tumor_regions_segmentation/datasets/OCDC/training\n",
      "2021-10-23 11:38:17,242 :: INFO load_dataset :: [training] /media/dalifreire/DADOS/PhD/github/tumor_regions_segmentation/datasets/OCDC/training\n",
      "2021-10-23 11:38:17,290 :: INFO load_dataset :: [testing] /media/dalifreire/DADOS/PhD/github/tumor_regions_segmentation/datasets/OCDC/testing\n",
      "2021-10-23 11:38:17,337 :: INFO create_dataloader :: Train images (640x640): 840 augmentation: random\n",
      "2021-10-23 11:38:17,338 :: INFO create_dataloader :: Test images (640x640): 180 augmentation: no_augmentation\n",
      "2021-10-23 11:38:17,486 :: INFO transform :: Epoch: '1' augmentation no_augmentation None\n"
     ]
    },
    {
     "output_type": "stream",
     "name": "stdout",
     "text": [
      "-\n"
     ]
    },
    {
     "output_type": "stream",
     "name": "stderr",
     "text": [
      "2021-10-23 11:38:17,958 :: INFO extract_normal_region_from_wsi :: \t Extracting normal regions from wsi image: '1009009.svs'\n"
     ]
    },
    {
     "output_type": "stream",
     "name": "stdout",
     "text": [
      "Results for 1009009_r27c10.png         (roi     - unet     - 0.95 accuracy)\n",
      "Results for 1009009_r27c5.png          (roi     - unet     - 0.94 accuracy)\n",
      "Results for 1009009_r28c12.png         (roi     - unet     - 0.87 accuracy)\n"
     ]
    },
    {
     "output_type": "stream",
     "name": "stderr",
     "text": [
      "/home/dalifreire/.local/lib/python3.8/site-packages/sklearn/metrics/_classification.py:1221: UndefinedMetricWarning: Precision is ill-defined and being set to 0.0 due to no predicted samples. Use `zero_division` parameter to control this behavior.\n",
      "  _warn_prf(average, modifier, msg_start, len(result))\n"
     ]
    },
    {
     "output_type": "stream",
     "name": "stdout",
     "text": [
      "Results for 1009009_r31c0.png          (roi     - unet     - 0.96 accuracy)\n",
      "Results for 1009009_r31c1.png          (roi     - unet     - 0.95 accuracy)\n",
      "Results for 1009009_r35c10.png         (roi     - unet     - 0.94 accuracy)\n",
      "Results for 1009009_r35c4.png          (roi     - unet     - 0.97 accuracy)\n",
      "Results for 1009009_r35c8.png          (roi     - unet     - 0.96 accuracy)\n",
      "Results for 1009009_r41c2.png          (roi     - unet     - 0.87 accuracy)\n",
      "Results for 1009009_r41c5.png          (roi     - unet     - 0.96 accuracy)\n",
      "Results for 1009009_r43c9.png          (roi     - unet     - 0.04 accuracy)\n"
     ]
    },
    {
     "output_type": "stream",
     "name": "stderr",
     "text": [
      "/home/dalifreire/.local/lib/python3.8/site-packages/sklearn/metrics/_classification.py:1221: UndefinedMetricWarning: Recall is ill-defined and being set to 0.0 due to no true samples. Use `zero_division` parameter to control this behavior.\n",
      "  _warn_prf(average, modifier, msg_start, len(result))\n",
      "/home/dalifreire/.local/lib/python3.8/site-packages/sklearn/metrics/_classification.py:1464: UndefinedMetricWarning: F-score is ill-defined and being set to 0.0 due to no true nor predicted samples. Use `zero_division` parameter to control this behavior.\n",
      "  _warn_prf(\n",
      "/home/dalifreire/.local/lib/python3.8/site-packages/sklearn/metrics/_classification.py:1221: UndefinedMetricWarning: Jaccard is ill-defined and being set to 0.0 due to no true or predicted samples. Use `zero_division` parameter to control this behavior.\n",
      "  _warn_prf(average, modifier, msg_start, len(result))\n"
     ]
    },
    {
     "output_type": "stream",
     "name": "stdout",
     "text": [
      "Results for 1009009_r10c2.png          (non_roi - excluded - 1.00 accuracy)\n",
      "Results for 1009009_r10c4.png          (non_roi - excluded - 1.00 accuracy)\n",
      "Results for 1009009_r11c2.png          (non_roi - excluded - 1.00 accuracy)\n",
      "Results for 1009009_r15c4.png          (non_roi - unet     - 1.00 accuracy)\n",
      "Results for 1009009_r16c16.png         (non_roi - excluded - 1.00 accuracy)\n",
      "Results for 1009009_r20c2.png          (non_roi - unet     - 1.00 accuracy)\n",
      "Results for 1009009_r20c22.png         (non_roi - unet     - 1.00 accuracy)\n",
      "Results for 1009009_r21c7.png          (non_roi - unet     - 1.00 accuracy)\n",
      "Results for 1009009_r2c3.png           (non_roi - unet     - 1.00 accuracy)\n",
      "Results for 1009009_r30c22.png         (non_roi - excluded - 1.00 accuracy)\n",
      "Results for 1009009_r34c13.png         (non_roi - unet     - 1.00 accuracy)\n",
      "Results for 1009009_r38c17.png         (non_roi - excluded - 1.00 accuracy)\n",
      "Results for 1009009_r3c2.png           (non_roi - unet     - 1.00 accuracy)\n",
      "Results for 1009009_r40c21.png         (non_roi - excluded - 1.00 accuracy)\n",
      "Results for 1009009_r46c6.png          (non_roi - unet     - 1.00 accuracy)\n",
      "Results for 1009009_r5c1.png           (non_roi - unet     - 1.00 accuracy)\n",
      "Results for 1009009_r5c7.png           (non_roi - unet     - 1.00 accuracy)\n",
      "Results for 1009009_r7c16.png          (non_roi - unet     - 1.00 accuracy)\n",
      "Results for 1009009_r8c3.png           (non_roi - excluded - 1.00 accuracy)\n"
     ]
    },
    {
     "output_type": "stream",
     "name": "stderr",
     "text": [
      "2021-10-23 11:39:46,303 :: INFO extract_normal_region_from_wsi :: \t Extracting normal regions from wsi image: '1009010x1000902.svs'\n"
     ]
    },
    {
     "output_type": "stream",
     "name": "stdout",
     "text": [
      "Results for 1009010x1000902_r20c33.png (roi     - unet     - 0.95 accuracy)\n",
      "Results for 1009010x1000902_r22c35.png (roi     - unet     - 0.99 accuracy)\n",
      "Results for 1009010x1000902_r23c32.png (roi     - unet     - 0.96 accuracy)\n",
      "Results for 1009010x1000902_r24c33.png (roi     - unet     - 0.95 accuracy)\n",
      "Results for 1009010x1000902_r25c34.png (roi     - unet     - 0.04 accuracy)\n",
      "Results for 1009010x1000902_r26c29.png (roi     - unet     - 0.93 accuracy)\n",
      "Results for 1009010x1000902_r31c26.png (roi     - unet     - 0.97 accuracy)\n",
      "Results for 1009010x1000902_r35c31.png (roi     - unet     - 0.95 accuracy)\n",
      "Results for 1009010x1000902_r37c2.png  (roi     - unet     - 0.87 accuracy)\n",
      "Results for 1009010x1000902_r42c5.png  (roi     - unet     - 0.70 accuracy)\n",
      "Results for 1009010x1000902_r18c13.png (non_roi - unet     - 1.00 accuracy)\n",
      "Results for 1009010x1000902_r21c0.png  (non_roi - unet     - 1.00 accuracy)\n",
      "Results for 1009010x1000902_r22c31.png (non_roi - unet     - 1.00 accuracy)\n",
      "Results for 1009010x1000902_r24c1.png  (non_roi - unet     - 1.00 accuracy)\n",
      "Results for 1009010x1000902_r24c72.png (non_roi - excluded - 1.00 accuracy)\n",
      "Results for 1009010x1000902_r28c1.png  (non_roi - unet     - 1.00 accuracy)\n",
      "Results for 1009010x1000902_r28c53.png (non_roi - unet     - 1.00 accuracy)\n",
      "Results for 1009010x1000902_r32c74.png (non_roi - unet     - 1.00 accuracy)\n",
      "Results for 1009010x1000902_r36c76.png (non_roi - unet     - 1.00 accuracy)\n",
      "Results for 1009010x1000902_r39c60.png (non_roi - unet     - 1.00 accuracy)\n",
      "Results for 1009010x1000902_r3c31.png  (non_roi - excluded - 1.00 accuracy)\n",
      "Results for 1009010x1000902_r47c63.png (non_roi - unet     - 1.00 accuracy)\n",
      "Results for 1009010x1000902_r48c5.png  (non_roi - unet     - 1.00 accuracy)\n",
      "Results for 1009010x1000902_r48c62.png (non_roi - unet     - 1.00 accuracy)\n",
      "Results for 1009010x1000902_r48c65.png (non_roi - unet     - 1.00 accuracy)\n",
      "Results for 1009010x1000902_r50c46.png (non_roi - unet     - 1.00 accuracy)\n",
      "Results for 1009010x1000902_r52c7.png  (non_roi - unet     - 1.00 accuracy)\n",
      "Results for 1009010x1000902_r56c41.png (non_roi - unet     - 1.00 accuracy)\n",
      "Results for 1009010x1000902_r5c33.png  (non_roi - excluded - 1.00 accuracy)\n",
      "Results for 1009010x1000902_r7c3.png   (non_roi - unet     - 1.00 accuracy)\n"
     ]
    },
    {
     "output_type": "stream",
     "name": "stderr",
     "text": [
      "2021-10-23 11:41:12,648 :: INFO extract_normal_region_from_wsi :: \t Extracting normal regions from wsi image: '1009011.svs'\n"
     ]
    },
    {
     "output_type": "stream",
     "name": "stdout",
     "text": [
      "Results for 1009011_r13c12.png         (roi     - unet     - 0.96 accuracy)\n",
      "Results for 1009011_r14c10.png         (roi     - unet     - 0.94 accuracy)\n",
      "Results for 1009011_r14c11.png         (roi     - unet     - 0.95 accuracy)\n",
      "Results for 1009011_r14c8.png          (roi     - unet     - 0.95 accuracy)\n",
      "Results for 1009011_r16c8.png          (roi     - unet     - 0.98 accuracy)\n",
      "Results for 1009011_r24c14.png         (roi     - unet     - 0.95 accuracy)\n",
      "Results for 1009011_r25c5.png          (roi     - unet     - 0.89 accuracy)\n",
      "Results for 1009011_r33c11.png         (roi     - unet     - 0.87 accuracy)\n",
      "Results for 1009011_r34c12.png         (roi     - unet     - 0.96 accuracy)\n",
      "Results for 1009011_r6c12.png          (roi     - unet     - 0.93 accuracy)\n",
      "Results for 1009011_r0c53.png          (non_roi - excluded - 1.00 accuracy)\n",
      "Results for 1009011_r10c6.png          (non_roi - unet     - 1.00 accuracy)\n",
      "Results for 1009011_r11c18.png         (non_roi - unet     - 1.00 accuracy)\n",
      "Results for 1009011_r12c24.png         (non_roi - unet     - 1.00 accuracy)\n",
      "Results for 1009011_r16c67.png         (non_roi - excluded - 1.00 accuracy)\n",
      "Results for 1009011_r17c21.png         (non_roi - unet     - 1.00 accuracy)\n",
      "Results for 1009011_r20c26.png         (non_roi - unet     - 1.00 accuracy)\n",
      "Results for 1009011_r22c19.png         (non_roi - unet     - 1.00 accuracy)\n",
      "Results for 1009011_r23c0.png          (non_roi - unet     - 1.00 accuracy)\n",
      "Results for 1009011_r23c20.png         (non_roi - unet     - 1.00 accuracy)\n",
      "Results for 1009011_r25c18.png         (non_roi - unet     - 1.00 accuracy)\n",
      "Results for 1009011_r26c0.png          (non_roi - unet     - 1.00 accuracy)\n",
      "Results for 1009011_r27c26.png         (non_roi - unet     - 1.00 accuracy)\n",
      "Results for 1009011_r34c9.png          (non_roi - unet     - 1.00 accuracy)\n"
     ]
    }
   ],
   "metadata": {}
  },
  {
   "cell_type": "code",
   "execution_count": null,
   "source": [],
   "outputs": [],
   "metadata": {}
  }
 ],
 "metadata": {
  "kernelspec": {
   "name": "python3",
   "display_name": "Python 3.8.10 64-bit"
  },
  "language_info": {
   "codemirror_mode": {
    "name": "ipython",
    "version": 3
   },
   "file_extension": ".py",
   "mimetype": "text/x-python",
   "name": "python",
   "nbconvert_exporter": "python",
   "pygments_lexer": "ipython3",
   "version": "3.8.10"
  },
  "interpreter": {
   "hash": "31f2aee4e71d21fbe5cf8b01ff0e069b9275f58929596ceb00d14d90e3e16cd6"
  }
 },
 "nbformat": 4,
 "nbformat_minor": 4
}