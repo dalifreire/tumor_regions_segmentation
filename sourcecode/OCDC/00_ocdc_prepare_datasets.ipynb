{
 "cells": [
  {
   "cell_type": "markdown",
   "metadata": {},
   "source": [
    "# Generates the scaled down images"
   ]
  },
  {
   "cell_type": "code",
   "execution_count": 12,
   "metadata": {},
   "outputs": [
    {
     "name": "stderr",
     "output_type": "stream",
     "text": [
      "2021-02-02 09:08:42,813 :: INFO <module> :: testing images\n",
      "2021-02-02 09:08:42,817 :: INFO <module> :: Processing wsi 'TMA HE.svs'\n",
      "2021-02-02 09:08:43,646 :: INFO extract_normal_region_from_wsi :: \t Extracting normal regions from wsi image: 'TMA HE.svs'\n",
      "2021-02-02 09:08:48,900 :: INFO <module> :: training images\n",
      "2021-02-02 09:08:48,902 :: INFO <module> :: Processing wsi '1009009.svs'\n",
      "2021-02-02 09:09:04,002 :: INFO extract_normal_region_from_wsi :: \t Extracting normal regions from wsi image: '1009009.svs'\n",
      "2021-02-02 09:09:04,557 :: INFO <module> :: Processing wsi '1009010x1000902.svs'\n",
      "2021-02-02 09:09:17,272 :: INFO extract_normal_region_from_wsi :: \t Extracting normal regions from wsi image: '1009010x1000902.svs'\n",
      "2021-02-02 09:09:19,345 :: INFO <module> :: Processing wsi '1009011.svs'\n",
      "2021-02-02 09:09:37,403 :: INFO extract_normal_region_from_wsi :: \t Extracting normal regions from wsi image: '1009011.svs'\n",
      "2021-02-02 09:09:38,550 :: INFO <module> :: Processing wsi '1009014.svs'\n",
      "2021-02-02 09:09:48,874 :: INFO extract_normal_region_from_wsi :: \t Extracting normal regions from wsi image: '1009014.svs'\n",
      "2021-02-02 09:09:50,070 :: INFO <module> :: Processing wsi '1009016x1000903.svs'\n",
      "2021-02-02 09:10:05,493 :: INFO extract_normal_region_from_wsi :: \t Extracting normal regions from wsi image: '1009016x1000903.svs'\n",
      "2021-02-02 09:10:07,010 :: INFO <module> :: Processing wsi '1009017.svs'\n",
      "2021-02-02 09:10:14,086 :: INFO extract_normal_region_from_wsi :: \t Extracting normal regions from wsi image: '1009017.svs'\n",
      "2021-02-02 09:10:15,149 :: INFO <module> :: Processing wsi '1009023.svs'\n",
      "2021-02-02 09:10:21,807 :: INFO extract_normal_region_from_wsi :: \t Extracting normal regions from wsi image: '1009023.svs'\n"
     ]
    }
   ],
   "source": [
    "from ocdc_dataloader import *\n",
    "\n",
    "magnification=0.625\n",
    "scale = get_scale_by_magnification(magnification)\n",
    "tile_size=20\n",
    "tile_size_original = int(scale * tile_size)\n",
    "\n",
    "\n",
    "cls = \"tumor\"\n",
    "dataset_types = [\"training\", \"testing\"]\n",
    "for dataset_type in sorted(dataset_types):\n",
    "    \n",
    "    logger.info(\"{} images\".format(dataset_type))\n",
    "    \n",
    "    ocdc_dir = \"../../datasets/OCDC\"\n",
    "    wsi_images_dir = \"{}/{}/{}/wsi\".format(ocdc_dir, dataset_type, cls)\n",
    "    patch_images_dir = \"{}/{}/{}/patch/640x640\".format(ocdc_dir, dataset_type, cls)\n",
    "    \n",
    "    for r, d, f in sorted(os.walk(wsi_images_dir)):\n",
    "        for wsi_file in sorted(f):\n",
    "            \n",
    "            wsi_image_file = \"{}/{}\".format(r, wsi_file)\n",
    "            wsi_image_number = wsi_file.replace(\".svs\", \"\")\n",
    "\n",
    "            file_is_svs = wsi_image_file.lower().endswith('.svs')\n",
    "            if file_is_svs:\n",
    "\n",
    "                logger.info(\"Processing wsi '{}'\".format(wsi_file))\n",
    "                \n",
    "                # check directory to save image-patches\n",
    "                dir_to_save = \"{}/{}\".format(patch_images_dir, wsi_image_number)\n",
    "                if not os.path.exists(dir_to_save):\n",
    "                    os.makedirs(\"{}/01-roi/01-original\".format(dir_to_save))\n",
    "                    os.makedirs(\"{}/01-roi/02-mask\".format(dir_to_save))\n",
    "                    os.makedirs(\"{}/01-roi/03-roi\".format(dir_to_save))             \n",
    "                    os.makedirs(\"{}/02-non_roi/01-original\".format(dir_to_save))\n",
    "                    os.makedirs(\"{}/02-non_roi/02-mask\".format(dir_to_save))\n",
    "                    \n",
    "                for f in sorted(os.listdir(\"{}/01-roi/01-original\".format(dir_to_save))):\n",
    "                    \n",
    "                    image_patch_file = \"{}/01-roi/01-original/{}\".format(dir_to_save, f)\n",
    "                    pil_tile = load_pil_image(image_patch_file, gray=False)\n",
    "                    pil_tile_mask = load_pil_image(image_patch_file.replace(\"01-original\", \"02-mask\"), gray=True)\n",
    "                    pil_tile_roi = blend_image(pil_tile, pil_tile_mask, foreground='blue', alpha=0.6, inverse=True)                  \n",
    "                    pil_tile_roi.save(\"{}/01-roi/03-roi/{}\".format(dir_to_save, f))\n",
    "                    \n",
    "                \n",
    "                # wsi image\n",
    "                wsi_image = open_wsi(wsi_image_file)\n",
    "                pil_scaled_down_image = scale_down_wsi(wsi_image, magnification, False)\n",
    "                np_scaled_down_image = pil_to_np(pil_scaled_down_image)\n",
    "                \n",
    "                # extract tissue region \n",
    "                np_tissue_mask, np_masked_image = extract_normal_region_from_wsi(wsi_image_file, np_scaled_down_image, None)\n",
    "                np_normal_mask = np.zeros((np_scaled_down_image.shape[0], np_scaled_down_image.shape[1]), dtype=bool)\n",
    "                np_normal_mask[np_tissue_mask > 0] = True\n",
    "                np_normal_mask[np_tissue_mask == 0] = False\n",
    "                pil_normal_mask = np_to_pil(np_normal_mask)\n",
    "                \n",
    "                pil_normal_mask = np_to_pil(np_normal_mask)\n",
    "                pil_normal_masked = np_to_pil(np_masked_image)\n",
    "                \n",
    "                blend_tissue = blend_image(pil_scaled_down_image, pil_normal_mask, foreground='green', inverse=True)\n",
    "                blend_background = blend_image(blend_tissue, pil_normal_mask, foreground='blue', inverse=False)\n",
    "\n",
    "                #heat grid tissue\n",
    "                pil_img_normal_result, heat_grid_normal, number_of_tiles_normal = draw_heat_grid(np_masked_image, tile_size)\n",
    "                \n",
    "                \n",
    "                pil_scaled_down_image.save('{}/{}_1.png'.format(dir_to_save, wsi_image_number))\n",
    "                blend_background.save('{}/{}_2.png'.format(dir_to_save, wsi_image_number))\n",
    "                pil_normal_masked.save('{}/{}_3.png'.format(dir_to_save, wsi_image_number))\n",
    "                pil_img_normal_result.save('{}/{}_5.png'.format(dir_to_save, wsi_image_number))\n",
    "                "
   ]
  },
  {
   "cell_type": "code",
   "execution_count": null,
   "metadata": {},
   "outputs": [],
   "source": []
  },
  {
   "cell_type": "code",
   "execution_count": null,
   "metadata": {},
   "outputs": [],
   "source": []
  }
 ],
 "metadata": {
  "kernelspec": {
   "display_name": "Python 3",
   "language": "python",
   "name": "python3"
  },
  "language_info": {
   "codemirror_mode": {
    "name": "ipython",
    "version": 3
   },
   "file_extension": ".py",
   "mimetype": "text/x-python",
   "name": "python",
   "nbconvert_exporter": "python",
   "pygments_lexer": "ipython3",
   "version": "3.8.10"
  }
 },
 "nbformat": 4,
 "nbformat_minor": 1
}
