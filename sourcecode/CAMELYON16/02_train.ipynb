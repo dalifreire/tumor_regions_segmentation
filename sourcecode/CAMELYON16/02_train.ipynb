{
 "cells": [
  {
   "cell_type": "markdown",
   "metadata": {
    "collapsed": true
   },
   "source": [
    "# Train the model using the CAMELYON16 dataset images"
   ]
  },
  {
   "cell_type": "code",
   "execution_count": null,
   "metadata": {
    "scrolled": true
   },
   "outputs": [],
   "source": [
    "from camelyon16_train import *\n",
    "\n",
    "dataset_dir = \"../../datasets/CAMELYON16\"\n",
    "model_dir = \"../../models\"\n",
    "\n",
    "batch_size = 1\n",
    "patch_size = (640, 640)\n",
    "color_model = \"LAB\"\n",
    "dataloaders = create_dataloader(tile_size=\"{}x{}\".format(patch_size[0], patch_size[1]),\n",
    "                                batch_size=batch_size, \n",
    "                                shuffle=True,\n",
    "                                img_input_size=patch_size,\n",
    "                                img_output_size=patch_size,\n",
    "                                dataset_dir=dataset_dir,\n",
    "                                color_model=color_model)\n",
    "dataset_train_size = len(dataloaders['train'].dataset)\n",
    "dataset_test_size = len(dataloaders['test'].dataset)\n",
    "\n",
    "\n",
    "# loads our fcn model to continue previous training\n",
    "#trained_model_version = \"Epoch-1_Images-109278_Batch-1\"\n",
    "#trained_model_path=\"{}/{}\".format(model_dir, 'CAMELYON16__Size-{}x{}_{}.pth'.format(patch_size[0], patch_size[1], trained_model_version))\n",
    "#model = load_checkpoint(file_path=trained_model_path, img_input_size=patch_size, use_cuda=True)\n",
    "\n",
    "# starts the training from scratch\n",
    "model = None\n",
    "\n",
    "# train the model\n",
    "train_model(dataloaders=dataloaders, model=model, n_epochs=10)\n"
   ]
  },
  {
   "cell_type": "code",
   "execution_count": null,
   "metadata": {},
   "outputs": [],
   "source": []
  }
 ],
 "metadata": {
  "kernelspec": {
   "display_name": "Python 3",
   "language": "python",
   "name": "python3"
  },
  "language_info": {
   "codemirror_mode": {
    "name": "ipython",
    "version": 3
   },
   "file_extension": ".py",
   "mimetype": "text/x-python",
   "name": "python",
   "nbconvert_exporter": "python",
   "pygments_lexer": "ipython3",
   "version": "3.8.5"
  }
 },
 "nbformat": 4,
 "nbformat_minor": 1
}
