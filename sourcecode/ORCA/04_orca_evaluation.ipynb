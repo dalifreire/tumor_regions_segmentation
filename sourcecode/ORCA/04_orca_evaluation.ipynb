{
 "cells": [
  {
   "cell_type": "markdown",
   "metadata": {},
   "source": [
    "# Quantitative metrics for image-patches"
   ]
  },
  {
   "cell_type": "code",
   "execution_count": 3,
   "metadata": {},
   "outputs": [
    {
     "name": "stderr",
     "output_type": "stream",
     "text": [
      "2021-06-03 23:54:34,792 :: INFO load_dataset :: [training] ../../datasets/ORCA/training\n",
      "2021-06-03 23:54:35,339 :: INFO load_dataset :: [training] ../../datasets/ORCA/training\n",
      "2021-06-03 23:54:35,846 :: INFO load_dataset :: [testing] ../../datasets/ORCA/testing\n",
      "2021-06-03 23:54:36,371 :: INFO create_dataloader :: Train images (640x640): 4181 augmentation: random\n",
      "2021-06-03 23:54:36,372 :: INFO create_dataloader :: Test images (640x640): 4481 augmentation: no_augmentation\n",
      "2021-06-03 23:54:36,482 :: INFO transform :: Epoch: '1' augmentation no_augmentation None\n"
     ]
    },
    {
     "name": "stdout",
     "output_type": "stream",
     "text": [
      "-\n"
     ]
    },
    {
     "name": "stderr",
     "output_type": "stream",
     "text": [
      "2021-06-03 23:54:37,143 :: INFO extract_normal_region_from_wsi :: \t Extracting normal regions from wsi image: 'TCGA-CN-4723-01Z-00-DX1.13483e7b-9322-4d39-8cd6-91e898bf2ee9_0.png'\n"
     ]
    },
    {
     "name": "stdout",
     "output_type": "stream",
     "text": [
      "Results for r0c2.png                   (roi     - unet     - 0.93 accuracy)\n",
      "Results for r0c3.png                   (roi     - unet     - 0.87 accuracy)\n",
      "Results for r0c4.png                   (roi     - unet     - 0.86 accuracy)\n"
     ]
    },
    {
     "name": "stderr",
     "output_type": "stream",
     "text": [
      "/home/dalifreire/.local/lib/python3.8/site-packages/sklearn/metrics/_classification.py:1221: UndefinedMetricWarning: Precision is ill-defined and being set to 0.0 due to no predicted samples. Use `zero_division` parameter to control this behavior.\n",
      "  _warn_prf(average, modifier, msg_start, len(result))\n"
     ]
    },
    {
     "name": "stdout",
     "output_type": "stream",
     "text": [
      "Results for r0c5.png                   (roi     - unet     - 0.88 accuracy)\n",
      "Results for r1c2.png                   (roi     - unet     - 0.96 accuracy)\n",
      "Results for r1c3.png                   (roi     - unet     - 0.47 accuracy)\n",
      "Results for r1c4.png                   (roi     - unet     - 0.76 accuracy)\n",
      "Results for r1c5.png                   (roi     - unet     - 0.73 accuracy)\n",
      "Results for r1c6.png                   (roi     - unet     - 0.90 accuracy)\n"
     ]
    },
    {
     "name": "stderr",
     "output_type": "stream",
     "text": [
      "/home/dalifreire/.local/lib/python3.8/site-packages/sklearn/metrics/_classification.py:1221: UndefinedMetricWarning: Precision is ill-defined and being set to 0.0 due to no predicted samples. Use `zero_division` parameter to control this behavior.\n",
      "  _warn_prf(average, modifier, msg_start, len(result))\n"
     ]
    },
    {
     "name": "stdout",
     "output_type": "stream",
     "text": [
      "Results for r2c0.png                   (roi     - unet     - 0.93 accuracy)\n",
      "Results for r2c1.png                   (roi     - unet     - 0.78 accuracy)\n",
      "Results for r2c2.png                   (roi     - unet     - 0.68 accuracy)\n",
      "Results for r2c3.png                   (roi     - unet     - 0.87 accuracy)\n",
      "Results for r2c4.png                   (roi     - unet     - 0.76 accuracy)\n",
      "Results for r2c5.png                   (roi     - unet     - 0.71 accuracy)\n",
      "Results for r3c0.png                   (roi     - unet     - 0.14 accuracy)\n",
      "Results for r3c1.png                   (roi     - unet     - 0.87 accuracy)\n",
      "Results for r3c2.png                   (roi     - unet     - 0.95 accuracy)\n",
      "Results for r3c3.png                   (roi     - unet     - 0.89 accuracy)\n",
      "Results for r3c4.png                   (roi     - unet     - 0.77 accuracy)\n",
      "Results for r3c5.png                   (roi     - unet     - 0.68 accuracy)\n",
      "Results for r4c1.png                   (roi     - unet     - 0.81 accuracy)\n",
      "Results for r4c2.png                   (roi     - unet     - 0.93 accuracy)\n",
      "Results for r4c3.png                   (roi     - unet     - 0.81 accuracy)\n",
      "Results for r4c4.png                   (roi     - unet     - 0.70 accuracy)\n",
      "Results for r5c1.png                   (roi     - unet     - 0.70 accuracy)\n",
      "Results for r5c4.png                   (roi     - unet     - 0.40 accuracy)\n"
     ]
    },
    {
     "name": "stderr",
     "output_type": "stream",
     "text": [
      "/home/dalifreire/.local/lib/python3.8/site-packages/sklearn/metrics/_classification.py:1221: UndefinedMetricWarning: Precision is ill-defined and being set to 0.0 due to no predicted samples. Use `zero_division` parameter to control this behavior.\n",
      "  _warn_prf(average, modifier, msg_start, len(result))\n",
      "/home/dalifreire/.local/lib/python3.8/site-packages/sklearn/metrics/_classification.py:1221: UndefinedMetricWarning: Recall is ill-defined and being set to 0.0 due to no true samples. Use `zero_division` parameter to control this behavior.\n",
      "  _warn_prf(average, modifier, msg_start, len(result))\n",
      "/home/dalifreire/.local/lib/python3.8/site-packages/sklearn/metrics/_classification.py:1464: UndefinedMetricWarning: F-score is ill-defined and being set to 0.0 due to no true nor predicted samples. Use `zero_division` parameter to control this behavior.\n",
      "  _warn_prf(\n",
      "/home/dalifreire/.local/lib/python3.8/site-packages/sklearn/metrics/_classification.py:1221: UndefinedMetricWarning: Jaccard is ill-defined and being set to 0.0 due to no true or predicted samples. Use `zero_division` parameter to control this behavior.\n",
      "  _warn_prf(average, modifier, msg_start, len(result))\n"
     ]
    },
    {
     "name": "stdout",
     "output_type": "stream",
     "text": [
      "Results for r0c1.png                   (non_roi - unet     - 1.00 accuracy)\n",
      "Results for r1c0.png                   (non_roi - unet     - 1.00 accuracy)\n",
      "Results for r1c1.png                   (non_roi - unet     - 1.00 accuracy)\n",
      "Results for r2c6.png                   (non_roi - unet     - 0.97 accuracy)\n",
      "Results for r3c6.png                   (non_roi - unet     - 0.08 accuracy)\n",
      "Results for r4c0.png                   (non_roi - unet     - 1.00 accuracy)\n",
      "Results for r4c5.png                   (non_roi - unet     - 0.05 accuracy)\n",
      "Results for r4c6.png                   (non_roi - unet     - 1.00 accuracy)\n",
      "Results for r5c0.png                   (non_roi - unet     - 1.00 accuracy)\n",
      "Results for r5c2.png                   (non_roi - unet     - 1.00 accuracy)\n",
      "Results for r5c3.png                   (non_roi - unet     - 1.00 accuracy)\n",
      "Results for r5c5.png                   (non_roi - unet     - 0.04 accuracy)\n",
      "Results for r5c6.png                   (non_roi - unet     - 1.00 accuracy)\n",
      "Results for r6c1.png                   (non_roi - unet     - 1.00 accuracy)\n",
      "Results for r6c2.png                   (non_roi - unet     - 0.98 accuracy)\n",
      "Results for r6c3.png                   (non_roi - unet     - 0.07 accuracy)\n",
      "Results for r6c4.png                   (non_roi - unet     - 0.97 accuracy)\n",
      "Results for r6c5.png                   (non_roi - unet     - 1.00 accuracy)\n"
     ]
    },
    {
     "name": "stderr",
     "output_type": "stream",
     "text": [
      "2021-06-03 23:57:50,035 :: INFO extract_normal_region_from_wsi :: \t Extracting normal regions from wsi image: 'TCGA-CN-4723-01Z-00-DX1.13483e7b-9322-4d39-8cd6-91e898bf2ee9_1.png'\n"
     ]
    },
    {
     "name": "stdout",
     "output_type": "stream",
     "text": [
      "Results for r0c1.png                   (roi     - unet     - 0.76 accuracy)\n",
      "Results for r0c2.png                   (roi     - unet     - 0.56 accuracy)\n",
      "Results for r0c4.png                   (roi     - unet     - 0.88 accuracy)\n",
      "Results for r0c5.png                   (roi     - unet     - 0.90 accuracy)\n",
      "Results for r1c0.png                   (roi     - unet     - 0.93 accuracy)\n",
      "Results for r1c1.png                   (roi     - unet     - 0.94 accuracy)\n",
      "Results for r1c2.png                   (roi     - unet     - 0.71 accuracy)\n"
     ]
    },
    {
     "name": "stderr",
     "output_type": "stream",
     "text": [
      "/home/dalifreire/.local/lib/python3.8/site-packages/sklearn/metrics/_classification.py:1221: UndefinedMetricWarning: Precision is ill-defined and being set to 0.0 due to no predicted samples. Use `zero_division` parameter to control this behavior.\n",
      "  _warn_prf(average, modifier, msg_start, len(result))\n"
     ]
    },
    {
     "name": "stdout",
     "output_type": "stream",
     "text": [
      "Results for r1c3.png                   (roi     - unet     - 0.68 accuracy)\n",
      "Results for r1c4.png                   (roi     - unet     - 0.91 accuracy)\n",
      "Results for r1c5.png                   (roi     - unet     - 0.70 accuracy)\n",
      "Results for r1c6.png                   (roi     - unet     - 0.85 accuracy)\n",
      "Results for r2c0.png                   (roi     - unet     - 0.92 accuracy)\n",
      "Results for r2c1.png                   (roi     - unet     - 0.84 accuracy)\n",
      "Results for r2c2.png                   (roi     - unet     - 0.88 accuracy)\n",
      "Results for r2c3.png                   (roi     - unet     - 0.77 accuracy)\n",
      "Results for r2c4.png                   (roi     - unet     - 0.41 accuracy)\n",
      "Results for r2c6.png                   (roi     - unet     - 0.77 accuracy)\n",
      "Results for r3c0.png                   (roi     - unet     - 0.67 accuracy)\n",
      "Results for r3c1.png                   (roi     - unet     - 0.85 accuracy)\n",
      "Results for r3c2.png                   (roi     - unet     - 0.94 accuracy)\n",
      "Results for r3c3.png                   (roi     - unet     - 0.86 accuracy)\n",
      "Results for r3c4.png                   (roi     - unet     - 0.81 accuracy)\n",
      "Results for r3c6.png                   (roi     - unet     - 0.78 accuracy)\n",
      "Results for r4c0.png                   (roi     - unet     - 0.85 accuracy)\n"
     ]
    },
    {
     "name": "stderr",
     "output_type": "stream",
     "text": [
      "/home/dalifreire/.local/lib/python3.8/site-packages/sklearn/metrics/_classification.py:1221: UndefinedMetricWarning: Precision is ill-defined and being set to 0.0 due to no predicted samples. Use `zero_division` parameter to control this behavior.\n",
      "  _warn_prf(average, modifier, msg_start, len(result))\n"
     ]
    },
    {
     "name": "stdout",
     "output_type": "stream",
     "text": [
      "Results for r4c1.png                   (roi     - unet     - 0.94 accuracy)\n",
      "Results for r4c2.png                   (roi     - unet     - 0.79 accuracy)\n",
      "Results for r4c3.png                   (roi     - unet     - 0.93 accuracy)\n",
      "Results for r4c4.png                   (roi     - unet     - 0.79 accuracy)\n",
      "Results for r4c5.png                   (roi     - unet     - 0.86 accuracy)\n",
      "Results for r4c6.png                   (roi     - unet     - 0.40 accuracy)\n",
      "Results for r5c0.png                   (roi     - unet     - 0.97 accuracy)\n",
      "Results for r5c1.png                   (roi     - unet     - 0.94 accuracy)\n",
      "Results for r5c2.png                   (roi     - unet     - 0.86 accuracy)\n",
      "Results for r5c3.png                   (roi     - unet     - 0.58 accuracy)\n",
      "Results for r5c4.png                   (roi     - unet     - 0.92 accuracy)\n",
      "Results for r5c5.png                   (roi     - unet     - 0.79 accuracy)\n",
      "Results for r5c6.png                   (roi     - unet     - 0.84 accuracy)\n"
     ]
    },
    {
     "name": "stderr",
     "output_type": "stream",
     "text": [
      "/home/dalifreire/.local/lib/python3.8/site-packages/sklearn/metrics/_classification.py:1221: UndefinedMetricWarning: Precision is ill-defined and being set to 0.0 due to no predicted samples. Use `zero_division` parameter to control this behavior.\n",
      "  _warn_prf(average, modifier, msg_start, len(result))\n"
     ]
    },
    {
     "name": "stdout",
     "output_type": "stream",
     "text": [
      "Results for r6c1.png                   (roi     - unet     - 0.70 accuracy)\n",
      "Results for r6c2.png                   (roi     - unet     - 0.79 accuracy)\n",
      "Results for r6c3.png                   (roi     - unet     - 0.76 accuracy)\n",
      "Results for r6c4.png                   (roi     - unet     - 0.63 accuracy)\n",
      "Results for r6c5.png                   (roi     - unet     - 0.93 accuracy)\n"
     ]
    },
    {
     "name": "stderr",
     "output_type": "stream",
     "text": [
      "/home/dalifreire/.local/lib/python3.8/site-packages/sklearn/metrics/_classification.py:1221: UndefinedMetricWarning: Recall is ill-defined and being set to 0.0 due to no true samples. Use `zero_division` parameter to control this behavior.\n",
      "  _warn_prf(average, modifier, msg_start, len(result))\n"
     ]
    },
    {
     "name": "stdout",
     "output_type": "stream",
     "text": [
      "Results for r0c3.png                   (non_roi - unet     - 0.08 accuracy)\n",
      "Results for r2c5.png                   (non_roi - unet     - 0.07 accuracy)\n"
     ]
    },
    {
     "name": "stderr",
     "output_type": "stream",
     "text": [
      "/home/dalifreire/.local/lib/python3.8/site-packages/sklearn/metrics/_classification.py:1221: UndefinedMetricWarning: Precision is ill-defined and being set to 0.0 due to no predicted samples. Use `zero_division` parameter to control this behavior.\n",
      "  _warn_prf(average, modifier, msg_start, len(result))\n",
      "/home/dalifreire/.local/lib/python3.8/site-packages/sklearn/metrics/_classification.py:1464: UndefinedMetricWarning: F-score is ill-defined and being set to 0.0 due to no true nor predicted samples. Use `zero_division` parameter to control this behavior.\n",
      "  _warn_prf(\n",
      "/home/dalifreire/.local/lib/python3.8/site-packages/sklearn/metrics/_classification.py:1221: UndefinedMetricWarning: Jaccard is ill-defined and being set to 0.0 due to no true or predicted samples. Use `zero_division` parameter to control this behavior.\n",
      "  _warn_prf(average, modifier, msg_start, len(result))\n"
     ]
    },
    {
     "name": "stdout",
     "output_type": "stream",
     "text": [
      "Results for r3c5.png                   (non_roi - unet     - 1.00 accuracy)\n"
     ]
    },
    {
     "name": "stderr",
     "output_type": "stream",
     "text": [
      "2021-06-04 00:01:08,909 :: INFO extract_normal_region_from_wsi :: \t Extracting normal regions from wsi image: 'TCGA-CN-4725-01Z-00-DX1.fe518acf-cceb-4be4-b01a-63d66248d6d4_0.png'\n"
     ]
    },
    {
     "name": "stdout",
     "output_type": "stream",
     "text": [
      "Results for r0c1.png                   (roi     - unet     - 0.99 accuracy)\n",
      "Results for r0c2.png                   (roi     - unet     - 0.98 accuracy)\n",
      "Results for r0c3.png                   (roi     - unet     - 0.99 accuracy)\n",
      "Results for r0c4.png                   (roi     - unet     - 0.94 accuracy)\n",
      "Results for r0c5.png                   (roi     - unet     - 0.85 accuracy)\n",
      "Results for r1c0.png                   (roi     - unet     - 0.66 accuracy)\n",
      "Results for r1c1.png                   (roi     - unet     - 0.99 accuracy)\n",
      "Results for r1c2.png                   (roi     - unet     - 0.94 accuracy)\n",
      "Results for r1c3.png                   (roi     - unet     - 0.90 accuracy)\n",
      "Results for r1c4.png                   (roi     - unet     - 0.84 accuracy)\n",
      "Results for r1c5.png                   (roi     - unet     - 0.80 accuracy)\n",
      "Results for r2c0.png                   (roi     - unet     - 0.79 accuracy)\n",
      "Results for r2c1.png                   (roi     - unet     - 0.95 accuracy)\n",
      "Results for r2c2.png                   (roi     - unet     - 0.96 accuracy)\n",
      "Results for r2c3.png                   (roi     - unet     - 0.92 accuracy)\n",
      "Results for r2c4.png                   (roi     - unet     - 0.94 accuracy)\n",
      "Results for r2c5.png                   (roi     - unet     - 0.84 accuracy)\n",
      "Results for r3c0.png                   (roi     - unet     - 0.98 accuracy)\n",
      "Results for r3c1.png                   (roi     - unet     - 0.79 accuracy)\n",
      "Results for r3c2.png                   (roi     - unet     - 0.87 accuracy)\n",
      "Results for r3c3.png                   (roi     - unet     - 0.94 accuracy)\n",
      "Results for r3c4.png                   (roi     - unet     - 0.92 accuracy)\n",
      "Results for r3c5.png                   (roi     - unet     - 0.44 accuracy)\n",
      "Results for r4c0.png                   (roi     - unet     - 0.99 accuracy)\n",
      "Results for r4c1.png                   (roi     - unet     - 0.88 accuracy)\n",
      "Results for r4c2.png                   (roi     - unet     - 0.81 accuracy)\n",
      "Results for r4c4.png                   (roi     - unet     - 0.82 accuracy)\n",
      "Results for r4c5.png                   (roi     - unet     - 0.68 accuracy)\n",
      "Results for r4c6.png                   (roi     - unet     - 0.57 accuracy)\n"
     ]
    },
    {
     "name": "stderr",
     "output_type": "stream",
     "text": [
      "/home/dalifreire/.local/lib/python3.8/site-packages/sklearn/metrics/_classification.py:1221: UndefinedMetricWarning: Precision is ill-defined and being set to 0.0 due to no predicted samples. Use `zero_division` parameter to control this behavior.\n",
      "  _warn_prf(average, modifier, msg_start, len(result))\n"
     ]
    },
    {
     "name": "stdout",
     "output_type": "stream",
     "text": [
      "Results for r5c0.png                   (roi     - unet     - 0.73 accuracy)\n",
      "Results for r5c1.png                   (roi     - unet     - 0.89 accuracy)\n",
      "Results for r5c4.png                   (roi     - unet     - 0.49 accuracy)\n",
      "Results for r5c5.png                   (roi     - unet     - 0.92 accuracy)\n",
      "Results for r5c6.png                   (roi     - unet     - 1.00 accuracy)\n",
      "Results for r6c1.png                   (roi     - unet     - 0.99 accuracy)\n",
      "Results for r6c2.png                   (roi     - unet     - 0.88 accuracy)\n",
      "Results for r6c3.png                   (roi     - unet     - 0.57 accuracy)\n",
      "Results for r6c4.png                   (roi     - unet     - 0.84 accuracy)\n",
      "Results for r6c5.png                   (roi     - unet     - 0.99 accuracy)\n"
     ]
    },
    {
     "name": "stderr",
     "output_type": "stream",
     "text": [
      "/home/dalifreire/.local/lib/python3.8/site-packages/sklearn/metrics/_classification.py:1221: UndefinedMetricWarning: Recall is ill-defined and being set to 0.0 due to no true samples. Use `zero_division` parameter to control this behavior.\n",
      "  _warn_prf(average, modifier, msg_start, len(result))\n"
     ]
    },
    {
     "name": "stdout",
     "output_type": "stream",
     "text": [
      "Results for r1c6.png                   (non_roi - unet     - 0.64 accuracy)\n",
      "Results for r2c6.png                   (non_roi - unet     - 0.22 accuracy)\n",
      "Results for r3c6.png                   (non_roi - unet     - 0.13 accuracy)\n",
      "Results for r4c3.png                   (non_roi - unet     - 0.98 accuracy)\n",
      "Results for r5c2.png                   (non_roi - unet     - 0.19 accuracy)\n",
      "Results for r5c3.png                   (non_roi - unet     - 0.21 accuracy)\n"
     ]
    },
    {
     "name": "stderr",
     "output_type": "stream",
     "text": [
      "2021-06-04 00:04:28,209 :: INFO extract_normal_region_from_wsi :: \t Extracting normal regions from wsi image: 'TCGA-CN-4725-01Z-00-DX1.fe518acf-cceb-4be4-b01a-63d66248d6d4_1.png'\n"
     ]
    },
    {
     "name": "stdout",
     "output_type": "stream",
     "text": [
      "Results for r0c1.png                   (roi     - unet     - 0.92 accuracy)\n",
      "Results for r0c2.png                   (roi     - unet     - 0.83 accuracy)\n",
      "Results for r0c3.png                   (roi     - unet     - 0.97 accuracy)\n",
      "Results for r0c4.png                   (roi     - unet     - 0.75 accuracy)\n",
      "Results for r0c5.png                   (roi     - unet     - 0.66 accuracy)\n"
     ]
    },
    {
     "name": "stderr",
     "output_type": "stream",
     "text": [
      "/home/dalifreire/.local/lib/python3.8/site-packages/sklearn/metrics/_classification.py:1221: UndefinedMetricWarning: Precision is ill-defined and being set to 0.0 due to no predicted samples. Use `zero_division` parameter to control this behavior.\n",
      "  _warn_prf(average, modifier, msg_start, len(result))\n"
     ]
    },
    {
     "name": "stdout",
     "output_type": "stream",
     "text": [
      "Results for r1c0.png                   (roi     - unet     - 0.95 accuracy)\n",
      "Results for r1c1.png                   (roi     - unet     - 0.62 accuracy)\n",
      "Results for r1c2.png                   (roi     - unet     - 0.92 accuracy)\n",
      "Results for r1c3.png                   (roi     - unet     - 0.89 accuracy)\n",
      "Results for r1c4.png                   (roi     - unet     - 0.35 accuracy)\n",
      "Results for r1c5.png                   (roi     - unet     - 0.82 accuracy)\n",
      "Results for r2c0.png                   (roi     - unet     - 0.89 accuracy)\n",
      "Results for r2c2.png                   (roi     - unet     - 0.93 accuracy)\n",
      "Results for r2c3.png                   (roi     - unet     - 0.82 accuracy)\n",
      "Results for r2c4.png                   (roi     - unet     - 0.82 accuracy)\n",
      "Results for r2c5.png                   (roi     - unet     - 0.72 accuracy)\n"
     ]
    },
    {
     "name": "stderr",
     "output_type": "stream",
     "text": [
      "/home/dalifreire/.local/lib/python3.8/site-packages/sklearn/metrics/_classification.py:1221: UndefinedMetricWarning: Precision is ill-defined and being set to 0.0 due to no predicted samples. Use `zero_division` parameter to control this behavior.\n",
      "  _warn_prf(average, modifier, msg_start, len(result))\n"
     ]
    },
    {
     "name": "stdout",
     "output_type": "stream",
     "text": [
      "Results for r2c6.png                   (roi     - unet     - 0.95 accuracy)\n",
      "Results for r3c0.png                   (roi     - unet     - 0.95 accuracy)\n",
      "Results for r3c1.png                   (roi     - unet     - 0.73 accuracy)\n",
      "Results for r3c2.png                   (roi     - unet     - 0.52 accuracy)\n",
      "Results for r3c3.png                   (roi     - unet     - 0.87 accuracy)\n",
      "Results for r3c4.png                   (roi     - unet     - 0.83 accuracy)\n",
      "Results for r3c5.png                   (roi     - unet     - 0.96 accuracy)\n",
      "Results for r3c6.png                   (roi     - unet     - 0.77 accuracy)\n",
      "Results for r4c0.png                   (roi     - unet     - 0.89 accuracy)\n",
      "Results for r4c1.png                   (roi     - unet     - 0.94 accuracy)\n",
      "Results for r4c2.png                   (roi     - unet     - 0.92 accuracy)\n",
      "Results for r4c3.png                   (roi     - unet     - 0.91 accuracy)\n",
      "Results for r4c4.png                   (roi     - unet     - 0.90 accuracy)\n",
      "Results for r4c5.png                   (roi     - unet     - 0.72 accuracy)\n",
      "Results for r4c6.png                   (roi     - unet     - 0.81 accuracy)\n"
     ]
    },
    {
     "name": "stderr",
     "output_type": "stream",
     "text": [
      "/home/dalifreire/.local/lib/python3.8/site-packages/sklearn/metrics/_classification.py:1221: UndefinedMetricWarning: Precision is ill-defined and being set to 0.0 due to no predicted samples. Use `zero_division` parameter to control this behavior.\n",
      "  _warn_prf(average, modifier, msg_start, len(result))\n"
     ]
    },
    {
     "name": "stdout",
     "output_type": "stream",
     "text": [
      "Results for r5c0.png                   (roi     - unet     - 0.68 accuracy)\n",
      "Results for r5c1.png                   (roi     - unet     - 0.97 accuracy)\n",
      "Results for r5c2.png                   (roi     - unet     - 0.94 accuracy)\n",
      "Results for r5c3.png                   (roi     - unet     - 0.95 accuracy)\n",
      "Results for r5c4.png                   (roi     - unet     - 0.94 accuracy)\n",
      "Results for r5c5.png                   (roi     - unet     - 0.56 accuracy)\n"
     ]
    },
    {
     "name": "stderr",
     "output_type": "stream",
     "text": [
      "/home/dalifreire/.local/lib/python3.8/site-packages/sklearn/metrics/_classification.py:1221: UndefinedMetricWarning: Precision is ill-defined and being set to 0.0 due to no predicted samples. Use `zero_division` parameter to control this behavior.\n",
      "  _warn_prf(average, modifier, msg_start, len(result))\n"
     ]
    },
    {
     "name": "stdout",
     "output_type": "stream",
     "text": [
      "Results for r6c1.png                   (roi     - unet     - 0.64 accuracy)\n",
      "Results for r6c2.png                   (roi     - unet     - 0.94 accuracy)\n",
      "Results for r6c3.png                   (roi     - unet     - 0.87 accuracy)\n",
      "Results for r6c4.png                   (roi     - unet     - 0.63 accuracy)\n",
      "Results for r6c5.png                   (roi     - unet     - 0.96 accuracy)\n"
     ]
    },
    {
     "name": "stderr",
     "output_type": "stream",
     "text": [
      "/home/dalifreire/.local/lib/python3.8/site-packages/sklearn/metrics/_classification.py:1221: UndefinedMetricWarning: Recall is ill-defined and being set to 0.0 due to no true samples. Use `zero_division` parameter to control this behavior.\n",
      "  _warn_prf(average, modifier, msg_start, len(result))\n"
     ]
    },
    {
     "name": "stdout",
     "output_type": "stream",
     "text": [
      "Results for r1c6.png                   (non_roi - unet     - 0.72 accuracy)\n",
      "Results for r2c1.png                   (non_roi - unet     - 0.72 accuracy)\n",
      "Results for r5c6.png                   (non_roi - unet     - 0.92 accuracy)\n"
     ]
    },
    {
     "name": "stderr",
     "output_type": "stream",
     "text": [
      "2021-06-04 00:07:46,462 :: INFO extract_normal_region_from_wsi :: \t Extracting normal regions from wsi image: 'TCGA-CN-4726-01Z-00-DX1.0ddf44ae-1cb7-41f1-8b59-a5a689f5a71c_0.png'\n",
      "/home/dalifreire/.local/lib/python3.8/site-packages/sklearn/metrics/_classification.py:1221: UndefinedMetricWarning: Precision is ill-defined and being set to 0.0 due to no predicted samples. Use `zero_division` parameter to control this behavior.\n",
      "  _warn_prf(average, modifier, msg_start, len(result))\n"
     ]
    },
    {
     "name": "stdout",
     "output_type": "stream",
     "text": [
      "Results for r0c1.png                   (roi     - unet     - 0.68 accuracy)\n",
      "Results for r0c2.png                   (roi     - unet     - 0.94 accuracy)\n",
      "Results for r0c3.png                   (roi     - unet     - 0.85 accuracy)\n",
      "Results for r0c4.png                   (roi     - unet     - 0.90 accuracy)\n"
     ]
    },
    {
     "name": "stderr",
     "output_type": "stream",
     "text": [
      "/home/dalifreire/.local/lib/python3.8/site-packages/sklearn/metrics/_classification.py:1221: UndefinedMetricWarning: Precision is ill-defined and being set to 0.0 due to no predicted samples. Use `zero_division` parameter to control this behavior.\n",
      "  _warn_prf(average, modifier, msg_start, len(result))\n"
     ]
    },
    {
     "name": "stdout",
     "output_type": "stream",
     "text": [
      "Results for r0c5.png                   (roi     - unet     - 0.96 accuracy)\n",
      "Results for r1c0.png                   (roi     - unet     - 1.00 accuracy)\n",
      "Results for r1c1.png                   (roi     - unet     - 0.84 accuracy)\n",
      "Results for r1c2.png                   (roi     - unet     - 0.88 accuracy)\n",
      "Results for r1c3.png                   (roi     - unet     - 0.89 accuracy)\n",
      "Results for r1c4.png                   (roi     - unet     - 0.86 accuracy)\n",
      "Results for r1c5.png                   (roi     - unet     - 0.82 accuracy)\n",
      "Results for r2c0.png                   (roi     - unet     - 0.99 accuracy)\n",
      "Results for r2c1.png                   (roi     - unet     - 0.89 accuracy)\n",
      "Results for r2c2.png                   (roi     - unet     - 0.81 accuracy)\n",
      "Results for r2c3.png                   (roi     - unet     - 0.94 accuracy)\n",
      "Results for r2c4.png                   (roi     - unet     - 0.96 accuracy)\n",
      "Results for r2c5.png                   (roi     - unet     - 0.86 accuracy)\n",
      "Results for r2c6.png                   (roi     - unet     - 0.87 accuracy)\n",
      "Results for r3c0.png                   (roi     - unet     - 0.98 accuracy)\n",
      "Results for r3c1.png                   (roi     - unet     - 0.99 accuracy)\n",
      "Results for r3c2.png                   (roi     - unet     - 0.98 accuracy)\n",
      "Results for r3c3.png                   (roi     - unet     - 0.96 accuracy)\n",
      "Results for r3c4.png                   (roi     - unet     - 0.91 accuracy)\n",
      "Results for r3c6.png                   (roi     - unet     - 0.93 accuracy)\n",
      "Results for r4c0.png                   (roi     - unet     - 0.94 accuracy)\n",
      "Results for r4c1.png                   (roi     - unet     - 0.81 accuracy)\n",
      "Results for r4c2.png                   (roi     - unet     - 0.91 accuracy)\n",
      "Results for r4c3.png                   (roi     - unet     - 0.96 accuracy)\n",
      "Results for r4c4.png                   (roi     - unet     - 0.93 accuracy)\n",
      "Results for r4c5.png                   (roi     - unet     - 0.87 accuracy)\n",
      "Results for r4c6.png                   (roi     - unet     - 0.89 accuracy)\n",
      "Results for r5c0.png                   (roi     - unet     - 0.90 accuracy)\n",
      "Results for r5c1.png                   (roi     - unet     - 0.94 accuracy)\n",
      "Results for r5c2.png                   (roi     - unet     - 0.91 accuracy)\n",
      "Results for r5c3.png                   (roi     - unet     - 0.91 accuracy)\n",
      "Results for r5c4.png                   (roi     - unet     - 0.92 accuracy)\n",
      "Results for r5c5.png                   (roi     - unet     - 0.95 accuracy)\n"
     ]
    },
    {
     "name": "stderr",
     "output_type": "stream",
     "text": [
      "/home/dalifreire/.local/lib/python3.8/site-packages/sklearn/metrics/_classification.py:1221: UndefinedMetricWarning: Precision is ill-defined and being set to 0.0 due to no predicted samples. Use `zero_division` parameter to control this behavior.\n",
      "  _warn_prf(average, modifier, msg_start, len(result))\n"
     ]
    },
    {
     "name": "stdout",
     "output_type": "stream",
     "text": [
      "Results for r5c6.png                   (roi     - unet     - 0.62 accuracy)\n",
      "Results for r6c1.png                   (roi     - unet     - 0.96 accuracy)\n",
      "Results for r6c2.png                   (roi     - unet     - 0.93 accuracy)\n",
      "Results for r6c3.png                   (roi     - unet     - 0.97 accuracy)\n",
      "Results for r6c4.png                   (roi     - unet     - 0.94 accuracy)\n"
     ]
    },
    {
     "name": "stderr",
     "output_type": "stream",
     "text": [
      "/home/dalifreire/.local/lib/python3.8/site-packages/sklearn/metrics/_classification.py:1221: UndefinedMetricWarning: Precision is ill-defined and being set to 0.0 due to no predicted samples. Use `zero_division` parameter to control this behavior.\n",
      "  _warn_prf(average, modifier, msg_start, len(result))\n"
     ]
    },
    {
     "name": "stdout",
     "output_type": "stream",
     "text": [
      "Results for r6c5.png                   (roi     - unet     - 0.61 accuracy)\n"
     ]
    },
    {
     "name": "stderr",
     "output_type": "stream",
     "text": [
      "/home/dalifreire/.local/lib/python3.8/site-packages/sklearn/metrics/_classification.py:1221: UndefinedMetricWarning: Recall is ill-defined and being set to 0.0 due to no true samples. Use `zero_division` parameter to control this behavior.\n",
      "  _warn_prf(average, modifier, msg_start, len(result))\n"
     ]
    },
    {
     "name": "stdout",
     "output_type": "stream",
     "text": [
      "Results for r3c5.png                   (non_roi - unet     - 0.17 accuracy)\n"
     ]
    },
    {
     "name": "stderr",
     "output_type": "stream",
     "text": [
      "2021-06-04 00:10:59,134 :: INFO extract_normal_region_from_wsi :: \t Extracting normal regions from wsi image: 'TCGA-CN-4726-01Z-00-DX1.0ddf44ae-1cb7-41f1-8b59-a5a689f5a71c_1.png'\n"
     ]
    },
    {
     "name": "stdout",
     "output_type": "stream",
     "text": [
      "Results for r0c1.png                   (roi     - unet     - 0.92 accuracy)\n",
      "Results for r0c2.png                   (roi     - unet     - 0.81 accuracy)\n",
      "Results for r0c3.png                   (roi     - unet     - 0.83 accuracy)\n",
      "Results for r0c4.png                   (roi     - unet     - 0.77 accuracy)\n",
      "Results for r0c5.png                   (roi     - unet     - 0.98 accuracy)\n"
     ]
    },
    {
     "name": "stderr",
     "output_type": "stream",
     "text": [
      "/home/dalifreire/.local/lib/python3.8/site-packages/sklearn/metrics/_classification.py:1221: UndefinedMetricWarning: Precision is ill-defined and being set to 0.0 due to no predicted samples. Use `zero_division` parameter to control this behavior.\n",
      "  _warn_prf(average, modifier, msg_start, len(result))\n"
     ]
    },
    {
     "name": "stdout",
     "output_type": "stream",
     "text": [
      "Results for r1c0.png                   (roi     - unet     - 0.66 accuracy)\n",
      "Results for r1c1.png                   (roi     - unet     - 0.96 accuracy)\n",
      "Results for r1c2.png                   (roi     - unet     - 0.88 accuracy)\n",
      "Results for r1c3.png                   (roi     - unet     - 0.90 accuracy)\n",
      "Results for r1c4.png                   (roi     - unet     - 0.95 accuracy)\n",
      "Results for r1c5.png                   (roi     - unet     - 0.93 accuracy)\n",
      "Results for r1c6.png                   (roi     - unet     - 0.73 accuracy)\n",
      "Results for r2c0.png                   (roi     - unet     - 0.98 accuracy)\n",
      "Results for r2c1.png                   (roi     - unet     - 0.97 accuracy)\n",
      "Results for r2c2.png                   (roi     - unet     - 0.95 accuracy)\n",
      "Results for r2c3.png                   (roi     - unet     - 0.98 accuracy)\n",
      "Results for r2c4.png                   (roi     - unet     - 0.96 accuracy)\n",
      "Results for r2c5.png                   (roi     - unet     - 0.51 accuracy)\n",
      "Results for r3c0.png                   (roi     - unet     - 0.99 accuracy)\n",
      "Results for r3c1.png                   (roi     - unet     - 0.98 accuracy)\n",
      "Results for r3c2.png                   (roi     - unet     - 0.94 accuracy)\n",
      "Results for r3c3.png                   (roi     - unet     - 0.92 accuracy)\n",
      "Results for r3c4.png                   (roi     - unet     - 0.91 accuracy)\n",
      "Results for r3c5.png                   (roi     - unet     - 0.80 accuracy)\n",
      "Results for r3c6.png                   (roi     - unet     - 0.86 accuracy)\n",
      "Results for r4c0.png                   (roi     - unet     - 0.85 accuracy)\n",
      "Results for r4c1.png                   (roi     - unet     - 0.86 accuracy)\n",
      "Results for r4c2.png                   (roi     - unet     - 0.93 accuracy)\n",
      "Results for r4c3.png                   (roi     - unet     - 0.90 accuracy)\n",
      "Results for r4c4.png                   (roi     - unet     - 0.97 accuracy)\n",
      "Results for r4c5.png                   (roi     - unet     - 0.92 accuracy)\n",
      "Results for r4c6.png                   (roi     - unet     - 0.98 accuracy)\n",
      "Results for r5c0.png                   (roi     - unet     - 0.99 accuracy)\n",
      "Results for r5c1.png                   (roi     - unet     - 0.97 accuracy)\n",
      "Results for r5c2.png                   (roi     - unet     - 0.92 accuracy)\n",
      "Results for r5c3.png                   (roi     - unet     - 0.95 accuracy)\n",
      "Results for r5c4.png                   (roi     - unet     - 0.91 accuracy)\n",
      "Results for r5c5.png                   (roi     - unet     - 0.97 accuracy)\n"
     ]
    },
    {
     "name": "stderr",
     "output_type": "stream",
     "text": [
      "/home/dalifreire/.local/lib/python3.8/site-packages/sklearn/metrics/_classification.py:1221: UndefinedMetricWarning: Precision is ill-defined and being set to 0.0 due to no predicted samples. Use `zero_division` parameter to control this behavior.\n",
      "  _warn_prf(average, modifier, msg_start, len(result))\n"
     ]
    },
    {
     "name": "stdout",
     "output_type": "stream",
     "text": [
      "Results for r5c6.png                   (roi     - unet     - 0.60 accuracy)\n",
      "Results for r6c1.png                   (roi     - unet     - 0.97 accuracy)\n",
      "Results for r6c2.png                   (roi     - unet     - 0.95 accuracy)\n",
      "Results for r6c3.png                   (roi     - unet     - 0.95 accuracy)\n",
      "Results for r6c4.png                   (roi     - unet     - 0.98 accuracy)\n",
      "Results for r6c5.png                   (roi     - unet     - 0.99 accuracy)\n"
     ]
    },
    {
     "name": "stderr",
     "output_type": "stream",
     "text": [
      "/home/dalifreire/.local/lib/python3.8/site-packages/sklearn/metrics/_classification.py:1221: UndefinedMetricWarning: Recall is ill-defined and being set to 0.0 due to no true samples. Use `zero_division` parameter to control this behavior.\n",
      "  _warn_prf(average, modifier, msg_start, len(result))\n"
     ]
    },
    {
     "name": "stdout",
     "output_type": "stream",
     "text": [
      "Results for r2c6.png                   (non_roi - unet     - 0.26 accuracy)\n"
     ]
    },
    {
     "name": "stderr",
     "output_type": "stream",
     "text": [
      "2021-06-04 00:14:17,822 :: INFO extract_normal_region_from_wsi :: \t Extracting normal regions from wsi image: 'TCGA-CN-4727-01Z-00-DX1.bee9d488-0f05-4579-8c34-aa4197972bb1_0.png'\n"
     ]
    },
    {
     "name": "stdout",
     "output_type": "stream",
     "text": [
      "Results for r0c1.png                   (roi     - unet     - 0.97 accuracy)\n",
      "Results for r0c2.png                   (roi     - unet     - 0.51 accuracy)\n"
     ]
    },
    {
     "name": "stderr",
     "output_type": "stream",
     "text": [
      "/home/dalifreire/.local/lib/python3.8/site-packages/sklearn/metrics/_classification.py:1221: UndefinedMetricWarning: Precision is ill-defined and being set to 0.0 due to no predicted samples. Use `zero_division` parameter to control this behavior.\n",
      "  _warn_prf(average, modifier, msg_start, len(result))\n"
     ]
    },
    {
     "name": "stdout",
     "output_type": "stream",
     "text": [
      "Results for r1c1.png                   (roi     - unet     - 0.63 accuracy)\n",
      "Results for r1c2.png                   (roi     - unet     - 0.80 accuracy)\n",
      "Results for r1c3.png                   (roi     - unet     - 0.88 accuracy)\n",
      "Results for r2c1.png                   (roi     - unet     - 0.48 accuracy)\n",
      "Results for r2c2.png                   (roi     - unet     - 0.82 accuracy)\n",
      "Results for r2c3.png                   (roi     - unet     - 0.84 accuracy)\n",
      "Results for r3c0.png                   (roi     - unet     - 0.62 accuracy)\n",
      "Results for r3c1.png                   (roi     - unet     - 0.83 accuracy)\n",
      "Results for r3c2.png                   (roi     - unet     - 0.91 accuracy)\n",
      "Results for r3c3.png                   (roi     - unet     - 0.85 accuracy)\n",
      "Results for r3c6.png                   (roi     - unet     - 0.94 accuracy)\n",
      "Results for r4c0.png                   (roi     - unet     - 0.74 accuracy)\n",
      "Results for r4c1.png                   (roi     - unet     - 0.91 accuracy)\n",
      "Results for r4c2.png                   (roi     - unet     - 0.81 accuracy)\n",
      "Results for r4c3.png                   (roi     - unet     - 0.84 accuracy)\n",
      "Results for r4c4.png                   (roi     - unet     - 0.66 accuracy)\n",
      "Results for r4c5.png                   (roi     - unet     - 0.62 accuracy)\n",
      "Results for r4c6.png                   (roi     - unet     - 0.96 accuracy)\n",
      "Results for r5c0.png                   (roi     - unet     - 0.91 accuracy)\n",
      "Results for r5c1.png                   (roi     - unet     - 0.86 accuracy)\n",
      "Results for r5c2.png                   (roi     - unet     - 0.92 accuracy)\n",
      "Results for r5c3.png                   (roi     - unet     - 0.90 accuracy)\n",
      "Results for r5c4.png                   (roi     - unet     - 0.86 accuracy)\n",
      "Results for r5c5.png                   (roi     - unet     - 0.79 accuracy)\n",
      "Results for r5c6.png                   (roi     - unet     - 0.63 accuracy)\n"
     ]
    },
    {
     "name": "stderr",
     "output_type": "stream",
     "text": [
      "/home/dalifreire/.local/lib/python3.8/site-packages/sklearn/metrics/_classification.py:1221: UndefinedMetricWarning: Precision is ill-defined and being set to 0.0 due to no predicted samples. Use `zero_division` parameter to control this behavior.\n",
      "  _warn_prf(average, modifier, msg_start, len(result))\n"
     ]
    },
    {
     "name": "stdout",
     "output_type": "stream",
     "text": [
      "Results for r6c1.png                   (roi     - unet     - 0.66 accuracy)\n",
      "Results for r6c2.png                   (roi     - unet     - 0.99 accuracy)\n",
      "Results for r6c3.png                   (roi     - unet     - 0.90 accuracy)\n",
      "Results for r6c4.png                   (roi     - unet     - 0.90 accuracy)\n",
      "Results for r6c5.png                   (roi     - unet     - 0.94 accuracy)\n"
     ]
    },
    {
     "name": "stderr",
     "output_type": "stream",
     "text": [
      "/home/dalifreire/.local/lib/python3.8/site-packages/sklearn/metrics/_classification.py:1221: UndefinedMetricWarning: Precision is ill-defined and being set to 0.0 due to no predicted samples. Use `zero_division` parameter to control this behavior.\n",
      "  _warn_prf(average, modifier, msg_start, len(result))\n",
      "/home/dalifreire/.local/lib/python3.8/site-packages/sklearn/metrics/_classification.py:1221: UndefinedMetricWarning: Recall is ill-defined and being set to 0.0 due to no true samples. Use `zero_division` parameter to control this behavior.\n",
      "  _warn_prf(average, modifier, msg_start, len(result))\n",
      "/home/dalifreire/.local/lib/python3.8/site-packages/sklearn/metrics/_classification.py:1464: UndefinedMetricWarning: F-score is ill-defined and being set to 0.0 due to no true nor predicted samples. Use `zero_division` parameter to control this behavior.\n",
      "  _warn_prf(\n",
      "/home/dalifreire/.local/lib/python3.8/site-packages/sklearn/metrics/_classification.py:1221: UndefinedMetricWarning: Jaccard is ill-defined and being set to 0.0 due to no true or predicted samples. Use `zero_division` parameter to control this behavior.\n",
      "  _warn_prf(average, modifier, msg_start, len(result))\n"
     ]
    },
    {
     "name": "stdout",
     "output_type": "stream",
     "text": [
      "Results for r0c3.png                   (non_roi - unet     - 1.00 accuracy)\n",
      "Results for r0c4.png                   (non_roi - unet     - 1.00 accuracy)\n",
      "Results for r0c5.png                   (non_roi - unet     - 1.00 accuracy)\n",
      "Results for r1c0.png                   (non_roi - unet     - 1.00 accuracy)\n",
      "Results for r1c4.png                   (non_roi - unet     - 1.00 accuracy)\n",
      "Results for r1c5.png                   (non_roi - unet     - 1.00 accuracy)\n",
      "Results for r1c6.png                   (non_roi - unet     - 1.00 accuracy)\n",
      "Results for r2c0.png                   (non_roi - unet     - 1.00 accuracy)\n",
      "Results for r2c4.png                   (non_roi - unet     - 1.00 accuracy)\n",
      "Results for r2c5.png                   (non_roi - unet     - 1.00 accuracy)\n",
      "Results for r2c6.png                   (non_roi - unet     - 1.00 accuracy)\n",
      "Results for r3c4.png                   (non_roi - unet     - 1.00 accuracy)\n",
      "Results for r3c5.png                   (non_roi - unet     - 1.00 accuracy)\n"
     ]
    },
    {
     "name": "stderr",
     "output_type": "stream",
     "text": [
      "2021-06-04 00:17:32,854 :: INFO extract_normal_region_from_wsi :: \t Extracting normal regions from wsi image: 'TCGA-CN-4727-01Z-00-DX1.bee9d488-0f05-4579-8c34-aa4197972bb1_1.png'\n"
     ]
    },
    {
     "name": "stdout",
     "output_type": "stream",
     "text": [
      "Results for r0c1.png                   (roi     - unet     - 0.94 accuracy)\n",
      "Results for r1c0.png                   (roi     - unet     - 0.91 accuracy)\n",
      "Results for r1c1.png                   (roi     - unet     - 0.84 accuracy)\n",
      "Results for r2c0.png                   (roi     - unet     - 0.93 accuracy)\n",
      "Results for r2c1.png                   (roi     - unet     - 0.92 accuracy)\n",
      "Results for r2c5.png                   (roi     - unet     - 0.85 accuracy)\n",
      "Results for r3c0.png                   (roi     - unet     - 0.83 accuracy)\n",
      "Results for r3c1.png                   (roi     - unet     - 0.87 accuracy)\n",
      "Results for r3c2.png                   (roi     - unet     - 0.58 accuracy)\n",
      "Results for r3c3.png                   (roi     - unet     - 0.71 accuracy)\n",
      "Results for r3c4.png                   (roi     - unet     - 0.81 accuracy)\n",
      "Results for r3c5.png                   (roi     - unet     - 0.81 accuracy)\n",
      "Results for r3c6.png                   (roi     - unet     - 0.68 accuracy)\n",
      "Results for r4c0.png                   (roi     - unet     - 0.97 accuracy)\n",
      "Results for r4c1.png                   (roi     - unet     - 0.89 accuracy)\n",
      "Results for r4c2.png                   (roi     - unet     - 0.82 accuracy)\n",
      "Results for r4c3.png                   (roi     - unet     - 0.69 accuracy)\n",
      "Results for r4c4.png                   (roi     - unet     - 0.92 accuracy)\n",
      "Results for r4c5.png                   (roi     - unet     - 0.68 accuracy)\n",
      "Results for r4c6.png                   (roi     - unet     - 0.83 accuracy)\n",
      "Results for r5c0.png                   (roi     - unet     - 1.00 accuracy)\n",
      "Results for r5c1.png                   (roi     - unet     - 0.93 accuracy)\n",
      "Results for r5c2.png                   (roi     - unet     - 0.84 accuracy)\n",
      "Results for r5c3.png                   (roi     - unet     - 0.89 accuracy)\n",
      "Results for r5c4.png                   (roi     - unet     - 0.86 accuracy)\n",
      "Results for r5c5.png                   (roi     - unet     - 0.81 accuracy)\n",
      "Results for r5c6.png                   (roi     - unet     - 0.82 accuracy)\n"
     ]
    },
    {
     "name": "stderr",
     "output_type": "stream",
     "text": [
      "/home/dalifreire/.local/lib/python3.8/site-packages/sklearn/metrics/_classification.py:1221: UndefinedMetricWarning: Precision is ill-defined and being set to 0.0 due to no predicted samples. Use `zero_division` parameter to control this behavior.\n",
      "  _warn_prf(average, modifier, msg_start, len(result))\n"
     ]
    },
    {
     "name": "stdout",
     "output_type": "stream",
     "text": [
      "Results for r6c1.png                   (roi     - unet     - 0.63 accuracy)\n",
      "Results for r6c2.png                   (roi     - unet     - 0.80 accuracy)\n",
      "Results for r6c3.png                   (roi     - unet     - 0.92 accuracy)\n",
      "Results for r6c4.png                   (roi     - unet     - 0.97 accuracy)\n",
      "Results for r6c5.png                   (roi     - unet     - 0.96 accuracy)\n"
     ]
    },
    {
     "name": "stderr",
     "output_type": "stream",
     "text": [
      "/home/dalifreire/.local/lib/python3.8/site-packages/sklearn/metrics/_classification.py:1221: UndefinedMetricWarning: Precision is ill-defined and being set to 0.0 due to no predicted samples. Use `zero_division` parameter to control this behavior.\n",
      "  _warn_prf(average, modifier, msg_start, len(result))\n",
      "/home/dalifreire/.local/lib/python3.8/site-packages/sklearn/metrics/_classification.py:1221: UndefinedMetricWarning: Recall is ill-defined and being set to 0.0 due to no true samples. Use `zero_division` parameter to control this behavior.\n",
      "  _warn_prf(average, modifier, msg_start, len(result))\n",
      "/home/dalifreire/.local/lib/python3.8/site-packages/sklearn/metrics/_classification.py:1464: UndefinedMetricWarning: F-score is ill-defined and being set to 0.0 due to no true nor predicted samples. Use `zero_division` parameter to control this behavior.\n",
      "  _warn_prf(\n",
      "/home/dalifreire/.local/lib/python3.8/site-packages/sklearn/metrics/_classification.py:1221: UndefinedMetricWarning: Jaccard is ill-defined and being set to 0.0 due to no true or predicted samples. Use `zero_division` parameter to control this behavior.\n",
      "  _warn_prf(average, modifier, msg_start, len(result))\n"
     ]
    },
    {
     "name": "stdout",
     "output_type": "stream",
     "text": [
      "Results for r0c2.png                   (non_roi - unet     - 1.00 accuracy)\n",
      "Results for r0c3.png                   (non_roi - unet     - 1.00 accuracy)\n",
      "Results for r0c4.png                   (non_roi - unet     - 1.00 accuracy)\n",
      "Results for r0c5.png                   (non_roi - unet     - 1.00 accuracy)\n",
      "Results for r1c2.png                   (non_roi - unet     - 1.00 accuracy)\n",
      "Results for r1c3.png                   (non_roi - unet     - 1.00 accuracy)\n",
      "Results for r1c4.png                   (non_roi - unet     - 1.00 accuracy)\n",
      "Results for r1c5.png                   (non_roi - unet     - 1.00 accuracy)\n",
      "Results for r1c6.png                   (non_roi - unet     - 0.97 accuracy)\n",
      "Results for r2c2.png                   (non_roi - unet     - 1.00 accuracy)\n",
      "Results for r2c3.png                   (non_roi - unet     - 1.00 accuracy)\n",
      "Results for r2c4.png                   (non_roi - unet     - 1.00 accuracy)\n",
      "Results for r2c6.png                   (non_roi - unet     - 0.44 accuracy)\n"
     ]
    },
    {
     "name": "stderr",
     "output_type": "stream",
     "text": [
      "2021-06-04 00:20:48,215 :: INFO extract_normal_region_from_wsi :: \t Extracting normal regions from wsi image: 'TCGA-CN-4728-01Z-00-DX1.69fc04ce-cc6b-4c63-9322-b5ffb0056828_0.png'\n"
     ]
    },
    {
     "name": "stdout",
     "output_type": "stream",
     "text": [
      "Results for r1c0.png                   (roi     - unet     - 0.94 accuracy)\n",
      "Results for r1c2.png                   (roi     - unet     - 0.94 accuracy)\n",
      "Results for r1c3.png                   (roi     - unet     - 0.80 accuracy)\n",
      "Results for r1c4.png                   (roi     - unet     - 0.55 accuracy)\n",
      "Results for r1c5.png                   (roi     - unet     - 0.91 accuracy)\n",
      "Results for r1c6.png                   (roi     - unet     - 0.93 accuracy)\n",
      "Results for r2c1.png                   (roi     - unet     - 0.89 accuracy)\n",
      "Results for r2c2.png                   (roi     - unet     - 0.74 accuracy)\n",
      "Results for r2c3.png                   (roi     - unet     - 0.89 accuracy)\n",
      "Results for r2c4.png                   (roi     - unet     - 0.86 accuracy)\n",
      "Results for r2c5.png                   (roi     - unet     - 0.85 accuracy)\n",
      "Results for r2c6.png                   (roi     - unet     - 0.81 accuracy)\n",
      "Results for r3c1.png                   (roi     - unet     - 0.66 accuracy)\n",
      "Results for r3c2.png                   (roi     - unet     - 0.91 accuracy)\n",
      "Results for r3c3.png                   (roi     - unet     - 0.84 accuracy)\n",
      "Results for r3c4.png                   (roi     - unet     - 0.79 accuracy)\n",
      "Results for r3c5.png                   (roi     - unet     - 0.92 accuracy)\n",
      "Results for r3c6.png                   (roi     - unet     - 0.85 accuracy)\n",
      "Results for r4c0.png                   (roi     - unet     - 0.95 accuracy)\n",
      "Results for r4c1.png                   (roi     - unet     - 0.78 accuracy)\n",
      "Results for r4c2.png                   (roi     - unet     - 0.79 accuracy)\n",
      "Results for r4c3.png                   (roi     - unet     - 0.81 accuracy)\n",
      "Results for r4c4.png                   (roi     - unet     - 0.90 accuracy)\n",
      "Results for r4c6.png                   (roi     - unet     - 0.83 accuracy)\n",
      "Results for r5c0.png                   (roi     - unet     - 0.94 accuracy)\n",
      "Results for r5c1.png                   (roi     - unet     - 0.89 accuracy)\n",
      "Results for r5c2.png                   (roi     - unet     - 0.95 accuracy)\n",
      "Results for r5c3.png                   (roi     - unet     - 0.83 accuracy)\n"
     ]
    },
    {
     "name": "stderr",
     "output_type": "stream",
     "text": [
      "/home/dalifreire/.local/lib/python3.8/site-packages/sklearn/metrics/_classification.py:1221: UndefinedMetricWarning: Precision is ill-defined and being set to 0.0 due to no predicted samples. Use `zero_division` parameter to control this behavior.\n",
      "  _warn_prf(average, modifier, msg_start, len(result))\n"
     ]
    },
    {
     "name": "stdout",
     "output_type": "stream",
     "text": [
      "Results for r5c6.png                   (roi     - unet     - 0.96 accuracy)\n"
     ]
    },
    {
     "name": "stderr",
     "output_type": "stream",
     "text": [
      "/home/dalifreire/.local/lib/python3.8/site-packages/sklearn/metrics/_classification.py:1221: UndefinedMetricWarning: Recall is ill-defined and being set to 0.0 due to no true samples. Use `zero_division` parameter to control this behavior.\n",
      "  _warn_prf(average, modifier, msg_start, len(result))\n",
      "/home/dalifreire/.local/lib/python3.8/site-packages/sklearn/metrics/_classification.py:1464: UndefinedMetricWarning: F-score is ill-defined and being set to 0.0 due to no true nor predicted samples. Use `zero_division` parameter to control this behavior.\n",
      "  _warn_prf(\n",
      "/home/dalifreire/.local/lib/python3.8/site-packages/sklearn/metrics/_classification.py:1221: UndefinedMetricWarning: Jaccard is ill-defined and being set to 0.0 due to no true or predicted samples. Use `zero_division` parameter to control this behavior.\n",
      "  _warn_prf(average, modifier, msg_start, len(result))\n"
     ]
    },
    {
     "name": "stdout",
     "output_type": "stream",
     "text": [
      "Results for r0c1.png                   (non_roi - unet     - 1.00 accuracy)\n",
      "Results for r0c2.png                   (non_roi - unet     - 0.93 accuracy)\n",
      "Results for r0c3.png                   (non_roi - unet     - 1.00 accuracy)\n",
      "Results for r0c4.png                   (non_roi - unet     - 1.00 accuracy)\n",
      "Results for r0c5.png                   (non_roi - unet     - 1.00 accuracy)\n",
      "Results for r1c1.png                   (non_roi - unet     - 0.98 accuracy)\n",
      "Results for r2c0.png                   (non_roi - unet     - 1.00 accuracy)\n",
      "Results for r3c0.png                   (non_roi - unet     - 0.97 accuracy)\n",
      "Results for r4c5.png                   (non_roi - unet     - 1.00 accuracy)\n",
      "Results for r5c4.png                   (non_roi - unet     - 0.98 accuracy)\n",
      "Results for r5c5.png                   (non_roi - unet     - 1.00 accuracy)\n",
      "Results for r6c1.png                   (non_roi - unet     - 1.00 accuracy)\n",
      "Results for r6c2.png                   (non_roi - unet     - 1.00 accuracy)\n",
      "Results for r6c3.png                   (non_roi - unet     - 0.96 accuracy)\n",
      "Results for r6c4.png                   (non_roi - unet     - 1.00 accuracy)\n",
      "Results for r6c5.png                   (non_roi - unet     - 1.00 accuracy)\n"
     ]
    },
    {
     "name": "stderr",
     "output_type": "stream",
     "text": [
      "2021-06-04 00:23:58,987 :: INFO extract_normal_region_from_wsi :: \t Extracting normal regions from wsi image: 'TCGA-CN-4728-01Z-00-DX1.69fc04ce-cc6b-4c63-9322-b5ffb0056828_1.png'\n"
     ]
    },
    {
     "name": "stdout",
     "output_type": "stream",
     "text": [
      "Results for r0c4.png                   (roi     - unet     - 0.96 accuracy)\n",
      "Results for r1c2.png                   (roi     - unet     - 0.87 accuracy)\n",
      "Results for r1c3.png                   (roi     - unet     - 0.86 accuracy)\n",
      "Results for r1c4.png                   (roi     - unet     - 0.87 accuracy)\n",
      "Results for r1c5.png                   (roi     - unet     - 0.92 accuracy)\n",
      "Results for r1c6.png                   (roi     - unet     - 0.92 accuracy)\n",
      "Results for r2c1.png                   (roi     - unet     - 0.87 accuracy)\n",
      "Results for r2c2.png                   (roi     - unet     - 0.86 accuracy)\n",
      "Results for r2c4.png                   (roi     - unet     - 0.95 accuracy)\n",
      "Results for r2c5.png                   (roi     - unet     - 0.93 accuracy)\n",
      "Results for r2c6.png                   (roi     - unet     - 0.87 accuracy)\n",
      "Results for r3c1.png                   (roi     - unet     - 0.74 accuracy)\n",
      "Results for r3c2.png                   (roi     - unet     - 0.91 accuracy)\n",
      "Results for r3c3.png                   (roi     - unet     - 0.88 accuracy)\n",
      "Results for r3c4.png                   (roi     - unet     - 0.92 accuracy)\n",
      "Results for r3c5.png                   (roi     - unet     - 0.96 accuracy)\n",
      "Results for r3c6.png                   (roi     - unet     - 0.90 accuracy)\n",
      "Results for r4c0.png                   (roi     - unet     - 0.96 accuracy)\n",
      "Results for r4c1.png                   (roi     - unet     - 0.91 accuracy)\n",
      "Results for r4c2.png                   (roi     - unet     - 0.79 accuracy)\n",
      "Results for r4c3.png                   (roi     - unet     - 0.90 accuracy)\n",
      "Results for r4c4.png                   (roi     - unet     - 0.95 accuracy)\n",
      "Results for r4c6.png                   (roi     - unet     - 0.93 accuracy)\n",
      "Results for r5c1.png                   (roi     - unet     - 0.92 accuracy)\n",
      "Results for r5c3.png                   (roi     - unet     - 0.91 accuracy)\n"
     ]
    },
    {
     "name": "stderr",
     "output_type": "stream",
     "text": [
      "/home/dalifreire/.local/lib/python3.8/site-packages/sklearn/metrics/_classification.py:1221: UndefinedMetricWarning: Precision is ill-defined and being set to 0.0 due to no predicted samples. Use `zero_division` parameter to control this behavior.\n",
      "  _warn_prf(average, modifier, msg_start, len(result))\n",
      "/home/dalifreire/.local/lib/python3.8/site-packages/sklearn/metrics/_classification.py:1221: UndefinedMetricWarning: Recall is ill-defined and being set to 0.0 due to no true samples. Use `zero_division` parameter to control this behavior.\n",
      "  _warn_prf(average, modifier, msg_start, len(result))\n",
      "/home/dalifreire/.local/lib/python3.8/site-packages/sklearn/metrics/_classification.py:1464: UndefinedMetricWarning: F-score is ill-defined and being set to 0.0 due to no true nor predicted samples. Use `zero_division` parameter to control this behavior.\n",
      "  _warn_prf(\n",
      "/home/dalifreire/.local/lib/python3.8/site-packages/sklearn/metrics/_classification.py:1221: UndefinedMetricWarning: Jaccard is ill-defined and being set to 0.0 due to no true or predicted samples. Use `zero_division` parameter to control this behavior.\n",
      "  _warn_prf(average, modifier, msg_start, len(result))\n"
     ]
    },
    {
     "name": "stdout",
     "output_type": "stream",
     "text": [
      "Results for r0c1.png                   (non_roi - unet     - 1.00 accuracy)\n",
      "Results for r0c2.png                   (non_roi - unet     - 0.93 accuracy)\n",
      "Results for r0c3.png                   (non_roi - unet     - 1.00 accuracy)\n",
      "Results for r0c5.png                   (non_roi - unet     - 1.00 accuracy)\n",
      "Results for r1c0.png                   (non_roi - unet     - 1.00 accuracy)\n",
      "Results for r1c1.png                   (non_roi - unet     - 1.00 accuracy)\n",
      "Results for r2c0.png                   (non_roi - unet     - 1.00 accuracy)\n",
      "Results for r2c3.png                   (non_roi - unet     - 0.13 accuracy)\n",
      "Results for r3c0.png                   (non_roi - unet     - 0.97 accuracy)\n",
      "Results for r4c5.png                   (non_roi - unet     - 1.00 accuracy)\n",
      "Results for r5c0.png                   (non_roi - unet     - 0.87 accuracy)\n",
      "Results for r5c2.png                   (non_roi - unet     - 1.00 accuracy)\n",
      "Results for r5c4.png                   (non_roi - unet     - 1.00 accuracy)\n",
      "Results for r5c5.png                   (non_roi - unet     - 0.92 accuracy)\n",
      "Results for r5c6.png                   (non_roi - unet     - 1.00 accuracy)\n",
      "Results for r6c1.png                   (non_roi - unet     - 1.00 accuracy)\n",
      "Results for r6c2.png                   (non_roi - unet     - 1.00 accuracy)\n",
      "Results for r6c3.png                   (non_roi - unet     - 1.00 accuracy)\n",
      "Results for r6c4.png                   (non_roi - unet     - 1.00 accuracy)\n",
      "Results for r6c5.png                   (non_roi - unet     - 0.93 accuracy)\n"
     ]
    },
    {
     "name": "stderr",
     "output_type": "stream",
     "text": [
      "2021-06-04 00:27:10,160 :: INFO extract_normal_region_from_wsi :: \t Extracting normal regions from wsi image: 'TCGA-CN-4729-01Z-00-DX1.fd5f9170-c35b-4095-aff3-4c95921e0e68_0.png'\n"
     ]
    },
    {
     "name": "stdout",
     "output_type": "stream",
     "text": [
      "Results for r0c2.png                   (roi     - unet     - 0.91 accuracy)\n",
      "Results for r0c3.png                   (roi     - unet     - 0.92 accuracy)\n",
      "Results for r0c4.png                   (roi     - unet     - 0.74 accuracy)\n"
     ]
    },
    {
     "name": "stderr",
     "output_type": "stream",
     "text": [
      "/home/dalifreire/.local/lib/python3.8/site-packages/sklearn/metrics/_classification.py:1221: UndefinedMetricWarning: Precision is ill-defined and being set to 0.0 due to no predicted samples. Use `zero_division` parameter to control this behavior.\n",
      "  _warn_prf(average, modifier, msg_start, len(result))\n"
     ]
    },
    {
     "name": "stdout",
     "output_type": "stream",
     "text": [
      "Results for r0c5.png                   (roi     - unet     - 0.68 accuracy)\n",
      "Results for r1c1.png                   (roi     - unet     - 0.45 accuracy)\n",
      "Results for r1c2.png                   (roi     - unet     - 0.74 accuracy)\n",
      "Results for r1c3.png                   (roi     - unet     - 0.75 accuracy)\n",
      "Results for r1c4.png                   (roi     - unet     - 0.97 accuracy)\n",
      "Results for r1c5.png                   (roi     - unet     - 0.79 accuracy)\n",
      "Results for r1c6.png                   (roi     - unet     - 0.99 accuracy)\n",
      "Results for r2c1.png                   (roi     - unet     - 0.92 accuracy)\n",
      "Results for r2c2.png                   (roi     - unet     - 0.86 accuracy)\n",
      "Results for r2c3.png                   (roi     - unet     - 0.67 accuracy)\n",
      "Results for r2c4.png                   (roi     - unet     - 0.94 accuracy)\n",
      "Results for r2c5.png                   (roi     - unet     - 0.92 accuracy)\n",
      "Results for r2c6.png                   (roi     - unet     - 0.90 accuracy)\n",
      "Results for r3c1.png                   (roi     - unet     - 0.80 accuracy)\n",
      "Results for r3c2.png                   (roi     - unet     - 0.83 accuracy)\n",
      "Results for r3c3.png                   (roi     - unet     - 0.86 accuracy)\n",
      "Results for r3c4.png                   (roi     - unet     - 0.72 accuracy)\n",
      "Results for r3c5.png                   (roi     - unet     - 0.95 accuracy)\n",
      "Results for r3c6.png                   (roi     - unet     - 0.92 accuracy)\n",
      "Results for r4c1.png                   (roi     - unet     - 0.67 accuracy)\n",
      "Results for r4c2.png                   (roi     - unet     - 0.49 accuracy)\n",
      "Results for r4c3.png                   (roi     - unet     - 0.93 accuracy)\n",
      "Results for r4c4.png                   (roi     - unet     - 0.94 accuracy)\n",
      "Results for r4c5.png                   (roi     - unet     - 0.92 accuracy)\n",
      "Results for r4c6.png                   (roi     - unet     - 0.42 accuracy)\n",
      "Results for r5c1.png                   (roi     - unet     - 0.30 accuracy)\n",
      "Results for r5c2.png                   (roi     - unet     - 0.93 accuracy)\n",
      "Results for r5c3.png                   (roi     - unet     - 0.89 accuracy)\n",
      "Results for r5c4.png                   (roi     - unet     - 0.89 accuracy)\n",
      "Results for r5c5.png                   (roi     - unet     - 0.93 accuracy)\n",
      "Results for r6c2.png                   (roi     - unet     - 0.86 accuracy)\n",
      "Results for r6c3.png                   (roi     - unet     - 0.79 accuracy)\n",
      "Results for r6c4.png                   (roi     - unet     - 0.90 accuracy)\n",
      "Results for r6c5.png                   (roi     - unet     - 0.73 accuracy)\n"
     ]
    },
    {
     "name": "stderr",
     "output_type": "stream",
     "text": [
      "/home/dalifreire/.local/lib/python3.8/site-packages/sklearn/metrics/_classification.py:1221: UndefinedMetricWarning: Recall is ill-defined and being set to 0.0 due to no true samples. Use `zero_division` parameter to control this behavior.\n",
      "  _warn_prf(average, modifier, msg_start, len(result))\n"
     ]
    },
    {
     "name": "stdout",
     "output_type": "stream",
     "text": [
      "Results for r0c1.png                   (non_roi - unet     - 0.88 accuracy)\n"
     ]
    },
    {
     "name": "stderr",
     "output_type": "stream",
     "text": [
      "/home/dalifreire/.local/lib/python3.8/site-packages/sklearn/metrics/_classification.py:1221: UndefinedMetricWarning: Precision is ill-defined and being set to 0.0 due to no predicted samples. Use `zero_division` parameter to control this behavior.\n",
      "  _warn_prf(average, modifier, msg_start, len(result))\n",
      "/home/dalifreire/.local/lib/python3.8/site-packages/sklearn/metrics/_classification.py:1464: UndefinedMetricWarning: F-score is ill-defined and being set to 0.0 due to no true nor predicted samples. Use `zero_division` parameter to control this behavior.\n",
      "  _warn_prf(\n",
      "/home/dalifreire/.local/lib/python3.8/site-packages/sklearn/metrics/_classification.py:1221: UndefinedMetricWarning: Jaccard is ill-defined and being set to 0.0 due to no true or predicted samples. Use `zero_division` parameter to control this behavior.\n",
      "  _warn_prf(average, modifier, msg_start, len(result))\n"
     ]
    },
    {
     "name": "stdout",
     "output_type": "stream",
     "text": [
      "Results for r1c0.png                   (non_roi - unet     - 1.00 accuracy)\n",
      "Results for r2c0.png                   (non_roi - unet     - 0.27 accuracy)\n",
      "Results for r3c0.png                   (non_roi - unet     - 0.12 accuracy)\n",
      "Results for r4c0.png                   (non_roi - unet     - 0.20 accuracy)\n",
      "Results for r5c0.png                   (non_roi - unet     - 1.00 accuracy)\n",
      "Results for r5c6.png                   (non_roi - unet     - 0.98 accuracy)\n",
      "Results for r6c1.png                   (non_roi - unet     - 1.00 accuracy)\n"
     ]
    },
    {
     "name": "stderr",
     "output_type": "stream",
     "text": [
      "2021-06-04 00:30:38,349 :: INFO extract_normal_region_from_wsi :: \t Extracting normal regions from wsi image: 'TCGA-CN-4729-01Z-00-DX1.fd5f9170-c35b-4095-aff3-4c95921e0e68_1.png'\n"
     ]
    },
    {
     "name": "stdout",
     "output_type": "stream",
     "text": [
      "Results for r0c1.png                   (roi     - unet     - 0.67 accuracy)\n",
      "Results for r0c2.png                   (roi     - unet     - 0.93 accuracy)\n",
      "Results for r0c3.png                   (roi     - unet     - 0.92 accuracy)\n",
      "Results for r0c4.png                   (roi     - unet     - 0.95 accuracy)\n"
     ]
    },
    {
     "name": "stderr",
     "output_type": "stream",
     "text": [
      "/home/dalifreire/.local/lib/python3.8/site-packages/sklearn/metrics/_classification.py:1221: UndefinedMetricWarning: Precision is ill-defined and being set to 0.0 due to no predicted samples. Use `zero_division` parameter to control this behavior.\n",
      "  _warn_prf(average, modifier, msg_start, len(result))\n"
     ]
    },
    {
     "name": "stdout",
     "output_type": "stream",
     "text": [
      "Results for r0c5.png                   (roi     - unet     - 0.89 accuracy)\n",
      "Results for r1c0.png                   (roi     - unet     - 0.95 accuracy)\n",
      "Results for r1c1.png                   (roi     - unet     - 0.93 accuracy)\n",
      "Results for r1c2.png                   (roi     - unet     - 0.97 accuracy)\n",
      "Results for r1c3.png                   (roi     - unet     - 0.95 accuracy)\n",
      "Results for r1c4.png                   (roi     - unet     - 0.87 accuracy)\n",
      "Results for r1c5.png                   (roi     - unet     - 0.69 accuracy)\n",
      "Results for r1c6.png                   (roi     - unet     - 0.97 accuracy)\n",
      "Results for r2c0.png                   (roi     - unet     - 0.93 accuracy)\n",
      "Results for r2c1.png                   (roi     - unet     - 0.85 accuracy)\n",
      "Results for r2c2.png                   (roi     - unet     - 0.87 accuracy)\n",
      "Results for r2c3.png                   (roi     - unet     - 0.94 accuracy)\n",
      "Results for r2c4.png                   (roi     - unet     - 0.95 accuracy)\n",
      "Results for r2c5.png                   (roi     - unet     - 0.57 accuracy)\n",
      "Results for r2c6.png                   (roi     - unet     - 0.75 accuracy)\n",
      "Results for r3c0.png                   (roi     - unet     - 0.87 accuracy)\n",
      "Results for r3c1.png                   (roi     - unet     - 0.93 accuracy)\n",
      "Results for r3c2.png                   (roi     - unet     - 0.92 accuracy)\n",
      "Results for r3c3.png                   (roi     - unet     - 0.79 accuracy)\n",
      "Results for r3c4.png                   (roi     - unet     - 0.61 accuracy)\n",
      "Results for r3c5.png                   (roi     - unet     - 0.77 accuracy)\n",
      "Results for r3c6.png                   (roi     - unet     - 0.95 accuracy)\n",
      "Results for r4c0.png                   (roi     - unet     - 0.83 accuracy)\n",
      "Results for r4c1.png                   (roi     - unet     - 0.87 accuracy)\n",
      "Results for r4c2.png                   (roi     - unet     - 0.95 accuracy)\n",
      "Results for r4c3.png                   (roi     - unet     - 0.89 accuracy)\n",
      "Results for r4c5.png                   (roi     - unet     - 0.88 accuracy)\n",
      "Results for r4c6.png                   (roi     - unet     - 0.93 accuracy)\n",
      "Results for r5c0.png                   (roi     - unet     - 0.97 accuracy)\n",
      "Results for r5c1.png                   (roi     - unet     - 0.84 accuracy)\n",
      "Results for r5c2.png                   (roi     - unet     - 0.75 accuracy)\n",
      "Results for r5c3.png                   (roi     - unet     - 0.89 accuracy)\n",
      "Results for r6c1.png                   (roi     - unet     - 0.97 accuracy)\n",
      "Results for r6c2.png                   (roi     - unet     - 0.87 accuracy)\n",
      "Results for r6c3.png                   (roi     - unet     - 0.82 accuracy)\n",
      "Results for r6c4.png                   (roi     - unet     - 0.73 accuracy)\n",
      "Results for r6c5.png                   (roi     - unet     - 0.86 accuracy)\n"
     ]
    },
    {
     "name": "stderr",
     "output_type": "stream",
     "text": [
      "/home/dalifreire/.local/lib/python3.8/site-packages/sklearn/metrics/_classification.py:1221: UndefinedMetricWarning: Precision is ill-defined and being set to 0.0 due to no predicted samples. Use `zero_division` parameter to control this behavior.\n",
      "  _warn_prf(average, modifier, msg_start, len(result))\n",
      "/home/dalifreire/.local/lib/python3.8/site-packages/sklearn/metrics/_classification.py:1221: UndefinedMetricWarning: Recall is ill-defined and being set to 0.0 due to no true samples. Use `zero_division` parameter to control this behavior.\n",
      "  _warn_prf(average, modifier, msg_start, len(result))\n",
      "/home/dalifreire/.local/lib/python3.8/site-packages/sklearn/metrics/_classification.py:1464: UndefinedMetricWarning: F-score is ill-defined and being set to 0.0 due to no true nor predicted samples. Use `zero_division` parameter to control this behavior.\n",
      "  _warn_prf(\n",
      "/home/dalifreire/.local/lib/python3.8/site-packages/sklearn/metrics/_classification.py:1221: UndefinedMetricWarning: Jaccard is ill-defined and being set to 0.0 due to no true or predicted samples. Use `zero_division` parameter to control this behavior.\n",
      "  _warn_prf(average, modifier, msg_start, len(result))\n"
     ]
    },
    {
     "name": "stdout",
     "output_type": "stream",
     "text": [
      "Results for r4c4.png                   (non_roi - unet     - 1.00 accuracy)\n",
      "Results for r5c4.png                   (non_roi - unet     - 1.00 accuracy)\n",
      "Results for r5c5.png                   (non_roi - unet     - 1.00 accuracy)\n",
      "Results for r5c6.png                   (non_roi - unet     - 1.00 accuracy)\n"
     ]
    },
    {
     "name": "stderr",
     "output_type": "stream",
     "text": [
      "2021-06-04 00:34:23,865 :: INFO extract_normal_region_from_wsi :: \t Extracting normal regions from wsi image: 'TCGA-CN-4730-01Z-00-DX1.a76280e8-6591-4d51-afc9-2f01e87346ab_0.png'\n"
     ]
    },
    {
     "name": "stdout",
     "output_type": "stream",
     "text": [
      "Results for r2c0.png                   (roi     - unet     - 0.93 accuracy)\n",
      "Results for r2c1.png                   (roi     - unet     - 0.81 accuracy)\n",
      "Results for r3c0.png                   (roi     - unet     - 0.79 accuracy)\n",
      "Results for r3c1.png                   (roi     - unet     - 0.51 accuracy)\n",
      "Results for r3c2.png                   (roi     - unet     - 0.88 accuracy)\n",
      "Results for r3c3.png                   (roi     - unet     - 0.89 accuracy)\n",
      "Results for r3c4.png                   (roi     - unet     - 0.92 accuracy)\n"
     ]
    },
    {
     "name": "stderr",
     "output_type": "stream",
     "text": [
      "/home/dalifreire/.local/lib/python3.8/site-packages/sklearn/metrics/_classification.py:1221: UndefinedMetricWarning: Precision is ill-defined and being set to 0.0 due to no predicted samples. Use `zero_division` parameter to control this behavior.\n",
      "  _warn_prf(average, modifier, msg_start, len(result))\n"
     ]
    },
    {
     "name": "stdout",
     "output_type": "stream",
     "text": [
      "Results for r3c5.png                   (roi     - unet     - 0.95 accuracy)\n",
      "Results for r4c0.png                   (roi     - unet     - 0.87 accuracy)\n",
      "Results for r4c1.png                   (roi     - unet     - 0.87 accuracy)\n",
      "Results for r4c2.png                   (roi     - unet     - 0.96 accuracy)\n",
      "Results for r4c3.png                   (roi     - unet     - 0.93 accuracy)\n",
      "Results for r4c4.png                   (roi     - unet     - 0.93 accuracy)\n",
      "Results for r4c5.png                   (roi     - unet     - 0.90 accuracy)\n",
      "Results for r4c6.png                   (roi     - unet     - 0.92 accuracy)\n",
      "Results for r5c0.png                   (roi     - unet     - 0.87 accuracy)\n",
      "Results for r5c1.png                   (roi     - unet     - 0.89 accuracy)\n",
      "Results for r5c2.png                   (roi     - unet     - 0.91 accuracy)\n",
      "Results for r5c3.png                   (roi     - unet     - 0.92 accuracy)\n",
      "Results for r5c4.png                   (roi     - unet     - 0.95 accuracy)\n",
      "Results for r5c5.png                   (roi     - unet     - 0.89 accuracy)\n",
      "Results for r5c6.png                   (roi     - unet     - 0.98 accuracy)\n",
      "Results for r6c2.png                   (roi     - unet     - 0.94 accuracy)\n",
      "Results for r6c3.png                   (roi     - unet     - 0.77 accuracy)\n",
      "Results for r6c4.png                   (roi     - unet     - 0.91 accuracy)\n"
     ]
    },
    {
     "name": "stderr",
     "output_type": "stream",
     "text": [
      "/home/dalifreire/.local/lib/python3.8/site-packages/sklearn/metrics/_classification.py:1221: UndefinedMetricWarning: Precision is ill-defined and being set to 0.0 due to no predicted samples. Use `zero_division` parameter to control this behavior.\n",
      "  _warn_prf(average, modifier, msg_start, len(result))\n"
     ]
    },
    {
     "name": "stdout",
     "output_type": "stream",
     "text": [
      "Results for r6c5.png                   (roi     - unet     - 0.61 accuracy)\n"
     ]
    },
    {
     "name": "stderr",
     "output_type": "stream",
     "text": [
      "/home/dalifreire/.local/lib/python3.8/site-packages/sklearn/metrics/_classification.py:1221: UndefinedMetricWarning: Recall is ill-defined and being set to 0.0 due to no true samples. Use `zero_division` parameter to control this behavior.\n",
      "  _warn_prf(average, modifier, msg_start, len(result))\n",
      "/home/dalifreire/.local/lib/python3.8/site-packages/sklearn/metrics/_classification.py:1464: UndefinedMetricWarning: F-score is ill-defined and being set to 0.0 due to no true nor predicted samples. Use `zero_division` parameter to control this behavior.\n",
      "  _warn_prf(\n",
      "/home/dalifreire/.local/lib/python3.8/site-packages/sklearn/metrics/_classification.py:1221: UndefinedMetricWarning: Jaccard is ill-defined and being set to 0.0 due to no true or predicted samples. Use `zero_division` parameter to control this behavior.\n",
      "  _warn_prf(average, modifier, msg_start, len(result))\n"
     ]
    },
    {
     "name": "stdout",
     "output_type": "stream",
     "text": [
      "Results for r0c5.png                   (non_roi - excluded - 1.00 accuracy)\n",
      "Results for r1c1.png                   (non_roi - excluded - 1.00 accuracy)\n",
      "Results for r1c2.png                   (non_roi - unet     - 1.00 accuracy)\n",
      "Results for r1c3.png                   (non_roi - unet     - 1.00 accuracy)\n",
      "Results for r1c4.png                   (non_roi - excluded - 1.00 accuracy)\n",
      "Results for r2c2.png                   (non_roi - unet     - 1.00 accuracy)\n",
      "Results for r2c3.png                   (non_roi - unet     - 1.00 accuracy)\n",
      "Results for r2c4.png                   (non_roi - unet     - 1.00 accuracy)\n",
      "Results for r2c5.png                   (non_roi - excluded - 1.00 accuracy)\n",
      "Results for r6c1.png                   (non_roi - unet     - 0.75 accuracy)\n"
     ]
    },
    {
     "name": "stderr",
     "output_type": "stream",
     "text": [
      "2021-06-04 00:36:58,992 :: INFO extract_normal_region_from_wsi :: \t Extracting normal regions from wsi image: 'TCGA-CN-4730-01Z-00-DX1.a76280e8-6591-4d51-afc9-2f01e87346ab_1.png'\n"
     ]
    },
    {
     "name": "stdout",
     "output_type": "stream",
     "text": [
      "Results for r2c1.png                   (roi     - unet     - 0.93 accuracy)\n",
      "Results for r2c2.png                   (roi     - unet     - 0.82 accuracy)\n",
      "Results for r3c1.png                   (roi     - unet     - 0.81 accuracy)\n",
      "Results for r3c2.png                   (roi     - unet     - 0.94 accuracy)\n",
      "Results for r3c3.png                   (roi     - unet     - 0.85 accuracy)\n",
      "Results for r3c4.png                   (roi     - unet     - 0.87 accuracy)\n",
      "Results for r3c5.png                   (roi     - unet     - 0.89 accuracy)\n",
      "Results for r4c1.png                   (roi     - unet     - 0.76 accuracy)\n",
      "Results for r4c2.png                   (roi     - unet     - 0.92 accuracy)\n",
      "Results for r4c3.png                   (roi     - unet     - 0.95 accuracy)\n",
      "Results for r4c4.png                   (roi     - unet     - 0.96 accuracy)\n",
      "Results for r4c5.png                   (roi     - unet     - 0.91 accuracy)\n",
      "Results for r4c6.png                   (roi     - unet     - 0.85 accuracy)\n",
      "Results for r5c1.png                   (roi     - unet     - 0.83 accuracy)\n",
      "Results for r5c2.png                   (roi     - unet     - 0.91 accuracy)\n",
      "Results for r5c3.png                   (roi     - unet     - 0.91 accuracy)\n",
      "Results for r5c4.png                   (roi     - unet     - 0.90 accuracy)\n",
      "Results for r5c5.png                   (roi     - unet     - 0.95 accuracy)\n",
      "Results for r5c6.png                   (roi     - unet     - 0.96 accuracy)\n",
      "Results for r6c2.png                   (roi     - unet     - 0.92 accuracy)\n",
      "Results for r6c3.png                   (roi     - unet     - 0.90 accuracy)\n",
      "Results for r6c4.png                   (roi     - unet     - 0.77 accuracy)\n",
      "Results for r6c5.png                   (roi     - unet     - 0.90 accuracy)\n"
     ]
    },
    {
     "name": "stderr",
     "output_type": "stream",
     "text": [
      "/home/dalifreire/.local/lib/python3.8/site-packages/sklearn/metrics/_classification.py:1221: UndefinedMetricWarning: Precision is ill-defined and being set to 0.0 due to no predicted samples. Use `zero_division` parameter to control this behavior.\n",
      "  _warn_prf(average, modifier, msg_start, len(result))\n",
      "/home/dalifreire/.local/lib/python3.8/site-packages/sklearn/metrics/_classification.py:1221: UndefinedMetricWarning: Recall is ill-defined and being set to 0.0 due to no true samples. Use `zero_division` parameter to control this behavior.\n",
      "  _warn_prf(average, modifier, msg_start, len(result))\n",
      "/home/dalifreire/.local/lib/python3.8/site-packages/sklearn/metrics/_classification.py:1464: UndefinedMetricWarning: F-score is ill-defined and being set to 0.0 due to no true nor predicted samples. Use `zero_division` parameter to control this behavior.\n",
      "  _warn_prf(\n",
      "/home/dalifreire/.local/lib/python3.8/site-packages/sklearn/metrics/_classification.py:1221: UndefinedMetricWarning: Jaccard is ill-defined and being set to 0.0 due to no true or predicted samples. Use `zero_division` parameter to control this behavior.\n",
      "  _warn_prf(average, modifier, msg_start, len(result))\n"
     ]
    },
    {
     "name": "stdout",
     "output_type": "stream",
     "text": [
      "Results for r1c1.png                   (non_roi - excluded - 1.00 accuracy)\n",
      "Results for r1c2.png                   (non_roi - unet     - 1.00 accuracy)\n",
      "Results for r1c3.png                   (non_roi - unet     - 1.00 accuracy)\n",
      "Results for r1c4.png                   (non_roi - unet     - 1.00 accuracy)\n",
      "Results for r2c0.png                   (non_roi - unet     - 1.00 accuracy)\n",
      "Results for r2c3.png                   (non_roi - unet     - 0.84 accuracy)\n",
      "Results for r2c4.png                   (non_roi - unet     - 1.00 accuracy)\n",
      "Results for r2c5.png                   (non_roi - unet     - 0.99 accuracy)\n",
      "Results for r3c0.png                   (non_roi - unet     - 0.89 accuracy)\n",
      "Results for r3c6.png                   (non_roi - unet     - 1.00 accuracy)\n",
      "Results for r4c0.png                   (non_roi - unet     - 0.99 accuracy)\n",
      "Results for r5c0.png                   (non_roi - excluded - 1.00 accuracy)\n",
      "Results for r6c1.png                   (non_roi - unet     - 0.75 accuracy)\n"
     ]
    },
    {
     "name": "stderr",
     "output_type": "stream",
     "text": [
      "2021-06-04 00:39:34,765 :: INFO extract_normal_region_from_wsi :: \t Extracting normal regions from wsi image: 'TCGA-CN-4731-01Z-00-DX1.07b0bf3b-77f3-4471-a63c-1afc54714a60_0.png'\n"
     ]
    },
    {
     "name": "stdout",
     "output_type": "stream",
     "text": [
      "Results for r0c2.png                   (roi     - unet     - 0.74 accuracy)\n",
      "Results for r0c3.png                   (roi     - unet     - 0.84 accuracy)\n",
      "Results for r0c4.png                   (roi     - unet     - 0.86 accuracy)\n"
     ]
    },
    {
     "name": "stderr",
     "output_type": "stream",
     "text": [
      "/home/dalifreire/.local/lib/python3.8/site-packages/sklearn/metrics/_classification.py:1221: UndefinedMetricWarning: Precision is ill-defined and being set to 0.0 due to no predicted samples. Use `zero_division` parameter to control this behavior.\n",
      "  _warn_prf(average, modifier, msg_start, len(result))\n"
     ]
    },
    {
     "name": "stdout",
     "output_type": "stream",
     "text": [
      "Results for r1c0.png                   (roi     - unet     - 0.97 accuracy)\n",
      "Results for r1c1.png                   (roi     - unet     - 0.50 accuracy)\n",
      "Results for r1c2.png                   (roi     - unet     - 0.90 accuracy)\n",
      "Results for r1c3.png                   (roi     - unet     - 0.76 accuracy)\n",
      "Results for r1c4.png                   (roi     - unet     - 0.78 accuracy)\n",
      "Results for r1c5.png                   (roi     - unet     - 0.84 accuracy)\n",
      "Results for r2c1.png                   (roi     - unet     - 0.83 accuracy)\n",
      "Results for r2c2.png                   (roi     - unet     - 0.88 accuracy)\n",
      "Results for r2c3.png                   (roi     - unet     - 0.75 accuracy)\n",
      "Results for r2c4.png                   (roi     - unet     - 0.90 accuracy)\n",
      "Results for r2c5.png                   (roi     - unet     - 0.97 accuracy)\n",
      "Results for r2c6.png                   (roi     - unet     - 0.90 accuracy)\n",
      "Results for r3c2.png                   (roi     - unet     - 0.92 accuracy)\n",
      "Results for r3c3.png                   (roi     - unet     - 0.84 accuracy)\n",
      "Results for r3c4.png                   (roi     - unet     - 0.90 accuracy)\n",
      "Results for r3c5.png                   (roi     - unet     - 0.59 accuracy)\n"
     ]
    },
    {
     "name": "stderr",
     "output_type": "stream",
     "text": [
      "/home/dalifreire/.local/lib/python3.8/site-packages/sklearn/metrics/_classification.py:1221: UndefinedMetricWarning: Precision is ill-defined and being set to 0.0 due to no predicted samples. Use `zero_division` parameter to control this behavior.\n",
      "  _warn_prf(average, modifier, msg_start, len(result))\n"
     ]
    },
    {
     "name": "stdout",
     "output_type": "stream",
     "text": [
      "Results for r3c6.png                   (roi     - unet     - 0.96 accuracy)\n",
      "Results for r4c1.png                   (roi     - unet     - 0.57 accuracy)\n",
      "Results for r4c2.png                   (roi     - unet     - 0.90 accuracy)\n",
      "Results for r4c3.png                   (roi     - unet     - 0.91 accuracy)\n",
      "Results for r4c4.png                   (roi     - unet     - 0.89 accuracy)\n",
      "Results for r4c5.png                   (roi     - unet     - 0.91 accuracy)\n",
      "Results for r4c6.png                   (roi     - unet     - 0.84 accuracy)\n",
      "Results for r5c1.png                   (roi     - unet     - 0.58 accuracy)\n",
      "Results for r5c2.png                   (roi     - unet     - 0.81 accuracy)\n",
      "Results for r5c3.png                   (roi     - unet     - 0.65 accuracy)\n",
      "Results for r5c5.png                   (roi     - unet     - 0.48 accuracy)\n",
      "Results for r5c6.png                   (roi     - unet     - 0.94 accuracy)\n",
      "Results for r6c5.png                   (roi     - unet     - 0.94 accuracy)\n"
     ]
    },
    {
     "name": "stderr",
     "output_type": "stream",
     "text": [
      "/home/dalifreire/.local/lib/python3.8/site-packages/sklearn/metrics/_classification.py:1221: UndefinedMetricWarning: Recall is ill-defined and being set to 0.0 due to no true samples. Use `zero_division` parameter to control this behavior.\n",
      "  _warn_prf(average, modifier, msg_start, len(result))\n"
     ]
    },
    {
     "name": "stdout",
     "output_type": "stream",
     "text": [
      "Results for r0c1.png                   (non_roi - unet     - 0.90 accuracy)\n",
      "Results for r0c5.png                   (non_roi - unet     - 0.88 accuracy)\n",
      "Results for r1c6.png                   (non_roi - unet     - 0.99 accuracy)\n"
     ]
    },
    {
     "name": "stderr",
     "output_type": "stream",
     "text": [
      "/home/dalifreire/.local/lib/python3.8/site-packages/sklearn/metrics/_classification.py:1221: UndefinedMetricWarning: Precision is ill-defined and being set to 0.0 due to no predicted samples. Use `zero_division` parameter to control this behavior.\n",
      "  _warn_prf(average, modifier, msg_start, len(result))\n",
      "/home/dalifreire/.local/lib/python3.8/site-packages/sklearn/metrics/_classification.py:1464: UndefinedMetricWarning: F-score is ill-defined and being set to 0.0 due to no true nor predicted samples. Use `zero_division` parameter to control this behavior.\n",
      "  _warn_prf(\n",
      "/home/dalifreire/.local/lib/python3.8/site-packages/sklearn/metrics/_classification.py:1221: UndefinedMetricWarning: Jaccard is ill-defined and being set to 0.0 due to no true or predicted samples. Use `zero_division` parameter to control this behavior.\n",
      "  _warn_prf(average, modifier, msg_start, len(result))\n"
     ]
    },
    {
     "name": "stdout",
     "output_type": "stream",
     "text": [
      "Results for r2c0.png                   (non_roi - unet     - 1.00 accuracy)\n",
      "Results for r3c0.png                   (non_roi - unet     - 0.59 accuracy)\n",
      "Results for r3c1.png                   (non_roi - unet     - 1.00 accuracy)\n",
      "Results for r4c0.png                   (non_roi - unet     - 1.00 accuracy)\n",
      "Results for r5c0.png                   (non_roi - unet     - 0.70 accuracy)\n",
      "Results for r5c4.png                   (non_roi - unet     - 0.35 accuracy)\n",
      "Results for r6c1.png                   (non_roi - unet     - 1.00 accuracy)\n",
      "Results for r6c2.png                   (non_roi - unet     - 0.25 accuracy)\n",
      "Results for r6c3.png                   (non_roi - unet     - 0.76 accuracy)\n",
      "Results for r6c4.png                   (non_roi - unet     - 0.39 accuracy)\n"
     ]
    },
    {
     "name": "stderr",
     "output_type": "stream",
     "text": [
      "2021-06-04 00:42:50,783 :: INFO extract_normal_region_from_wsi :: \t Extracting normal regions from wsi image: 'TCGA-CN-4731-01Z-00-DX1.07b0bf3b-77f3-4471-a63c-1afc54714a60_1.png'\n"
     ]
    },
    {
     "name": "stdout",
     "output_type": "stream",
     "text": [
      "Results for r0c1.png                   (roi     - unet     - 0.83 accuracy)\n",
      "Results for r0c2.png                   (roi     - unet     - 0.58 accuracy)\n",
      "Results for r0c3.png                   (roi     - unet     - 0.48 accuracy)\n"
     ]
    },
    {
     "name": "stderr",
     "output_type": "stream",
     "text": [
      "/home/dalifreire/.local/lib/python3.8/site-packages/sklearn/metrics/_classification.py:1221: UndefinedMetricWarning: Precision is ill-defined and being set to 0.0 due to no predicted samples. Use `zero_division` parameter to control this behavior.\n",
      "  _warn_prf(average, modifier, msg_start, len(result))\n"
     ]
    },
    {
     "name": "stdout",
     "output_type": "stream",
     "text": [
      "Results for r0c4.png                   (roi     - unet     - 0.92 accuracy)\n",
      "Results for r0c5.png                   (roi     - unet     - 0.75 accuracy)\n",
      "Results for r1c0.png                   (roi     - unet     - 0.79 accuracy)\n"
     ]
    },
    {
     "name": "stderr",
     "output_type": "stream",
     "text": [
      "/home/dalifreire/.local/lib/python3.8/site-packages/sklearn/metrics/_classification.py:1221: UndefinedMetricWarning: Precision is ill-defined and being set to 0.0 due to no predicted samples. Use `zero_division` parameter to control this behavior.\n",
      "  _warn_prf(average, modifier, msg_start, len(result))\n"
     ]
    },
    {
     "name": "stdout",
     "output_type": "stream",
     "text": [
      "Results for r1c1.png                   (roi     - unet     - 0.63 accuracy)\n",
      "Results for r1c2.png                   (roi     - unet     - 0.51 accuracy)\n",
      "Results for r1c3.png                   (roi     - unet     - 0.49 accuracy)\n",
      "Results for r1c4.png                   (roi     - unet     - 0.66 accuracy)\n",
      "Results for r1c5.png                   (roi     - unet     - 0.92 accuracy)\n",
      "Results for r1c6.png                   (roi     - unet     - 0.94 accuracy)\n"
     ]
    },
    {
     "name": "stderr",
     "output_type": "stream",
     "text": [
      "/home/dalifreire/.local/lib/python3.8/site-packages/sklearn/metrics/_classification.py:1221: UndefinedMetricWarning: Precision is ill-defined and being set to 0.0 due to no predicted samples. Use `zero_division` parameter to control this behavior.\n",
      "  _warn_prf(average, modifier, msg_start, len(result))\n"
     ]
    },
    {
     "name": "stdout",
     "output_type": "stream",
     "text": [
      "Results for r2c1.png                   (roi     - unet     - 0.74 accuracy)\n",
      "Results for r2c2.png                   (roi     - unet     - 0.48 accuracy)\n"
     ]
    },
    {
     "name": "stderr",
     "output_type": "stream",
     "text": [
      "/home/dalifreire/.local/lib/python3.8/site-packages/sklearn/metrics/_classification.py:1221: UndefinedMetricWarning: Precision is ill-defined and being set to 0.0 due to no predicted samples. Use `zero_division` parameter to control this behavior.\n",
      "  _warn_prf(average, modifier, msg_start, len(result))\n"
     ]
    },
    {
     "name": "stdout",
     "output_type": "stream",
     "text": [
      "Results for r2c3.png                   (roi     - unet     - 0.42 accuracy)\n",
      "Results for r2c4.png                   (roi     - unet     - 0.47 accuracy)\n",
      "Results for r2c5.png                   (roi     - unet     - 0.56 accuracy)\n"
     ]
    },
    {
     "name": "stderr",
     "output_type": "stream",
     "text": [
      "/home/dalifreire/.local/lib/python3.8/site-packages/sklearn/metrics/_classification.py:1221: UndefinedMetricWarning: Precision is ill-defined and being set to 0.0 due to no predicted samples. Use `zero_division` parameter to control this behavior.\n",
      "  _warn_prf(average, modifier, msg_start, len(result))\n"
     ]
    },
    {
     "name": "stdout",
     "output_type": "stream",
     "text": [
      "Results for r2c6.png                   (roi     - unet     - 0.92 accuracy)\n",
      "Results for r3c0.png                   (roi     - unet     - 0.83 accuracy)\n",
      "Results for r3c1.png                   (roi     - unet     - 0.63 accuracy)\n"
     ]
    },
    {
     "name": "stderr",
     "output_type": "stream",
     "text": [
      "/home/dalifreire/.local/lib/python3.8/site-packages/sklearn/metrics/_classification.py:1221: UndefinedMetricWarning: Precision is ill-defined and being set to 0.0 due to no predicted samples. Use `zero_division` parameter to control this behavior.\n",
      "  _warn_prf(average, modifier, msg_start, len(result))\n"
     ]
    },
    {
     "name": "stdout",
     "output_type": "stream",
     "text": [
      "Results for r3c2.png                   (roi     - unet     - 0.52 accuracy)\n",
      "Results for r3c3.png                   (roi     - unet     - 0.49 accuracy)\n"
     ]
    },
    {
     "name": "stderr",
     "output_type": "stream",
     "text": [
      "/home/dalifreire/.local/lib/python3.8/site-packages/sklearn/metrics/_classification.py:1221: UndefinedMetricWarning: Precision is ill-defined and being set to 0.0 due to no predicted samples. Use `zero_division` parameter to control this behavior.\n",
      "  _warn_prf(average, modifier, msg_start, len(result))\n"
     ]
    },
    {
     "name": "stdout",
     "output_type": "stream",
     "text": [
      "Results for r3c4.png                   (roi     - unet     - 0.94 accuracy)\n",
      "Results for r3c5.png                   (roi     - unet     - 0.76 accuracy)\n",
      "Results for r3c6.png                   (roi     - unet     - 0.92 accuracy)\n",
      "Results for r4c0.png                   (roi     - unet     - 0.79 accuracy)\n",
      "Results for r4c1.png                   (roi     - unet     - 0.85 accuracy)\n",
      "Results for r4c2.png                   (roi     - unet     - 0.59 accuracy)\n",
      "Results for r4c3.png                   (roi     - unet     - 0.69 accuracy)\n"
     ]
    },
    {
     "name": "stderr",
     "output_type": "stream",
     "text": [
      "/home/dalifreire/.local/lib/python3.8/site-packages/sklearn/metrics/_classification.py:1221: UndefinedMetricWarning: Precision is ill-defined and being set to 0.0 due to no predicted samples. Use `zero_division` parameter to control this behavior.\n",
      "  _warn_prf(average, modifier, msg_start, len(result))\n"
     ]
    },
    {
     "name": "stdout",
     "output_type": "stream",
     "text": [
      "Results for r4c4.png                   (roi     - unet     - 0.87 accuracy)\n",
      "Results for r4c5.png                   (roi     - unet     - 0.78 accuracy)\n",
      "Results for r4c6.png                   (roi     - unet     - 0.87 accuracy)\n",
      "Results for r5c0.png                   (roi     - unet     - 0.92 accuracy)\n",
      "Results for r5c1.png                   (roi     - unet     - 0.93 accuracy)\n",
      "Results for r5c2.png                   (roi     - unet     - 0.77 accuracy)\n",
      "Results for r5c3.png                   (roi     - unet     - 0.86 accuracy)\n",
      "Results for r5c4.png                   (roi     - unet     - 0.98 accuracy)\n"
     ]
    },
    {
     "name": "stderr",
     "output_type": "stream",
     "text": [
      "/home/dalifreire/.local/lib/python3.8/site-packages/sklearn/metrics/_classification.py:1221: UndefinedMetricWarning: Precision is ill-defined and being set to 0.0 due to no predicted samples. Use `zero_division` parameter to control this behavior.\n",
      "  _warn_prf(average, modifier, msg_start, len(result))\n"
     ]
    },
    {
     "name": "stdout",
     "output_type": "stream",
     "text": [
      "Results for r5c5.png                   (roi     - unet     - 0.95 accuracy)\n",
      "Results for r5c6.png                   (roi     - unet     - 0.93 accuracy)\n",
      "Results for r6c1.png                   (roi     - unet     - 0.97 accuracy)\n",
      "Results for r6c2.png                   (roi     - unet     - 0.93 accuracy)\n",
      "Results for r6c3.png                   (roi     - unet     - 0.92 accuracy)\n"
     ]
    },
    {
     "name": "stderr",
     "output_type": "stream",
     "text": [
      "/home/dalifreire/.local/lib/python3.8/site-packages/sklearn/metrics/_classification.py:1221: UndefinedMetricWarning: Precision is ill-defined and being set to 0.0 due to no predicted samples. Use `zero_division` parameter to control this behavior.\n",
      "  _warn_prf(average, modifier, msg_start, len(result))\n"
     ]
    },
    {
     "name": "stdout",
     "output_type": "stream",
     "text": [
      "Results for r6c5.png                   (roi     - unet     - 0.91 accuracy)\n"
     ]
    },
    {
     "name": "stderr",
     "output_type": "stream",
     "text": [
      "/home/dalifreire/.local/lib/python3.8/site-packages/sklearn/metrics/_classification.py:1221: UndefinedMetricWarning: Recall is ill-defined and being set to 0.0 due to no true samples. Use `zero_division` parameter to control this behavior.\n",
      "  _warn_prf(average, modifier, msg_start, len(result))\n",
      "/home/dalifreire/.local/lib/python3.8/site-packages/sklearn/metrics/_classification.py:1464: UndefinedMetricWarning: F-score is ill-defined and being set to 0.0 due to no true nor predicted samples. Use `zero_division` parameter to control this behavior.\n",
      "  _warn_prf(\n",
      "/home/dalifreire/.local/lib/python3.8/site-packages/sklearn/metrics/_classification.py:1221: UndefinedMetricWarning: Jaccard is ill-defined and being set to 0.0 due to no true or predicted samples. Use `zero_division` parameter to control this behavior.\n",
      "  _warn_prf(average, modifier, msg_start, len(result))\n"
     ]
    },
    {
     "name": "stdout",
     "output_type": "stream",
     "text": [
      "Results for r2c0.png                   (non_roi - unet     - 1.00 accuracy)\n",
      "Results for r6c4.png                   (non_roi - unet     - 1.00 accuracy)\n"
     ]
    },
    {
     "name": "stderr",
     "output_type": "stream",
     "text": [
      "2021-06-04 00:46:02,103 :: INFO extract_normal_region_from_wsi :: \t Extracting normal regions from wsi image: 'TCGA-CN-4733-01Z-00-DX1.03cccb3f-c551-450f-b00a-f808a237db0b_0.png'\n"
     ]
    },
    {
     "name": "stdout",
     "output_type": "stream",
     "text": [
      "Results for r0c1.png                   (roi     - unet     - 0.89 accuracy)\n",
      "Results for r0c2.png                   (roi     - unet     - 0.84 accuracy)\n",
      "Results for r0c3.png                   (roi     - unet     - 0.84 accuracy)\n",
      "Results for r1c0.png                   (roi     - unet     - 0.94 accuracy)\n",
      "Results for r1c1.png                   (roi     - unet     - 0.76 accuracy)\n",
      "Results for r1c2.png                   (roi     - unet     - 0.91 accuracy)\n",
      "Results for r1c3.png                   (roi     - unet     - 0.83 accuracy)\n"
     ]
    },
    {
     "name": "stderr",
     "output_type": "stream",
     "text": [
      "/home/dalifreire/.local/lib/python3.8/site-packages/sklearn/metrics/_classification.py:1221: UndefinedMetricWarning: Precision is ill-defined and being set to 0.0 due to no predicted samples. Use `zero_division` parameter to control this behavior.\n",
      "  _warn_prf(average, modifier, msg_start, len(result))\n"
     ]
    },
    {
     "name": "stdout",
     "output_type": "stream",
     "text": [
      "Results for r1c4.png                   (roi     - unet     - 0.93 accuracy)\n",
      "Results for r1c5.png                   (roi     - unet     - 0.81 accuracy)\n",
      "Results for r1c6.png                   (roi     - unet     - 0.91 accuracy)\n",
      "Results for r2c0.png                   (roi     - unet     - 0.71 accuracy)\n",
      "Results for r2c1.png                   (roi     - unet     - 0.88 accuracy)\n",
      "Results for r2c2.png                   (roi     - unet     - 0.91 accuracy)\n",
      "Results for r2c3.png                   (roi     - unet     - 0.88 accuracy)\n",
      "Results for r2c4.png                   (roi     - unet     - 0.66 accuracy)\n",
      "Results for r2c5.png                   (roi     - unet     - 0.68 accuracy)\n",
      "Results for r2c6.png                   (roi     - unet     - 0.75 accuracy)\n",
      "Results for r3c0.png                   (roi     - unet     - 0.59 accuracy)\n",
      "Results for r3c1.png                   (roi     - unet     - 0.91 accuracy)\n",
      "Results for r3c2.png                   (roi     - unet     - 0.90 accuracy)\n",
      "Results for r3c3.png                   (roi     - unet     - 0.87 accuracy)\n",
      "Results for r3c4.png                   (roi     - unet     - 0.73 accuracy)\n",
      "Results for r3c5.png                   (roi     - unet     - 0.66 accuracy)\n",
      "Results for r3c6.png                   (roi     - unet     - 0.77 accuracy)\n",
      "Results for r4c0.png                   (roi     - unet     - 0.68 accuracy)\n",
      "Results for r4c1.png                   (roi     - unet     - 0.88 accuracy)\n",
      "Results for r4c2.png                   (roi     - unet     - 0.93 accuracy)\n",
      "Results for r4c3.png                   (roi     - unet     - 0.94 accuracy)\n",
      "Results for r4c4.png                   (roi     - unet     - 0.75 accuracy)\n",
      "Results for r4c5.png                   (roi     - unet     - 0.69 accuracy)\n",
      "Results for r4c6.png                   (roi     - unet     - 0.74 accuracy)\n"
     ]
    },
    {
     "name": "stderr",
     "output_type": "stream",
     "text": [
      "/home/dalifreire/.local/lib/python3.8/site-packages/sklearn/metrics/_classification.py:1221: UndefinedMetricWarning: Precision is ill-defined and being set to 0.0 due to no predicted samples. Use `zero_division` parameter to control this behavior.\n",
      "  _warn_prf(average, modifier, msg_start, len(result))\n"
     ]
    },
    {
     "name": "stdout",
     "output_type": "stream",
     "text": [
      "Results for r5c0.png                   (roi     - unet     - 0.71 accuracy)\n",
      "Results for r5c1.png                   (roi     - unet     - 0.84 accuracy)\n",
      "Results for r5c2.png                   (roi     - unet     - 0.93 accuracy)\n",
      "Results for r5c3.png                   (roi     - unet     - 0.89 accuracy)\n",
      "Results for r5c4.png                   (roi     - unet     - 0.67 accuracy)\n",
      "Results for r5c5.png                   (roi     - unet     - 0.64 accuracy)\n",
      "Results for r5c6.png                   (roi     - unet     - 0.84 accuracy)\n"
     ]
    },
    {
     "name": "stderr",
     "output_type": "stream",
     "text": [
      "/home/dalifreire/.local/lib/python3.8/site-packages/sklearn/metrics/_classification.py:1221: UndefinedMetricWarning: Precision is ill-defined and being set to 0.0 due to no predicted samples. Use `zero_division` parameter to control this behavior.\n",
      "  _warn_prf(average, modifier, msg_start, len(result))\n"
     ]
    },
    {
     "name": "stdout",
     "output_type": "stream",
     "text": [
      "Results for r6c1.png                   (roi     - unet     - 0.63 accuracy)\n",
      "Results for r6c2.png                   (roi     - unet     - 0.96 accuracy)\n",
      "Results for r6c3.png                   (roi     - unet     - 0.93 accuracy)\n",
      "Results for r6c4.png                   (roi     - unet     - 0.87 accuracy)\n"
     ]
    },
    {
     "name": "stderr",
     "output_type": "stream",
     "text": [
      "/home/dalifreire/.local/lib/python3.8/site-packages/sklearn/metrics/_classification.py:1221: UndefinedMetricWarning: Recall is ill-defined and being set to 0.0 due to no true samples. Use `zero_division` parameter to control this behavior.\n",
      "  _warn_prf(average, modifier, msg_start, len(result))\n"
     ]
    },
    {
     "name": "stdout",
     "output_type": "stream",
     "text": [
      "Results for r0c4.png                   (non_roi - unet     - 0.98 accuracy)\n"
     ]
    },
    {
     "name": "stderr",
     "output_type": "stream",
     "text": [
      "/home/dalifreire/.local/lib/python3.8/site-packages/sklearn/metrics/_classification.py:1221: UndefinedMetricWarning: Precision is ill-defined and being set to 0.0 due to no predicted samples. Use `zero_division` parameter to control this behavior.\n",
      "  _warn_prf(average, modifier, msg_start, len(result))\n",
      "/home/dalifreire/.local/lib/python3.8/site-packages/sklearn/metrics/_classification.py:1464: UndefinedMetricWarning: F-score is ill-defined and being set to 0.0 due to no true nor predicted samples. Use `zero_division` parameter to control this behavior.\n",
      "  _warn_prf(\n",
      "/home/dalifreire/.local/lib/python3.8/site-packages/sklearn/metrics/_classification.py:1221: UndefinedMetricWarning: Jaccard is ill-defined and being set to 0.0 due to no true or predicted samples. Use `zero_division` parameter to control this behavior.\n",
      "  _warn_prf(average, modifier, msg_start, len(result))\n"
     ]
    },
    {
     "name": "stdout",
     "output_type": "stream",
     "text": [
      "Results for r0c5.png                   (non_roi - unet     - 1.00 accuracy)\n",
      "Results for r6c5.png                   (non_roi - unet     - 0.85 accuracy)\n"
     ]
    },
    {
     "name": "stderr",
     "output_type": "stream",
     "text": [
      "2021-06-04 00:49:20,430 :: INFO extract_normal_region_from_wsi :: \t Extracting normal regions from wsi image: 'TCGA-CN-4733-01Z-00-DX1.03cccb3f-c551-450f-b00a-f808a237db0b_1.png'\n"
     ]
    },
    {
     "name": "stdout",
     "output_type": "stream",
     "text": [
      "Results for r0c1.png                   (roi     - unet     - 0.66 accuracy)\n",
      "Results for r0c2.png                   (roi     - unet     - 0.99 accuracy)\n",
      "Results for r0c3.png                   (roi     - unet     - 0.97 accuracy)\n",
      "Results for r0c4.png                   (roi     - unet     - 0.96 accuracy)\n"
     ]
    },
    {
     "name": "stderr",
     "output_type": "stream",
     "text": [
      "/home/dalifreire/.local/lib/python3.8/site-packages/sklearn/metrics/_classification.py:1221: UndefinedMetricWarning: Precision is ill-defined and being set to 0.0 due to no predicted samples. Use `zero_division` parameter to control this behavior.\n",
      "  _warn_prf(average, modifier, msg_start, len(result))\n"
     ]
    },
    {
     "name": "stdout",
     "output_type": "stream",
     "text": [
      "Results for r0c5.png                   (roi     - unet     - 0.66 accuracy)\n",
      "Results for r1c0.png                   (roi     - unet     - 0.99 accuracy)\n",
      "Results for r1c1.png                   (roi     - unet     - 0.96 accuracy)\n",
      "Results for r1c2.png                   (roi     - unet     - 0.97 accuracy)\n",
      "Results for r1c3.png                   (roi     - unet     - 0.98 accuracy)\n",
      "Results for r1c4.png                   (roi     - unet     - 0.97 accuracy)\n",
      "Results for r1c5.png                   (roi     - unet     - 0.98 accuracy)\n",
      "Results for r1c6.png                   (roi     - unet     - 0.99 accuracy)\n",
      "Results for r2c0.png                   (roi     - unet     - 0.90 accuracy)\n",
      "Results for r2c1.png                   (roi     - unet     - 0.88 accuracy)\n",
      "Results for r2c2.png                   (roi     - unet     - 0.96 accuracy)\n",
      "Results for r2c3.png                   (roi     - unet     - 0.95 accuracy)\n",
      "Results for r2c4.png                   (roi     - unet     - 0.95 accuracy)\n",
      "Results for r2c5.png                   (roi     - unet     - 0.93 accuracy)\n",
      "Results for r2c6.png                   (roi     - unet     - 0.72 accuracy)\n",
      "Results for r3c0.png                   (roi     - unet     - 0.87 accuracy)\n",
      "Results for r3c1.png                   (roi     - unet     - 0.85 accuracy)\n",
      "Results for r3c2.png                   (roi     - unet     - 0.88 accuracy)\n",
      "Results for r3c3.png                   (roi     - unet     - 0.76 accuracy)\n",
      "Results for r3c4.png                   (roi     - unet     - 0.93 accuracy)\n",
      "Results for r3c5.png                   (roi     - unet     - 0.94 accuracy)\n",
      "Results for r3c6.png                   (roi     - unet     - 0.37 accuracy)\n",
      "Results for r4c0.png                   (roi     - unet     - 0.98 accuracy)\n",
      "Results for r4c1.png                   (roi     - unet     - 0.93 accuracy)\n",
      "Results for r4c2.png                   (roi     - unet     - 0.71 accuracy)\n",
      "Results for r4c3.png                   (roi     - unet     - 0.87 accuracy)\n",
      "Results for r4c4.png                   (roi     - unet     - 0.68 accuracy)\n",
      "Results for r4c5.png                   (roi     - unet     - 0.92 accuracy)\n",
      "Results for r4c6.png                   (roi     - unet     - 0.92 accuracy)\n",
      "Results for r5c0.png                   (roi     - unet     - 0.99 accuracy)\n",
      "Results for r5c1.png                   (roi     - unet     - 0.92 accuracy)\n",
      "Results for r5c2.png                   (roi     - unet     - 0.87 accuracy)\n"
     ]
    },
    {
     "name": "stderr",
     "output_type": "stream",
     "text": [
      "/home/dalifreire/.local/lib/python3.8/site-packages/sklearn/metrics/_classification.py:1221: UndefinedMetricWarning: Precision is ill-defined and being set to 0.0 due to no predicted samples. Use `zero_division` parameter to control this behavior.\n",
      "  _warn_prf(average, modifier, msg_start, len(result))\n"
     ]
    },
    {
     "name": "stdout",
     "output_type": "stream",
     "text": [
      "Results for r5c3.png                   (roi     - unet     - 0.81 accuracy)\n",
      "Results for r6c1.png                   (roi     - unet     - 0.99 accuracy)\n",
      "Results for r6c2.png                   (roi     - unet     - 0.91 accuracy)\n",
      "Results for r6c3.png                   (roi     - unet     - 0.63 accuracy)\n",
      "Results for r6c4.png                   (roi     - unet     - 0.49 accuracy)\n"
     ]
    },
    {
     "name": "stderr",
     "output_type": "stream",
     "text": [
      "/home/dalifreire/.local/lib/python3.8/site-packages/sklearn/metrics/_classification.py:1221: UndefinedMetricWarning: Recall is ill-defined and being set to 0.0 due to no true samples. Use `zero_division` parameter to control this behavior.\n",
      "  _warn_prf(average, modifier, msg_start, len(result))\n"
     ]
    },
    {
     "name": "stdout",
     "output_type": "stream",
     "text": [
      "Results for r5c4.png                   (non_roi - unet     - 1.00 accuracy)\n",
      "Results for r5c5.png                   (non_roi - unet     - 0.98 accuracy)\n",
      "Results for r5c6.png                   (non_roi - unet     - 0.71 accuracy)\n",
      "Results for r6c5.png                   (non_roi - unet     - 1.00 accuracy)\n"
     ]
    },
    {
     "name": "stderr",
     "output_type": "stream",
     "text": [
      "2021-06-04 00:52:38,540 :: INFO extract_normal_region_from_wsi :: \t Extracting normal regions from wsi image: 'TCGA-CN-4734-01Z-00-DX1.9cd35e43-7132-478a-9d08-a88d150b7127_0.png'\n"
     ]
    },
    {
     "name": "stdout",
     "output_type": "stream",
     "text": [
      "Results for r0c1.png                   (roi     - unet     - 0.86 accuracy)\n",
      "Results for r0c2.png                   (roi     - unet     - 0.94 accuracy)\n",
      "Results for r0c3.png                   (roi     - unet     - 0.78 accuracy)\n",
      "Results for r0c4.png                   (roi     - unet     - 0.98 accuracy)\n",
      "Results for r0c5.png                   (roi     - unet     - 0.96 accuracy)\n",
      "Results for r1c0.png                   (roi     - unet     - 0.93 accuracy)\n",
      "Results for r1c1.png                   (roi     - unet     - 0.76 accuracy)\n",
      "Results for r1c2.png                   (roi     - unet     - 0.91 accuracy)\n",
      "Results for r1c3.png                   (roi     - unet     - 0.90 accuracy)\n",
      "Results for r1c4.png                   (roi     - unet     - 0.90 accuracy)\n",
      "Results for r1c5.png                   (roi     - unet     - 0.95 accuracy)\n",
      "Results for r1c6.png                   (roi     - unet     - 0.93 accuracy)\n",
      "Results for r2c0.png                   (roi     - unet     - 0.94 accuracy)\n",
      "Results for r2c1.png                   (roi     - unet     - 0.86 accuracy)\n",
      "Results for r2c2.png                   (roi     - unet     - 0.91 accuracy)\n",
      "Results for r2c3.png                   (roi     - unet     - 0.96 accuracy)\n",
      "Results for r2c4.png                   (roi     - unet     - 0.98 accuracy)\n",
      "Results for r2c5.png                   (roi     - unet     - 0.96 accuracy)\n",
      "Results for r2c6.png                   (roi     - unet     - 0.54 accuracy)\n",
      "Results for r3c0.png                   (roi     - unet     - 0.96 accuracy)\n",
      "Results for r3c1.png                   (roi     - unet     - 0.76 accuracy)\n",
      "Results for r3c2.png                   (roi     - unet     - 0.93 accuracy)\n",
      "Results for r3c3.png                   (roi     - unet     - 0.93 accuracy)\n",
      "Results for r3c5.png                   (roi     - unet     - 0.98 accuracy)\n",
      "Results for r3c6.png                   (roi     - unet     - 0.74 accuracy)\n",
      "Results for r4c0.png                   (roi     - unet     - 0.98 accuracy)\n",
      "Results for r4c1.png                   (roi     - unet     - 0.77 accuracy)\n",
      "Results for r4c2.png                   (roi     - unet     - 0.96 accuracy)\n",
      "Results for r4c3.png                   (roi     - unet     - 0.93 accuracy)\n",
      "Results for r4c4.png                   (roi     - unet     - 0.97 accuracy)\n",
      "Results for r4c5.png                   (roi     - unet     - 0.97 accuracy)\n",
      "Results for r4c6.png                   (roi     - unet     - 0.95 accuracy)\n",
      "Results for r5c0.png                   (roi     - unet     - 0.77 accuracy)\n",
      "Results for r5c1.png                   (roi     - unet     - 0.83 accuracy)\n",
      "Results for r5c2.png                   (roi     - unet     - 0.68 accuracy)\n",
      "Results for r5c3.png                   (roi     - unet     - 0.92 accuracy)\n",
      "Results for r5c4.png                   (roi     - unet     - 0.97 accuracy)\n",
      "Results for r5c5.png                   (roi     - unet     - 0.89 accuracy)\n",
      "Results for r5c6.png                   (roi     - unet     - 0.90 accuracy)\n",
      "Results for r6c1.png                   (roi     - unet     - 0.93 accuracy)\n",
      "Results for r6c2.png                   (roi     - unet     - 0.89 accuracy)\n",
      "Results for r6c3.png                   (roi     - unet     - 0.76 accuracy)\n",
      "Results for r6c4.png                   (roi     - unet     - 0.68 accuracy)\n"
     ]
    },
    {
     "name": "stderr",
     "output_type": "stream",
     "text": [
      "/home/dalifreire/.local/lib/python3.8/site-packages/sklearn/metrics/_classification.py:1221: UndefinedMetricWarning: Precision is ill-defined and being set to 0.0 due to no predicted samples. Use `zero_division` parameter to control this behavior.\n",
      "  _warn_prf(average, modifier, msg_start, len(result))\n"
     ]
    },
    {
     "name": "stdout",
     "output_type": "stream",
     "text": [
      "Results for r6c5.png                   (roi     - unet     - 0.61 accuracy)\n"
     ]
    },
    {
     "name": "stderr",
     "output_type": "stream",
     "text": [
      "/home/dalifreire/.local/lib/python3.8/site-packages/sklearn/metrics/_classification.py:1221: UndefinedMetricWarning: Recall is ill-defined and being set to 0.0 due to no true samples. Use `zero_division` parameter to control this behavior.\n",
      "  _warn_prf(average, modifier, msg_start, len(result))\n",
      "/home/dalifreire/.local/lib/python3.8/site-packages/sklearn/metrics/_classification.py:1464: UndefinedMetricWarning: F-score is ill-defined and being set to 0.0 due to no true nor predicted samples. Use `zero_division` parameter to control this behavior.\n",
      "  _warn_prf(\n",
      "/home/dalifreire/.local/lib/python3.8/site-packages/sklearn/metrics/_classification.py:1221: UndefinedMetricWarning: Jaccard is ill-defined and being set to 0.0 due to no true or predicted samples. Use `zero_division` parameter to control this behavior.\n",
      "  _warn_prf(average, modifier, msg_start, len(result))\n"
     ]
    },
    {
     "name": "stdout",
     "output_type": "stream",
     "text": [
      "Results for r3c4.png                   (non_roi - unet     - 1.00 accuracy)\n"
     ]
    },
    {
     "name": "stderr",
     "output_type": "stream",
     "text": [
      "2021-06-04 00:55:55,372 :: INFO extract_normal_region_from_wsi :: \t Extracting normal regions from wsi image: 'TCGA-CN-4734-01Z-00-DX1.9cd35e43-7132-478a-9d08-a88d150b7127_1.png'\n"
     ]
    },
    {
     "name": "stdout",
     "output_type": "stream",
     "text": [
      "Results for r0c1.png                   (roi     - unet     - 0.78 accuracy)\n",
      "Results for r0c2.png                   (roi     - unet     - 0.88 accuracy)\n",
      "Results for r0c3.png                   (roi     - unet     - 0.91 accuracy)\n",
      "Results for r0c4.png                   (roi     - unet     - 0.94 accuracy)\n"
     ]
    },
    {
     "name": "stderr",
     "output_type": "stream",
     "text": [
      "/home/dalifreire/.local/lib/python3.8/site-packages/sklearn/metrics/_classification.py:1221: UndefinedMetricWarning: Precision is ill-defined and being set to 0.0 due to no predicted samples. Use `zero_division` parameter to control this behavior.\n",
      "  _warn_prf(average, modifier, msg_start, len(result))\n"
     ]
    },
    {
     "name": "stdout",
     "output_type": "stream",
     "text": [
      "Results for r0c5.png                   (roi     - unet     - 0.97 accuracy)\n",
      "Results for r1c0.png                   (roi     - unet     - 0.85 accuracy)\n",
      "Results for r1c1.png                   (roi     - unet     - 0.73 accuracy)\n",
      "Results for r1c2.png                   (roi     - unet     - 0.78 accuracy)\n",
      "Results for r1c3.png                   (roi     - unet     - 0.89 accuracy)\n",
      "Results for r1c4.png                   (roi     - unet     - 0.94 accuracy)\n",
      "Results for r1c5.png                   (roi     - unet     - 0.73 accuracy)\n",
      "Results for r1c6.png                   (roi     - unet     - 0.70 accuracy)\n",
      "Results for r2c0.png                   (roi     - unet     - 0.71 accuracy)\n",
      "Results for r2c1.png                   (roi     - unet     - 0.68 accuracy)\n",
      "Results for r2c2.png                   (roi     - unet     - 0.88 accuracy)\n",
      "Results for r2c3.png                   (roi     - unet     - 0.82 accuracy)\n",
      "Results for r2c5.png                   (roi     - unet     - 0.98 accuracy)\n",
      "Results for r2c6.png                   (roi     - unet     - 0.88 accuracy)\n",
      "Results for r3c0.png                   (roi     - unet     - 0.81 accuracy)\n",
      "Results for r3c1.png                   (roi     - unet     - 0.86 accuracy)\n",
      "Results for r3c2.png                   (roi     - unet     - 0.86 accuracy)\n",
      "Results for r3c3.png                   (roi     - unet     - 0.76 accuracy)\n"
     ]
    },
    {
     "name": "stderr",
     "output_type": "stream",
     "text": [
      "/home/dalifreire/.local/lib/python3.8/site-packages/sklearn/metrics/_classification.py:1221: UndefinedMetricWarning: Precision is ill-defined and being set to 0.0 due to no predicted samples. Use `zero_division` parameter to control this behavior.\n",
      "  _warn_prf(average, modifier, msg_start, len(result))\n"
     ]
    },
    {
     "name": "stdout",
     "output_type": "stream",
     "text": [
      "Results for r3c5.png                   (roi     - unet     - 0.94 accuracy)\n",
      "Results for r3c6.png                   (roi     - unet     - 0.92 accuracy)\n",
      "Results for r4c0.png                   (roi     - unet     - 0.75 accuracy)\n",
      "Results for r4c1.png                   (roi     - unet     - 0.92 accuracy)\n",
      "Results for r4c2.png                   (roi     - unet     - 0.75 accuracy)\n",
      "Results for r4c3.png                   (roi     - unet     - 0.96 accuracy)\n",
      "Results for r4c5.png                   (roi     - unet     - 0.86 accuracy)\n",
      "Results for r4c6.png                   (roi     - unet     - 0.91 accuracy)\n",
      "Results for r5c0.png                   (roi     - unet     - 0.92 accuracy)\n"
     ]
    },
    {
     "name": "stderr",
     "output_type": "stream",
     "text": [
      "/home/dalifreire/.local/lib/python3.8/site-packages/sklearn/metrics/_classification.py:1221: UndefinedMetricWarning: Precision is ill-defined and being set to 0.0 due to no predicted samples. Use `zero_division` parameter to control this behavior.\n",
      "  _warn_prf(average, modifier, msg_start, len(result))\n"
     ]
    },
    {
     "name": "stdout",
     "output_type": "stream",
     "text": [
      "Results for r5c1.png                   (roi     - unet     - 0.95 accuracy)\n",
      "Results for r5c3.png                   (roi     - unet     - 0.95 accuracy)\n",
      "Results for r5c4.png                   (roi     - unet     - 0.73 accuracy)\n",
      "Results for r5c5.png                   (roi     - unet     - 0.90 accuracy)\n",
      "Results for r5c6.png                   (roi     - unet     - 0.95 accuracy)\n"
     ]
    },
    {
     "name": "stderr",
     "output_type": "stream",
     "text": [
      "/home/dalifreire/.local/lib/python3.8/site-packages/sklearn/metrics/_classification.py:1221: UndefinedMetricWarning: Precision is ill-defined and being set to 0.0 due to no predicted samples. Use `zero_division` parameter to control this behavior.\n",
      "  _warn_prf(average, modifier, msg_start, len(result))\n"
     ]
    },
    {
     "name": "stdout",
     "output_type": "stream",
     "text": [
      "Results for r6c1.png                   (roi     - unet     - 0.96 accuracy)\n",
      "Results for r6c2.png                   (roi     - unet     - 0.72 accuracy)\n",
      "Results for r6c3.png                   (roi     - unet     - 0.83 accuracy)\n",
      "Results for r6c4.png                   (roi     - unet     - 0.87 accuracy)\n",
      "Results for r6c5.png                   (roi     - unet     - 0.66 accuracy)\n"
     ]
    },
    {
     "name": "stderr",
     "output_type": "stream",
     "text": [
      "/home/dalifreire/.local/lib/python3.8/site-packages/sklearn/metrics/_classification.py:1221: UndefinedMetricWarning: Precision is ill-defined and being set to 0.0 due to no predicted samples. Use `zero_division` parameter to control this behavior.\n",
      "  _warn_prf(average, modifier, msg_start, len(result))\n",
      "/home/dalifreire/.local/lib/python3.8/site-packages/sklearn/metrics/_classification.py:1221: UndefinedMetricWarning: Recall is ill-defined and being set to 0.0 due to no true samples. Use `zero_division` parameter to control this behavior.\n",
      "  _warn_prf(average, modifier, msg_start, len(result))\n",
      "/home/dalifreire/.local/lib/python3.8/site-packages/sklearn/metrics/_classification.py:1464: UndefinedMetricWarning: F-score is ill-defined and being set to 0.0 due to no true nor predicted samples. Use `zero_division` parameter to control this behavior.\n",
      "  _warn_prf(\n",
      "/home/dalifreire/.local/lib/python3.8/site-packages/sklearn/metrics/_classification.py:1221: UndefinedMetricWarning: Jaccard is ill-defined and being set to 0.0 due to no true or predicted samples. Use `zero_division` parameter to control this behavior.\n",
      "  _warn_prf(average, modifier, msg_start, len(result))\n"
     ]
    },
    {
     "name": "stdout",
     "output_type": "stream",
     "text": [
      "Results for r2c4.png                   (non_roi - unet     - 1.00 accuracy)\n",
      "Results for r3c4.png                   (non_roi - unet     - 1.00 accuracy)\n",
      "Results for r4c4.png                   (non_roi - unet     - 1.00 accuracy)\n",
      "Results for r5c2.png                   (non_roi - unet     - 1.00 accuracy)\n"
     ]
    },
    {
     "name": "stderr",
     "output_type": "stream",
     "text": [
      "2021-06-04 00:59:11,603 :: INFO extract_normal_region_from_wsi :: \t Extracting normal regions from wsi image: 'TCGA-CN-4735-01Z-00-DX1.b7d37666-bd65-4d3b-826b-97e560444956_0.png'\n"
     ]
    },
    {
     "name": "stdout",
     "output_type": "stream",
     "text": [
      "Results for r1c0.png                   (roi     - unet     - 0.98 accuracy)\n",
      "Results for r2c0.png                   (roi     - unet     - 0.91 accuracy)\n",
      "Results for r2c1.png                   (roi     - unet     - 0.80 accuracy)\n",
      "Results for r2c2.png                   (roi     - unet     - 0.83 accuracy)\n"
     ]
    },
    {
     "name": "stderr",
     "output_type": "stream",
     "text": [
      "/home/dalifreire/.local/lib/python3.8/site-packages/sklearn/metrics/_classification.py:1221: UndefinedMetricWarning: Precision is ill-defined and being set to 0.0 due to no predicted samples. Use `zero_division` parameter to control this behavior.\n",
      "  _warn_prf(average, modifier, msg_start, len(result))\n"
     ]
    },
    {
     "name": "stdout",
     "output_type": "stream",
     "text": [
      "Results for r2c3.png                   (roi     - unet     - 0.83 accuracy)\n",
      "Results for r2c4.png                   (roi     - unet     - 0.78 accuracy)\n",
      "Results for r3c0.png                   (roi     - unet     - 0.94 accuracy)\n",
      "Results for r3c1.png                   (roi     - unet     - 0.83 accuracy)\n",
      "Results for r3c2.png                   (roi     - unet     - 0.84 accuracy)\n",
      "Results for r3c3.png                   (roi     - unet     - 0.79 accuracy)\n"
     ]
    },
    {
     "name": "stderr",
     "output_type": "stream",
     "text": [
      "/home/dalifreire/.local/lib/python3.8/site-packages/sklearn/metrics/_classification.py:1221: UndefinedMetricWarning: Precision is ill-defined and being set to 0.0 due to no predicted samples. Use `zero_division` parameter to control this behavior.\n",
      "  _warn_prf(average, modifier, msg_start, len(result))\n"
     ]
    },
    {
     "name": "stdout",
     "output_type": "stream",
     "text": [
      "Results for r3c4.png                   (roi     - unet     - 0.90 accuracy)\n",
      "Results for r4c0.png                   (roi     - unet     - 0.95 accuracy)\n",
      "Results for r4c1.png                   (roi     - unet     - 0.97 accuracy)\n",
      "Results for r4c2.png                   (roi     - unet     - 0.89 accuracy)\n",
      "Results for r4c3.png                   (roi     - unet     - 0.72 accuracy)\n",
      "Results for r4c4.png                   (roi     - unet     - 0.74 accuracy)\n"
     ]
    },
    {
     "name": "stderr",
     "output_type": "stream",
     "text": [
      "/home/dalifreire/.local/lib/python3.8/site-packages/sklearn/metrics/_classification.py:1221: UndefinedMetricWarning: Precision is ill-defined and being set to 0.0 due to no predicted samples. Use `zero_division` parameter to control this behavior.\n",
      "  _warn_prf(average, modifier, msg_start, len(result))\n"
     ]
    },
    {
     "name": "stdout",
     "output_type": "stream",
     "text": [
      "Results for r4c5.png                   (roi     - unet     - 0.79 accuracy)\n",
      "Results for r5c0.png                   (roi     - unet     - 0.67 accuracy)\n",
      "Results for r5c1.png                   (roi     - unet     - 0.96 accuracy)\n",
      "Results for r5c2.png                   (roi     - unet     - 0.94 accuracy)\n",
      "Results for r5c3.png                   (roi     - unet     - 0.94 accuracy)\n",
      "Results for r5c4.png                   (roi     - unet     - 0.86 accuracy)\n",
      "Results for r5c5.png                   (roi     - unet     - 0.90 accuracy)\n",
      "Results for r5c6.png                   (roi     - unet     - 0.80 accuracy)\n"
     ]
    },
    {
     "name": "stderr",
     "output_type": "stream",
     "text": [
      "/home/dalifreire/.local/lib/python3.8/site-packages/sklearn/metrics/_classification.py:1221: UndefinedMetricWarning: Precision is ill-defined and being set to 0.0 due to no predicted samples. Use `zero_division` parameter to control this behavior.\n",
      "  _warn_prf(average, modifier, msg_start, len(result))\n"
     ]
    },
    {
     "name": "stdout",
     "output_type": "stream",
     "text": [
      "Results for r6c1.png                   (roi     - unet     - 0.67 accuracy)\n",
      "Results for r6c2.png                   (roi     - unet     - 0.90 accuracy)\n",
      "Results for r6c3.png                   (roi     - unet     - 0.94 accuracy)\n",
      "Results for r6c4.png                   (roi     - unet     - 0.93 accuracy)\n",
      "Results for r6c5.png                   (roi     - unet     - 0.94 accuracy)\n"
     ]
    },
    {
     "name": "stderr",
     "output_type": "stream",
     "text": [
      "/home/dalifreire/.local/lib/python3.8/site-packages/sklearn/metrics/_classification.py:1221: UndefinedMetricWarning: Precision is ill-defined and being set to 0.0 due to no predicted samples. Use `zero_division` parameter to control this behavior.\n",
      "  _warn_prf(average, modifier, msg_start, len(result))\n",
      "/home/dalifreire/.local/lib/python3.8/site-packages/sklearn/metrics/_classification.py:1221: UndefinedMetricWarning: Recall is ill-defined and being set to 0.0 due to no true samples. Use `zero_division` parameter to control this behavior.\n",
      "  _warn_prf(average, modifier, msg_start, len(result))\n",
      "/home/dalifreire/.local/lib/python3.8/site-packages/sklearn/metrics/_classification.py:1464: UndefinedMetricWarning: F-score is ill-defined and being set to 0.0 due to no true nor predicted samples. Use `zero_division` parameter to control this behavior.\n",
      "  _warn_prf(\n",
      "/home/dalifreire/.local/lib/python3.8/site-packages/sklearn/metrics/_classification.py:1221: UndefinedMetricWarning: Jaccard is ill-defined and being set to 0.0 due to no true or predicted samples. Use `zero_division` parameter to control this behavior.\n",
      "  _warn_prf(average, modifier, msg_start, len(result))\n"
     ]
    },
    {
     "name": "stdout",
     "output_type": "stream",
     "text": [
      "Results for r0c1.png                   (non_roi - unet     - 1.00 accuracy)\n",
      "Results for r0c2.png                   (non_roi - unet     - 1.00 accuracy)\n",
      "Results for r0c3.png                   (non_roi - unet     - 1.00 accuracy)\n",
      "Results for r0c4.png                   (non_roi - unet     - 1.00 accuracy)\n",
      "Results for r0c5.png                   (non_roi - unet     - 1.00 accuracy)\n",
      "Results for r1c1.png                   (non_roi - unet     - 1.00 accuracy)\n",
      "Results for r1c2.png                   (non_roi - unet     - 1.00 accuracy)\n",
      "Results for r1c3.png                   (non_roi - unet     - 1.00 accuracy)\n",
      "Results for r1c4.png                   (non_roi - unet     - 1.00 accuracy)\n",
      "Results for r1c5.png                   (non_roi - unet     - 1.00 accuracy)\n",
      "Results for r1c6.png                   (non_roi - unet     - 1.00 accuracy)\n",
      "Results for r2c5.png                   (non_roi - unet     - 1.00 accuracy)\n",
      "Results for r2c6.png                   (non_roi - unet     - 1.00 accuracy)\n",
      "Results for r3c5.png                   (non_roi - unet     - 1.00 accuracy)\n",
      "Results for r3c6.png                   (non_roi - unet     - 1.00 accuracy)\n",
      "Results for r4c6.png                   (non_roi - unet     - 1.00 accuracy)\n"
     ]
    },
    {
     "name": "stderr",
     "output_type": "stream",
     "text": [
      "2021-06-04 01:02:24,259 :: INFO extract_normal_region_from_wsi :: \t Extracting normal regions from wsi image: 'TCGA-CN-4735-01Z-00-DX1.b7d37666-bd65-4d3b-826b-97e560444956_1.png'\n"
     ]
    },
    {
     "name": "stdout",
     "output_type": "stream",
     "text": [
      "Results for r1c0.png                   (roi     - unet     - 0.97 accuracy)\n",
      "Results for r1c2.png                   (roi     - unet     - 0.73 accuracy)\n",
      "Results for r1c3.png                   (roi     - unet     - 0.86 accuracy)\n",
      "Results for r1c4.png                   (roi     - unet     - 0.93 accuracy)\n"
     ]
    },
    {
     "name": "stderr",
     "output_type": "stream",
     "text": [
      "/home/dalifreire/.local/lib/python3.8/site-packages/sklearn/metrics/_classification.py:1221: UndefinedMetricWarning: Precision is ill-defined and being set to 0.0 due to no predicted samples. Use `zero_division` parameter to control this behavior.\n",
      "  _warn_prf(average, modifier, msg_start, len(result))\n"
     ]
    },
    {
     "name": "stdout",
     "output_type": "stream",
     "text": [
      "Results for r1c5.png                   (roi     - unet     - 0.89 accuracy)\n",
      "Results for r2c0.png                   (roi     - unet     - 0.84 accuracy)\n",
      "Results for r2c1.png                   (roi     - unet     - 0.91 accuracy)\n",
      "Results for r2c2.png                   (roi     - unet     - 0.84 accuracy)\n",
      "Results for r2c3.png                   (roi     - unet     - 0.82 accuracy)\n",
      "Results for r2c4.png                   (roi     - unet     - 0.66 accuracy)\n",
      "Results for r2c5.png                   (roi     - unet     - 0.63 accuracy)\n",
      "Results for r2c6.png                   (roi     - unet     - 0.64 accuracy)\n",
      "Results for r3c0.png                   (roi     - unet     - 0.93 accuracy)\n",
      "Results for r3c1.png                   (roi     - unet     - 0.86 accuracy)\n",
      "Results for r3c2.png                   (roi     - unet     - 0.86 accuracy)\n",
      "Results for r3c3.png                   (roi     - unet     - 0.79 accuracy)\n",
      "Results for r3c4.png                   (roi     - unet     - 0.62 accuracy)\n",
      "Results for r3c5.png                   (roi     - unet     - 0.74 accuracy)\n",
      "Results for r3c6.png                   (roi     - unet     - 0.90 accuracy)\n",
      "Results for r4c0.png                   (roi     - unet     - 0.96 accuracy)\n",
      "Results for r4c1.png                   (roi     - unet     - 0.85 accuracy)\n",
      "Results for r4c2.png                   (roi     - unet     - 0.92 accuracy)\n",
      "Results for r4c3.png                   (roi     - unet     - 0.65 accuracy)\n",
      "Results for r4c4.png                   (roi     - unet     - 0.93 accuracy)\n",
      "Results for r4c5.png                   (roi     - unet     - 0.75 accuracy)\n",
      "Results for r4c6.png                   (roi     - unet     - 0.97 accuracy)\n",
      "Results for r5c0.png                   (roi     - unet     - 0.89 accuracy)\n",
      "Results for r5c1.png                   (roi     - unet     - 0.63 accuracy)\n",
      "Results for r5c2.png                   (roi     - unet     - 0.55 accuracy)\n",
      "Results for r5c3.png                   (roi     - unet     - 0.56 accuracy)\n",
      "Results for r5c4.png                   (roi     - unet     - 0.48 accuracy)\n",
      "Results for r5c5.png                   (roi     - unet     - 0.66 accuracy)\n",
      "Results for r5c6.png                   (roi     - unet     - 0.97 accuracy)\n"
     ]
    },
    {
     "name": "stderr",
     "output_type": "stream",
     "text": [
      "/home/dalifreire/.local/lib/python3.8/site-packages/sklearn/metrics/_classification.py:1221: UndefinedMetricWarning: Precision is ill-defined and being set to 0.0 due to no predicted samples. Use `zero_division` parameter to control this behavior.\n",
      "  _warn_prf(average, modifier, msg_start, len(result))\n"
     ]
    },
    {
     "name": "stdout",
     "output_type": "stream",
     "text": [
      "Results for r6c1.png                   (roi     - unet     - 0.85 accuracy)\n",
      "Results for r6c2.png                   (roi     - unet     - 0.76 accuracy)\n",
      "Results for r6c3.png                   (roi     - unet     - 0.74 accuracy)\n"
     ]
    },
    {
     "name": "stderr",
     "output_type": "stream",
     "text": [
      "/home/dalifreire/.local/lib/python3.8/site-packages/sklearn/metrics/_classification.py:1221: UndefinedMetricWarning: Precision is ill-defined and being set to 0.0 due to no predicted samples. Use `zero_division` parameter to control this behavior.\n",
      "  _warn_prf(average, modifier, msg_start, len(result))\n"
     ]
    },
    {
     "name": "stdout",
     "output_type": "stream",
     "text": [
      "Results for r6c5.png                   (roi     - unet     - 0.95 accuracy)\n"
     ]
    },
    {
     "name": "stderr",
     "output_type": "stream",
     "text": [
      "/home/dalifreire/.local/lib/python3.8/site-packages/sklearn/metrics/_classification.py:1221: UndefinedMetricWarning: Recall is ill-defined and being set to 0.0 due to no true samples. Use `zero_division` parameter to control this behavior.\n",
      "  _warn_prf(average, modifier, msg_start, len(result))\n",
      "/home/dalifreire/.local/lib/python3.8/site-packages/sklearn/metrics/_classification.py:1464: UndefinedMetricWarning: F-score is ill-defined and being set to 0.0 due to no true nor predicted samples. Use `zero_division` parameter to control this behavior.\n",
      "  _warn_prf(\n",
      "/home/dalifreire/.local/lib/python3.8/site-packages/sklearn/metrics/_classification.py:1221: UndefinedMetricWarning: Jaccard is ill-defined and being set to 0.0 due to no true or predicted samples. Use `zero_division` parameter to control this behavior.\n",
      "  _warn_prf(average, modifier, msg_start, len(result))\n"
     ]
    },
    {
     "name": "stdout",
     "output_type": "stream",
     "text": [
      "Results for r0c1.png                   (non_roi - unet     - 1.00 accuracy)\n",
      "Results for r0c2.png                   (non_roi - unet     - 1.00 accuracy)\n",
      "Results for r0c3.png                   (non_roi - unet     - 1.00 accuracy)\n",
      "Results for r0c4.png                   (non_roi - unet     - 1.00 accuracy)\n",
      "Results for r0c5.png                   (non_roi - unet     - 1.00 accuracy)\n",
      "Results for r1c1.png                   (non_roi - unet     - 1.00 accuracy)\n",
      "Results for r1c6.png                   (non_roi - unet     - 1.00 accuracy)\n",
      "Results for r6c4.png                   (non_roi - unet     - 0.39 accuracy)\n"
     ]
    },
    {
     "name": "stderr",
     "output_type": "stream",
     "text": [
      "2021-06-04 01:05:40,991 :: INFO extract_normal_region_from_wsi :: \t Extracting normal regions from wsi image: 'TCGA-CN-4736-01Z-00-DX1.883fda2c-82bd-46c1-b220-b9961d8700cc_0.png'\n"
     ]
    },
    {
     "name": "stdout",
     "output_type": "stream",
     "text": [
      "Results for r0c1.png                   (roi     - unet     - 0.72 accuracy)\n",
      "Results for r0c2.png                   (roi     - unet     - 0.61 accuracy)\n",
      "Results for r0c3.png                   (roi     - unet     - 0.29 accuracy)\n",
      "Results for r0c4.png                   (roi     - unet     - 0.78 accuracy)\n"
     ]
    },
    {
     "name": "stderr",
     "output_type": "stream",
     "text": [
      "/home/dalifreire/.local/lib/python3.8/site-packages/sklearn/metrics/_classification.py:1221: UndefinedMetricWarning: Precision is ill-defined and being set to 0.0 due to no predicted samples. Use `zero_division` parameter to control this behavior.\n",
      "  _warn_prf(average, modifier, msg_start, len(result))\n"
     ]
    },
    {
     "name": "stdout",
     "output_type": "stream",
     "text": [
      "Results for r0c5.png                   (roi     - unet     - 0.64 accuracy)\n",
      "Results for r1c0.png                   (roi     - unet     - 0.97 accuracy)\n",
      "Results for r1c1.png                   (roi     - unet     - 0.37 accuracy)\n"
     ]
    },
    {
     "name": "stderr",
     "output_type": "stream",
     "text": [
      "/home/dalifreire/.local/lib/python3.8/site-packages/sklearn/metrics/_classification.py:1221: UndefinedMetricWarning: Precision is ill-defined and being set to 0.0 due to no predicted samples. Use `zero_division` parameter to control this behavior.\n",
      "  _warn_prf(average, modifier, msg_start, len(result))\n"
     ]
    },
    {
     "name": "stdout",
     "output_type": "stream",
     "text": [
      "Results for r1c2.png                   (roi     - unet     - 0.17 accuracy)\n",
      "Results for r1c3.png                   (roi     - unet     - 0.08 accuracy)\n",
      "Results for r1c4.png                   (roi     - unet     - 0.83 accuracy)\n",
      "Results for r1c5.png                   (roi     - unet     - 0.88 accuracy)\n",
      "Results for r1c6.png                   (roi     - unet     - 0.64 accuracy)\n",
      "Results for r2c0.png                   (roi     - unet     - 0.82 accuracy)\n",
      "Results for r2c1.png                   (roi     - unet     - 0.84 accuracy)\n",
      "Results for r2c3.png                   (roi     - unet     - 0.73 accuracy)\n",
      "Results for r2c4.png                   (roi     - unet     - 0.09 accuracy)\n",
      "Results for r2c5.png                   (roi     - unet     - 0.81 accuracy)\n",
      "Results for r2c6.png                   (roi     - unet     - 0.94 accuracy)\n",
      "Results for r3c0.png                   (roi     - unet     - 0.69 accuracy)\n"
     ]
    },
    {
     "name": "stderr",
     "output_type": "stream",
     "text": [
      "/home/dalifreire/.local/lib/python3.8/site-packages/sklearn/metrics/_classification.py:1221: UndefinedMetricWarning: Precision is ill-defined and being set to 0.0 due to no predicted samples. Use `zero_division` parameter to control this behavior.\n",
      "  _warn_prf(average, modifier, msg_start, len(result))\n"
     ]
    },
    {
     "name": "stdout",
     "output_type": "stream",
     "text": [
      "Results for r3c1.png                   (roi     - unet     - 0.96 accuracy)\n",
      "Results for r3c2.png                   (roi     - unet     - 0.84 accuracy)\n",
      "Results for r3c3.png                   (roi     - unet     - 0.91 accuracy)\n",
      "Results for r3c4.png                   (roi     - unet     - 0.86 accuracy)\n",
      "Results for r3c5.png                   (roi     - unet     - 0.90 accuracy)\n",
      "Results for r3c6.png                   (roi     - unet     - 0.91 accuracy)\n",
      "Results for r4c0.png                   (roi     - unet     - 0.79 accuracy)\n",
      "Results for r4c1.png                   (roi     - unet     - 0.78 accuracy)\n",
      "Results for r4c2.png                   (roi     - unet     - 0.78 accuracy)\n",
      "Results for r4c3.png                   (roi     - unet     - 0.72 accuracy)\n",
      "Results for r4c4.png                   (roi     - unet     - 0.82 accuracy)\n",
      "Results for r4c5.png                   (roi     - unet     - 0.13 accuracy)\n",
      "Results for r4c6.png                   (roi     - unet     - 0.80 accuracy)\n",
      "Results for r5c0.png                   (roi     - unet     - 0.88 accuracy)\n"
     ]
    },
    {
     "name": "stderr",
     "output_type": "stream",
     "text": [
      "/home/dalifreire/.local/lib/python3.8/site-packages/sklearn/metrics/_classification.py:1221: UndefinedMetricWarning: Precision is ill-defined and being set to 0.0 due to no predicted samples. Use `zero_division` parameter to control this behavior.\n",
      "  _warn_prf(average, modifier, msg_start, len(result))\n"
     ]
    },
    {
     "name": "stdout",
     "output_type": "stream",
     "text": [
      "Results for r5c1.png                   (roi     - unet     - 0.12 accuracy)\n",
      "Results for r5c2.png                   (roi     - unet     - 0.77 accuracy)\n",
      "Results for r5c3.png                   (roi     - unet     - 0.82 accuracy)\n",
      "Results for r5c4.png                   (roi     - unet     - 0.85 accuracy)\n",
      "Results for r5c5.png                   (roi     - unet     - 0.96 accuracy)\n",
      "Results for r5c6.png                   (roi     - unet     - 0.98 accuracy)\n"
     ]
    },
    {
     "name": "stderr",
     "output_type": "stream",
     "text": [
      "/home/dalifreire/.local/lib/python3.8/site-packages/sklearn/metrics/_classification.py:1221: UndefinedMetricWarning: Precision is ill-defined and being set to 0.0 due to no predicted samples. Use `zero_division` parameter to control this behavior.\n",
      "  _warn_prf(average, modifier, msg_start, len(result))\n"
     ]
    },
    {
     "name": "stdout",
     "output_type": "stream",
     "text": [
      "Results for r6c1.png                   (roi     - unet     - 0.65 accuracy)\n",
      "Results for r6c2.png                   (roi     - unet     - 0.90 accuracy)\n"
     ]
    },
    {
     "name": "stderr",
     "output_type": "stream",
     "text": [
      "/home/dalifreire/.local/lib/python3.8/site-packages/sklearn/metrics/_classification.py:1221: UndefinedMetricWarning: Precision is ill-defined and being set to 0.0 due to no predicted samples. Use `zero_division` parameter to control this behavior.\n",
      "  _warn_prf(average, modifier, msg_start, len(result))\n"
     ]
    },
    {
     "name": "stdout",
     "output_type": "stream",
     "text": [
      "Results for r6c3.png                   (roi     - unet     - 0.18 accuracy)\n",
      "Results for r6c4.png                   (roi     - unet     - 0.89 accuracy)\n",
      "Results for r6c5.png                   (roi     - unet     - 0.89 accuracy)\n"
     ]
    },
    {
     "name": "stderr",
     "output_type": "stream",
     "text": [
      "/home/dalifreire/.local/lib/python3.8/site-packages/sklearn/metrics/_classification.py:1221: UndefinedMetricWarning: Precision is ill-defined and being set to 0.0 due to no predicted samples. Use `zero_division` parameter to control this behavior.\n",
      "  _warn_prf(average, modifier, msg_start, len(result))\n",
      "/home/dalifreire/.local/lib/python3.8/site-packages/sklearn/metrics/_classification.py:1221: UndefinedMetricWarning: Recall is ill-defined and being set to 0.0 due to no true samples. Use `zero_division` parameter to control this behavior.\n",
      "  _warn_prf(average, modifier, msg_start, len(result))\n",
      "/home/dalifreire/.local/lib/python3.8/site-packages/sklearn/metrics/_classification.py:1464: UndefinedMetricWarning: F-score is ill-defined and being set to 0.0 due to no true nor predicted samples. Use `zero_division` parameter to control this behavior.\n",
      "  _warn_prf(\n",
      "/home/dalifreire/.local/lib/python3.8/site-packages/sklearn/metrics/_classification.py:1221: UndefinedMetricWarning: Jaccard is ill-defined and being set to 0.0 due to no true or predicted samples. Use `zero_division` parameter to control this behavior.\n",
      "  _warn_prf(average, modifier, msg_start, len(result))\n"
     ]
    },
    {
     "name": "stdout",
     "output_type": "stream",
     "text": [
      "Results for r2c2.png                   (non_roi - unet     - 1.00 accuracy)\n"
     ]
    },
    {
     "name": "stderr",
     "output_type": "stream",
     "text": [
      "2021-06-04 01:08:59,379 :: INFO extract_normal_region_from_wsi :: \t Extracting normal regions from wsi image: 'TCGA-CN-4736-01Z-00-DX1.883fda2c-82bd-46c1-b220-b9961d8700cc_1.png'\n"
     ]
    },
    {
     "name": "stdout",
     "output_type": "stream",
     "text": [
      "Results for r0c1.png                   (roi     - unet     - 0.76 accuracy)\n",
      "Results for r0c2.png                   (roi     - unet     - 0.53 accuracy)\n",
      "Results for r0c3.png                   (roi     - unet     - 0.40 accuracy)\n",
      "Results for r0c4.png                   (roi     - unet     - 0.23 accuracy)\n",
      "Results for r0c5.png                   (roi     - unet     - 0.93 accuracy)\n",
      "Results for r1c1.png                   (roi     - unet     - 0.63 accuracy)\n"
     ]
    },
    {
     "name": "stderr",
     "output_type": "stream",
     "text": [
      "/home/dalifreire/.local/lib/python3.8/site-packages/sklearn/metrics/_classification.py:1221: UndefinedMetricWarning: Precision is ill-defined and being set to 0.0 due to no predicted samples. Use `zero_division` parameter to control this behavior.\n",
      "  _warn_prf(average, modifier, msg_start, len(result))\n"
     ]
    },
    {
     "name": "stdout",
     "output_type": "stream",
     "text": [
      "Results for r1c2.png                   (roi     - unet     - 0.25 accuracy)\n",
      "Results for r1c3.png                   (roi     - unet     - 0.09 accuracy)\n",
      "Results for r1c4.png                   (roi     - unet     - 0.92 accuracy)\n",
      "Results for r1c5.png                   (roi     - unet     - 0.97 accuracy)\n",
      "Results for r1c6.png                   (roi     - unet     - 0.92 accuracy)\n",
      "Results for r2c0.png                   (roi     - unet     - 0.76 accuracy)\n",
      "Results for r2c1.png                   (roi     - unet     - 0.96 accuracy)\n",
      "Results for r2c3.png                   (roi     - unet     - 0.83 accuracy)\n",
      "Results for r2c4.png                   (roi     - unet     - 0.81 accuracy)\n",
      "Results for r2c5.png                   (roi     - unet     - 0.78 accuracy)\n",
      "Results for r2c6.png                   (roi     - unet     - 0.88 accuracy)\n",
      "Results for r3c0.png                   (roi     - unet     - 0.77 accuracy)\n"
     ]
    },
    {
     "name": "stderr",
     "output_type": "stream",
     "text": [
      "/home/dalifreire/.local/lib/python3.8/site-packages/sklearn/metrics/_classification.py:1221: UndefinedMetricWarning: Precision is ill-defined and being set to 0.0 due to no predicted samples. Use `zero_division` parameter to control this behavior.\n",
      "  _warn_prf(average, modifier, msg_start, len(result))\n"
     ]
    },
    {
     "name": "stdout",
     "output_type": "stream",
     "text": [
      "Results for r3c1.png                   (roi     - unet     - 0.95 accuracy)\n",
      "Results for r3c2.png                   (roi     - unet     - 0.87 accuracy)\n",
      "Results for r3c3.png                   (roi     - unet     - 0.92 accuracy)\n",
      "Results for r3c4.png                   (roi     - unet     - 0.73 accuracy)\n",
      "Results for r3c5.png                   (roi     - unet     - 0.88 accuracy)\n",
      "Results for r3c6.png                   (roi     - unet     - 0.88 accuracy)\n",
      "Results for r4c0.png                   (roi     - unet     - 0.30 accuracy)\n",
      "Results for r4c1.png                   (roi     - unet     - 0.78 accuracy)\n",
      "Results for r4c2.png                   (roi     - unet     - 0.75 accuracy)\n",
      "Results for r4c3.png                   (roi     - unet     - 0.84 accuracy)\n",
      "Results for r4c4.png                   (roi     - unet     - 0.88 accuracy)\n",
      "Results for r4c5.png                   (roi     - unet     - 0.94 accuracy)\n",
      "Results for r4c6.png                   (roi     - unet     - 0.73 accuracy)\n",
      "Results for r5c0.png                   (roi     - unet     - 0.90 accuracy)\n",
      "Results for r5c1.png                   (roi     - unet     - 0.27 accuracy)\n",
      "Results for r5c2.png                   (roi     - unet     - 0.69 accuracy)\n",
      "Results for r5c3.png                   (roi     - unet     - 0.88 accuracy)\n",
      "Results for r5c4.png                   (roi     - unet     - 0.79 accuracy)\n",
      "Results for r5c5.png                   (roi     - unet     - 0.97 accuracy)\n",
      "Results for r5c6.png                   (roi     - unet     - 0.97 accuracy)\n"
     ]
    },
    {
     "name": "stderr",
     "output_type": "stream",
     "text": [
      "/home/dalifreire/.local/lib/python3.8/site-packages/sklearn/metrics/_classification.py:1221: UndefinedMetricWarning: Precision is ill-defined and being set to 0.0 due to no predicted samples. Use `zero_division` parameter to control this behavior.\n",
      "  _warn_prf(average, modifier, msg_start, len(result))\n"
     ]
    },
    {
     "name": "stdout",
     "output_type": "stream",
     "text": [
      "Results for r6c1.png                   (roi     - unet     - 0.67 accuracy)\n",
      "Results for r6c2.png                   (roi     - unet     - 0.77 accuracy)\n"
     ]
    },
    {
     "name": "stderr",
     "output_type": "stream",
     "text": [
      "/home/dalifreire/.local/lib/python3.8/site-packages/sklearn/metrics/_classification.py:1221: UndefinedMetricWarning: Precision is ill-defined and being set to 0.0 due to no predicted samples. Use `zero_division` parameter to control this behavior.\n",
      "  _warn_prf(average, modifier, msg_start, len(result))\n"
     ]
    },
    {
     "name": "stdout",
     "output_type": "stream",
     "text": [
      "Results for r6c3.png                   (roi     - unet     - 0.19 accuracy)\n",
      "Results for r6c4.png                   (roi     - unet     - 0.78 accuracy)\n"
     ]
    },
    {
     "name": "stderr",
     "output_type": "stream",
     "text": [
      "/home/dalifreire/.local/lib/python3.8/site-packages/sklearn/metrics/_classification.py:1221: UndefinedMetricWarning: Precision is ill-defined and being set to 0.0 due to no predicted samples. Use `zero_division` parameter to control this behavior.\n",
      "  _warn_prf(average, modifier, msg_start, len(result))\n"
     ]
    },
    {
     "name": "stdout",
     "output_type": "stream",
     "text": [
      "Results for r6c5.png                   (roi     - unet     - 0.65 accuracy)\n"
     ]
    },
    {
     "name": "stderr",
     "output_type": "stream",
     "text": [
      "/home/dalifreire/.local/lib/python3.8/site-packages/sklearn/metrics/_classification.py:1221: UndefinedMetricWarning: Recall is ill-defined and being set to 0.0 due to no true samples. Use `zero_division` parameter to control this behavior.\n",
      "  _warn_prf(average, modifier, msg_start, len(result))\n",
      "/home/dalifreire/.local/lib/python3.8/site-packages/sklearn/metrics/_classification.py:1464: UndefinedMetricWarning: F-score is ill-defined and being set to 0.0 due to no true nor predicted samples. Use `zero_division` parameter to control this behavior.\n",
      "  _warn_prf(\n",
      "/home/dalifreire/.local/lib/python3.8/site-packages/sklearn/metrics/_classification.py:1221: UndefinedMetricWarning: Jaccard is ill-defined and being set to 0.0 due to no true or predicted samples. Use `zero_division` parameter to control this behavior.\n",
      "  _warn_prf(average, modifier, msg_start, len(result))\n"
     ]
    },
    {
     "name": "stdout",
     "output_type": "stream",
     "text": [
      "Results for r1c0.png                   (non_roi - unet     - 1.00 accuracy)\n",
      "Results for r2c2.png                   (non_roi - unet     - 1.00 accuracy)\n"
     ]
    },
    {
     "name": "stderr",
     "output_type": "stream",
     "text": [
      "2021-06-04 01:12:17,799 :: INFO extract_normal_region_from_wsi :: \t Extracting normal regions from wsi image: 'TCGA-CN-4737-01Z-00-DX1.15951662-62c1-49e1-94ea-1f4ebad55507_0.png'\n"
     ]
    },
    {
     "name": "stdout",
     "output_type": "stream",
     "text": [
      "Results for r0c5.png                   (roi     - unet     - 0.76 accuracy)\n",
      "Results for r1c4.png                   (roi     - unet     - 0.47 accuracy)\n",
      "Results for r1c5.png                   (roi     - unet     - 0.59 accuracy)\n",
      "Results for r1c6.png                   (roi     - unet     - 0.96 accuracy)\n",
      "Results for r2c2.png                   (roi     - unet     - 0.63 accuracy)\n",
      "Results for r2c3.png                   (roi     - unet     - 0.92 accuracy)\n",
      "Results for r2c4.png                   (roi     - unet     - 0.89 accuracy)\n",
      "Results for r2c5.png                   (roi     - unet     - 0.91 accuracy)\n",
      "Results for r2c6.png                   (roi     - unet     - 0.97 accuracy)\n",
      "Results for r3c1.png                   (roi     - unet     - 0.51 accuracy)\n",
      "Results for r3c2.png                   (roi     - unet     - 0.85 accuracy)\n",
      "Results for r3c3.png                   (roi     - unet     - 0.88 accuracy)\n",
      "Results for r3c4.png                   (roi     - unet     - 0.96 accuracy)\n",
      "Results for r3c5.png                   (roi     - unet     - 0.92 accuracy)\n",
      "Results for r3c6.png                   (roi     - unet     - 0.74 accuracy)\n",
      "Results for r4c1.png                   (roi     - unet     - 0.61 accuracy)\n",
      "Results for r4c2.png                   (roi     - unet     - 0.82 accuracy)\n",
      "Results for r4c3.png                   (roi     - unet     - 0.83 accuracy)\n",
      "Results for r4c4.png                   (roi     - unet     - 0.88 accuracy)\n",
      "Results for r4c5.png                   (roi     - unet     - 0.93 accuracy)\n",
      "Results for r4c6.png                   (roi     - unet     - 0.84 accuracy)\n",
      "Results for r5c1.png                   (roi     - unet     - 0.85 accuracy)\n",
      "Results for r5c2.png                   (roi     - unet     - 0.88 accuracy)\n",
      "Results for r5c3.png                   (roi     - unet     - 0.76 accuracy)\n",
      "Results for r5c4.png                   (roi     - unet     - 0.90 accuracy)\n",
      "Results for r5c5.png                   (roi     - unet     - 0.99 accuracy)\n"
     ]
    },
    {
     "name": "stderr",
     "output_type": "stream",
     "text": [
      "/home/dalifreire/.local/lib/python3.8/site-packages/sklearn/metrics/_classification.py:1221: UndefinedMetricWarning: Precision is ill-defined and being set to 0.0 due to no predicted samples. Use `zero_division` parameter to control this behavior.\n",
      "  _warn_prf(average, modifier, msg_start, len(result))\n"
     ]
    },
    {
     "name": "stdout",
     "output_type": "stream",
     "text": [
      "Results for r5c6.png                   (roi     - unet     - 0.62 accuracy)\n",
      "Results for r6c1.png                   (roi     - unet     - 0.90 accuracy)\n",
      "Results for r6c2.png                   (roi     - unet     - 0.95 accuracy)\n",
      "Results for r6c3.png                   (roi     - unet     - 0.85 accuracy)\n",
      "Results for r6c4.png                   (roi     - unet     - 0.87 accuracy)\n",
      "Results for r6c5.png                   (roi     - unet     - 0.97 accuracy)\n"
     ]
    },
    {
     "name": "stderr",
     "output_type": "stream",
     "text": [
      "/home/dalifreire/.local/lib/python3.8/site-packages/sklearn/metrics/_classification.py:1221: UndefinedMetricWarning: Precision is ill-defined and being set to 0.0 due to no predicted samples. Use `zero_division` parameter to control this behavior.\n",
      "  _warn_prf(average, modifier, msg_start, len(result))\n",
      "/home/dalifreire/.local/lib/python3.8/site-packages/sklearn/metrics/_classification.py:1221: UndefinedMetricWarning: Recall is ill-defined and being set to 0.0 due to no true samples. Use `zero_division` parameter to control this behavior.\n",
      "  _warn_prf(average, modifier, msg_start, len(result))\n",
      "/home/dalifreire/.local/lib/python3.8/site-packages/sklearn/metrics/_classification.py:1464: UndefinedMetricWarning: F-score is ill-defined and being set to 0.0 due to no true nor predicted samples. Use `zero_division` parameter to control this behavior.\n",
      "  _warn_prf(\n",
      "/home/dalifreire/.local/lib/python3.8/site-packages/sklearn/metrics/_classification.py:1221: UndefinedMetricWarning: Jaccard is ill-defined and being set to 0.0 due to no true or predicted samples. Use `zero_division` parameter to control this behavior.\n",
      "  _warn_prf(average, modifier, msg_start, len(result))\n"
     ]
    },
    {
     "name": "stdout",
     "output_type": "stream",
     "text": [
      "Results for r0c1.png                   (non_roi - unet     - 1.00 accuracy)\n",
      "Results for r0c2.png                   (non_roi - unet     - 1.00 accuracy)\n",
      "Results for r0c3.png                   (non_roi - unet     - 0.51 accuracy)\n",
      "Results for r0c4.png                   (non_roi - unet     - 0.29 accuracy)\n",
      "Results for r1c0.png                   (non_roi - unet     - 0.78 accuracy)\n",
      "Results for r1c1.png                   (non_roi - unet     - 0.15 accuracy)\n",
      "Results for r1c2.png                   (non_roi - unet     - 0.47 accuracy)\n",
      "Results for r1c3.png                   (non_roi - unet     - 0.21 accuracy)\n",
      "Results for r2c0.png                   (non_roi - unet     - 0.37 accuracy)\n",
      "Results for r2c1.png                   (non_roi - unet     - 0.85 accuracy)\n",
      "Results for r3c0.png                   (non_roi - unet     - 0.20 accuracy)\n",
      "Results for r4c0.png                   (non_roi - unet     - 0.76 accuracy)\n",
      "Results for r5c0.png                   (non_roi - unet     - 1.00 accuracy)\n"
     ]
    },
    {
     "name": "stderr",
     "output_type": "stream",
     "text": [
      "2021-06-04 01:15:36,128 :: INFO extract_normal_region_from_wsi :: \t Extracting normal regions from wsi image: 'TCGA-CN-4737-01Z-00-DX1.15951662-62c1-49e1-94ea-1f4ebad55507_1.png'\n"
     ]
    },
    {
     "name": "stdout",
     "output_type": "stream",
     "text": [
      "Results for r0c3.png                   (roi     - unet     - 0.72 accuracy)\n",
      "Results for r0c4.png                   (roi     - unet     - 0.99 accuracy)\n"
     ]
    },
    {
     "name": "stderr",
     "output_type": "stream",
     "text": [
      "/home/dalifreire/.local/lib/python3.8/site-packages/sklearn/metrics/_classification.py:1221: UndefinedMetricWarning: Precision is ill-defined and being set to 0.0 due to no predicted samples. Use `zero_division` parameter to control this behavior.\n",
      "  _warn_prf(average, modifier, msg_start, len(result))\n"
     ]
    },
    {
     "name": "stdout",
     "output_type": "stream",
     "text": [
      "Results for r0c5.png                   (roi     - unet     - 0.65 accuracy)\n",
      "Results for r1c3.png                   (roi     - unet     - 0.86 accuracy)\n",
      "Results for r1c4.png                   (roi     - unet     - 0.95 accuracy)\n",
      "Results for r1c5.png                   (roi     - unet     - 0.97 accuracy)\n"
     ]
    },
    {
     "name": "stderr",
     "output_type": "stream",
     "text": [
      "/home/dalifreire/.local/lib/python3.8/site-packages/sklearn/metrics/_classification.py:1221: UndefinedMetricWarning: Precision is ill-defined and being set to 0.0 due to no predicted samples. Use `zero_division` parameter to control this behavior.\n",
      "  _warn_prf(average, modifier, msg_start, len(result))\n"
     ]
    },
    {
     "name": "stdout",
     "output_type": "stream",
     "text": [
      "Results for r1c6.png                   (roi     - unet     - 0.63 accuracy)\n",
      "Results for r2c2.png                   (roi     - unet     - 0.79 accuracy)\n",
      "Results for r2c3.png                   (roi     - unet     - 0.93 accuracy)\n",
      "Results for r2c4.png                   (roi     - unet     - 0.95 accuracy)\n",
      "Results for r2c5.png                   (roi     - unet     - 0.96 accuracy)\n",
      "Results for r2c6.png                   (roi     - unet     - 0.99 accuracy)\n",
      "Results for r3c3.png                   (roi     - unet     - 0.92 accuracy)\n",
      "Results for r3c4.png                   (roi     - unet     - 0.95 accuracy)\n",
      "Results for r3c5.png                   (roi     - unet     - 0.96 accuracy)\n",
      "Results for r3c6.png                   (roi     - unet     - 0.95 accuracy)\n",
      "Results for r4c2.png                   (roi     - unet     - 0.97 accuracy)\n",
      "Results for r4c3.png                   (roi     - unet     - 0.83 accuracy)\n",
      "Results for r4c4.png                   (roi     - unet     - 0.95 accuracy)\n",
      "Results for r4c5.png                   (roi     - unet     - 0.94 accuracy)\n",
      "Results for r4c6.png                   (roi     - unet     - 0.97 accuracy)\n",
      "Results for r5c2.png                   (roi     - unet     - 0.85 accuracy)\n",
      "Results for r5c3.png                   (roi     - unet     - 0.94 accuracy)\n",
      "Results for r5c4.png                   (roi     - unet     - 0.94 accuracy)\n",
      "Results for r5c5.png                   (roi     - unet     - 0.90 accuracy)\n",
      "Results for r5c6.png                   (roi     - unet     - 0.99 accuracy)\n",
      "Results for r6c4.png                   (roi     - unet     - 0.86 accuracy)\n",
      "Results for r6c5.png                   (roi     - unet     - 0.98 accuracy)\n"
     ]
    },
    {
     "name": "stderr",
     "output_type": "stream",
     "text": [
      "/home/dalifreire/.local/lib/python3.8/site-packages/sklearn/metrics/_classification.py:1221: UndefinedMetricWarning: Precision is ill-defined and being set to 0.0 due to no predicted samples. Use `zero_division` parameter to control this behavior.\n",
      "  _warn_prf(average, modifier, msg_start, len(result))\n",
      "/home/dalifreire/.local/lib/python3.8/site-packages/sklearn/metrics/_classification.py:1221: UndefinedMetricWarning: Recall is ill-defined and being set to 0.0 due to no true samples. Use `zero_division` parameter to control this behavior.\n",
      "  _warn_prf(average, modifier, msg_start, len(result))\n",
      "/home/dalifreire/.local/lib/python3.8/site-packages/sklearn/metrics/_classification.py:1464: UndefinedMetricWarning: F-score is ill-defined and being set to 0.0 due to no true nor predicted samples. Use `zero_division` parameter to control this behavior.\n",
      "  _warn_prf(\n",
      "/home/dalifreire/.local/lib/python3.8/site-packages/sklearn/metrics/_classification.py:1221: UndefinedMetricWarning: Jaccard is ill-defined and being set to 0.0 due to no true or predicted samples. Use `zero_division` parameter to control this behavior.\n",
      "  _warn_prf(average, modifier, msg_start, len(result))\n"
     ]
    },
    {
     "name": "stdout",
     "output_type": "stream",
     "text": [
      "Results for r0c1.png                   (non_roi - unet     - 1.00 accuracy)\n",
      "Results for r0c2.png                   (non_roi - unet     - 1.00 accuracy)\n",
      "Results for r1c0.png                   (non_roi - unet     - 1.00 accuracy)\n",
      "Results for r1c1.png                   (non_roi - unet     - 0.38 accuracy)\n",
      "Results for r1c2.png                   (non_roi - unet     - 0.36 accuracy)\n",
      "Results for r2c0.png                   (non_roi - unet     - 0.86 accuracy)\n",
      "Results for r2c1.png                   (non_roi - unet     - 0.72 accuracy)\n",
      "Results for r3c0.png                   (non_roi - unet     - 0.41 accuracy)\n",
      "Results for r3c1.png                   (non_roi - unet     - 0.92 accuracy)\n",
      "Results for r3c2.png                   (non_roi - unet     - 1.00 accuracy)\n",
      "Results for r4c0.png                   (non_roi - unet     - 1.00 accuracy)\n",
      "Results for r4c1.png                   (non_roi - unet     - 0.97 accuracy)\n",
      "Results for r5c0.png                   (non_roi - unet     - 1.00 accuracy)\n",
      "Results for r5c1.png                   (non_roi - unet     - 1.00 accuracy)\n",
      "Results for r6c1.png                   (non_roi - unet     - 1.00 accuracy)\n",
      "Results for r6c2.png                   (non_roi - unet     - 0.85 accuracy)\n",
      "Results for r6c3.png                   (non_roi - unet     - 1.00 accuracy)\n"
     ]
    },
    {
     "name": "stderr",
     "output_type": "stream",
     "text": [
      "2021-06-04 01:18:52,286 :: INFO extract_normal_region_from_wsi :: \t Extracting normal regions from wsi image: 'TCGA-CN-4738-01Z-00-DX1.9c456d54-0bde-4f04-ba53-17c09e692491_0.png'\n"
     ]
    },
    {
     "name": "stdout",
     "output_type": "stream",
     "text": [
      "Results for r1c2.png                   (roi     - unet     - 0.87 accuracy)\n",
      "Results for r1c3.png                   (roi     - unet     - 0.89 accuracy)\n",
      "Results for r1c4.png                   (roi     - unet     - 0.85 accuracy)\n",
      "Results for r1c5.png                   (roi     - unet     - 0.89 accuracy)\n",
      "Results for r1c6.png                   (roi     - unet     - 0.93 accuracy)\n",
      "Results for r2c0.png                   (roi     - unet     - 0.84 accuracy)\n",
      "Results for r2c1.png                   (roi     - unet     - 0.95 accuracy)\n",
      "Results for r2c2.png                   (roi     - unet     - 0.95 accuracy)\n",
      "Results for r2c3.png                   (roi     - unet     - 0.94 accuracy)\n",
      "Results for r2c4.png                   (roi     - unet     - 0.67 accuracy)\n",
      "Results for r2c5.png                   (roi     - unet     - 0.61 accuracy)\n",
      "Results for r2c6.png                   (roi     - unet     - 0.86 accuracy)\n",
      "Results for r3c0.png                   (roi     - unet     - 0.77 accuracy)\n",
      "Results for r3c1.png                   (roi     - unet     - 0.95 accuracy)\n",
      "Results for r3c2.png                   (roi     - unet     - 0.37 accuracy)\n",
      "Results for r3c3.png                   (roi     - unet     - 0.89 accuracy)\n",
      "Results for r3c4.png                   (roi     - unet     - 0.78 accuracy)\n",
      "Results for r3c6.png                   (roi     - unet     - 0.71 accuracy)\n",
      "Results for r4c0.png                   (roi     - unet     - 0.97 accuracy)\n",
      "Results for r4c1.png                   (roi     - unet     - 0.92 accuracy)\n",
      "Results for r4c2.png                   (roi     - unet     - 0.48 accuracy)\n",
      "Results for r4c3.png                   (roi     - unet     - 0.95 accuracy)\n",
      "Results for r4c4.png                   (roi     - unet     - 0.96 accuracy)\n",
      "Results for r4c5.png                   (roi     - unet     - 0.66 accuracy)\n",
      "Results for r4c6.png                   (roi     - unet     - 0.83 accuracy)\n",
      "Results for r5c1.png                   (roi     - unet     - 0.95 accuracy)\n",
      "Results for r5c2.png                   (roi     - unet     - 0.94 accuracy)\n",
      "Results for r5c3.png                   (roi     - unet     - 0.97 accuracy)\n",
      "Results for r5c4.png                   (roi     - unet     - 0.95 accuracy)\n",
      "Results for r5c5.png                   (roi     - unet     - 0.80 accuracy)\n",
      "Results for r5c6.png                   (roi     - unet     - 0.99 accuracy)\n",
      "Results for r6c1.png                   (roi     - unet     - 0.98 accuracy)\n",
      "Results for r6c2.png                   (roi     - unet     - 0.96 accuracy)\n",
      "Results for r6c3.png                   (roi     - unet     - 0.97 accuracy)\n",
      "Results for r6c4.png                   (roi     - unet     - 0.97 accuracy)\n",
      "Results for r6c5.png                   (roi     - unet     - 0.98 accuracy)\n"
     ]
    },
    {
     "name": "stderr",
     "output_type": "stream",
     "text": [
      "/home/dalifreire/.local/lib/python3.8/site-packages/sklearn/metrics/_classification.py:1221: UndefinedMetricWarning: Recall is ill-defined and being set to 0.0 due to no true samples. Use `zero_division` parameter to control this behavior.\n",
      "  _warn_prf(average, modifier, msg_start, len(result))\n"
     ]
    },
    {
     "name": "stdout",
     "output_type": "stream",
     "text": [
      "Results for r0c1.png                   (non_roi - unet     - 0.71 accuracy)\n"
     ]
    },
    {
     "name": "stderr",
     "output_type": "stream",
     "text": [
      "/home/dalifreire/.local/lib/python3.8/site-packages/sklearn/metrics/_classification.py:1221: UndefinedMetricWarning: Precision is ill-defined and being set to 0.0 due to no predicted samples. Use `zero_division` parameter to control this behavior.\n",
      "  _warn_prf(average, modifier, msg_start, len(result))\n",
      "/home/dalifreire/.local/lib/python3.8/site-packages/sklearn/metrics/_classification.py:1464: UndefinedMetricWarning: F-score is ill-defined and being set to 0.0 due to no true nor predicted samples. Use `zero_division` parameter to control this behavior.\n",
      "  _warn_prf(\n",
      "/home/dalifreire/.local/lib/python3.8/site-packages/sklearn/metrics/_classification.py:1221: UndefinedMetricWarning: Jaccard is ill-defined and being set to 0.0 due to no true or predicted samples. Use `zero_division` parameter to control this behavior.\n",
      "  _warn_prf(average, modifier, msg_start, len(result))\n"
     ]
    },
    {
     "name": "stdout",
     "output_type": "stream",
     "text": [
      "Results for r0c2.png                   (non_roi - unet     - 1.00 accuracy)\n",
      "Results for r0c3.png                   (non_roi - unet     - 1.00 accuracy)\n",
      "Results for r0c4.png                   (non_roi - unet     - 1.00 accuracy)\n",
      "Results for r0c5.png                   (non_roi - unet     - 1.00 accuracy)\n",
      "Results for r1c0.png                   (non_roi - unet     - 0.96 accuracy)\n",
      "Results for r1c1.png                   (non_roi - unet     - 0.32 accuracy)\n",
      "Results for r3c5.png                   (non_roi - unet     - 0.40 accuracy)\n",
      "Results for r5c0.png                   (non_roi - unet     - 1.00 accuracy)\n"
     ]
    },
    {
     "name": "stderr",
     "output_type": "stream",
     "text": [
      "2021-06-04 01:22:09,933 :: INFO extract_normal_region_from_wsi :: \t Extracting normal regions from wsi image: 'TCGA-CN-4738-01Z-00-DX1.9c456d54-0bde-4f04-ba53-17c09e692491_1.png'\n"
     ]
    },
    {
     "name": "stdout",
     "output_type": "stream",
     "text": [
      "Results for r1c0.png                   (roi     - unet     - 0.89 accuracy)\n"
     ]
    },
    {
     "name": "stderr",
     "output_type": "stream",
     "text": [
      "/home/dalifreire/.local/lib/python3.8/site-packages/sklearn/metrics/_classification.py:1221: UndefinedMetricWarning: Precision is ill-defined and being set to 0.0 due to no predicted samples. Use `zero_division` parameter to control this behavior.\n",
      "  _warn_prf(average, modifier, msg_start, len(result))\n"
     ]
    },
    {
     "name": "stdout",
     "output_type": "stream",
     "text": [
      "Results for r1c1.png                   (roi     - unet     - 0.29 accuracy)\n",
      "Results for r1c2.png                   (roi     - unet     - 0.80 accuracy)\n"
     ]
    },
    {
     "name": "stderr",
     "output_type": "stream",
     "text": [
      "/home/dalifreire/.local/lib/python3.8/site-packages/sklearn/metrics/_classification.py:1221: UndefinedMetricWarning: Precision is ill-defined and being set to 0.0 due to no predicted samples. Use `zero_division` parameter to control this behavior.\n",
      "  _warn_prf(average, modifier, msg_start, len(result))\n"
     ]
    },
    {
     "name": "stdout",
     "output_type": "stream",
     "text": [
      "Results for r1c3.png                   (roi     - unet     - 0.95 accuracy)\n",
      "Results for r1c4.png                   (roi     - unet     - 0.86 accuracy)\n",
      "Results for r1c5.png                   (roi     - unet     - 0.90 accuracy)\n",
      "Results for r2c0.png                   (roi     - unet     - 0.81 accuracy)\n",
      "Results for r2c1.png                   (roi     - unet     - 0.97 accuracy)\n",
      "Results for r2c2.png                   (roi     - unet     - 0.90 accuracy)\n",
      "Results for r2c3.png                   (roi     - unet     - 0.52 accuracy)\n",
      "Results for r2c4.png                   (roi     - unet     - 0.78 accuracy)\n",
      "Results for r3c0.png                   (roi     - unet     - 0.74 accuracy)\n",
      "Results for r3c1.png                   (roi     - unet     - 0.94 accuracy)\n",
      "Results for r3c2.png                   (roi     - unet     - 0.63 accuracy)\n",
      "Results for r3c3.png                   (roi     - unet     - 0.57 accuracy)\n",
      "Results for r3c4.png                   (roi     - unet     - 0.94 accuracy)\n",
      "Results for r3c5.png                   (roi     - unet     - 0.22 accuracy)\n",
      "Results for r3c6.png                   (roi     - unet     - 0.90 accuracy)\n",
      "Results for r4c0.png                   (roi     - unet     - 0.77 accuracy)\n",
      "Results for r4c1.png                   (roi     - unet     - 0.52 accuracy)\n",
      "Results for r4c2.png                   (roi     - unet     - 0.95 accuracy)\n",
      "Results for r4c3.png                   (roi     - unet     - 0.85 accuracy)\n",
      "Results for r4c4.png                   (roi     - unet     - 0.45 accuracy)\n",
      "Results for r4c5.png                   (roi     - unet     - 0.60 accuracy)\n",
      "Results for r4c6.png                   (roi     - unet     - 0.93 accuracy)\n",
      "Results for r5c1.png                   (roi     - unet     - 0.77 accuracy)\n",
      "Results for r5c2.png                   (roi     - unet     - 0.98 accuracy)\n",
      "Results for r5c3.png                   (roi     - unet     - 0.98 accuracy)\n",
      "Results for r5c4.png                   (roi     - unet     - 0.49 accuracy)\n",
      "Results for r5c5.png                   (roi     - unet     - 0.88 accuracy)\n",
      "Results for r5c6.png                   (roi     - unet     - 0.84 accuracy)\n",
      "Results for r6c1.png                   (roi     - unet     - 0.83 accuracy)\n",
      "Results for r6c2.png                   (roi     - unet     - 0.74 accuracy)\n",
      "Results for r6c3.png                   (roi     - unet     - 0.80 accuracy)\n",
      "Results for r6c4.png                   (roi     - unet     - 0.75 accuracy)\n",
      "Results for r6c5.png                   (roi     - unet     - 0.77 accuracy)\n"
     ]
    },
    {
     "name": "stderr",
     "output_type": "stream",
     "text": [
      "/home/dalifreire/.local/lib/python3.8/site-packages/sklearn/metrics/_classification.py:1221: UndefinedMetricWarning: Precision is ill-defined and being set to 0.0 due to no predicted samples. Use `zero_division` parameter to control this behavior.\n",
      "  _warn_prf(average, modifier, msg_start, len(result))\n",
      "/home/dalifreire/.local/lib/python3.8/site-packages/sklearn/metrics/_classification.py:1221: UndefinedMetricWarning: Recall is ill-defined and being set to 0.0 due to no true samples. Use `zero_division` parameter to control this behavior.\n",
      "  _warn_prf(average, modifier, msg_start, len(result))\n",
      "/home/dalifreire/.local/lib/python3.8/site-packages/sklearn/metrics/_classification.py:1464: UndefinedMetricWarning: F-score is ill-defined and being set to 0.0 due to no true nor predicted samples. Use `zero_division` parameter to control this behavior.\n",
      "  _warn_prf(\n",
      "/home/dalifreire/.local/lib/python3.8/site-packages/sklearn/metrics/_classification.py:1221: UndefinedMetricWarning: Jaccard is ill-defined and being set to 0.0 due to no true or predicted samples. Use `zero_division` parameter to control this behavior.\n",
      "  _warn_prf(average, modifier, msg_start, len(result))\n"
     ]
    },
    {
     "name": "stdout",
     "output_type": "stream",
     "text": [
      "Results for r0c1.png                   (non_roi - unet     - 1.00 accuracy)\n",
      "Results for r0c2.png                   (non_roi - unet     - 0.86 accuracy)\n",
      "Results for r0c3.png                   (non_roi - unet     - 1.00 accuracy)\n",
      "Results for r0c4.png                   (non_roi - unet     - 0.92 accuracy)\n",
      "Results for r0c5.png                   (non_roi - unet     - 1.00 accuracy)\n",
      "Results for r1c6.png                   (non_roi - unet     - 1.00 accuracy)\n",
      "Results for r2c5.png                   (non_roi - unet     - 0.98 accuracy)\n",
      "Results for r2c6.png                   (non_roi - unet     - 0.32 accuracy)\n",
      "Results for r5c0.png                   (non_roi - unet     - 0.68 accuracy)\n"
     ]
    },
    {
     "name": "stderr",
     "output_type": "stream",
     "text": [
      "2021-06-04 01:25:25,681 :: INFO extract_normal_region_from_wsi :: \t Extracting normal regions from wsi image: 'TCGA-CN-4739-01Z-00-DX1.e50266c3-606e-4103-a029-021246d4d1df_0.png'\n"
     ]
    },
    {
     "name": "stdout",
     "output_type": "stream",
     "text": [
      "Results for r0c2.png                   (roi     - unet     - 0.86 accuracy)\n",
      "Results for r0c3.png                   (roi     - unet     - 0.91 accuracy)\n",
      "Results for r0c4.png                   (roi     - unet     - 0.70 accuracy)\n",
      "Results for r0c5.png                   (roi     - unet     - 0.95 accuracy)\n"
     ]
    },
    {
     "name": "stderr",
     "output_type": "stream",
     "text": [
      "/home/dalifreire/.local/lib/python3.8/site-packages/sklearn/metrics/_classification.py:1221: UndefinedMetricWarning: Precision is ill-defined and being set to 0.0 due to no predicted samples. Use `zero_division` parameter to control this behavior.\n",
      "  _warn_prf(average, modifier, msg_start, len(result))\n"
     ]
    },
    {
     "name": "stdout",
     "output_type": "stream",
     "text": [
      "Results for r1c0.png                   (roi     - unet     - 0.96 accuracy)\n",
      "Results for r1c1.png                   (roi     - unet     - 0.75 accuracy)\n",
      "Results for r1c2.png                   (roi     - unet     - 0.93 accuracy)\n",
      "Results for r1c3.png                   (roi     - unet     - 0.93 accuracy)\n",
      "Results for r1c4.png                   (roi     - unet     - 0.92 accuracy)\n",
      "Results for r1c5.png                   (roi     - unet     - 0.91 accuracy)\n"
     ]
    },
    {
     "name": "stderr",
     "output_type": "stream",
     "text": [
      "/home/dalifreire/.local/lib/python3.8/site-packages/sklearn/metrics/_classification.py:1221: UndefinedMetricWarning: Precision is ill-defined and being set to 0.0 due to no predicted samples. Use `zero_division` parameter to control this behavior.\n",
      "  _warn_prf(average, modifier, msg_start, len(result))\n"
     ]
    },
    {
     "name": "stdout",
     "output_type": "stream",
     "text": [
      "Results for r1c6.png                   (roi     - unet     - 0.76 accuracy)\n",
      "Results for r2c0.png                   (roi     - unet     - 0.95 accuracy)\n",
      "Results for r2c1.png                   (roi     - unet     - 0.94 accuracy)\n",
      "Results for r2c2.png                   (roi     - unet     - 0.84 accuracy)\n",
      "Results for r2c3.png                   (roi     - unet     - 0.84 accuracy)\n",
      "Results for r2c4.png                   (roi     - unet     - 0.90 accuracy)\n",
      "Results for r2c5.png                   (roi     - unet     - 0.68 accuracy)\n",
      "Results for r2c6.png                   (roi     - unet     - 0.76 accuracy)\n",
      "Results for r3c1.png                   (roi     - unet     - 0.79 accuracy)\n",
      "Results for r3c2.png                   (roi     - unet     - 0.93 accuracy)\n",
      "Results for r3c3.png                   (roi     - unet     - 0.71 accuracy)\n",
      "Results for r3c4.png                   (roi     - unet     - 0.81 accuracy)\n",
      "Results for r3c5.png                   (roi     - unet     - 0.70 accuracy)\n",
      "Results for r4c2.png                   (roi     - unet     - 0.75 accuracy)\n",
      "Results for r4c3.png                   (roi     - unet     - 0.85 accuracy)\n",
      "Results for r4c4.png                   (roi     - unet     - 0.88 accuracy)\n",
      "Results for r4c5.png                   (roi     - unet     - 0.88 accuracy)\n",
      "Results for r4c6.png                   (roi     - unet     - 0.81 accuracy)\n"
     ]
    },
    {
     "name": "stderr",
     "output_type": "stream",
     "text": [
      "/home/dalifreire/.local/lib/python3.8/site-packages/sklearn/metrics/_classification.py:1221: UndefinedMetricWarning: Precision is ill-defined and being set to 0.0 due to no predicted samples. Use `zero_division` parameter to control this behavior.\n",
      "  _warn_prf(average, modifier, msg_start, len(result))\n"
     ]
    },
    {
     "name": "stdout",
     "output_type": "stream",
     "text": [
      "Results for r5c4.png                   (roi     - unet     - 0.95 accuracy)\n",
      "Results for r5c5.png                   (roi     - unet     - 0.84 accuracy)\n"
     ]
    },
    {
     "name": "stderr",
     "output_type": "stream",
     "text": [
      "/home/dalifreire/.local/lib/python3.8/site-packages/sklearn/metrics/_classification.py:1221: UndefinedMetricWarning: Precision is ill-defined and being set to 0.0 due to no predicted samples. Use `zero_division` parameter to control this behavior.\n",
      "  _warn_prf(average, modifier, msg_start, len(result))\n"
     ]
    },
    {
     "name": "stdout",
     "output_type": "stream",
     "text": [
      "Results for r5c6.png                   (roi     - unet     - 0.86 accuracy)\n"
     ]
    },
    {
     "name": "stderr",
     "output_type": "stream",
     "text": [
      "/home/dalifreire/.local/lib/python3.8/site-packages/sklearn/metrics/_classification.py:1221: UndefinedMetricWarning: Recall is ill-defined and being set to 0.0 due to no true samples. Use `zero_division` parameter to control this behavior.\n",
      "  _warn_prf(average, modifier, msg_start, len(result))\n",
      "/home/dalifreire/.local/lib/python3.8/site-packages/sklearn/metrics/_classification.py:1464: UndefinedMetricWarning: F-score is ill-defined and being set to 0.0 due to no true nor predicted samples. Use `zero_division` parameter to control this behavior.\n",
      "  _warn_prf(\n",
      "/home/dalifreire/.local/lib/python3.8/site-packages/sklearn/metrics/_classification.py:1221: UndefinedMetricWarning: Jaccard is ill-defined and being set to 0.0 due to no true or predicted samples. Use `zero_division` parameter to control this behavior.\n",
      "  _warn_prf(average, modifier, msg_start, len(result))\n"
     ]
    },
    {
     "name": "stdout",
     "output_type": "stream",
     "text": [
      "Results for r0c1.png                   (non_roi - unet     - 1.00 accuracy)\n",
      "Results for r3c0.png                   (non_roi - unet     - 0.94 accuracy)\n",
      "Results for r3c6.png                   (non_roi - unet     - 1.00 accuracy)\n",
      "Results for r4c0.png                   (non_roi - unet     - 1.00 accuracy)\n",
      "Results for r4c1.png                   (non_roi - unet     - 1.00 accuracy)\n",
      "Results for r5c0.png                   (non_roi - unet     - 1.00 accuracy)\n",
      "Results for r5c1.png                   (non_roi - unet     - 1.00 accuracy)\n",
      "Results for r5c2.png                   (non_roi - unet     - 1.00 accuracy)\n",
      "Results for r5c3.png                   (non_roi - unet     - 1.00 accuracy)\n",
      "Results for r6c1.png                   (non_roi - unet     - 1.00 accuracy)\n",
      "Results for r6c2.png                   (non_roi - unet     - 1.00 accuracy)\n",
      "Results for r6c3.png                   (non_roi - unet     - 1.00 accuracy)\n",
      "Results for r6c4.png                   (non_roi - unet     - 1.00 accuracy)\n",
      "Results for r6c5.png                   (non_roi - unet     - 1.00 accuracy)\n"
     ]
    },
    {
     "name": "stderr",
     "output_type": "stream",
     "text": [
      "2021-06-04 01:28:40,608 :: INFO extract_normal_region_from_wsi :: \t Extracting normal regions from wsi image: 'TCGA-CN-4739-01Z-00-DX1.e50266c3-606e-4103-a029-021246d4d1df_1.png'\n"
     ]
    },
    {
     "name": "stdout",
     "output_type": "stream",
     "text": [
      "Results for r0c1.png                   (roi     - unet     - 0.94 accuracy)\n",
      "Results for r0c2.png                   (roi     - unet     - 0.48 accuracy)\n",
      "Results for r0c3.png                   (roi     - unet     - 0.63 accuracy)\n",
      "Results for r0c4.png                   (roi     - unet     - 0.90 accuracy)\n",
      "Results for r0c5.png                   (roi     - unet     - 0.85 accuracy)\n",
      "Results for r1c0.png                   (roi     - unet     - 0.91 accuracy)\n",
      "Results for r1c1.png                   (roi     - unet     - 0.89 accuracy)\n",
      "Results for r1c2.png                   (roi     - unet     - 0.72 accuracy)\n",
      "Results for r1c3.png                   (roi     - unet     - 0.27 accuracy)\n",
      "Results for r1c4.png                   (roi     - unet     - 0.87 accuracy)\n",
      "Results for r1c5.png                   (roi     - unet     - 0.72 accuracy)\n",
      "Results for r2c0.png                   (roi     - unet     - 0.78 accuracy)\n",
      "Results for r2c1.png                   (roi     - unet     - 0.85 accuracy)\n",
      "Results for r2c2.png                   (roi     - unet     - 0.85 accuracy)\n",
      "Results for r2c3.png                   (roi     - unet     - 0.89 accuracy)\n",
      "Results for r2c4.png                   (roi     - unet     - 0.89 accuracy)\n",
      "Results for r2c5.png                   (roi     - unet     - 0.92 accuracy)\n",
      "Results for r2c6.png                   (roi     - unet     - 0.92 accuracy)\n",
      "Results for r3c0.png                   (roi     - unet     - 0.71 accuracy)\n",
      "Results for r3c1.png                   (roi     - unet     - 0.92 accuracy)\n",
      "Results for r3c2.png                   (roi     - unet     - 0.89 accuracy)\n",
      "Results for r3c3.png                   (roi     - unet     - 0.86 accuracy)\n",
      "Results for r3c4.png                   (roi     - unet     - 0.87 accuracy)\n",
      "Results for r3c5.png                   (roi     - unet     - 0.92 accuracy)\n",
      "Results for r3c6.png                   (roi     - unet     - 0.86 accuracy)\n"
     ]
    },
    {
     "name": "stderr",
     "output_type": "stream",
     "text": [
      "/home/dalifreire/.local/lib/python3.8/site-packages/sklearn/metrics/_classification.py:1221: UndefinedMetricWarning: Precision is ill-defined and being set to 0.0 due to no predicted samples. Use `zero_division` parameter to control this behavior.\n",
      "  _warn_prf(average, modifier, msg_start, len(result))\n"
     ]
    },
    {
     "name": "stdout",
     "output_type": "stream",
     "text": [
      "Results for r4c0.png                   (roi     - unet     - 0.97 accuracy)\n",
      "Results for r4c1.png                   (roi     - unet     - 0.67 accuracy)\n",
      "Results for r4c2.png                   (roi     - unet     - 0.74 accuracy)\n",
      "Results for r4c3.png                   (roi     - unet     - 0.90 accuracy)\n",
      "Results for r4c4.png                   (roi     - unet     - 0.88 accuracy)\n",
      "Results for r4c5.png                   (roi     - unet     - 0.86 accuracy)\n"
     ]
    },
    {
     "name": "stderr",
     "output_type": "stream",
     "text": [
      "/home/dalifreire/.local/lib/python3.8/site-packages/sklearn/metrics/_classification.py:1221: UndefinedMetricWarning: Precision is ill-defined and being set to 0.0 due to no predicted samples. Use `zero_division` parameter to control this behavior.\n",
      "  _warn_prf(average, modifier, msg_start, len(result))\n",
      "/home/dalifreire/.local/lib/python3.8/site-packages/sklearn/metrics/_classification.py:1221: UndefinedMetricWarning: Recall is ill-defined and being set to 0.0 due to no true samples. Use `zero_division` parameter to control this behavior.\n",
      "  _warn_prf(average, modifier, msg_start, len(result))\n",
      "/home/dalifreire/.local/lib/python3.8/site-packages/sklearn/metrics/_classification.py:1464: UndefinedMetricWarning: F-score is ill-defined and being set to 0.0 due to no true nor predicted samples. Use `zero_division` parameter to control this behavior.\n",
      "  _warn_prf(\n",
      "/home/dalifreire/.local/lib/python3.8/site-packages/sklearn/metrics/_classification.py:1221: UndefinedMetricWarning: Jaccard is ill-defined and being set to 0.0 due to no true or predicted samples. Use `zero_division` parameter to control this behavior.\n",
      "  _warn_prf(average, modifier, msg_start, len(result))\n"
     ]
    },
    {
     "name": "stdout",
     "output_type": "stream",
     "text": [
      "Results for r1c6.png                   (non_roi - unet     - 1.00 accuracy)\n",
      "Results for r4c6.png                   (non_roi - unet     - 1.00 accuracy)\n",
      "Results for r5c0.png                   (non_roi - unet     - 0.98 accuracy)\n",
      "Results for r5c1.png                   (non_roi - unet     - 1.00 accuracy)\n",
      "Results for r5c2.png                   (non_roi - unet     - 0.48 accuracy)\n",
      "Results for r5c3.png                   (non_roi - unet     - 1.00 accuracy)\n",
      "Results for r5c4.png                   (non_roi - unet     - 1.00 accuracy)\n",
      "Results for r5c5.png                   (non_roi - unet     - 1.00 accuracy)\n",
      "Results for r5c6.png                   (non_roi - unet     - 1.00 accuracy)\n",
      "Results for r6c1.png                   (non_roi - unet     - 1.00 accuracy)\n",
      "Results for r6c2.png                   (non_roi - unet     - 1.00 accuracy)\n",
      "Results for r6c3.png                   (non_roi - unet     - 1.00 accuracy)\n",
      "Results for r6c4.png                   (non_roi - unet     - 1.00 accuracy)\n",
      "Results for r6c5.png                   (non_roi - unet     - 1.00 accuracy)\n"
     ]
    },
    {
     "name": "stderr",
     "output_type": "stream",
     "text": [
      "2021-06-04 01:31:55,394 :: INFO extract_normal_region_from_wsi :: \t Extracting normal regions from wsi image: 'TCGA-CN-4740-01Z-00-DX1.f7b9f5ec-cb4e-4604-9d64-2bdc20ac5bec_0.png'\n"
     ]
    },
    {
     "name": "stdout",
     "output_type": "stream",
     "text": [
      "Results for r0c2.png                   (roi     - unet     - 0.62 accuracy)\n",
      "Results for r0c3.png                   (roi     - unet     - 0.33 accuracy)\n",
      "Results for r0c4.png                   (roi     - unet     - 0.98 accuracy)\n",
      "Results for r1c1.png                   (roi     - unet     - 0.70 accuracy)\n",
      "Results for r1c2.png                   (roi     - unet     - 0.95 accuracy)\n",
      "Results for r1c3.png                   (roi     - unet     - 0.93 accuracy)\n",
      "Results for r2c1.png                   (roi     - unet     - 0.78 accuracy)\n",
      "Results for r2c2.png                   (roi     - unet     - 0.08 accuracy)\n",
      "Results for r2c3.png                   (roi     - unet     - 0.74 accuracy)\n",
      "Results for r3c0.png                   (roi     - unet     - 0.85 accuracy)\n",
      "Results for r3c1.png                   (roi     - unet     - 0.90 accuracy)\n"
     ]
    },
    {
     "name": "stderr",
     "output_type": "stream",
     "text": [
      "/home/dalifreire/.local/lib/python3.8/site-packages/sklearn/metrics/_classification.py:1221: UndefinedMetricWarning: Precision is ill-defined and being set to 0.0 due to no predicted samples. Use `zero_division` parameter to control this behavior.\n",
      "  _warn_prf(average, modifier, msg_start, len(result))\n"
     ]
    },
    {
     "name": "stdout",
     "output_type": "stream",
     "text": [
      "Results for r3c2.png                   (roi     - unet     - 0.11 accuracy)\n",
      "Results for r3c3.png                   (roi     - unet     - 0.91 accuracy)\n",
      "Results for r3c4.png                   (roi     - unet     - 0.92 accuracy)\n",
      "Results for r3c5.png                   (roi     - unet     - 0.90 accuracy)\n",
      "Results for r3c6.png                   (roi     - unet     - 0.96 accuracy)\n",
      "Results for r4c0.png                   (roi     - unet     - 0.85 accuracy)\n",
      "Results for r4c1.png                   (roi     - unet     - 0.91 accuracy)\n",
      "Results for r4c2.png                   (roi     - unet     - 0.70 accuracy)\n",
      "Results for r4c3.png                   (roi     - unet     - 0.94 accuracy)\n"
     ]
    },
    {
     "name": "stderr",
     "output_type": "stream",
     "text": [
      "/home/dalifreire/.local/lib/python3.8/site-packages/sklearn/metrics/_classification.py:1221: UndefinedMetricWarning: Precision is ill-defined and being set to 0.0 due to no predicted samples. Use `zero_division` parameter to control this behavior.\n",
      "  _warn_prf(average, modifier, msg_start, len(result))\n"
     ]
    },
    {
     "name": "stdout",
     "output_type": "stream",
     "text": [
      "Results for r4c4.png                   (roi     - unet     - 0.60 accuracy)\n",
      "Results for r4c5.png                   (roi     - unet     - 0.93 accuracy)\n",
      "Results for r4c6.png                   (roi     - unet     - 0.96 accuracy)\n",
      "Results for r5c2.png                   (roi     - unet     - 0.96 accuracy)\n",
      "Results for r5c4.png                   (roi     - unet     - 0.85 accuracy)\n",
      "Results for r5c5.png                   (roi     - unet     - 0.92 accuracy)\n",
      "Results for r6c1.png                   (roi     - unet     - 0.95 accuracy)\n"
     ]
    },
    {
     "name": "stderr",
     "output_type": "stream",
     "text": [
      "/home/dalifreire/.local/lib/python3.8/site-packages/sklearn/metrics/_classification.py:1221: UndefinedMetricWarning: Precision is ill-defined and being set to 0.0 due to no predicted samples. Use `zero_division` parameter to control this behavior.\n",
      "  _warn_prf(average, modifier, msg_start, len(result))\n"
     ]
    },
    {
     "name": "stdout",
     "output_type": "stream",
     "text": [
      "Results for r6c2.png                   (roi     - unet     - 0.86 accuracy)\n",
      "Results for r6c3.png                   (roi     - unet     - 0.74 accuracy)\n",
      "Results for r6c4.png                   (roi     - unet     - 0.93 accuracy)\n",
      "Results for r6c5.png                   (roi     - unet     - 0.96 accuracy)\n"
     ]
    },
    {
     "name": "stderr",
     "output_type": "stream",
     "text": [
      "/home/dalifreire/.local/lib/python3.8/site-packages/sklearn/metrics/_classification.py:1221: UndefinedMetricWarning: Precision is ill-defined and being set to 0.0 due to no predicted samples. Use `zero_division` parameter to control this behavior.\n",
      "  _warn_prf(average, modifier, msg_start, len(result))\n",
      "/home/dalifreire/.local/lib/python3.8/site-packages/sklearn/metrics/_classification.py:1221: UndefinedMetricWarning: Recall is ill-defined and being set to 0.0 due to no true samples. Use `zero_division` parameter to control this behavior.\n",
      "  _warn_prf(average, modifier, msg_start, len(result))\n",
      "/home/dalifreire/.local/lib/python3.8/site-packages/sklearn/metrics/_classification.py:1464: UndefinedMetricWarning: F-score is ill-defined and being set to 0.0 due to no true nor predicted samples. Use `zero_division` parameter to control this behavior.\n",
      "  _warn_prf(\n",
      "/home/dalifreire/.local/lib/python3.8/site-packages/sklearn/metrics/_classification.py:1221: UndefinedMetricWarning: Jaccard is ill-defined and being set to 0.0 due to no true or predicted samples. Use `zero_division` parameter to control this behavior.\n",
      "  _warn_prf(average, modifier, msg_start, len(result))\n"
     ]
    },
    {
     "name": "stdout",
     "output_type": "stream",
     "text": [
      "Results for r0c1.png                   (non_roi - unet     - 1.00 accuracy)\n",
      "Results for r0c5.png                   (non_roi - unet     - 1.00 accuracy)\n",
      "Results for r1c0.png                   (non_roi - unet     - 1.00 accuracy)\n",
      "Results for r1c4.png                   (non_roi - unet     - 1.00 accuracy)\n",
      "Results for r1c5.png                   (non_roi - unet     - 1.00 accuracy)\n",
      "Results for r1c6.png                   (non_roi - unet     - 1.00 accuracy)\n",
      "Results for r2c0.png                   (non_roi - unet     - 1.00 accuracy)\n",
      "Results for r2c4.png                   (non_roi - unet     - 1.00 accuracy)\n",
      "Results for r2c5.png                   (non_roi - unet     - 1.00 accuracy)\n",
      "Results for r2c6.png                   (non_roi - unet     - 1.00 accuracy)\n",
      "Results for r5c0.png                   (non_roi - unet     - 1.00 accuracy)\n",
      "Results for r5c1.png                   (non_roi - unet     - 1.00 accuracy)\n",
      "Results for r5c3.png                   (non_roi - unet     - 1.00 accuracy)\n",
      "Results for r5c6.png                   (non_roi - unet     - 1.00 accuracy)\n"
     ]
    },
    {
     "name": "stderr",
     "output_type": "stream",
     "text": [
      "2021-06-04 01:35:07,721 :: INFO extract_normal_region_from_wsi :: \t Extracting normal regions from wsi image: 'TCGA-CN-4740-01Z-00-DX1.f7b9f5ec-cb4e-4604-9d64-2bdc20ac5bec_1.png'\n"
     ]
    },
    {
     "name": "stdout",
     "output_type": "stream",
     "text": [
      "Results for r1c3.png                   (roi     - unet     - 0.93 accuracy)\n"
     ]
    },
    {
     "name": "stderr",
     "output_type": "stream",
     "text": [
      "/home/dalifreire/.local/lib/python3.8/site-packages/sklearn/metrics/_classification.py:1221: UndefinedMetricWarning: Precision is ill-defined and being set to 0.0 due to no predicted samples. Use `zero_division` parameter to control this behavior.\n",
      "  _warn_prf(average, modifier, msg_start, len(result))\n"
     ]
    },
    {
     "name": "stdout",
     "output_type": "stream",
     "text": [
      "Results for r1c4.png                   (roi     - unet     - 0.63 accuracy)\n",
      "Results for r1c5.png                   (roi     - unet     - 0.92 accuracy)\n",
      "Results for r1c6.png                   (roi     - unet     - 0.96 accuracy)\n",
      "Results for r2c2.png                   (roi     - unet     - 0.67 accuracy)\n",
      "Results for r2c3.png                   (roi     - unet     - 0.92 accuracy)\n",
      "Results for r2c4.png                   (roi     - unet     - 0.98 accuracy)\n",
      "Results for r3c1.png                   (roi     - unet     - 0.76 accuracy)\n",
      "Results for r3c2.png                   (roi     - unet     - 0.97 accuracy)\n",
      "Results for r3c3.png                   (roi     - unet     - 0.95 accuracy)\n"
     ]
    },
    {
     "name": "stderr",
     "output_type": "stream",
     "text": [
      "/home/dalifreire/.local/lib/python3.8/site-packages/sklearn/metrics/_classification.py:1221: UndefinedMetricWarning: Precision is ill-defined and being set to 0.0 due to no predicted samples. Use `zero_division` parameter to control this behavior.\n",
      "  _warn_prf(average, modifier, msg_start, len(result))\n"
     ]
    },
    {
     "name": "stdout",
     "output_type": "stream",
     "text": [
      "Results for r4c0.png                   (roi     - unet     - 0.66 accuracy)\n",
      "Results for r4c1.png                   (roi     - unet     - 0.84 accuracy)\n",
      "Results for r4c2.png                   (roi     - unet     - 0.41 accuracy)\n",
      "Results for r4c3.png                   (roi     - unet     - 0.91 accuracy)\n",
      "Results for r4c4.png                   (roi     - unet     - 0.98 accuracy)\n",
      "Results for r4c5.png                   (roi     - unet     - 0.94 accuracy)\n",
      "Results for r4c6.png                   (roi     - unet     - 0.98 accuracy)\n",
      "Results for r5c0.png                   (roi     - unet     - 0.82 accuracy)\n",
      "Results for r5c1.png                   (roi     - unet     - 0.77 accuracy)\n"
     ]
    },
    {
     "name": "stderr",
     "output_type": "stream",
     "text": [
      "/home/dalifreire/.local/lib/python3.8/site-packages/sklearn/metrics/_classification.py:1221: UndefinedMetricWarning: Precision is ill-defined and being set to 0.0 due to no predicted samples. Use `zero_division` parameter to control this behavior.\n",
      "  _warn_prf(average, modifier, msg_start, len(result))\n"
     ]
    },
    {
     "name": "stdout",
     "output_type": "stream",
     "text": [
      "Results for r5c2.png                   (roi     - unet     - 0.59 accuracy)\n",
      "Results for r5c3.png                   (roi     - unet     - 0.74 accuracy)\n"
     ]
    },
    {
     "name": "stderr",
     "output_type": "stream",
     "text": [
      "/home/dalifreire/.local/lib/python3.8/site-packages/sklearn/metrics/_classification.py:1221: UndefinedMetricWarning: Precision is ill-defined and being set to 0.0 due to no predicted samples. Use `zero_division` parameter to control this behavior.\n",
      "  _warn_prf(average, modifier, msg_start, len(result))\n"
     ]
    },
    {
     "name": "stdout",
     "output_type": "stream",
     "text": [
      "Results for r5c4.png                   (roi     - unet     - 0.41 accuracy)\n",
      "Results for r5c5.png                   (roi     - unet     - 0.91 accuracy)\n",
      "Results for r5c6.png                   (roi     - unet     - 0.96 accuracy)\n"
     ]
    },
    {
     "name": "stderr",
     "output_type": "stream",
     "text": [
      "/home/dalifreire/.local/lib/python3.8/site-packages/sklearn/metrics/_classification.py:1221: UndefinedMetricWarning: Precision is ill-defined and being set to 0.0 due to no predicted samples. Use `zero_division` parameter to control this behavior.\n",
      "  _warn_prf(average, modifier, msg_start, len(result))\n"
     ]
    },
    {
     "name": "stdout",
     "output_type": "stream",
     "text": [
      "Results for r6c2.png                   (roi     - unet     - 0.82 accuracy)\n",
      "Results for r6c5.png                   (roi     - unet     - 0.81 accuracy)\n"
     ]
    },
    {
     "name": "stderr",
     "output_type": "stream",
     "text": [
      "/home/dalifreire/.local/lib/python3.8/site-packages/sklearn/metrics/_classification.py:1221: UndefinedMetricWarning: Precision is ill-defined and being set to 0.0 due to no predicted samples. Use `zero_division` parameter to control this behavior.\n",
      "  _warn_prf(average, modifier, msg_start, len(result))\n",
      "/home/dalifreire/.local/lib/python3.8/site-packages/sklearn/metrics/_classification.py:1221: UndefinedMetricWarning: Recall is ill-defined and being set to 0.0 due to no true samples. Use `zero_division` parameter to control this behavior.\n",
      "  _warn_prf(average, modifier, msg_start, len(result))\n",
      "/home/dalifreire/.local/lib/python3.8/site-packages/sklearn/metrics/_classification.py:1464: UndefinedMetricWarning: F-score is ill-defined and being set to 0.0 due to no true nor predicted samples. Use `zero_division` parameter to control this behavior.\n",
      "  _warn_prf(\n",
      "/home/dalifreire/.local/lib/python3.8/site-packages/sklearn/metrics/_classification.py:1221: UndefinedMetricWarning: Jaccard is ill-defined and being set to 0.0 due to no true or predicted samples. Use `zero_division` parameter to control this behavior.\n",
      "  _warn_prf(average, modifier, msg_start, len(result))\n"
     ]
    },
    {
     "name": "stdout",
     "output_type": "stream",
     "text": [
      "Results for r0c1.png                   (non_roi - excluded - 1.00 accuracy)\n",
      "Results for r0c2.png                   (non_roi - unet     - 1.00 accuracy)\n",
      "Results for r0c3.png                   (non_roi - unet     - 1.00 accuracy)\n",
      "Results for r0c4.png                   (non_roi - unet     - 1.00 accuracy)\n",
      "Results for r0c5.png                   (non_roi - excluded - 1.00 accuracy)\n",
      "Results for r1c0.png                   (non_roi - unet     - 1.00 accuracy)\n",
      "Results for r1c1.png                   (non_roi - unet     - 1.00 accuracy)\n",
      "Results for r1c2.png                   (non_roi - unet     - 0.11 accuracy)\n",
      "Results for r2c0.png                   (non_roi - unet     - 1.00 accuracy)\n",
      "Results for r2c1.png                   (non_roi - unet     - 1.00 accuracy)\n",
      "Results for r2c5.png                   (non_roi - unet     - 1.00 accuracy)\n",
      "Results for r2c6.png                   (non_roi - unet     - 1.00 accuracy)\n",
      "Results for r3c0.png                   (non_roi - unet     - 0.03 accuracy)\n",
      "Results for r3c4.png                   (non_roi - unet     - 0.98 accuracy)\n",
      "Results for r3c5.png                   (non_roi - unet     - 1.00 accuracy)\n",
      "Results for r3c6.png                   (non_roi - unet     - 1.00 accuracy)\n",
      "Results for r6c1.png                   (non_roi - unet     - 1.00 accuracy)\n",
      "Results for r6c3.png                   (non_roi - unet     - 1.00 accuracy)\n",
      "Results for r6c4.png                   (non_roi - unet     - 1.00 accuracy)\n"
     ]
    },
    {
     "name": "stderr",
     "output_type": "stream",
     "text": [
      "2021-06-04 01:38:17,356 :: INFO extract_normal_region_from_wsi :: \t Extracting normal regions from wsi image: 'TCGA-CN-4741-01Z-00-DX1.6adfce37-b5b0-44ff-834e-85059eec24c0_0.png'\n"
     ]
    },
    {
     "name": "stdout",
     "output_type": "stream",
     "text": [
      "Results for r0c1.png                   (roi     - unet     - 0.98 accuracy)\n",
      "Results for r1c1.png                   (roi     - unet     - 0.77 accuracy)\n",
      "Results for r1c2.png                   (roi     - unet     - 0.92 accuracy)\n",
      "Results for r1c3.png                   (roi     - unet     - 0.97 accuracy)\n",
      "Results for r2c0.png                   (roi     - unet     - 0.91 accuracy)\n",
      "Results for r2c1.png                   (roi     - unet     - 0.23 accuracy)\n",
      "Results for r2c2.png                   (roi     - unet     - 0.89 accuracy)\n",
      "Results for r2c3.png                   (roi     - unet     - 0.98 accuracy)\n"
     ]
    },
    {
     "name": "stderr",
     "output_type": "stream",
     "text": [
      "/home/dalifreire/.local/lib/python3.8/site-packages/sklearn/metrics/_classification.py:1221: UndefinedMetricWarning: Precision is ill-defined and being set to 0.0 due to no predicted samples. Use `zero_division` parameter to control this behavior.\n",
      "  _warn_prf(average, modifier, msg_start, len(result))\n"
     ]
    },
    {
     "name": "stdout",
     "output_type": "stream",
     "text": [
      "Results for r2c4.png                   (roi     - unet     - 0.53 accuracy)\n",
      "Results for r3c0.png                   (roi     - unet     - 0.91 accuracy)\n",
      "Results for r3c1.png                   (roi     - unet     - 0.91 accuracy)\n",
      "Results for r3c2.png                   (roi     - unet     - 0.92 accuracy)\n",
      "Results for r3c3.png                   (roi     - unet     - 0.88 accuracy)\n",
      "Results for r3c4.png                   (roi     - unet     - 0.93 accuracy)\n",
      "Results for r4c0.png                   (roi     - unet     - 0.78 accuracy)\n",
      "Results for r4c1.png                   (roi     - unet     - 0.63 accuracy)\n",
      "Results for r4c2.png                   (roi     - unet     - 0.73 accuracy)\n",
      "Results for r4c3.png                   (roi     - unet     - 0.62 accuracy)\n",
      "Results for r4c4.png                   (roi     - unet     - 0.74 accuracy)\n",
      "Results for r5c0.png                   (roi     - unet     - 0.95 accuracy)\n",
      "Results for r5c2.png                   (roi     - unet     - 0.75 accuracy)\n",
      "Results for r5c3.png                   (roi     - unet     - 0.69 accuracy)\n",
      "Results for r5c4.png                   (roi     - unet     - 0.91 accuracy)\n",
      "Results for r5c5.png                   (roi     - unet     - 0.61 accuracy)\n",
      "Results for r6c3.png                   (roi     - unet     - 0.71 accuracy)\n",
      "Results for r6c4.png                   (roi     - unet     - 0.75 accuracy)\n",
      "Results for r6c5.png                   (roi     - unet     - 0.86 accuracy)\n"
     ]
    },
    {
     "name": "stderr",
     "output_type": "stream",
     "text": [
      "/home/dalifreire/.local/lib/python3.8/site-packages/sklearn/metrics/_classification.py:1221: UndefinedMetricWarning: Precision is ill-defined and being set to 0.0 due to no predicted samples. Use `zero_division` parameter to control this behavior.\n",
      "  _warn_prf(average, modifier, msg_start, len(result))\n",
      "/home/dalifreire/.local/lib/python3.8/site-packages/sklearn/metrics/_classification.py:1221: UndefinedMetricWarning: Recall is ill-defined and being set to 0.0 due to no true samples. Use `zero_division` parameter to control this behavior.\n",
      "  _warn_prf(average, modifier, msg_start, len(result))\n",
      "/home/dalifreire/.local/lib/python3.8/site-packages/sklearn/metrics/_classification.py:1464: UndefinedMetricWarning: F-score is ill-defined and being set to 0.0 due to no true nor predicted samples. Use `zero_division` parameter to control this behavior.\n",
      "  _warn_prf(\n",
      "/home/dalifreire/.local/lib/python3.8/site-packages/sklearn/metrics/_classification.py:1221: UndefinedMetricWarning: Jaccard is ill-defined and being set to 0.0 due to no true or predicted samples. Use `zero_division` parameter to control this behavior.\n",
      "  _warn_prf(average, modifier, msg_start, len(result))\n"
     ]
    },
    {
     "name": "stdout",
     "output_type": "stream",
     "text": [
      "Results for r0c2.png                   (non_roi - unet     - 1.00 accuracy)\n",
      "Results for r0c3.png                   (non_roi - unet     - 1.00 accuracy)\n",
      "Results for r0c4.png                   (non_roi - unet     - 0.79 accuracy)\n",
      "Results for r0c5.png                   (non_roi - unet     - 1.00 accuracy)\n",
      "Results for r1c0.png                   (non_roi - excluded - 1.00 accuracy)\n",
      "Results for r1c4.png                   (non_roi - unet     - 1.00 accuracy)\n",
      "Results for r1c5.png                   (non_roi - unet     - 1.00 accuracy)\n",
      "Results for r1c6.png                   (non_roi - unet     - 1.00 accuracy)\n",
      "Results for r2c5.png                   (non_roi - unet     - 1.00 accuracy)\n",
      "Results for r2c6.png                   (non_roi - unet     - 1.00 accuracy)\n",
      "Results for r3c5.png                   (non_roi - unet     - 1.00 accuracy)\n",
      "Results for r3c6.png                   (non_roi - unet     - 0.53 accuracy)\n",
      "Results for r4c5.png                   (non_roi - unet     - 1.00 accuracy)\n",
      "Results for r4c6.png                   (non_roi - unet     - 1.00 accuracy)\n",
      "Results for r5c1.png                   (non_roi - unet     - 1.00 accuracy)\n",
      "Results for r5c6.png                   (non_roi - unet     - 1.00 accuracy)\n",
      "Results for r6c1.png                   (non_roi - unet     - 1.00 accuracy)\n",
      "Results for r6c2.png                   (non_roi - unet     - 1.00 accuracy)\n"
     ]
    },
    {
     "name": "stderr",
     "output_type": "stream",
     "text": [
      "2021-06-04 01:41:31,659 :: INFO extract_normal_region_from_wsi :: \t Extracting normal regions from wsi image: 'TCGA-CN-4741-01Z-00-DX1.6adfce37-b5b0-44ff-834e-85059eec24c0_1.png'\n"
     ]
    },
    {
     "name": "stdout",
     "output_type": "stream",
     "text": [
      "Results for r0c2.png                   (roi     - unet     - 0.87 accuracy)\n",
      "Results for r0c3.png                   (roi     - unet     - 0.98 accuracy)\n",
      "Results for r0c4.png                   (roi     - unet     - 0.17 accuracy)\n"
     ]
    },
    {
     "name": "stderr",
     "output_type": "stream",
     "text": [
      "/home/dalifreire/.local/lib/python3.8/site-packages/sklearn/metrics/_classification.py:1221: UndefinedMetricWarning: Precision is ill-defined and being set to 0.0 due to no predicted samples. Use `zero_division` parameter to control this behavior.\n",
      "  _warn_prf(average, modifier, msg_start, len(result))\n"
     ]
    },
    {
     "name": "stdout",
     "output_type": "stream",
     "text": [
      "Results for r0c5.png                   (roi     - unet     - 0.66 accuracy)\n",
      "Results for r1c0.png                   (roi     - unet     - 0.95 accuracy)\n",
      "Results for r1c1.png                   (roi     - unet     - 0.95 accuracy)\n",
      "Results for r1c3.png                   (roi     - unet     - 0.91 accuracy)\n",
      "Results for r1c4.png                   (roi     - unet     - 0.91 accuracy)\n",
      "Results for r1c5.png                   (roi     - unet     - 0.77 accuracy)\n",
      "Results for r2c0.png                   (roi     - unet     - 0.98 accuracy)\n",
      "Results for r2c1.png                   (roi     - unet     - 0.97 accuracy)\n",
      "Results for r2c2.png                   (roi     - unet     - 0.93 accuracy)\n",
      "Results for r3c0.png                   (roi     - unet     - 0.64 accuracy)\n",
      "Results for r3c1.png                   (roi     - unet     - 0.98 accuracy)\n",
      "Results for r3c2.png                   (roi     - unet     - 0.98 accuracy)\n",
      "Results for r3c3.png                   (roi     - unet     - 0.94 accuracy)\n",
      "Results for r4c0.png                   (roi     - unet     - 0.73 accuracy)\n",
      "Results for r4c1.png                   (roi     - unet     - 0.80 accuracy)\n",
      "Results for r4c2.png                   (roi     - unet     - 0.82 accuracy)\n",
      "Results for r4c3.png                   (roi     - unet     - 0.98 accuracy)\n",
      "Results for r4c4.png                   (roi     - unet     - 0.93 accuracy)\n",
      "Results for r4c5.png                   (roi     - unet     - 0.74 accuracy)\n",
      "Results for r5c0.png                   (roi     - unet     - 0.96 accuracy)\n",
      "Results for r5c1.png                   (roi     - unet     - 0.93 accuracy)\n",
      "Results for r5c2.png                   (roi     - unet     - 0.95 accuracy)\n",
      "Results for r5c3.png                   (roi     - unet     - 0.77 accuracy)\n",
      "Results for r5c4.png                   (roi     - unet     - 0.50 accuracy)\n",
      "Results for r5c5.png                   (roi     - unet     - 0.71 accuracy)\n",
      "Results for r5c6.png                   (roi     - unet     - 0.74 accuracy)\n",
      "Results for r6c1.png                   (roi     - unet     - 0.94 accuracy)\n",
      "Results for r6c2.png                   (roi     - unet     - 0.84 accuracy)\n",
      "Results for r6c3.png                   (roi     - unet     - 0.78 accuracy)\n"
     ]
    },
    {
     "name": "stderr",
     "output_type": "stream",
     "text": [
      "/home/dalifreire/.local/lib/python3.8/site-packages/sklearn/metrics/_classification.py:1221: UndefinedMetricWarning: Precision is ill-defined and being set to 0.0 due to no predicted samples. Use `zero_division` parameter to control this behavior.\n",
      "  _warn_prf(average, modifier, msg_start, len(result))\n"
     ]
    },
    {
     "name": "stdout",
     "output_type": "stream",
     "text": [
      "Results for r6c4.png                   (roi     - unet     - 0.95 accuracy)\n",
      "Results for r6c5.png                   (roi     - unet     - 0.94 accuracy)\n"
     ]
    },
    {
     "name": "stderr",
     "output_type": "stream",
     "text": [
      "/home/dalifreire/.local/lib/python3.8/site-packages/sklearn/metrics/_classification.py:1221: UndefinedMetricWarning: Precision is ill-defined and being set to 0.0 due to no predicted samples. Use `zero_division` parameter to control this behavior.\n",
      "  _warn_prf(average, modifier, msg_start, len(result))\n",
      "/home/dalifreire/.local/lib/python3.8/site-packages/sklearn/metrics/_classification.py:1221: UndefinedMetricWarning: Recall is ill-defined and being set to 0.0 due to no true samples. Use `zero_division` parameter to control this behavior.\n",
      "  _warn_prf(average, modifier, msg_start, len(result))\n",
      "/home/dalifreire/.local/lib/python3.8/site-packages/sklearn/metrics/_classification.py:1464: UndefinedMetricWarning: F-score is ill-defined and being set to 0.0 due to no true nor predicted samples. Use `zero_division` parameter to control this behavior.\n",
      "  _warn_prf(\n",
      "/home/dalifreire/.local/lib/python3.8/site-packages/sklearn/metrics/_classification.py:1221: UndefinedMetricWarning: Jaccard is ill-defined and being set to 0.0 due to no true or predicted samples. Use `zero_division` parameter to control this behavior.\n",
      "  _warn_prf(average, modifier, msg_start, len(result))\n"
     ]
    },
    {
     "name": "stdout",
     "output_type": "stream",
     "text": [
      "Results for r0c1.png                   (non_roi - unet     - 1.00 accuracy)\n",
      "Results for r1c2.png                   (non_roi - unet     - 1.00 accuracy)\n",
      "Results for r1c6.png                   (non_roi - unet     - 1.00 accuracy)\n",
      "Results for r2c3.png                   (non_roi - unet     - 1.00 accuracy)\n",
      "Results for r2c4.png                   (non_roi - unet     - 1.00 accuracy)\n",
      "Results for r2c5.png                   (non_roi - unet     - 0.80 accuracy)\n",
      "Results for r2c6.png                   (non_roi - unet     - 0.90 accuracy)\n",
      "Results for r3c4.png                   (non_roi - unet     - 1.00 accuracy)\n",
      "Results for r3c5.png                   (non_roi - unet     - 1.00 accuracy)\n",
      "Results for r3c6.png                   (non_roi - unet     - 1.00 accuracy)\n",
      "Results for r4c6.png                   (non_roi - unet     - 0.85 accuracy)\n"
     ]
    },
    {
     "name": "stderr",
     "output_type": "stream",
     "text": [
      "2021-06-04 01:44:47,678 :: INFO extract_normal_region_from_wsi :: \t Extracting normal regions from wsi image: 'TCGA-CN-4742-01Z-00-DX1.d03eaeac-cc05-4b13-962e-d4d10617d692_0.png'\n"
     ]
    },
    {
     "name": "stdout",
     "output_type": "stream",
     "text": [
      "Results for r1c0.png                   (roi     - unet     - 0.95 accuracy)\n",
      "Results for r1c1.png                   (roi     - unet     - 0.61 accuracy)\n",
      "Results for r1c2.png                   (roi     - unet     - 0.71 accuracy)\n",
      "Results for r1c3.png                   (roi     - unet     - 0.64 accuracy)\n",
      "Results for r1c4.png                   (roi     - unet     - 0.83 accuracy)\n",
      "Results for r2c0.png                   (roi     - unet     - 0.99 accuracy)\n",
      "Results for r2c1.png                   (roi     - unet     - 0.95 accuracy)\n",
      "Results for r2c2.png                   (roi     - unet     - 0.89 accuracy)\n",
      "Results for r2c3.png                   (roi     - unet     - 0.95 accuracy)\n",
      "Results for r2c4.png                   (roi     - unet     - 0.97 accuracy)\n",
      "Results for r2c5.png                   (roi     - unet     - 0.90 accuracy)\n"
     ]
    },
    {
     "name": "stderr",
     "output_type": "stream",
     "text": [
      "/home/dalifreire/.local/lib/python3.8/site-packages/sklearn/metrics/_classification.py:1221: UndefinedMetricWarning: Precision is ill-defined and being set to 0.0 due to no predicted samples. Use `zero_division` parameter to control this behavior.\n",
      "  _warn_prf(average, modifier, msg_start, len(result))\n"
     ]
    },
    {
     "name": "stdout",
     "output_type": "stream",
     "text": [
      "Results for r2c6.png                   (roi     - unet     - 0.68 accuracy)\n",
      "Results for r3c0.png                   (roi     - unet     - 0.98 accuracy)\n",
      "Results for r3c1.png                   (roi     - unet     - 0.99 accuracy)\n",
      "Results for r3c2.png                   (roi     - unet     - 0.99 accuracy)\n",
      "Results for r3c3.png                   (roi     - unet     - 0.95 accuracy)\n",
      "Results for r3c4.png                   (roi     - unet     - 0.93 accuracy)\n",
      "Results for r3c5.png                   (roi     - unet     - 0.95 accuracy)\n",
      "Results for r3c6.png                   (roi     - unet     - 0.87 accuracy)\n",
      "Results for r4c0.png                   (roi     - unet     - 0.16 accuracy)\n",
      "Results for r4c1.png                   (roi     - unet     - 1.00 accuracy)\n",
      "Results for r4c2.png                   (roi     - unet     - 0.99 accuracy)\n",
      "Results for r4c3.png                   (roi     - unet     - 0.93 accuracy)\n",
      "Results for r4c4.png                   (roi     - unet     - 0.92 accuracy)\n",
      "Results for r4c5.png                   (roi     - unet     - 0.95 accuracy)\n",
      "Results for r4c6.png                   (roi     - unet     - 0.94 accuracy)\n",
      "Results for r5c0.png                   (roi     - unet     - 0.64 accuracy)\n",
      "Results for r5c1.png                   (roi     - unet     - 0.99 accuracy)\n",
      "Results for r5c2.png                   (roi     - unet     - 0.92 accuracy)\n",
      "Results for r5c3.png                   (roi     - unet     - 0.94 accuracy)\n",
      "Results for r5c4.png                   (roi     - unet     - 0.91 accuracy)\n",
      "Results for r5c5.png                   (roi     - unet     - 0.76 accuracy)\n",
      "Results for r5c6.png                   (roi     - unet     - 0.97 accuracy)\n"
     ]
    },
    {
     "name": "stderr",
     "output_type": "stream",
     "text": [
      "/home/dalifreire/.local/lib/python3.8/site-packages/sklearn/metrics/_classification.py:1221: UndefinedMetricWarning: Precision is ill-defined and being set to 0.0 due to no predicted samples. Use `zero_division` parameter to control this behavior.\n",
      "  _warn_prf(average, modifier, msg_start, len(result))\n"
     ]
    },
    {
     "name": "stdout",
     "output_type": "stream",
     "text": [
      "Results for r6c1.png                   (roi     - unet     - 0.64 accuracy)\n",
      "Results for r6c2.png                   (roi     - unet     - 0.90 accuracy)\n",
      "Results for r6c3.png                   (roi     - unet     - 0.93 accuracy)\n"
     ]
    },
    {
     "name": "stderr",
     "output_type": "stream",
     "text": [
      "/home/dalifreire/.local/lib/python3.8/site-packages/sklearn/metrics/_classification.py:1221: UndefinedMetricWarning: Precision is ill-defined and being set to 0.0 due to no predicted samples. Use `zero_division` parameter to control this behavior.\n",
      "  _warn_prf(average, modifier, msg_start, len(result))\n",
      "/home/dalifreire/.local/lib/python3.8/site-packages/sklearn/metrics/_classification.py:1221: UndefinedMetricWarning: Recall is ill-defined and being set to 0.0 due to no true samples. Use `zero_division` parameter to control this behavior.\n",
      "  _warn_prf(average, modifier, msg_start, len(result))\n",
      "/home/dalifreire/.local/lib/python3.8/site-packages/sklearn/metrics/_classification.py:1464: UndefinedMetricWarning: F-score is ill-defined and being set to 0.0 due to no true nor predicted samples. Use `zero_division` parameter to control this behavior.\n",
      "  _warn_prf(\n",
      "/home/dalifreire/.local/lib/python3.8/site-packages/sklearn/metrics/_classification.py:1221: UndefinedMetricWarning: Jaccard is ill-defined and being set to 0.0 due to no true or predicted samples. Use `zero_division` parameter to control this behavior.\n",
      "  _warn_prf(average, modifier, msg_start, len(result))\n"
     ]
    },
    {
     "name": "stdout",
     "output_type": "stream",
     "text": [
      "Results for r0c1.png                   (non_roi - unet     - 1.00 accuracy)\n",
      "Results for r0c2.png                   (non_roi - unet     - 0.72 accuracy)\n",
      "Results for r0c3.png                   (non_roi - unet     - 0.69 accuracy)\n",
      "Results for r0c4.png                   (non_roi - unet     - 1.00 accuracy)\n",
      "Results for r0c5.png                   (non_roi - unet     - 0.66 accuracy)\n",
      "Results for r1c5.png                   (non_roi - unet     - 0.04 accuracy)\n",
      "Results for r1c6.png                   (non_roi - unet     - 1.00 accuracy)\n",
      "Results for r6c4.png                   (non_roi - unet     - 1.00 accuracy)\n",
      "Results for r6c5.png                   (non_roi - unet     - 0.97 accuracy)\n"
     ]
    },
    {
     "name": "stderr",
     "output_type": "stream",
     "text": [
      "2021-06-04 01:48:04,578 :: INFO extract_normal_region_from_wsi :: \t Extracting normal regions from wsi image: 'TCGA-CN-4742-01Z-00-DX1.d03eaeac-cc05-4b13-962e-d4d10617d692_1.png'\n"
     ]
    },
    {
     "name": "stdout",
     "output_type": "stream",
     "text": [
      "Results for r1c1.png                   (roi     - unet     - 0.72 accuracy)\n",
      "Results for r1c2.png                   (roi     - unet     - 0.25 accuracy)\n",
      "Results for r2c0.png                   (roi     - unet     - 0.74 accuracy)\n",
      "Results for r2c1.png                   (roi     - unet     - 0.85 accuracy)\n",
      "Results for r2c2.png                   (roi     - unet     - 0.90 accuracy)\n",
      "Results for r2c3.png                   (roi     - unet     - 0.74 accuracy)\n",
      "Results for r2c4.png                   (roi     - unet     - 0.63 accuracy)\n",
      "Results for r2c5.png                   (roi     - unet     - 0.48 accuracy)\n",
      "Results for r2c6.png                   (roi     - unet     - 0.63 accuracy)\n",
      "Results for r3c0.png                   (roi     - unet     - 0.95 accuracy)\n",
      "Results for r3c1.png                   (roi     - unet     - 0.98 accuracy)\n",
      "Results for r3c2.png                   (roi     - unet     - 0.98 accuracy)\n",
      "Results for r3c3.png                   (roi     - unet     - 0.96 accuracy)\n",
      "Results for r3c4.png                   (roi     - unet     - 0.91 accuracy)\n",
      "Results for r3c5.png                   (roi     - unet     - 0.95 accuracy)\n",
      "Results for r3c6.png                   (roi     - unet     - 0.66 accuracy)\n",
      "Results for r4c0.png                   (roi     - unet     - 1.00 accuracy)\n",
      "Results for r4c1.png                   (roi     - unet     - 0.99 accuracy)\n",
      "Results for r4c2.png                   (roi     - unet     - 0.99 accuracy)\n",
      "Results for r4c3.png                   (roi     - unet     - 0.94 accuracy)\n",
      "Results for r4c4.png                   (roi     - unet     - 0.97 accuracy)\n",
      "Results for r4c5.png                   (roi     - unet     - 0.97 accuracy)\n",
      "Results for r4c6.png                   (roi     - unet     - 0.93 accuracy)\n"
     ]
    },
    {
     "name": "stderr",
     "output_type": "stream",
     "text": [
      "/home/dalifreire/.local/lib/python3.8/site-packages/sklearn/metrics/_classification.py:1221: UndefinedMetricWarning: Precision is ill-defined and being set to 0.0 due to no predicted samples. Use `zero_division` parameter to control this behavior.\n",
      "  _warn_prf(average, modifier, msg_start, len(result))\n"
     ]
    },
    {
     "name": "stdout",
     "output_type": "stream",
     "text": [
      "Results for r5c0.png                   (roi     - unet     - 0.64 accuracy)\n",
      "Results for r5c1.png                   (roi     - unet     - 1.00 accuracy)\n",
      "Results for r5c2.png                   (roi     - unet     - 0.98 accuracy)\n",
      "Results for r5c3.png                   (roi     - unet     - 0.90 accuracy)\n",
      "Results for r5c4.png                   (roi     - unet     - 0.97 accuracy)\n",
      "Results for r5c5.png                   (roi     - unet     - 0.83 accuracy)\n",
      "Results for r5c6.png                   (roi     - unet     - 0.97 accuracy)\n",
      "Results for r6c1.png                   (roi     - unet     - 0.99 accuracy)\n",
      "Results for r6c2.png                   (roi     - unet     - 0.92 accuracy)\n",
      "Results for r6c3.png                   (roi     - unet     - 0.97 accuracy)\n",
      "Results for r6c4.png                   (roi     - unet     - 0.95 accuracy)\n",
      "Results for r6c5.png                   (roi     - unet     - 0.95 accuracy)\n"
     ]
    },
    {
     "name": "stderr",
     "output_type": "stream",
     "text": [
      "/home/dalifreire/.local/lib/python3.8/site-packages/sklearn/metrics/_classification.py:1221: UndefinedMetricWarning: Recall is ill-defined and being set to 0.0 due to no true samples. Use `zero_division` parameter to control this behavior.\n",
      "  _warn_prf(average, modifier, msg_start, len(result))\n"
     ]
    },
    {
     "name": "stdout",
     "output_type": "stream",
     "text": [
      "Results for r0c1.png                   (non_roi - unet     - 0.84 accuracy)\n",
      "Results for r0c2.png                   (non_roi - unet     - 1.00 accuracy)\n",
      "Results for r0c3.png                   (non_roi - unet     - 0.04 accuracy)\n",
      "Results for r0c4.png                   (non_roi - unet     - 0.88 accuracy)\n"
     ]
    },
    {
     "name": "stderr",
     "output_type": "stream",
     "text": [
      "/home/dalifreire/.local/lib/python3.8/site-packages/sklearn/metrics/_classification.py:1221: UndefinedMetricWarning: Precision is ill-defined and being set to 0.0 due to no predicted samples. Use `zero_division` parameter to control this behavior.\n",
      "  _warn_prf(average, modifier, msg_start, len(result))\n",
      "/home/dalifreire/.local/lib/python3.8/site-packages/sklearn/metrics/_classification.py:1464: UndefinedMetricWarning: F-score is ill-defined and being set to 0.0 due to no true nor predicted samples. Use `zero_division` parameter to control this behavior.\n",
      "  _warn_prf(\n",
      "/home/dalifreire/.local/lib/python3.8/site-packages/sklearn/metrics/_classification.py:1221: UndefinedMetricWarning: Jaccard is ill-defined and being set to 0.0 due to no true or predicted samples. Use `zero_division` parameter to control this behavior.\n",
      "  _warn_prf(average, modifier, msg_start, len(result))\n"
     ]
    },
    {
     "name": "stdout",
     "output_type": "stream",
     "text": [
      "Results for r0c5.png                   (non_roi - unet     - 1.00 accuracy)\n",
      "Results for r1c0.png                   (non_roi - unet     - 1.00 accuracy)\n",
      "Results for r1c3.png                   (non_roi - unet     - 0.17 accuracy)\n",
      "Results for r1c4.png                   (non_roi - unet     - 0.06 accuracy)\n",
      "Results for r1c5.png                   (non_roi - unet     - 0.04 accuracy)\n",
      "Results for r1c6.png                   (non_roi - excluded - 1.00 accuracy)\n"
     ]
    },
    {
     "name": "stderr",
     "output_type": "stream",
     "text": [
      "2021-06-04 01:51:23,141 :: INFO extract_normal_region_from_wsi :: \t Extracting normal regions from wsi image: 'TCGA-CN-5355-01Z-00-DX1.8fb23e44-fc59-4191-b825-cc021807a338_0.png'\n"
     ]
    },
    {
     "name": "stdout",
     "output_type": "stream",
     "text": [
      "Results for r0c1.png                   (roi     - unet     - 0.90 accuracy)\n",
      "Results for r0c2.png                   (roi     - unet     - 0.80 accuracy)\n",
      "Results for r0c3.png                   (roi     - unet     - 0.93 accuracy)\n",
      "Results for r0c4.png                   (roi     - unet     - 0.59 accuracy)\n",
      "Results for r0c5.png                   (roi     - unet     - 0.83 accuracy)\n"
     ]
    },
    {
     "name": "stderr",
     "output_type": "stream",
     "text": [
      "/home/dalifreire/.local/lib/python3.8/site-packages/sklearn/metrics/_classification.py:1221: UndefinedMetricWarning: Precision is ill-defined and being set to 0.0 due to no predicted samples. Use `zero_division` parameter to control this behavior.\n",
      "  _warn_prf(average, modifier, msg_start, len(result))\n"
     ]
    },
    {
     "name": "stdout",
     "output_type": "stream",
     "text": [
      "Results for r1c0.png                   (roi     - unet     - 0.87 accuracy)\n",
      "Results for r1c1.png                   (roi     - unet     - 0.49 accuracy)\n",
      "Results for r1c2.png                   (roi     - unet     - 0.76 accuracy)\n",
      "Results for r1c3.png                   (roi     - unet     - 0.86 accuracy)\n",
      "Results for r1c4.png                   (roi     - unet     - 0.93 accuracy)\n",
      "Results for r1c5.png                   (roi     - unet     - 0.79 accuracy)\n",
      "Results for r1c6.png                   (roi     - unet     - 0.99 accuracy)\n",
      "Results for r2c0.png                   (roi     - unet     - 0.83 accuracy)\n",
      "Results for r2c1.png                   (roi     - unet     - 0.84 accuracy)\n",
      "Results for r2c2.png                   (roi     - unet     - 0.81 accuracy)\n",
      "Results for r2c3.png                   (roi     - unet     - 0.70 accuracy)\n",
      "Results for r2c4.png                   (roi     - unet     - 0.97 accuracy)\n",
      "Results for r2c5.png                   (roi     - unet     - 0.86 accuracy)\n",
      "Results for r2c6.png                   (roi     - unet     - 0.96 accuracy)\n",
      "Results for r3c0.png                   (roi     - unet     - 0.88 accuracy)\n",
      "Results for r3c1.png                   (roi     - unet     - 0.95 accuracy)\n",
      "Results for r3c2.png                   (roi     - unet     - 0.96 accuracy)\n",
      "Results for r3c3.png                   (roi     - unet     - 0.91 accuracy)\n",
      "Results for r3c4.png                   (roi     - unet     - 0.92 accuracy)\n",
      "Results for r3c5.png                   (roi     - unet     - 0.98 accuracy)\n",
      "Results for r3c6.png                   (roi     - unet     - 0.87 accuracy)\n",
      "Results for r4c3.png                   (roi     - unet     - 0.50 accuracy)\n",
      "Results for r4c4.png                   (roi     - unet     - 0.66 accuracy)\n",
      "Results for r4c5.png                   (roi     - unet     - 0.89 accuracy)\n",
      "Results for r4c6.png                   (roi     - unet     - 0.74 accuracy)\n",
      "Results for r5c3.png                   (roi     - unet     - 0.79 accuracy)\n",
      "Results for r5c4.png                   (roi     - unet     - 0.78 accuracy)\n",
      "Results for r5c5.png                   (roi     - unet     - 0.74 accuracy)\n",
      "Results for r5c6.png                   (roi     - unet     - 0.86 accuracy)\n",
      "Results for r6c3.png                   (roi     - unet     - 0.89 accuracy)\n",
      "Results for r6c4.png                   (roi     - unet     - 0.67 accuracy)\n",
      "Results for r6c5.png                   (roi     - unet     - 0.91 accuracy)\n"
     ]
    },
    {
     "name": "stderr",
     "output_type": "stream",
     "text": [
      "/home/dalifreire/.local/lib/python3.8/site-packages/sklearn/metrics/_classification.py:1221: UndefinedMetricWarning: Precision is ill-defined and being set to 0.0 due to no predicted samples. Use `zero_division` parameter to control this behavior.\n",
      "  _warn_prf(average, modifier, msg_start, len(result))\n",
      "/home/dalifreire/.local/lib/python3.8/site-packages/sklearn/metrics/_classification.py:1221: UndefinedMetricWarning: Recall is ill-defined and being set to 0.0 due to no true samples. Use `zero_division` parameter to control this behavior.\n",
      "  _warn_prf(average, modifier, msg_start, len(result))\n",
      "/home/dalifreire/.local/lib/python3.8/site-packages/sklearn/metrics/_classification.py:1464: UndefinedMetricWarning: F-score is ill-defined and being set to 0.0 due to no true nor predicted samples. Use `zero_division` parameter to control this behavior.\n",
      "  _warn_prf(\n",
      "/home/dalifreire/.local/lib/python3.8/site-packages/sklearn/metrics/_classification.py:1221: UndefinedMetricWarning: Jaccard is ill-defined and being set to 0.0 due to no true or predicted samples. Use `zero_division` parameter to control this behavior.\n",
      "  _warn_prf(average, modifier, msg_start, len(result))\n"
     ]
    },
    {
     "name": "stdout",
     "output_type": "stream",
     "text": [
      "Results for r4c0.png                   (non_roi - unet     - 1.00 accuracy)\n",
      "Results for r4c1.png                   (non_roi - unet     - 0.99 accuracy)\n",
      "Results for r4c2.png                   (non_roi - unet     - 0.98 accuracy)\n",
      "Results for r5c0.png                   (non_roi - unet     - 1.00 accuracy)\n",
      "Results for r5c1.png                   (non_roi - unet     - 0.88 accuracy)\n",
      "Results for r5c2.png                   (non_roi - unet     - 1.00 accuracy)\n",
      "Results for r6c1.png                   (non_roi - unet     - 0.99 accuracy)\n",
      "Results for r6c2.png                   (non_roi - unet     - 0.99 accuracy)\n"
     ]
    },
    {
     "name": "stderr",
     "output_type": "stream",
     "text": [
      "2021-06-04 01:54:39,670 :: INFO extract_normal_region_from_wsi :: \t Extracting normal regions from wsi image: 'TCGA-CN-5355-01Z-00-DX1.8fb23e44-fc59-4191-b825-cc021807a338_1.png'\n"
     ]
    },
    {
     "name": "stdout",
     "output_type": "stream",
     "text": [
      "Results for r0c1.png                   (roi     - unet     - 0.70 accuracy)\n",
      "Results for r0c2.png                   (roi     - unet     - 0.62 accuracy)\n",
      "Results for r0c3.png                   (roi     - unet     - 0.68 accuracy)\n",
      "Results for r1c0.png                   (roi     - unet     - 0.90 accuracy)\n",
      "Results for r1c1.png                   (roi     - unet     - 0.77 accuracy)\n",
      "Results for r1c2.png                   (roi     - unet     - 0.65 accuracy)\n",
      "Results for r1c3.png                   (roi     - unet     - 0.89 accuracy)\n",
      "Results for r1c4.png                   (roi     - unet     - 0.87 accuracy)\n",
      "Results for r1c5.png                   (roi     - unet     - 0.57 accuracy)\n",
      "Results for r1c6.png                   (roi     - unet     - 0.98 accuracy)\n",
      "Results for r2c0.png                   (roi     - unet     - 0.82 accuracy)\n",
      "Results for r2c1.png                   (roi     - unet     - 0.90 accuracy)\n",
      "Results for r2c2.png                   (roi     - unet     - 0.94 accuracy)\n",
      "Results for r2c3.png                   (roi     - unet     - 0.70 accuracy)\n",
      "Results for r2c4.png                   (roi     - unet     - 0.91 accuracy)\n",
      "Results for r2c5.png                   (roi     - unet     - 0.89 accuracy)\n",
      "Results for r2c6.png                   (roi     - unet     - 0.99 accuracy)\n"
     ]
    },
    {
     "name": "stderr",
     "output_type": "stream",
     "text": [
      "/home/dalifreire/.local/lib/python3.8/site-packages/sklearn/metrics/_classification.py:1221: UndefinedMetricWarning: Precision is ill-defined and being set to 0.0 due to no predicted samples. Use `zero_division` parameter to control this behavior.\n",
      "  _warn_prf(average, modifier, msg_start, len(result))\n"
     ]
    },
    {
     "name": "stdout",
     "output_type": "stream",
     "text": [
      "Results for r3c1.png                   (roi     - unet     - 0.93 accuracy)\n",
      "Results for r3c2.png                   (roi     - unet     - 0.96 accuracy)\n",
      "Results for r3c3.png                   (roi     - unet     - 0.79 accuracy)\n",
      "Results for r3c4.png                   (roi     - unet     - 0.87 accuracy)\n",
      "Results for r3c5.png                   (roi     - unet     - 0.96 accuracy)\n",
      "Results for r3c6.png                   (roi     - unet     - 0.80 accuracy)\n",
      "Results for r4c3.png                   (roi     - unet     - 0.95 accuracy)\n",
      "Results for r4c4.png                   (roi     - unet     - 0.54 accuracy)\n",
      "Results for r4c5.png                   (roi     - unet     - 0.80 accuracy)\n",
      "Results for r4c6.png                   (roi     - unet     - 0.83 accuracy)\n",
      "Results for r5c3.png                   (roi     - unet     - 0.82 accuracy)\n",
      "Results for r5c4.png                   (roi     - unet     - 0.52 accuracy)\n",
      "Results for r5c5.png                   (roi     - unet     - 0.46 accuracy)\n",
      "Results for r5c6.png                   (roi     - unet     - 0.82 accuracy)\n",
      "Results for r6c2.png                   (roi     - unet     - 0.95 accuracy)\n",
      "Results for r6c3.png                   (roi     - unet     - 0.66 accuracy)\n",
      "Results for r6c4.png                   (roi     - unet     - 0.93 accuracy)\n",
      "Results for r6c5.png                   (roi     - unet     - 0.99 accuracy)\n"
     ]
    },
    {
     "name": "stderr",
     "output_type": "stream",
     "text": [
      "/home/dalifreire/.local/lib/python3.8/site-packages/sklearn/metrics/_classification.py:1221: UndefinedMetricWarning: Precision is ill-defined and being set to 0.0 due to no predicted samples. Use `zero_division` parameter to control this behavior.\n",
      "  _warn_prf(average, modifier, msg_start, len(result))\n",
      "/home/dalifreire/.local/lib/python3.8/site-packages/sklearn/metrics/_classification.py:1221: UndefinedMetricWarning: Recall is ill-defined and being set to 0.0 due to no true samples. Use `zero_division` parameter to control this behavior.\n",
      "  _warn_prf(average, modifier, msg_start, len(result))\n",
      "/home/dalifreire/.local/lib/python3.8/site-packages/sklearn/metrics/_classification.py:1464: UndefinedMetricWarning: F-score is ill-defined and being set to 0.0 due to no true nor predicted samples. Use `zero_division` parameter to control this behavior.\n",
      "  _warn_prf(\n",
      "/home/dalifreire/.local/lib/python3.8/site-packages/sklearn/metrics/_classification.py:1221: UndefinedMetricWarning: Jaccard is ill-defined and being set to 0.0 due to no true or predicted samples. Use `zero_division` parameter to control this behavior.\n",
      "  _warn_prf(average, modifier, msg_start, len(result))\n"
     ]
    },
    {
     "name": "stdout",
     "output_type": "stream",
     "text": [
      "Results for r0c4.png                   (non_roi - unet     - 1.00 accuracy)\n",
      "Results for r0c5.png                   (non_roi - unet     - 0.81 accuracy)\n",
      "Results for r3c0.png                   (non_roi - unet     - 1.00 accuracy)\n",
      "Results for r4c0.png                   (non_roi - unet     - 1.00 accuracy)\n",
      "Results for r4c1.png                   (non_roi - unet     - 1.00 accuracy)\n",
      "Results for r4c2.png                   (non_roi - unet     - 0.99 accuracy)\n",
      "Results for r5c0.png                   (non_roi - unet     - 1.00 accuracy)\n",
      "Results for r5c1.png                   (non_roi - unet     - 0.89 accuracy)\n",
      "Results for r5c2.png                   (non_roi - unet     - 0.95 accuracy)\n",
      "Results for r6c1.png                   (non_roi - unet     - 1.00 accuracy)\n"
     ]
    },
    {
     "name": "stderr",
     "output_type": "stream",
     "text": [
      "2021-06-04 01:57:55,226 :: INFO extract_normal_region_from_wsi :: \t Extracting normal regions from wsi image: 'TCGA-CN-5356-01Z-00-DX1.53360c41-d0d2-465e-8b53-ccd1a2ce248f_0.png'\n"
     ]
    },
    {
     "name": "stdout",
     "output_type": "stream",
     "text": [
      "Results for r0c1.png                   (roi     - unet     - 0.98 accuracy)\n",
      "Results for r0c2.png                   (roi     - unet     - 0.92 accuracy)\n",
      "Results for r0c3.png                   (roi     - unet     - 0.79 accuracy)\n",
      "Results for r0c4.png                   (roi     - unet     - 0.88 accuracy)\n",
      "Results for r0c5.png                   (roi     - unet     - 0.98 accuracy)\n",
      "Results for r1c1.png                   (roi     - unet     - 0.78 accuracy)\n",
      "Results for r1c2.png                   (roi     - unet     - 0.96 accuracy)\n",
      "Results for r1c3.png                   (roi     - unet     - 0.98 accuracy)\n",
      "Results for r1c4.png                   (roi     - unet     - 0.98 accuracy)\n",
      "Results for r1c5.png                   (roi     - unet     - 0.99 accuracy)\n",
      "Results for r1c6.png                   (roi     - unet     - 0.99 accuracy)\n",
      "Results for r2c0.png                   (roi     - unet     - 0.36 accuracy)\n",
      "Results for r2c1.png                   (roi     - unet     - 0.50 accuracy)\n",
      "Results for r2c2.png                   (roi     - unet     - 0.96 accuracy)\n",
      "Results for r2c3.png                   (roi     - unet     - 0.97 accuracy)\n",
      "Results for r2c4.png                   (roi     - unet     - 0.98 accuracy)\n",
      "Results for r2c5.png                   (roi     - unet     - 0.89 accuracy)\n",
      "Results for r2c6.png                   (roi     - unet     - 0.84 accuracy)\n",
      "Results for r3c0.png                   (roi     - unet     - 0.72 accuracy)\n",
      "Results for r3c2.png                   (roi     - unet     - 0.73 accuracy)\n",
      "Results for r3c3.png                   (roi     - unet     - 0.88 accuracy)\n",
      "Results for r3c4.png                   (roi     - unet     - 0.98 accuracy)\n",
      "Results for r3c5.png                   (roi     - unet     - 0.90 accuracy)\n",
      "Results for r3c6.png                   (roi     - unet     - 0.91 accuracy)\n",
      "Results for r4c0.png                   (roi     - unet     - 0.59 accuracy)\n",
      "Results for r4c4.png                   (roi     - unet     - 0.88 accuracy)\n",
      "Results for r4c5.png                   (roi     - unet     - 0.90 accuracy)\n",
      "Results for r4c6.png                   (roi     - unet     - 0.96 accuracy)\n",
      "Results for r5c6.png                   (roi     - unet     - 0.77 accuracy)\n",
      "Results for r6c4.png                   (roi     - unet     - 0.91 accuracy)\n"
     ]
    },
    {
     "name": "stderr",
     "output_type": "stream",
     "text": [
      "/home/dalifreire/.local/lib/python3.8/site-packages/sklearn/metrics/_classification.py:1221: UndefinedMetricWarning: Recall is ill-defined and being set to 0.0 due to no true samples. Use `zero_division` parameter to control this behavior.\n",
      "  _warn_prf(average, modifier, msg_start, len(result))\n"
     ]
    },
    {
     "name": "stdout",
     "output_type": "stream",
     "text": [
      "Results for r1c0.png                   (non_roi - unet     - 0.66 accuracy)\n",
      "Results for r3c1.png                   (non_roi - unet     - 0.98 accuracy)\n",
      "Results for r4c1.png                   (non_roi - unet     - 0.15 accuracy)\n"
     ]
    },
    {
     "name": "stderr",
     "output_type": "stream",
     "text": [
      "/home/dalifreire/.local/lib/python3.8/site-packages/sklearn/metrics/_classification.py:1221: UndefinedMetricWarning: Precision is ill-defined and being set to 0.0 due to no predicted samples. Use `zero_division` parameter to control this behavior.\n",
      "  _warn_prf(average, modifier, msg_start, len(result))\n",
      "/home/dalifreire/.local/lib/python3.8/site-packages/sklearn/metrics/_classification.py:1464: UndefinedMetricWarning: F-score is ill-defined and being set to 0.0 due to no true nor predicted samples. Use `zero_division` parameter to control this behavior.\n",
      "  _warn_prf(\n",
      "/home/dalifreire/.local/lib/python3.8/site-packages/sklearn/metrics/_classification.py:1221: UndefinedMetricWarning: Jaccard is ill-defined and being set to 0.0 due to no true or predicted samples. Use `zero_division` parameter to control this behavior.\n",
      "  _warn_prf(average, modifier, msg_start, len(result))\n"
     ]
    },
    {
     "name": "stdout",
     "output_type": "stream",
     "text": [
      "Results for r4c2.png                   (non_roi - unet     - 1.00 accuracy)\n",
      "Results for r4c3.png                   (non_roi - unet     - 0.96 accuracy)\n",
      "Results for r5c0.png                   (non_roi - unet     - 0.65 accuracy)\n",
      "Results for r5c1.png                   (non_roi - unet     - 1.00 accuracy)\n",
      "Results for r5c2.png                   (non_roi - unet     - 1.00 accuracy)\n",
      "Results for r5c3.png                   (non_roi - unet     - 0.72 accuracy)\n",
      "Results for r5c4.png                   (non_roi - unet     - 0.49 accuracy)\n",
      "Results for r5c5.png                   (non_roi - unet     - 0.63 accuracy)\n",
      "Results for r6c1.png                   (non_roi - unet     - 1.00 accuracy)\n",
      "Results for r6c2.png                   (non_roi - unet     - 0.99 accuracy)\n",
      "Results for r6c3.png                   (non_roi - unet     - 0.46 accuracy)\n",
      "Results for r6c5.png                   (non_roi - unet     - 0.65 accuracy)\n"
     ]
    },
    {
     "name": "stderr",
     "output_type": "stream",
     "text": [
      "2021-06-04 02:01:11,813 :: INFO extract_normal_region_from_wsi :: \t Extracting normal regions from wsi image: 'TCGA-CN-5356-01Z-00-DX1.53360c41-d0d2-465e-8b53-ccd1a2ce248f_1.png'\n"
     ]
    },
    {
     "name": "stdout",
     "output_type": "stream",
     "text": [
      "Results for r1c1.png                   (roi     - unet     - 0.95 accuracy)\n",
      "Results for r1c2.png                   (roi     - unet     - 0.87 accuracy)\n",
      "Results for r1c4.png                   (roi     - unet     - 0.93 accuracy)\n",
      "Results for r1c5.png                   (roi     - unet     - 0.94 accuracy)\n",
      "Results for r1c6.png                   (roi     - unet     - 0.85 accuracy)\n",
      "Results for r2c1.png                   (roi     - unet     - 0.77 accuracy)\n",
      "Results for r2c2.png                   (roi     - unet     - 0.97 accuracy)\n",
      "Results for r2c3.png                   (roi     - unet     - 0.76 accuracy)\n",
      "Results for r2c4.png                   (roi     - unet     - 0.92 accuracy)\n",
      "Results for r2c5.png                   (roi     - unet     - 0.85 accuracy)\n",
      "Results for r2c6.png                   (roi     - unet     - 0.95 accuracy)\n",
      "Results for r3c0.png                   (roi     - unet     - 0.79 accuracy)\n",
      "Results for r3c1.png                   (roi     - unet     - 0.93 accuracy)\n",
      "Results for r3c2.png                   (roi     - unet     - 0.97 accuracy)\n",
      "Results for r3c3.png                   (roi     - unet     - 0.92 accuracy)\n",
      "Results for r3c4.png                   (roi     - unet     - 0.94 accuracy)\n",
      "Results for r3c5.png                   (roi     - unet     - 0.86 accuracy)\n",
      "Results for r3c6.png                   (roi     - unet     - 0.92 accuracy)\n",
      "Results for r4c0.png                   (roi     - unet     - 0.99 accuracy)\n",
      "Results for r4c1.png                   (roi     - unet     - 0.94 accuracy)\n",
      "Results for r4c2.png                   (roi     - unet     - 0.97 accuracy)\n",
      "Results for r4c3.png                   (roi     - unet     - 0.95 accuracy)\n",
      "Results for r4c4.png                   (roi     - unet     - 0.94 accuracy)\n",
      "Results for r4c5.png                   (roi     - unet     - 0.91 accuracy)\n",
      "Results for r4c6.png                   (roi     - unet     - 0.90 accuracy)\n",
      "Results for r5c0.png                   (roi     - unet     - 0.65 accuracy)\n",
      "Results for r5c1.png                   (roi     - unet     - 0.96 accuracy)\n",
      "Results for r5c2.png                   (roi     - unet     - 0.96 accuracy)\n",
      "Results for r5c3.png                   (roi     - unet     - 0.91 accuracy)\n",
      "Results for r5c4.png                   (roi     - unet     - 0.88 accuracy)\n",
      "Results for r5c5.png                   (roi     - unet     - 0.86 accuracy)\n",
      "Results for r5c6.png                   (roi     - unet     - 0.94 accuracy)\n"
     ]
    },
    {
     "name": "stderr",
     "output_type": "stream",
     "text": [
      "/home/dalifreire/.local/lib/python3.8/site-packages/sklearn/metrics/_classification.py:1221: UndefinedMetricWarning: Precision is ill-defined and being set to 0.0 due to no predicted samples. Use `zero_division` parameter to control this behavior.\n",
      "  _warn_prf(average, modifier, msg_start, len(result))\n"
     ]
    },
    {
     "name": "stdout",
     "output_type": "stream",
     "text": [
      "Results for r6c1.png                   (roi     - unet     - 0.63 accuracy)\n",
      "Results for r6c2.png                   (roi     - unet     - 0.99 accuracy)\n",
      "Results for r6c3.png                   (roi     - unet     - 0.71 accuracy)\n",
      "Results for r6c4.png                   (roi     - unet     - 0.82 accuracy)\n",
      "Results for r6c5.png                   (roi     - unet     - 0.96 accuracy)\n"
     ]
    },
    {
     "name": "stderr",
     "output_type": "stream",
     "text": [
      "/home/dalifreire/.local/lib/python3.8/site-packages/sklearn/metrics/_classification.py:1221: UndefinedMetricWarning: Precision is ill-defined and being set to 0.0 due to no predicted samples. Use `zero_division` parameter to control this behavior.\n",
      "  _warn_prf(average, modifier, msg_start, len(result))\n",
      "/home/dalifreire/.local/lib/python3.8/site-packages/sklearn/metrics/_classification.py:1221: UndefinedMetricWarning: Recall is ill-defined and being set to 0.0 due to no true samples. Use `zero_division` parameter to control this behavior.\n",
      "  _warn_prf(average, modifier, msg_start, len(result))\n",
      "/home/dalifreire/.local/lib/python3.8/site-packages/sklearn/metrics/_classification.py:1464: UndefinedMetricWarning: F-score is ill-defined and being set to 0.0 due to no true nor predicted samples. Use `zero_division` parameter to control this behavior.\n",
      "  _warn_prf(\n",
      "/home/dalifreire/.local/lib/python3.8/site-packages/sklearn/metrics/_classification.py:1221: UndefinedMetricWarning: Jaccard is ill-defined and being set to 0.0 due to no true or predicted samples. Use `zero_division` parameter to control this behavior.\n",
      "  _warn_prf(average, modifier, msg_start, len(result))\n"
     ]
    },
    {
     "name": "stdout",
     "output_type": "stream",
     "text": [
      "Results for r0c1.png                   (non_roi - unet     - 1.00 accuracy)\n",
      "Results for r0c2.png                   (non_roi - unet     - 1.00 accuracy)\n",
      "Results for r0c3.png                   (non_roi - unet     - 0.11 accuracy)\n",
      "Results for r0c4.png                   (non_roi - unet     - 0.78 accuracy)\n",
      "Results for r0c5.png                   (non_roi - unet     - 0.75 accuracy)\n",
      "Results for r1c0.png                   (non_roi - unet     - 0.70 accuracy)\n",
      "Results for r1c3.png                   (non_roi - unet     - 0.94 accuracy)\n",
      "Results for r2c0.png                   (non_roi - unet     - 0.89 accuracy)\n"
     ]
    },
    {
     "name": "stderr",
     "output_type": "stream",
     "text": [
      "2021-06-04 02:04:30,639 :: INFO extract_normal_region_from_wsi :: \t Extracting normal regions from wsi image: 'TCGA-CN-5358-01Z-00-DX1.6554cdc1-7d01-4310-a60a-79b8ed7a8679_0.png'\n"
     ]
    },
    {
     "name": "stdout",
     "output_type": "stream",
     "text": [
      "Results for r0c1.png                   (roi     - unet     - 1.00 accuracy)\n",
      "Results for r0c2.png                   (roi     - unet     - 1.00 accuracy)\n",
      "Results for r0c3.png                   (roi     - unet     - 0.98 accuracy)\n",
      "Results for r0c4.png                   (roi     - unet     - 0.94 accuracy)\n",
      "Results for r0c5.png                   (roi     - unet     - 0.95 accuracy)\n",
      "Results for r1c0.png                   (roi     - unet     - 1.00 accuracy)\n",
      "Results for r1c1.png                   (roi     - unet     - 0.91 accuracy)\n",
      "Results for r1c2.png                   (roi     - unet     - 0.36 accuracy)\n",
      "Results for r1c3.png                   (roi     - unet     - 0.15 accuracy)\n",
      "Results for r1c4.png                   (roi     - unet     - 0.87 accuracy)\n",
      "Results for r1c5.png                   (roi     - unet     - 0.90 accuracy)\n",
      "Results for r1c6.png                   (roi     - unet     - 1.00 accuracy)\n",
      "Results for r2c0.png                   (roi     - unet     - 0.73 accuracy)\n",
      "Results for r2c1.png                   (roi     - unet     - 0.43 accuracy)\n",
      "Results for r2c2.png                   (roi     - unet     - 0.36 accuracy)\n",
      "Results for r2c3.png                   (roi     - unet     - 0.41 accuracy)\n",
      "Results for r2c4.png                   (roi     - unet     - 0.84 accuracy)\n",
      "Results for r2c5.png                   (roi     - unet     - 0.39 accuracy)\n",
      "Results for r2c6.png                   (roi     - unet     - 0.78 accuracy)\n",
      "Results for r3c0.png                   (roi     - unet     - 0.61 accuracy)\n",
      "Results for r3c1.png                   (roi     - unet     - 0.84 accuracy)\n",
      "Results for r3c2.png                   (roi     - unet     - 0.65 accuracy)\n",
      "Results for r3c3.png                   (roi     - unet     - 0.69 accuracy)\n",
      "Results for r3c4.png                   (roi     - unet     - 0.49 accuracy)\n",
      "Results for r3c5.png                   (roi     - unet     - 0.72 accuracy)\n",
      "Results for r3c6.png                   (roi     - unet     - 0.79 accuracy)\n",
      "Results for r4c0.png                   (roi     - unet     - 0.88 accuracy)\n",
      "Results for r4c1.png                   (roi     - unet     - 0.79 accuracy)\n"
     ]
    },
    {
     "name": "stderr",
     "output_type": "stream",
     "text": [
      "/home/dalifreire/.local/lib/python3.8/site-packages/sklearn/metrics/_classification.py:1221: UndefinedMetricWarning: Precision is ill-defined and being set to 0.0 due to no predicted samples. Use `zero_division` parameter to control this behavior.\n",
      "  _warn_prf(average, modifier, msg_start, len(result))\n"
     ]
    },
    {
     "name": "stdout",
     "output_type": "stream",
     "text": [
      "Results for r4c2.png                   (roi     - unet     - 0.74 accuracy)\n",
      "Results for r4c3.png                   (roi     - unet     - 0.83 accuracy)\n",
      "Results for r4c4.png                   (roi     - unet     - 0.56 accuracy)\n",
      "Results for r4c5.png                   (roi     - unet     - 0.37 accuracy)\n",
      "Results for r4c6.png                   (roi     - unet     - 0.91 accuracy)\n",
      "Results for r5c0.png                   (roi     - unet     - 0.94 accuracy)\n",
      "Results for r5c1.png                   (roi     - unet     - 0.55 accuracy)\n",
      "Results for r5c2.png                   (roi     - unet     - 0.58 accuracy)\n",
      "Results for r5c4.png                   (roi     - unet     - 0.74 accuracy)\n",
      "Results for r5c5.png                   (roi     - unet     - 0.49 accuracy)\n",
      "Results for r5c6.png                   (roi     - unet     - 0.70 accuracy)\n",
      "Results for r6c1.png                   (roi     - unet     - 0.85 accuracy)\n",
      "Results for r6c2.png                   (roi     - unet     - 0.53 accuracy)\n",
      "Results for r6c3.png                   (roi     - unet     - 0.46 accuracy)\n",
      "Results for r6c4.png                   (roi     - unet     - 0.37 accuracy)\n",
      "Results for r6c5.png                   (roi     - unet     - 0.72 accuracy)\n"
     ]
    },
    {
     "name": "stderr",
     "output_type": "stream",
     "text": [
      "/home/dalifreire/.local/lib/python3.8/site-packages/sklearn/metrics/_classification.py:1221: UndefinedMetricWarning: Recall is ill-defined and being set to 0.0 due to no true samples. Use `zero_division` parameter to control this behavior.\n",
      "  _warn_prf(average, modifier, msg_start, len(result))\n"
     ]
    },
    {
     "name": "stdout",
     "output_type": "stream",
     "text": [
      "Results for r5c3.png                   (non_roi - unet     - 0.19 accuracy)\n"
     ]
    },
    {
     "name": "stderr",
     "output_type": "stream",
     "text": [
      "2021-06-04 02:07:49,579 :: INFO extract_normal_region_from_wsi :: \t Extracting normal regions from wsi image: 'TCGA-CN-5358-01Z-00-DX1.6554cdc1-7d01-4310-a60a-79b8ed7a8679_1.png'\n"
     ]
    },
    {
     "name": "stdout",
     "output_type": "stream",
     "text": [
      "Results for r0c1.png                   (roi     - unet     - 0.95 accuracy)\n",
      "Results for r0c2.png                   (roi     - unet     - 0.87 accuracy)\n",
      "Results for r0c3.png                   (roi     - unet     - 0.95 accuracy)\n",
      "Results for r0c4.png                   (roi     - unet     - 0.62 accuracy)\n"
     ]
    },
    {
     "name": "stderr",
     "output_type": "stream",
     "text": [
      "/home/dalifreire/.local/lib/python3.8/site-packages/sklearn/metrics/_classification.py:1221: UndefinedMetricWarning: Precision is ill-defined and being set to 0.0 due to no predicted samples. Use `zero_division` parameter to control this behavior.\n",
      "  _warn_prf(average, modifier, msg_start, len(result))\n"
     ]
    },
    {
     "name": "stdout",
     "output_type": "stream",
     "text": [
      "Results for r0c5.png                   (roi     - unet     - 0.76 accuracy)\n",
      "Results for r1c2.png                   (roi     - unet     - 0.65 accuracy)\n",
      "Results for r1c3.png                   (roi     - unet     - 0.92 accuracy)\n",
      "Results for r1c4.png                   (roi     - unet     - 0.76 accuracy)\n",
      "Results for r1c5.png                   (roi     - unet     - 0.31 accuracy)\n"
     ]
    },
    {
     "name": "stderr",
     "output_type": "stream",
     "text": [
      "/home/dalifreire/.local/lib/python3.8/site-packages/sklearn/metrics/_classification.py:1221: UndefinedMetricWarning: Precision is ill-defined and being set to 0.0 due to no predicted samples. Use `zero_division` parameter to control this behavior.\n",
      "  _warn_prf(average, modifier, msg_start, len(result))\n"
     ]
    },
    {
     "name": "stdout",
     "output_type": "stream",
     "text": [
      "Results for r1c6.png                   (roi     - unet     - 0.92 accuracy)\n",
      "Results for r2c0.png                   (roi     - unet     - 0.46 accuracy)\n",
      "Results for r2c1.png                   (roi     - unet     - 0.22 accuracy)\n",
      "Results for r2c2.png                   (roi     - unet     - 0.64 accuracy)\n",
      "Results for r2c3.png                   (roi     - unet     - 0.97 accuracy)\n",
      "Results for r2c5.png                   (roi     - unet     - 0.75 accuracy)\n",
      "Results for r2c6.png                   (roi     - unet     - 0.97 accuracy)\n",
      "Results for r3c0.png                   (roi     - unet     - 0.17 accuracy)\n",
      "Results for r3c1.png                   (roi     - unet     - 0.49 accuracy)\n",
      "Results for r3c2.png                   (roi     - unet     - 0.41 accuracy)\n",
      "Results for r3c3.png                   (roi     - unet     - 0.98 accuracy)\n",
      "Results for r3c4.png                   (roi     - unet     - 0.91 accuracy)\n",
      "Results for r3c5.png                   (roi     - unet     - 0.18 accuracy)\n",
      "Results for r3c6.png                   (roi     - unet     - 0.81 accuracy)\n",
      "Results for r4c1.png                   (roi     - unet     - 0.23 accuracy)\n",
      "Results for r4c2.png                   (roi     - unet     - 0.87 accuracy)\n",
      "Results for r4c3.png                   (roi     - unet     - 0.86 accuracy)\n",
      "Results for r4c4.png                   (roi     - unet     - 0.86 accuracy)\n",
      "Results for r4c5.png                   (roi     - unet     - 0.90 accuracy)\n",
      "Results for r4c6.png                   (roi     - unet     - 0.80 accuracy)\n",
      "Results for r5c3.png                   (roi     - unet     - 0.77 accuracy)\n",
      "Results for r5c4.png                   (roi     - unet     - 0.63 accuracy)\n",
      "Results for r5c5.png                   (roi     - unet     - 0.53 accuracy)\n",
      "Results for r5c6.png                   (roi     - unet     - 0.96 accuracy)\n",
      "Results for r6c4.png                   (roi     - unet     - 0.42 accuracy)\n"
     ]
    },
    {
     "name": "stderr",
     "output_type": "stream",
     "text": [
      "/home/dalifreire/.local/lib/python3.8/site-packages/sklearn/metrics/_classification.py:1221: UndefinedMetricWarning: Recall is ill-defined and being set to 0.0 due to no true samples. Use `zero_division` parameter to control this behavior.\n",
      "  _warn_prf(average, modifier, msg_start, len(result))\n"
     ]
    },
    {
     "name": "stdout",
     "output_type": "stream",
     "text": [
      "Results for r1c0.png                   (non_roi - unet     - 0.72 accuracy)\n",
      "Results for r1c1.png                   (non_roi - unet     - 0.24 accuracy)\n",
      "Results for r2c4.png                   (non_roi - unet     - 1.00 accuracy)\n",
      "Results for r4c0.png                   (non_roi - unet     - 0.23 accuracy)\n",
      "Results for r5c0.png                   (non_roi - unet     - 0.66 accuracy)\n",
      "Results for r5c1.png                   (non_roi - unet     - 0.67 accuracy)\n",
      "Results for r5c2.png                   (non_roi - unet     - 0.87 accuracy)\n",
      "Results for r6c1.png                   (non_roi - unet     - 0.67 accuracy)\n",
      "Results for r6c2.png                   (non_roi - unet     - 0.48 accuracy)\n",
      "Results for r6c3.png                   (non_roi - unet     - 0.19 accuracy)\n",
      "Results for r6c5.png                   (non_roi - unet     - 0.64 accuracy)\n"
     ]
    },
    {
     "name": "stderr",
     "output_type": "stream",
     "text": [
      "2021-06-04 02:11:04,365 :: INFO extract_normal_region_from_wsi :: \t Extracting normal regions from wsi image: 'TCGA-CN-5359-01Z-00-DX1.30a19cad-c2b0-4c5f-bd5d-89aa8ac2bb91_0.png'\n",
      "/home/dalifreire/.local/lib/python3.8/site-packages/sklearn/metrics/_classification.py:1221: UndefinedMetricWarning: Precision is ill-defined and being set to 0.0 due to no predicted samples. Use `zero_division` parameter to control this behavior.\n",
      "  _warn_prf(average, modifier, msg_start, len(result))\n"
     ]
    },
    {
     "name": "stdout",
     "output_type": "stream",
     "text": [
      "Results for r0c1.png                   (roi     - unet     - 0.72 accuracy)\n",
      "Results for r0c2.png                   (roi     - unet     - 0.92 accuracy)\n",
      "Results for r0c3.png                   (roi     - unet     - 0.94 accuracy)\n",
      "Results for r0c4.png                   (roi     - unet     - 0.94 accuracy)\n",
      "Results for r1c1.png                   (roi     - unet     - 0.96 accuracy)\n",
      "Results for r1c2.png                   (roi     - unet     - 0.93 accuracy)\n",
      "Results for r1c3.png                   (roi     - unet     - 0.92 accuracy)\n",
      "Results for r1c4.png                   (roi     - unet     - 0.83 accuracy)\n",
      "Results for r2c1.png                   (roi     - unet     - 0.97 accuracy)\n",
      "Results for r2c2.png                   (roi     - unet     - 0.75 accuracy)\n",
      "Results for r2c3.png                   (roi     - unet     - 0.66 accuracy)\n",
      "Results for r2c4.png                   (roi     - unet     - 0.89 accuracy)\n",
      "Results for r3c1.png                   (roi     - unet     - 0.83 accuracy)\n",
      "Results for r3c2.png                   (roi     - unet     - 0.90 accuracy)\n",
      "Results for r3c3.png                   (roi     - unet     - 0.96 accuracy)\n",
      "Results for r3c4.png                   (roi     - unet     - 0.90 accuracy)\n",
      "Results for r3c5.png                   (roi     - unet     - 0.95 accuracy)\n",
      "Results for r4c1.png                   (roi     - unet     - 0.91 accuracy)\n",
      "Results for r4c2.png                   (roi     - unet     - 0.91 accuracy)\n",
      "Results for r4c3.png                   (roi     - unet     - 0.83 accuracy)\n",
      "Results for r4c4.png                   (roi     - unet     - 0.79 accuracy)\n",
      "Results for r4c5.png                   (roi     - unet     - 0.87 accuracy)\n",
      "Results for r4c6.png                   (roi     - unet     - 0.97 accuracy)\n",
      "Results for r5c1.png                   (roi     - unet     - 0.90 accuracy)\n",
      "Results for r5c2.png                   (roi     - unet     - 0.88 accuracy)\n",
      "Results for r5c3.png                   (roi     - unet     - 0.96 accuracy)\n",
      "Results for r5c4.png                   (roi     - unet     - 0.48 accuracy)\n",
      "Results for r5c5.png                   (roi     - unet     - 0.80 accuracy)\n"
     ]
    },
    {
     "name": "stderr",
     "output_type": "stream",
     "text": [
      "/home/dalifreire/.local/lib/python3.8/site-packages/sklearn/metrics/_classification.py:1221: UndefinedMetricWarning: Precision is ill-defined and being set to 0.0 due to no predicted samples. Use `zero_division` parameter to control this behavior.\n",
      "  _warn_prf(average, modifier, msg_start, len(result))\n"
     ]
    },
    {
     "name": "stdout",
     "output_type": "stream",
     "text": [
      "Results for r5c6.png                   (roi     - excluded - 0.97 accuracy)\n",
      "Results for r6c1.png                   (roi     - unet     - 0.95 accuracy)\n",
      "Results for r6c2.png                   (roi     - unet     - 0.85 accuracy)\n",
      "Results for r6c3.png                   (roi     - unet     - 0.94 accuracy)\n",
      "Results for r6c4.png                   (roi     - unet     - 0.89 accuracy)\n",
      "Results for r6c5.png                   (roi     - unet     - 0.94 accuracy)\n"
     ]
    },
    {
     "name": "stderr",
     "output_type": "stream",
     "text": [
      "/home/dalifreire/.local/lib/python3.8/site-packages/sklearn/metrics/_classification.py:1221: UndefinedMetricWarning: Precision is ill-defined and being set to 0.0 due to no predicted samples. Use `zero_division` parameter to control this behavior.\n",
      "  _warn_prf(average, modifier, msg_start, len(result))\n",
      "/home/dalifreire/.local/lib/python3.8/site-packages/sklearn/metrics/_classification.py:1221: UndefinedMetricWarning: Recall is ill-defined and being set to 0.0 due to no true samples. Use `zero_division` parameter to control this behavior.\n",
      "  _warn_prf(average, modifier, msg_start, len(result))\n",
      "/home/dalifreire/.local/lib/python3.8/site-packages/sklearn/metrics/_classification.py:1464: UndefinedMetricWarning: F-score is ill-defined and being set to 0.0 due to no true nor predicted samples. Use `zero_division` parameter to control this behavior.\n",
      "  _warn_prf(\n",
      "/home/dalifreire/.local/lib/python3.8/site-packages/sklearn/metrics/_classification.py:1221: UndefinedMetricWarning: Jaccard is ill-defined and being set to 0.0 due to no true or predicted samples. Use `zero_division` parameter to control this behavior.\n",
      "  _warn_prf(average, modifier, msg_start, len(result))\n"
     ]
    },
    {
     "name": "stdout",
     "output_type": "stream",
     "text": [
      "Results for r0c5.png                   (non_roi - unet     - 1.00 accuracy)\n",
      "Results for r1c0.png                   (non_roi - unet     - 1.00 accuracy)\n",
      "Results for r1c5.png                   (non_roi - unet     - 1.00 accuracy)\n",
      "Results for r1c6.png                   (non_roi - unet     - 1.00 accuracy)\n",
      "Results for r2c0.png                   (non_roi - unet     - 1.00 accuracy)\n",
      "Results for r2c5.png                   (non_roi - unet     - 1.00 accuracy)\n",
      "Results for r2c6.png                   (non_roi - unet     - 1.00 accuracy)\n",
      "Results for r3c0.png                   (non_roi - unet     - 1.00 accuracy)\n",
      "Results for r3c6.png                   (non_roi - unet     - 1.00 accuracy)\n",
      "Results for r4c0.png                   (non_roi - unet     - 1.00 accuracy)\n",
      "Results for r5c0.png                   (non_roi - unet     - 1.00 accuracy)\n"
     ]
    },
    {
     "name": "stderr",
     "output_type": "stream",
     "text": [
      "2021-06-04 02:14:19,603 :: INFO extract_normal_region_from_wsi :: \t Extracting normal regions from wsi image: 'TCGA-CN-5359-01Z-00-DX1.30a19cad-c2b0-4c5f-bd5d-89aa8ac2bb91_1.png'\n"
     ]
    },
    {
     "name": "stdout",
     "output_type": "stream",
     "text": [
      "Results for r0c3.png                   (roi     - unet     - 0.97 accuracy)\n",
      "Results for r0c4.png                   (roi     - unet     - 0.97 accuracy)\n",
      "Results for r1c3.png                   (roi     - unet     - 0.90 accuracy)\n",
      "Results for r1c4.png                   (roi     - unet     - 0.80 accuracy)\n",
      "Results for r1c5.png                   (roi     - unet     - 0.91 accuracy)\n"
     ]
    },
    {
     "name": "stderr",
     "output_type": "stream",
     "text": [
      "/home/dalifreire/.local/lib/python3.8/site-packages/sklearn/metrics/_classification.py:1221: UndefinedMetricWarning: Precision is ill-defined and being set to 0.0 due to no predicted samples. Use `zero_division` parameter to control this behavior.\n",
      "  _warn_prf(average, modifier, msg_start, len(result))\n"
     ]
    },
    {
     "name": "stdout",
     "output_type": "stream",
     "text": [
      "Results for r1c6.png                   (roi     - unet     - 0.96 accuracy)\n",
      "Results for r2c1.png                   (roi     - unet     - 0.92 accuracy)\n",
      "Results for r2c2.png                   (roi     - unet     - 0.73 accuracy)\n",
      "Results for r2c3.png                   (roi     - unet     - 0.87 accuracy)\n",
      "Results for r2c4.png                   (roi     - unet     - 0.92 accuracy)\n",
      "Results for r2c5.png                   (roi     - unet     - 0.94 accuracy)\n",
      "Results for r2c6.png                   (roi     - unet     - 0.82 accuracy)\n",
      "Results for r3c1.png                   (roi     - unet     - 0.86 accuracy)\n",
      "Results for r3c2.png                   (roi     - unet     - 0.79 accuracy)\n",
      "Results for r3c3.png                   (roi     - unet     - 0.95 accuracy)\n",
      "Results for r3c4.png                   (roi     - unet     - 0.93 accuracy)\n",
      "Results for r3c5.png                   (roi     - unet     - 0.94 accuracy)\n",
      "Results for r3c6.png                   (roi     - unet     - 0.90 accuracy)\n",
      "Results for r4c1.png                   (roi     - unet     - 0.76 accuracy)\n",
      "Results for r4c2.png                   (roi     - unet     - 0.95 accuracy)\n",
      "Results for r4c3.png                   (roi     - unet     - 0.94 accuracy)\n",
      "Results for r4c4.png                   (roi     - unet     - 0.91 accuracy)\n",
      "Results for r4c5.png                   (roi     - unet     - 0.97 accuracy)\n",
      "Results for r4c6.png                   (roi     - unet     - 0.97 accuracy)\n",
      "Results for r5c1.png                   (roi     - unet     - 0.80 accuracy)\n",
      "Results for r5c2.png                   (roi     - unet     - 0.79 accuracy)\n",
      "Results for r5c3.png                   (roi     - unet     - 0.91 accuracy)\n",
      "Results for r5c4.png                   (roi     - unet     - 0.71 accuracy)\n",
      "Results for r5c5.png                   (roi     - unet     - 0.95 accuracy)\n",
      "Results for r5c6.png                   (roi     - unet     - 0.99 accuracy)\n",
      "Results for r6c1.png                   (roi     - unet     - 0.90 accuracy)\n",
      "Results for r6c2.png                   (roi     - unet     - 0.90 accuracy)\n",
      "Results for r6c3.png                   (roi     - unet     - 0.86 accuracy)\n",
      "Results for r6c4.png                   (roi     - unet     - 0.62 accuracy)\n",
      "Results for r6c5.png                   (roi     - unet     - 0.72 accuracy)\n"
     ]
    },
    {
     "name": "stderr",
     "output_type": "stream",
     "text": [
      "/home/dalifreire/.local/lib/python3.8/site-packages/sklearn/metrics/_classification.py:1221: UndefinedMetricWarning: Precision is ill-defined and being set to 0.0 due to no predicted samples. Use `zero_division` parameter to control this behavior.\n",
      "  _warn_prf(average, modifier, msg_start, len(result))\n",
      "/home/dalifreire/.local/lib/python3.8/site-packages/sklearn/metrics/_classification.py:1221: UndefinedMetricWarning: Recall is ill-defined and being set to 0.0 due to no true samples. Use `zero_division` parameter to control this behavior.\n",
      "  _warn_prf(average, modifier, msg_start, len(result))\n",
      "/home/dalifreire/.local/lib/python3.8/site-packages/sklearn/metrics/_classification.py:1464: UndefinedMetricWarning: F-score is ill-defined and being set to 0.0 due to no true nor predicted samples. Use `zero_division` parameter to control this behavior.\n",
      "  _warn_prf(\n",
      "/home/dalifreire/.local/lib/python3.8/site-packages/sklearn/metrics/_classification.py:1221: UndefinedMetricWarning: Jaccard is ill-defined and being set to 0.0 due to no true or predicted samples. Use `zero_division` parameter to control this behavior.\n",
      "  _warn_prf(average, modifier, msg_start, len(result))\n"
     ]
    },
    {
     "name": "stdout",
     "output_type": "stream",
     "text": [
      "Results for r0c1.png                   (non_roi - unet     - 1.00 accuracy)\n",
      "Results for r0c2.png                   (non_roi - unet     - 1.00 accuracy)\n",
      "Results for r0c5.png                   (non_roi - unet     - 1.00 accuracy)\n",
      "Results for r1c0.png                   (non_roi - unet     - 1.00 accuracy)\n",
      "Results for r1c1.png                   (non_roi - unet     - 0.83 accuracy)\n",
      "Results for r1c2.png                   (non_roi - unet     - 1.00 accuracy)\n",
      "Results for r2c0.png                   (non_roi - unet     - 1.00 accuracy)\n",
      "Results for r3c0.png                   (non_roi - unet     - 1.00 accuracy)\n",
      "Results for r4c0.png                   (non_roi - unet     - 1.00 accuracy)\n",
      "Results for r5c0.png                   (non_roi - unet     - 1.00 accuracy)\n"
     ]
    },
    {
     "name": "stderr",
     "output_type": "stream",
     "text": [
      "2021-06-04 02:17:36,718 :: INFO extract_normal_region_from_wsi :: \t Extracting normal regions from wsi image: 'TCGA-CN-5360-01Z-00-DX1.d3657b07-9ea0-41fc-b858-c9a1497340c8_0.png'\n"
     ]
    },
    {
     "name": "stdout",
     "output_type": "stream",
     "text": [
      "Results for r0c4.png                   (roi     - unet     - 0.85 accuracy)\n",
      "Results for r0c5.png                   (roi     - unet     - 0.97 accuracy)\n",
      "Results for r1c4.png                   (roi     - unet     - 0.77 accuracy)\n",
      "Results for r1c5.png                   (roi     - unet     - 0.74 accuracy)\n",
      "Results for r1c6.png                   (roi     - unet     - 0.98 accuracy)\n"
     ]
    },
    {
     "name": "stderr",
     "output_type": "stream",
     "text": [
      "/home/dalifreire/.local/lib/python3.8/site-packages/sklearn/metrics/_classification.py:1221: UndefinedMetricWarning: Precision is ill-defined and being set to 0.0 due to no predicted samples. Use `zero_division` parameter to control this behavior.\n",
      "  _warn_prf(average, modifier, msg_start, len(result))\n"
     ]
    },
    {
     "name": "stdout",
     "output_type": "stream",
     "text": [
      "Results for r2c3.png                   (roi     - unet     - 0.93 accuracy)\n",
      "Results for r2c4.png                   (roi     - unet     - 0.84 accuracy)\n",
      "Results for r2c5.png                   (roi     - unet     - 0.77 accuracy)\n",
      "Results for r2c6.png                   (roi     - unet     - 0.93 accuracy)\n",
      "Results for r3c3.png                   (roi     - unet     - 0.83 accuracy)\n",
      "Results for r3c4.png                   (roi     - unet     - 0.89 accuracy)\n",
      "Results for r3c5.png                   (roi     - unet     - 0.82 accuracy)\n",
      "Results for r3c6.png                   (roi     - unet     - 0.87 accuracy)\n",
      "Results for r4c3.png                   (roi     - unet     - 0.80 accuracy)\n",
      "Results for r4c4.png                   (roi     - unet     - 0.96 accuracy)\n",
      "Results for r4c5.png                   (roi     - unet     - 0.87 accuracy)\n",
      "Results for r4c6.png                   (roi     - unet     - 0.74 accuracy)\n",
      "Results for r5c3.png                   (roi     - unet     - 0.81 accuracy)\n",
      "Results for r5c4.png                   (roi     - unet     - 0.12 accuracy)\n"
     ]
    },
    {
     "name": "stderr",
     "output_type": "stream",
     "text": [
      "/home/dalifreire/.local/lib/python3.8/site-packages/sklearn/metrics/_classification.py:1221: UndefinedMetricWarning: Precision is ill-defined and being set to 0.0 due to no predicted samples. Use `zero_division` parameter to control this behavior.\n",
      "  _warn_prf(average, modifier, msg_start, len(result))\n"
     ]
    },
    {
     "name": "stdout",
     "output_type": "stream",
     "text": [
      "Results for r5c5.png                   (roi     - unet     - 0.03 accuracy)\n",
      "Results for r5c6.png                   (roi     - unet     - 0.99 accuracy)\n",
      "Results for r6c3.png                   (roi     - unet     - 0.78 accuracy)\n",
      "Results for r6c4.png                   (roi     - unet     - 0.93 accuracy)\n",
      "Results for r6c5.png                   (roi     - unet     - 0.98 accuracy)\n"
     ]
    },
    {
     "name": "stderr",
     "output_type": "stream",
     "text": [
      "/home/dalifreire/.local/lib/python3.8/site-packages/sklearn/metrics/_classification.py:1221: UndefinedMetricWarning: Precision is ill-defined and being set to 0.0 due to no predicted samples. Use `zero_division` parameter to control this behavior.\n",
      "  _warn_prf(average, modifier, msg_start, len(result))\n",
      "/home/dalifreire/.local/lib/python3.8/site-packages/sklearn/metrics/_classification.py:1221: UndefinedMetricWarning: Recall is ill-defined and being set to 0.0 due to no true samples. Use `zero_division` parameter to control this behavior.\n",
      "  _warn_prf(average, modifier, msg_start, len(result))\n",
      "/home/dalifreire/.local/lib/python3.8/site-packages/sklearn/metrics/_classification.py:1464: UndefinedMetricWarning: F-score is ill-defined and being set to 0.0 due to no true nor predicted samples. Use `zero_division` parameter to control this behavior.\n",
      "  _warn_prf(\n",
      "/home/dalifreire/.local/lib/python3.8/site-packages/sklearn/metrics/_classification.py:1221: UndefinedMetricWarning: Jaccard is ill-defined and being set to 0.0 due to no true or predicted samples. Use `zero_division` parameter to control this behavior.\n",
      "  _warn_prf(average, modifier, msg_start, len(result))\n"
     ]
    },
    {
     "name": "stdout",
     "output_type": "stream",
     "text": [
      "Results for r0c1.png                   (non_roi - unet     - 1.00 accuracy)\n",
      "Results for r0c2.png                   (non_roi - unet     - 1.00 accuracy)\n",
      "Results for r0c3.png                   (non_roi - unet     - 1.00 accuracy)\n",
      "Results for r1c0.png                   (non_roi - unet     - 1.00 accuracy)\n",
      "Results for r1c1.png                   (non_roi - unet     - 1.00 accuracy)\n",
      "Results for r1c2.png                   (non_roi - unet     - 1.00 accuracy)\n",
      "Results for r1c3.png                   (non_roi - unet     - 1.00 accuracy)\n",
      "Results for r2c0.png                   (non_roi - unet     - 1.00 accuracy)\n",
      "Results for r2c1.png                   (non_roi - unet     - 1.00 accuracy)\n",
      "Results for r2c2.png                   (non_roi - unet     - 1.00 accuracy)\n",
      "Results for r3c0.png                   (non_roi - unet     - 1.00 accuracy)\n",
      "Results for r3c1.png                   (non_roi - unet     - 1.00 accuracy)\n",
      "Results for r3c2.png                   (non_roi - unet     - 1.00 accuracy)\n",
      "Results for r4c0.png                   (non_roi - unet     - 1.00 accuracy)\n",
      "Results for r4c1.png                   (non_roi - unet     - 0.49 accuracy)\n",
      "Results for r4c2.png                   (non_roi - unet     - 1.00 accuracy)\n",
      "Results for r5c0.png                   (non_roi - unet     - 0.80 accuracy)\n",
      "Results for r5c1.png                   (non_roi - unet     - 0.91 accuracy)\n",
      "Results for r5c2.png                   (non_roi - unet     - 1.00 accuracy)\n",
      "Results for r6c1.png                   (non_roi - unet     - 1.00 accuracy)\n",
      "Results for r6c2.png                   (non_roi - unet     - 1.00 accuracy)\n"
     ]
    },
    {
     "name": "stderr",
     "output_type": "stream",
     "text": [
      "2021-06-04 02:20:48,954 :: INFO extract_normal_region_from_wsi :: \t Extracting normal regions from wsi image: 'TCGA-CN-5360-01Z-00-DX1.d3657b07-9ea0-41fc-b858-c9a1497340c8_1.png'\n"
     ]
    },
    {
     "name": "stdout",
     "output_type": "stream",
     "text": [
      "Results for r0c4.png                   (roi     - unet     - 0.78 accuracy)\n",
      "Results for r0c5.png                   (roi     - unet     - 0.97 accuracy)\n",
      "Results for r1c4.png                   (roi     - unet     - 0.85 accuracy)\n",
      "Results for r1c5.png                   (roi     - unet     - 0.88 accuracy)\n",
      "Results for r1c6.png                   (roi     - unet     - 0.96 accuracy)\n"
     ]
    },
    {
     "name": "stderr",
     "output_type": "stream",
     "text": [
      "/home/dalifreire/.local/lib/python3.8/site-packages/sklearn/metrics/_classification.py:1221: UndefinedMetricWarning: Precision is ill-defined and being set to 0.0 due to no predicted samples. Use `zero_division` parameter to control this behavior.\n",
      "  _warn_prf(average, modifier, msg_start, len(result))\n"
     ]
    },
    {
     "name": "stdout",
     "output_type": "stream",
     "text": [
      "Results for r2c4.png                   (roi     - unet     - 0.94 accuracy)\n",
      "Results for r2c5.png                   (roi     - unet     - 0.86 accuracy)\n",
      "Results for r2c6.png                   (roi     - unet     - 0.81 accuracy)\n",
      "Results for r3c3.png                   (roi     - unet     - 0.75 accuracy)\n",
      "Results for r3c4.png                   (roi     - unet     - 0.82 accuracy)\n",
      "Results for r3c5.png                   (roi     - unet     - 0.85 accuracy)\n",
      "Results for r3c6.png                   (roi     - unet     - 0.86 accuracy)\n",
      "Results for r4c3.png                   (roi     - unet     - 0.85 accuracy)\n",
      "Results for r4c4.png                   (roi     - unet     - 0.90 accuracy)\n",
      "Results for r4c5.png                   (roi     - unet     - 0.87 accuracy)\n",
      "Results for r4c6.png                   (roi     - unet     - 0.66 accuracy)\n",
      "Results for r5c3.png                   (roi     - unet     - 0.91 accuracy)\n",
      "Results for r5c4.png                   (roi     - unet     - 0.88 accuracy)\n",
      "Results for r5c5.png                   (roi     - unet     - 0.39 accuracy)\n"
     ]
    },
    {
     "name": "stderr",
     "output_type": "stream",
     "text": [
      "/home/dalifreire/.local/lib/python3.8/site-packages/sklearn/metrics/_classification.py:1221: UndefinedMetricWarning: Precision is ill-defined and being set to 0.0 due to no predicted samples. Use `zero_division` parameter to control this behavior.\n",
      "  _warn_prf(average, modifier, msg_start, len(result))\n"
     ]
    },
    {
     "name": "stdout",
     "output_type": "stream",
     "text": [
      "Results for r5c6.png                   (roi     - unet     - 0.67 accuracy)\n",
      "Results for r6c3.png                   (roi     - unet     - 0.82 accuracy)\n",
      "Results for r6c4.png                   (roi     - unet     - 0.85 accuracy)\n",
      "Results for r6c5.png                   (roi     - unet     - 0.97 accuracy)\n"
     ]
    },
    {
     "name": "stderr",
     "output_type": "stream",
     "text": [
      "/home/dalifreire/.local/lib/python3.8/site-packages/sklearn/metrics/_classification.py:1221: UndefinedMetricWarning: Precision is ill-defined and being set to 0.0 due to no predicted samples. Use `zero_division` parameter to control this behavior.\n",
      "  _warn_prf(average, modifier, msg_start, len(result))\n",
      "/home/dalifreire/.local/lib/python3.8/site-packages/sklearn/metrics/_classification.py:1221: UndefinedMetricWarning: Recall is ill-defined and being set to 0.0 due to no true samples. Use `zero_division` parameter to control this behavior.\n",
      "  _warn_prf(average, modifier, msg_start, len(result))\n",
      "/home/dalifreire/.local/lib/python3.8/site-packages/sklearn/metrics/_classification.py:1464: UndefinedMetricWarning: F-score is ill-defined and being set to 0.0 due to no true nor predicted samples. Use `zero_division` parameter to control this behavior.\n",
      "  _warn_prf(\n",
      "/home/dalifreire/.local/lib/python3.8/site-packages/sklearn/metrics/_classification.py:1221: UndefinedMetricWarning: Jaccard is ill-defined and being set to 0.0 due to no true or predicted samples. Use `zero_division` parameter to control this behavior.\n",
      "  _warn_prf(average, modifier, msg_start, len(result))\n"
     ]
    },
    {
     "name": "stdout",
     "output_type": "stream",
     "text": [
      "Results for r0c1.png                   (non_roi - unet     - 1.00 accuracy)\n",
      "Results for r0c2.png                   (non_roi - unet     - 1.00 accuracy)\n",
      "Results for r0c3.png                   (non_roi - unet     - 1.00 accuracy)\n",
      "Results for r1c0.png                   (non_roi - unet     - 1.00 accuracy)\n",
      "Results for r1c1.png                   (non_roi - unet     - 1.00 accuracy)\n",
      "Results for r1c2.png                   (non_roi - unet     - 1.00 accuracy)\n",
      "Results for r1c3.png                   (non_roi - unet     - 1.00 accuracy)\n",
      "Results for r2c0.png                   (non_roi - unet     - 1.00 accuracy)\n",
      "Results for r2c1.png                   (non_roi - unet     - 1.00 accuracy)\n",
      "Results for r2c2.png                   (non_roi - unet     - 1.00 accuracy)\n",
      "Results for r2c3.png                   (non_roi - unet     - 1.00 accuracy)\n",
      "Results for r3c0.png                   (non_roi - unet     - 1.00 accuracy)\n",
      "Results for r3c1.png                   (non_roi - unet     - 1.00 accuracy)\n",
      "Results for r3c2.png                   (non_roi - unet     - 1.00 accuracy)\n",
      "Results for r4c0.png                   (non_roi - unet     - 0.96 accuracy)\n",
      "Results for r4c1.png                   (non_roi - unet     - 1.00 accuracy)\n",
      "Results for r4c2.png                   (non_roi - unet     - 1.00 accuracy)\n",
      "Results for r5c0.png                   (non_roi - unet     - 0.72 accuracy)\n",
      "Results for r5c1.png                   (non_roi - unet     - 0.63 accuracy)\n",
      "Results for r5c2.png                   (non_roi - unet     - 1.00 accuracy)\n",
      "Results for r6c1.png                   (non_roi - unet     - 0.97 accuracy)\n",
      "Results for r6c2.png                   (non_roi - unet     - 1.00 accuracy)\n"
     ]
    },
    {
     "name": "stderr",
     "output_type": "stream",
     "text": [
      "2021-06-04 02:24:00,578 :: INFO extract_normal_region_from_wsi :: \t Extracting normal regions from wsi image: 'TCGA-CN-5361-01Z-00-DX1.719cf77b-0dd4-4419-be8f-0d3dadedd7cb_0.png'\n"
     ]
    },
    {
     "name": "stdout",
     "output_type": "stream",
     "text": [
      "Results for r0c1.png                   (roi     - unet     - 0.81 accuracy)\n"
     ]
    },
    {
     "name": "stderr",
     "output_type": "stream",
     "text": [
      "/home/dalifreire/.local/lib/python3.8/site-packages/sklearn/metrics/_classification.py:1221: UndefinedMetricWarning: Precision is ill-defined and being set to 0.0 due to no predicted samples. Use `zero_division` parameter to control this behavior.\n",
      "  _warn_prf(average, modifier, msg_start, len(result))\n"
     ]
    },
    {
     "name": "stdout",
     "output_type": "stream",
     "text": [
      "Results for r0c2.png                   (roi     - unet     - 0.36 accuracy)\n",
      "Results for r0c3.png                   (roi     - unet     - 0.96 accuracy)\n",
      "Results for r0c4.png                   (roi     - unet     - 0.57 accuracy)\n",
      "Results for r0c5.png                   (roi     - unet     - 0.74 accuracy)\n",
      "Results for r1c0.png                   (roi     - unet     - 0.94 accuracy)\n",
      "Results for r1c1.png                   (roi     - unet     - 0.87 accuracy)\n",
      "Results for r1c2.png                   (roi     - unet     - 0.85 accuracy)\n",
      "Results for r1c3.png                   (roi     - unet     - 0.83 accuracy)\n",
      "Results for r1c4.png                   (roi     - unet     - 0.76 accuracy)\n",
      "Results for r1c5.png                   (roi     - unet     - 0.43 accuracy)\n",
      "Results for r1c6.png                   (roi     - unet     - 0.89 accuracy)\n",
      "Results for r2c0.png                   (roi     - unet     - 0.87 accuracy)\n",
      "Results for r2c1.png                   (roi     - unet     - 0.92 accuracy)\n",
      "Results for r2c2.png                   (roi     - unet     - 0.92 accuracy)\n",
      "Results for r2c3.png                   (roi     - unet     - 0.90 accuracy)\n",
      "Results for r2c4.png                   (roi     - unet     - 0.82 accuracy)\n",
      "Results for r2c5.png                   (roi     - unet     - 0.86 accuracy)\n",
      "Results for r2c6.png                   (roi     - unet     - 0.96 accuracy)\n",
      "Results for r3c0.png                   (roi     - unet     - 0.81 accuracy)\n",
      "Results for r3c1.png                   (roi     - unet     - 0.84 accuracy)\n",
      "Results for r3c2.png                   (roi     - unet     - 0.83 accuracy)\n",
      "Results for r3c3.png                   (roi     - unet     - 0.64 accuracy)\n",
      "Results for r3c4.png                   (roi     - unet     - 0.90 accuracy)\n",
      "Results for r3c5.png                   (roi     - unet     - 0.92 accuracy)\n",
      "Results for r3c6.png                   (roi     - unet     - 0.91 accuracy)\n",
      "Results for r4c0.png                   (roi     - unet     - 0.91 accuracy)\n",
      "Results for r4c1.png                   (roi     - unet     - 0.87 accuracy)\n",
      "Results for r4c2.png                   (roi     - unet     - 0.90 accuracy)\n"
     ]
    },
    {
     "name": "stderr",
     "output_type": "stream",
     "text": [
      "/home/dalifreire/.local/lib/python3.8/site-packages/sklearn/metrics/_classification.py:1221: UndefinedMetricWarning: Precision is ill-defined and being set to 0.0 due to no predicted samples. Use `zero_division` parameter to control this behavior.\n",
      "  _warn_prf(average, modifier, msg_start, len(result))\n"
     ]
    },
    {
     "name": "stdout",
     "output_type": "stream",
     "text": [
      "Results for r4c3.png                   (roi     - unet     - 0.90 accuracy)\n",
      "Results for r4c4.png                   (roi     - unet     - 0.90 accuracy)\n",
      "Results for r4c5.png                   (roi     - unet     - 0.85 accuracy)\n",
      "Results for r4c6.png                   (roi     - unet     - 0.85 accuracy)\n",
      "Results for r5c0.png                   (roi     - unet     - 0.77 accuracy)\n",
      "Results for r5c1.png                   (roi     - unet     - 0.89 accuracy)\n",
      "Results for r5c2.png                   (roi     - unet     - 0.78 accuracy)\n",
      "Results for r5c3.png                   (roi     - unet     - 0.55 accuracy)\n"
     ]
    },
    {
     "name": "stderr",
     "output_type": "stream",
     "text": [
      "/home/dalifreire/.local/lib/python3.8/site-packages/sklearn/metrics/_classification.py:1221: UndefinedMetricWarning: Precision is ill-defined and being set to 0.0 due to no predicted samples. Use `zero_division` parameter to control this behavior.\n",
      "  _warn_prf(average, modifier, msg_start, len(result))\n"
     ]
    },
    {
     "name": "stdout",
     "output_type": "stream",
     "text": [
      "Results for r5c4.png                   (roi     - unet     - 0.91 accuracy)\n",
      "Results for r5c5.png                   (roi     - unet     - 0.79 accuracy)\n",
      "Results for r5c6.png                   (roi     - unet     - 0.97 accuracy)\n",
      "Results for r6c1.png                   (roi     - unet     - 0.94 accuracy)\n",
      "Results for r6c2.png                   (roi     - unet     - 0.85 accuracy)\n",
      "Results for r6c3.png                   (roi     - unet     - 0.86 accuracy)\n",
      "Results for r6c4.png                   (roi     - unet     - 0.88 accuracy)\n",
      "Results for r6c5.png                   (roi     - unet     - 0.89 accuracy)\n"
     ]
    },
    {
     "name": "stderr",
     "output_type": "stream",
     "text": [
      "2021-06-04 02:27:18,825 :: INFO extract_normal_region_from_wsi :: \t Extracting normal regions from wsi image: 'TCGA-CN-5361-01Z-00-DX1.719cf77b-0dd4-4419-be8f-0d3dadedd7cb_1.png'\n"
     ]
    },
    {
     "name": "stdout",
     "output_type": "stream",
     "text": [
      "Results for r0c2.png                   (roi     - unet     - 0.52 accuracy)\n",
      "Results for r0c3.png                   (roi     - unet     - 0.84 accuracy)\n",
      "Results for r0c4.png                   (roi     - unet     - 0.78 accuracy)\n"
     ]
    },
    {
     "name": "stderr",
     "output_type": "stream",
     "text": [
      "/home/dalifreire/.local/lib/python3.8/site-packages/sklearn/metrics/_classification.py:1221: UndefinedMetricWarning: Precision is ill-defined and being set to 0.0 due to no predicted samples. Use `zero_division` parameter to control this behavior.\n",
      "  _warn_prf(average, modifier, msg_start, len(result))\n"
     ]
    },
    {
     "name": "stdout",
     "output_type": "stream",
     "text": [
      "Results for r0c5.png                   (roi     - unet     - 0.79 accuracy)\n",
      "Results for r1c0.png                   (roi     - unet     - 0.83 accuracy)\n",
      "Results for r1c1.png                   (roi     - unet     - 0.83 accuracy)\n",
      "Results for r1c2.png                   (roi     - unet     - 0.85 accuracy)\n",
      "Results for r1c3.png                   (roi     - unet     - 0.93 accuracy)\n",
      "Results for r1c4.png                   (roi     - unet     - 0.92 accuracy)\n",
      "Results for r1c5.png                   (roi     - unet     - 0.97 accuracy)\n"
     ]
    },
    {
     "name": "stderr",
     "output_type": "stream",
     "text": [
      "/home/dalifreire/.local/lib/python3.8/site-packages/sklearn/metrics/_classification.py:1221: UndefinedMetricWarning: Precision is ill-defined and being set to 0.0 due to no predicted samples. Use `zero_division` parameter to control this behavior.\n",
      "  _warn_prf(average, modifier, msg_start, len(result))\n"
     ]
    },
    {
     "name": "stdout",
     "output_type": "stream",
     "text": [
      "Results for r1c6.png                   (roi     - unet     - 0.64 accuracy)\n",
      "Results for r2c0.png                   (roi     - unet     - 0.90 accuracy)\n",
      "Results for r2c1.png                   (roi     - unet     - 0.77 accuracy)\n",
      "Results for r2c2.png                   (roi     - unet     - 0.90 accuracy)\n",
      "Results for r2c3.png                   (roi     - unet     - 0.90 accuracy)\n",
      "Results for r2c4.png                   (roi     - unet     - 0.67 accuracy)\n",
      "Results for r2c5.png                   (roi     - unet     - 0.70 accuracy)\n",
      "Results for r2c6.png                   (roi     - unet     - 0.94 accuracy)\n",
      "Results for r3c0.png                   (roi     - unet     - 0.97 accuracy)\n",
      "Results for r3c1.png                   (roi     - unet     - 0.77 accuracy)\n",
      "Results for r3c2.png                   (roi     - unet     - 0.95 accuracy)\n",
      "Results for r3c3.png                   (roi     - unet     - 0.62 accuracy)\n",
      "Results for r3c5.png                   (roi     - unet     - 0.46 accuracy)\n",
      "Results for r3c6.png                   (roi     - unet     - 0.47 accuracy)\n",
      "Results for r4c0.png                   (roi     - unet     - 0.84 accuracy)\n",
      "Results for r4c1.png                   (roi     - unet     - 0.83 accuracy)\n",
      "Results for r4c2.png                   (roi     - unet     - 0.73 accuracy)\n",
      "Results for r4c3.png                   (roi     - unet     - 0.96 accuracy)\n",
      "Results for r4c4.png                   (roi     - unet     - 0.61 accuracy)\n",
      "Results for r4c5.png                   (roi     - unet     - 0.16 accuracy)\n",
      "Results for r4c6.png                   (roi     - unet     - 0.71 accuracy)\n",
      "Results for r5c0.png                   (roi     - unet     - 0.91 accuracy)\n",
      "Results for r5c1.png                   (roi     - unet     - 0.92 accuracy)\n",
      "Results for r5c2.png                   (roi     - unet     - 0.98 accuracy)\n",
      "Results for r5c3.png                   (roi     - unet     - 0.97 accuracy)\n",
      "Results for r5c4.png                   (roi     - unet     - 0.51 accuracy)\n",
      "Results for r5c5.png                   (roi     - unet     - 0.91 accuracy)\n",
      "Results for r5c6.png                   (roi     - unet     - 0.92 accuracy)\n"
     ]
    },
    {
     "name": "stderr",
     "output_type": "stream",
     "text": [
      "/home/dalifreire/.local/lib/python3.8/site-packages/sklearn/metrics/_classification.py:1221: UndefinedMetricWarning: Precision is ill-defined and being set to 0.0 due to no predicted samples. Use `zero_division` parameter to control this behavior.\n",
      "  _warn_prf(average, modifier, msg_start, len(result))\n"
     ]
    },
    {
     "name": "stdout",
     "output_type": "stream",
     "text": [
      "Results for r6c1.png                   (roi     - unet     - 0.63 accuracy)\n",
      "Results for r6c2.png                   (roi     - unet     - 0.96 accuracy)\n",
      "Results for r6c3.png                   (roi     - unet     - 0.96 accuracy)\n",
      "Results for r6c4.png                   (roi     - unet     - 0.56 accuracy)\n",
      "Results for r6c5.png                   (roi     - unet     - 0.80 accuracy)\n"
     ]
    },
    {
     "name": "stderr",
     "output_type": "stream",
     "text": [
      "/home/dalifreire/.local/lib/python3.8/site-packages/sklearn/metrics/_classification.py:1221: UndefinedMetricWarning: Recall is ill-defined and being set to 0.0 due to no true samples. Use `zero_division` parameter to control this behavior.\n",
      "  _warn_prf(average, modifier, msg_start, len(result))\n"
     ]
    },
    {
     "name": "stdout",
     "output_type": "stream",
     "text": [
      "Results for r0c1.png                   (non_roi - unet     - 0.71 accuracy)\n",
      "Results for r3c4.png                   (non_roi - unet     - 0.06 accuracy)\n"
     ]
    },
    {
     "name": "stderr",
     "output_type": "stream",
     "text": [
      "2021-06-04 02:30:38,113 :: INFO extract_normal_region_from_wsi :: \t Extracting normal regions from wsi image: 'TCGA-CN-5363-01Z-00-DX1.bd9c87d4-de64-4932-a90f-95888150d780_0.png'\n"
     ]
    },
    {
     "name": "stdout",
     "output_type": "stream",
     "text": [
      "Results for r2c5.png                   (roi     - unet     - 0.05 accuracy)\n",
      "Results for r2c6.png                   (roi     - unet     - 0.76 accuracy)\n",
      "Results for r3c2.png                   (roi     - unet     - 0.49 accuracy)\n",
      "Results for r3c3.png                   (roi     - unet     - 0.66 accuracy)\n",
      "Results for r3c4.png                   (roi     - unet     - 0.84 accuracy)\n",
      "Results for r3c5.png                   (roi     - unet     - 0.93 accuracy)\n",
      "Results for r3c6.png                   (roi     - unet     - 0.97 accuracy)\n",
      "Results for r4c0.png                   (roi     - unet     - 0.91 accuracy)\n",
      "Results for r4c1.png                   (roi     - unet     - 0.80 accuracy)\n",
      "Results for r4c2.png                   (roi     - unet     - 0.98 accuracy)\n",
      "Results for r4c3.png                   (roi     - unet     - 0.98 accuracy)\n",
      "Results for r4c4.png                   (roi     - unet     - 0.95 accuracy)\n",
      "Results for r4c5.png                   (roi     - unet     - 0.98 accuracy)\n",
      "Results for r4c6.png                   (roi     - unet     - 0.87 accuracy)\n"
     ]
    },
    {
     "name": "stderr",
     "output_type": "stream",
     "text": [
      "/home/dalifreire/.local/lib/python3.8/site-packages/sklearn/metrics/_classification.py:1221: UndefinedMetricWarning: Precision is ill-defined and being set to 0.0 due to no predicted samples. Use `zero_division` parameter to control this behavior.\n",
      "  _warn_prf(average, modifier, msg_start, len(result))\n"
     ]
    },
    {
     "name": "stdout",
     "output_type": "stream",
     "text": [
      "Results for r5c0.png                   (roi     - unet     - 0.65 accuracy)\n",
      "Results for r5c1.png                   (roi     - unet     - 0.74 accuracy)\n",
      "Results for r5c2.png                   (roi     - unet     - 0.98 accuracy)\n",
      "Results for r5c3.png                   (roi     - unet     - 0.99 accuracy)\n",
      "Results for r5c4.png                   (roi     - unet     - 0.97 accuracy)\n",
      "Results for r5c5.png                   (roi     - unet     - 0.93 accuracy)\n"
     ]
    },
    {
     "name": "stderr",
     "output_type": "stream",
     "text": [
      "/home/dalifreire/.local/lib/python3.8/site-packages/sklearn/metrics/_classification.py:1221: UndefinedMetricWarning: Precision is ill-defined and being set to 0.0 due to no predicted samples. Use `zero_division` parameter to control this behavior.\n",
      "  _warn_prf(average, modifier, msg_start, len(result))\n"
     ]
    },
    {
     "name": "stdout",
     "output_type": "stream",
     "text": [
      "Results for r5c6.png                   (roi     - unet     - 0.62 accuracy)\n",
      "Results for r6c1.png                   (roi     - unet     - 0.98 accuracy)\n",
      "Results for r6c2.png                   (roi     - unet     - 0.98 accuracy)\n",
      "Results for r6c3.png                   (roi     - unet     - 0.96 accuracy)\n",
      "Results for r6c4.png                   (roi     - unet     - 0.99 accuracy)\n"
     ]
    },
    {
     "name": "stderr",
     "output_type": "stream",
     "text": [
      "/home/dalifreire/.local/lib/python3.8/site-packages/sklearn/metrics/_classification.py:1221: UndefinedMetricWarning: Precision is ill-defined and being set to 0.0 due to no predicted samples. Use `zero_division` parameter to control this behavior.\n",
      "  _warn_prf(average, modifier, msg_start, len(result))\n"
     ]
    },
    {
     "name": "stdout",
     "output_type": "stream",
     "text": [
      "Results for r6c5.png                   (roi     - unet     - 0.61 accuracy)\n"
     ]
    },
    {
     "name": "stderr",
     "output_type": "stream",
     "text": [
      "/home/dalifreire/.local/lib/python3.8/site-packages/sklearn/metrics/_classification.py:1221: UndefinedMetricWarning: Recall is ill-defined and being set to 0.0 due to no true samples. Use `zero_division` parameter to control this behavior.\n",
      "  _warn_prf(average, modifier, msg_start, len(result))\n",
      "/home/dalifreire/.local/lib/python3.8/site-packages/sklearn/metrics/_classification.py:1464: UndefinedMetricWarning: F-score is ill-defined and being set to 0.0 due to no true nor predicted samples. Use `zero_division` parameter to control this behavior.\n",
      "  _warn_prf(\n",
      "/home/dalifreire/.local/lib/python3.8/site-packages/sklearn/metrics/_classification.py:1221: UndefinedMetricWarning: Jaccard is ill-defined and being set to 0.0 due to no true or predicted samples. Use `zero_division` parameter to control this behavior.\n",
      "  _warn_prf(average, modifier, msg_start, len(result))\n"
     ]
    },
    {
     "name": "stdout",
     "output_type": "stream",
     "text": [
      "Results for r0c1.png                   (non_roi - unet     - 1.00 accuracy)\n",
      "Results for r0c2.png                   (non_roi - unet     - 1.00 accuracy)\n",
      "Results for r0c3.png                   (non_roi - unet     - 1.00 accuracy)\n",
      "Results for r0c4.png                   (non_roi - unet     - 1.00 accuracy)\n",
      "Results for r0c5.png                   (non_roi - excluded - 1.00 accuracy)\n",
      "Results for r1c0.png                   (non_roi - excluded - 1.00 accuracy)\n",
      "Results for r1c1.png                   (non_roi - excluded - 1.00 accuracy)\n",
      "Results for r1c2.png                   (non_roi - unet     - 0.05 accuracy)\n",
      "Results for r1c3.png                   (non_roi - unet     - 1.00 accuracy)\n",
      "Results for r1c4.png                   (non_roi - unet     - 0.99 accuracy)\n",
      "Results for r1c5.png                   (non_roi - unet     - 0.25 accuracy)\n",
      "Results for r1c6.png                   (non_roi - unet     - 0.65 accuracy)\n",
      "Results for r2c0.png                   (non_roi - unet     - 0.95 accuracy)\n",
      "Results for r2c1.png                   (non_roi - excluded - 1.00 accuracy)\n",
      "Results for r2c2.png                   (non_roi - excluded - 1.00 accuracy)\n",
      "Results for r2c3.png                   (non_roi - excluded - 1.00 accuracy)\n",
      "Results for r2c4.png                   (non_roi - excluded - 1.00 accuracy)\n",
      "Results for r3c0.png                   (non_roi - unet     - 0.12 accuracy)\n",
      "Results for r3c1.png                   (non_roi - unet     - 0.23 accuracy)\n"
     ]
    },
    {
     "name": "stderr",
     "output_type": "stream",
     "text": [
      "2021-06-04 02:33:52,042 :: INFO extract_normal_region_from_wsi :: \t Extracting normal regions from wsi image: 'TCGA-CN-5363-01Z-00-DX1.bd9c87d4-de64-4932-a90f-95888150d780_1.png'\n"
     ]
    },
    {
     "name": "stdout",
     "output_type": "stream",
     "text": [
      "Results for r0c1.png                   (roi     - unet     - 0.86 accuracy)\n",
      "Results for r1c0.png                   (roi     - unet     - 0.90 accuracy)\n",
      "Results for r1c1.png                   (roi     - unet     - 0.98 accuracy)\n",
      "Results for r1c2.png                   (roi     - unet     - 0.85 accuracy)\n",
      "Results for r2c0.png                   (roi     - unet     - 0.97 accuracy)\n",
      "Results for r2c1.png                   (roi     - unet     - 0.98 accuracy)\n"
     ]
    },
    {
     "name": "stderr",
     "output_type": "stream",
     "text": [
      "/home/dalifreire/.local/lib/python3.8/site-packages/sklearn/metrics/_classification.py:1221: UndefinedMetricWarning: Precision is ill-defined and being set to 0.0 due to no predicted samples. Use `zero_division` parameter to control this behavior.\n",
      "  _warn_prf(average, modifier, msg_start, len(result))\n"
     ]
    },
    {
     "name": "stdout",
     "output_type": "stream",
     "text": [
      "Results for r2c2.png                   (roi     - unet     - 0.02 accuracy)\n",
      "Results for r2c3.png                   (roi     - unet     - 0.90 accuracy)\n",
      "Results for r3c0.png                   (roi     - unet     - 0.96 accuracy)\n",
      "Results for r3c1.png                   (roi     - unet     - 0.98 accuracy)\n",
      "Results for r3c2.png                   (roi     - unet     - 0.99 accuracy)\n",
      "Results for r3c3.png                   (roi     - unet     - 0.95 accuracy)\n",
      "Results for r3c4.png                   (roi     - unet     - 0.64 accuracy)\n",
      "Results for r4c0.png                   (roi     - unet     - 0.39 accuracy)\n",
      "Results for r4c1.png                   (roi     - unet     - 0.98 accuracy)\n",
      "Results for r4c2.png                   (roi     - unet     - 0.98 accuracy)\n",
      "Results for r4c3.png                   (roi     - unet     - 0.98 accuracy)\n",
      "Results for r4c4.png                   (roi     - unet     - 0.98 accuracy)\n",
      "Results for r4c5.png                   (roi     - unet     - 0.75 accuracy)\n",
      "Results for r5c0.png                   (roi     - unet     - 0.64 accuracy)\n",
      "Results for r5c1.png                   (roi     - unet     - 0.97 accuracy)\n",
      "Results for r5c2.png                   (roi     - unet     - 0.98 accuracy)\n",
      "Results for r5c3.png                   (roi     - unet     - 0.98 accuracy)\n",
      "Results for r5c4.png                   (roi     - unet     - 0.99 accuracy)\n",
      "Results for r5c5.png                   (roi     - unet     - 0.75 accuracy)\n",
      "Results for r6c1.png                   (roi     - unet     - 0.98 accuracy)\n",
      "Results for r6c2.png                   (roi     - unet     - 0.91 accuracy)\n",
      "Results for r6c3.png                   (roi     - unet     - 0.98 accuracy)\n",
      "Results for r6c4.png                   (roi     - unet     - 0.99 accuracy)\n",
      "Results for r6c5.png                   (roi     - unet     - 0.70 accuracy)\n"
     ]
    },
    {
     "name": "stderr",
     "output_type": "stream",
     "text": [
      "/home/dalifreire/.local/lib/python3.8/site-packages/sklearn/metrics/_classification.py:1221: UndefinedMetricWarning: Precision is ill-defined and being set to 0.0 due to no predicted samples. Use `zero_division` parameter to control this behavior.\n",
      "  _warn_prf(average, modifier, msg_start, len(result))\n",
      "/home/dalifreire/.local/lib/python3.8/site-packages/sklearn/metrics/_classification.py:1221: UndefinedMetricWarning: Recall is ill-defined and being set to 0.0 due to no true samples. Use `zero_division` parameter to control this behavior.\n",
      "  _warn_prf(average, modifier, msg_start, len(result))\n",
      "/home/dalifreire/.local/lib/python3.8/site-packages/sklearn/metrics/_classification.py:1464: UndefinedMetricWarning: F-score is ill-defined and being set to 0.0 due to no true nor predicted samples. Use `zero_division` parameter to control this behavior.\n",
      "  _warn_prf(\n",
      "/home/dalifreire/.local/lib/python3.8/site-packages/sklearn/metrics/_classification.py:1221: UndefinedMetricWarning: Jaccard is ill-defined and being set to 0.0 due to no true or predicted samples. Use `zero_division` parameter to control this behavior.\n",
      "  _warn_prf(average, modifier, msg_start, len(result))\n"
     ]
    },
    {
     "name": "stdout",
     "output_type": "stream",
     "text": [
      "Results for r0c2.png                   (non_roi - unet     - 1.00 accuracy)\n",
      "Results for r0c3.png                   (non_roi - unet     - 1.00 accuracy)\n",
      "Results for r0c4.png                   (non_roi - unet     - 1.00 accuracy)\n",
      "Results for r0c5.png                   (non_roi - unet     - 1.00 accuracy)\n",
      "Results for r1c3.png                   (non_roi - unet     - 0.99 accuracy)\n",
      "Results for r1c4.png                   (non_roi - unet     - 1.00 accuracy)\n",
      "Results for r1c5.png                   (non_roi - unet     - 0.11 accuracy)\n",
      "Results for r1c6.png                   (non_roi - unet     - 1.00 accuracy)\n",
      "Results for r2c4.png                   (non_roi - unet     - 1.00 accuracy)\n",
      "Results for r2c5.png                   (non_roi - unet     - 1.00 accuracy)\n",
      "Results for r2c6.png                   (non_roi - unet     - 1.00 accuracy)\n",
      "Results for r3c5.png                   (non_roi - unet     - 1.00 accuracy)\n",
      "Results for r3c6.png                   (non_roi - unet     - 0.67 accuracy)\n",
      "Results for r4c6.png                   (non_roi - unet     - 1.00 accuracy)\n",
      "Results for r5c6.png                   (non_roi - unet     - 1.00 accuracy)\n"
     ]
    },
    {
     "name": "stderr",
     "output_type": "stream",
     "text": [
      "2021-06-04 02:37:06,780 :: INFO extract_normal_region_from_wsi :: \t Extracting normal regions from wsi image: 'TCGA-CN-5364-01Z-00-DX1.caeed5d0-cd48-40f3-b81b-099637341563_0.png'\n"
     ]
    },
    {
     "name": "stdout",
     "output_type": "stream",
     "text": [
      "Results for r1c5.png                   (roi     - unet     - 0.37 accuracy)\n",
      "Results for r2c3.png                   (roi     - unet     - 0.88 accuracy)\n",
      "Results for r2c4.png                   (roi     - unet     - 0.86 accuracy)\n",
      "Results for r2c5.png                   (roi     - unet     - 0.90 accuracy)\n",
      "Results for r3c1.png                   (roi     - unet     - 0.78 accuracy)\n",
      "Results for r3c2.png                   (roi     - unet     - 0.76 accuracy)\n",
      "Results for r3c3.png                   (roi     - unet     - 0.95 accuracy)\n",
      "Results for r3c4.png                   (roi     - unet     - 0.96 accuracy)\n",
      "Results for r3c5.png                   (roi     - unet     - 0.53 accuracy)\n",
      "Results for r3c6.png                   (roi     - unet     - 0.11 accuracy)\n",
      "Results for r4c1.png                   (roi     - unet     - 0.79 accuracy)\n",
      "Results for r4c3.png                   (roi     - unet     - 0.67 accuracy)\n",
      "Results for r4c4.png                   (roi     - unet     - 0.97 accuracy)\n",
      "Results for r4c5.png                   (roi     - unet     - 0.83 accuracy)\n",
      "Results for r4c6.png                   (roi     - unet     - 0.21 accuracy)\n",
      "Results for r5c0.png                   (roi     - unet     - 0.89 accuracy)\n",
      "Results for r5c1.png                   (roi     - unet     - 0.80 accuracy)\n",
      "Results for r5c2.png                   (roi     - unet     - 0.96 accuracy)\n",
      "Results for r5c3.png                   (roi     - unet     - 0.84 accuracy)\n",
      "Results for r5c4.png                   (roi     - unet     - 0.93 accuracy)\n",
      "Results for r5c5.png                   (roi     - unet     - 0.97 accuracy)\n",
      "Results for r5c6.png                   (roi     - unet     - 0.84 accuracy)\n",
      "Results for r6c1.png                   (roi     - unet     - 0.74 accuracy)\n",
      "Results for r6c2.png                   (roi     - unet     - 0.80 accuracy)\n",
      "Results for r6c3.png                   (roi     - unet     - 0.98 accuracy)\n",
      "Results for r6c4.png                   (roi     - unet     - 0.99 accuracy)\n"
     ]
    },
    {
     "name": "stderr",
     "output_type": "stream",
     "text": [
      "/home/dalifreire/.local/lib/python3.8/site-packages/sklearn/metrics/_classification.py:1221: UndefinedMetricWarning: Precision is ill-defined and being set to 0.0 due to no predicted samples. Use `zero_division` parameter to control this behavior.\n",
      "  _warn_prf(average, modifier, msg_start, len(result))\n"
     ]
    },
    {
     "name": "stdout",
     "output_type": "stream",
     "text": [
      "Results for r6c5.png                   (roi     - unet     - 0.61 accuracy)\n"
     ]
    },
    {
     "name": "stderr",
     "output_type": "stream",
     "text": [
      "/home/dalifreire/.local/lib/python3.8/site-packages/sklearn/metrics/_classification.py:1221: UndefinedMetricWarning: Recall is ill-defined and being set to 0.0 due to no true samples. Use `zero_division` parameter to control this behavior.\n",
      "  _warn_prf(average, modifier, msg_start, len(result))\n",
      "/home/dalifreire/.local/lib/python3.8/site-packages/sklearn/metrics/_classification.py:1464: UndefinedMetricWarning: F-score is ill-defined and being set to 0.0 due to no true nor predicted samples. Use `zero_division` parameter to control this behavior.\n",
      "  _warn_prf(\n",
      "/home/dalifreire/.local/lib/python3.8/site-packages/sklearn/metrics/_classification.py:1221: UndefinedMetricWarning: Jaccard is ill-defined and being set to 0.0 due to no true or predicted samples. Use `zero_division` parameter to control this behavior.\n",
      "  _warn_prf(average, modifier, msg_start, len(result))\n"
     ]
    },
    {
     "name": "stdout",
     "output_type": "stream",
     "text": [
      "Results for r0c1.png                   (non_roi - unet     - 1.00 accuracy)\n",
      "Results for r0c2.png                   (non_roi - unet     - 0.24 accuracy)\n",
      "Results for r0c3.png                   (non_roi - unet     - 0.98 accuracy)\n",
      "Results for r0c4.png                   (non_roi - unet     - 1.00 accuracy)\n",
      "Results for r0c5.png                   (non_roi - unet     - 0.86 accuracy)\n",
      "Results for r1c0.png                   (non_roi - unet     - 1.00 accuracy)\n",
      "Results for r1c1.png                   (non_roi - unet     - 0.16 accuracy)\n",
      "Results for r1c2.png                   (non_roi - unet     - 1.00 accuracy)\n",
      "Results for r1c3.png                   (non_roi - unet     - 0.57 accuracy)\n",
      "Results for r1c4.png                   (non_roi - unet     - 0.24 accuracy)\n",
      "Results for r1c6.png                   (non_roi - unet     - 0.94 accuracy)\n",
      "Results for r2c0.png                   (non_roi - unet     - 1.00 accuracy)\n",
      "Results for r2c1.png                   (non_roi - unet     - 0.27 accuracy)\n",
      "Results for r2c2.png                   (non_roi - unet     - 0.79 accuracy)\n",
      "Results for r2c6.png                   (non_roi - unet     - 0.60 accuracy)\n",
      "Results for r3c0.png                   (non_roi - unet     - 0.59 accuracy)\n",
      "Results for r4c0.png                   (non_roi - unet     - 1.00 accuracy)\n",
      "Results for r4c2.png                   (non_roi - unet     - 1.00 accuracy)\n"
     ]
    },
    {
     "name": "stderr",
     "output_type": "stream",
     "text": [
      "2021-06-04 02:40:22,274 :: INFO extract_normal_region_from_wsi :: \t Extracting normal regions from wsi image: 'TCGA-CN-5364-01Z-00-DX1.caeed5d0-cd48-40f3-b81b-099637341563_1.png'\n"
     ]
    },
    {
     "name": "stdout",
     "output_type": "stream",
     "text": [
      "Results for r0c1.png                   (roi     - unet     - 0.95 accuracy)\n",
      "Results for r1c0.png                   (roi     - unet     - 0.99 accuracy)\n",
      "Results for r1c1.png                   (roi     - unet     - 0.87 accuracy)\n",
      "Results for r1c2.png                   (roi     - unet     - 0.89 accuracy)\n",
      "Results for r1c4.png                   (roi     - unet     - 0.79 accuracy)\n",
      "Results for r1c5.png                   (roi     - unet     - 0.20 accuracy)\n",
      "Results for r2c0.png                   (roi     - unet     - 0.90 accuracy)\n",
      "Results for r2c1.png                   (roi     - unet     - 0.92 accuracy)\n",
      "Results for r2c2.png                   (roi     - unet     - 0.95 accuracy)\n",
      "Results for r2c3.png                   (roi     - unet     - 0.87 accuracy)\n",
      "Results for r2c4.png                   (roi     - unet     - 0.73 accuracy)\n",
      "Results for r2c5.png                   (roi     - unet     - 0.32 accuracy)\n",
      "Results for r3c0.png                   (roi     - unet     - 0.89 accuracy)\n",
      "Results for r3c1.png                   (roi     - unet     - 0.91 accuracy)\n",
      "Results for r3c2.png                   (roi     - unet     - 0.95 accuracy)\n",
      "Results for r3c3.png                   (roi     - unet     - 0.84 accuracy)\n",
      "Results for r3c5.png                   (roi     - unet     - 0.39 accuracy)\n",
      "Results for r3c6.png                   (roi     - unet     - 0.23 accuracy)\n",
      "Results for r4c0.png                   (roi     - unet     - 0.96 accuracy)\n",
      "Results for r4c1.png                   (roi     - unet     - 0.96 accuracy)\n",
      "Results for r4c2.png                   (roi     - unet     - 0.96 accuracy)\n",
      "Results for r4c3.png                   (roi     - unet     - 0.92 accuracy)\n",
      "Results for r4c4.png                   (roi     - unet     - 0.95 accuracy)\n",
      "Results for r4c5.png                   (roi     - unet     - 0.13 accuracy)\n",
      "Results for r4c6.png                   (roi     - unet     - 0.68 accuracy)\n"
     ]
    },
    {
     "name": "stderr",
     "output_type": "stream",
     "text": [
      "/home/dalifreire/.local/lib/python3.8/site-packages/sklearn/metrics/_classification.py:1221: UndefinedMetricWarning: Precision is ill-defined and being set to 0.0 due to no predicted samples. Use `zero_division` parameter to control this behavior.\n",
      "  _warn_prf(average, modifier, msg_start, len(result))\n"
     ]
    },
    {
     "name": "stdout",
     "output_type": "stream",
     "text": [
      "Results for r5c0.png                   (roi     - unet     - 0.64 accuracy)\n",
      "Results for r5c1.png                   (roi     - unet     - 0.93 accuracy)\n",
      "Results for r5c2.png                   (roi     - unet     - 0.94 accuracy)\n",
      "Results for r5c3.png                   (roi     - unet     - 0.97 accuracy)\n",
      "Results for r5c4.png                   (roi     - unet     - 0.94 accuracy)\n"
     ]
    },
    {
     "name": "stderr",
     "output_type": "stream",
     "text": [
      "/home/dalifreire/.local/lib/python3.8/site-packages/sklearn/metrics/_classification.py:1221: UndefinedMetricWarning: Precision is ill-defined and being set to 0.0 due to no predicted samples. Use `zero_division` parameter to control this behavior.\n",
      "  _warn_prf(average, modifier, msg_start, len(result))\n"
     ]
    },
    {
     "name": "stdout",
     "output_type": "stream",
     "text": [
      "Results for r6c1.png                   (roi     - unet     - 0.64 accuracy)\n",
      "Results for r6c2.png                   (roi     - unet     - 0.94 accuracy)\n",
      "Results for r6c3.png                   (roi     - unet     - 0.91 accuracy)\n",
      "Results for r6c4.png                   (roi     - unet     - 0.86 accuracy)\n"
     ]
    },
    {
     "name": "stderr",
     "output_type": "stream",
     "text": [
      "/home/dalifreire/.local/lib/python3.8/site-packages/sklearn/metrics/_classification.py:1221: UndefinedMetricWarning: Recall is ill-defined and being set to 0.0 due to no true samples. Use `zero_division` parameter to control this behavior.\n",
      "  _warn_prf(average, modifier, msg_start, len(result))\n"
     ]
    },
    {
     "name": "stdout",
     "output_type": "stream",
     "text": [
      "Results for r0c2.png                   (non_roi - unet     - 0.29 accuracy)\n",
      "Results for r0c3.png                   (non_roi - unet     - 0.08 accuracy)\n",
      "Results for r0c4.png                   (non_roi - unet     - 0.23 accuracy)\n",
      "Results for r0c5.png                   (non_roi - unet     - 0.69 accuracy)\n",
      "Results for r1c3.png                   (non_roi - unet     - 0.05 accuracy)\n",
      "Results for r1c6.png                   (non_roi - unet     - 0.70 accuracy)\n",
      "Results for r2c6.png                   (non_roi - unet     - 0.20 accuracy)\n",
      "Results for r3c4.png                   (non_roi - unet     - 0.06 accuracy)\n",
      "Results for r5c5.png                   (non_roi - unet     - 0.54 accuracy)\n",
      "Results for r5c6.png                   (non_roi - unet     - 0.69 accuracy)\n",
      "Results for r6c5.png                   (non_roi - unet     - 0.67 accuracy)\n"
     ]
    },
    {
     "name": "stderr",
     "output_type": "stream",
     "text": [
      "2021-06-04 02:43:38,084 :: INFO extract_normal_region_from_wsi :: \t Extracting normal regions from wsi image: 'TCGA-CN-5365-01Z-00-DX1.26a33bd0-1eb3-4774-8be6-bf8501f4a9f9_0.png'\n"
     ]
    },
    {
     "name": "stdout",
     "output_type": "stream",
     "text": [
      "Results for r0c2.png                   (roi     - unet     - 0.52 accuracy)\n",
      "Results for r0c3.png                   (roi     - unet     - 0.85 accuracy)\n",
      "Results for r0c4.png                   (roi     - unet     - 0.99 accuracy)\n",
      "Results for r0c5.png                   (roi     - unet     - 0.99 accuracy)\n",
      "Results for r1c2.png                   (roi     - unet     - 0.65 accuracy)\n",
      "Results for r1c3.png                   (roi     - unet     - 0.99 accuracy)\n",
      "Results for r1c4.png                   (roi     - unet     - 0.99 accuracy)\n",
      "Results for r1c5.png                   (roi     - unet     - 0.99 accuracy)\n",
      "Results for r1c6.png                   (roi     - unet     - 0.99 accuracy)\n",
      "Results for r2c2.png                   (roi     - unet     - 0.46 accuracy)\n",
      "Results for r2c3.png                   (roi     - unet     - 0.99 accuracy)\n",
      "Results for r2c4.png                   (roi     - unet     - 0.98 accuracy)\n",
      "Results for r2c5.png                   (roi     - unet     - 0.87 accuracy)\n",
      "Results for r2c6.png                   (roi     - unet     - 0.99 accuracy)\n",
      "Results for r3c2.png                   (roi     - unet     - 0.62 accuracy)\n",
      "Results for r3c3.png                   (roi     - unet     - 0.99 accuracy)\n",
      "Results for r3c4.png                   (roi     - unet     - 0.99 accuracy)\n",
      "Results for r3c5.png                   (roi     - unet     - 0.96 accuracy)\n",
      "Results for r3c6.png                   (roi     - unet     - 0.99 accuracy)\n",
      "Results for r4c2.png                   (roi     - unet     - 0.71 accuracy)\n",
      "Results for r4c3.png                   (roi     - unet     - 0.93 accuracy)\n",
      "Results for r4c4.png                   (roi     - unet     - 0.99 accuracy)\n",
      "Results for r4c5.png                   (roi     - unet     - 0.99 accuracy)\n"
     ]
    },
    {
     "name": "stderr",
     "output_type": "stream",
     "text": [
      "/home/dalifreire/.local/lib/python3.8/site-packages/sklearn/metrics/_classification.py:1221: UndefinedMetricWarning: Precision is ill-defined and being set to 0.0 due to no predicted samples. Use `zero_division` parameter to control this behavior.\n",
      "  _warn_prf(average, modifier, msg_start, len(result))\n"
     ]
    },
    {
     "name": "stdout",
     "output_type": "stream",
     "text": [
      "Results for r4c6.png                   (roi     - unet     - 0.18 accuracy)\n",
      "Results for r5c2.png                   (roi     - unet     - 0.62 accuracy)\n",
      "Results for r5c3.png                   (roi     - unet     - 0.77 accuracy)\n",
      "Results for r5c4.png                   (roi     - unet     - 0.96 accuracy)\n",
      "Results for r5c5.png                   (roi     - unet     - 0.94 accuracy)\n",
      "Results for r5c6.png                   (roi     - unet     - 0.99 accuracy)\n",
      "Results for r6c2.png                   (roi     - unet     - 0.32 accuracy)\n",
      "Results for r6c3.png                   (roi     - unet     - 0.81 accuracy)\n",
      "Results for r6c4.png                   (roi     - unet     - 0.63 accuracy)\n",
      "Results for r6c5.png                   (roi     - unet     - 0.94 accuracy)\n"
     ]
    },
    {
     "name": "stderr",
     "output_type": "stream",
     "text": [
      "/home/dalifreire/.local/lib/python3.8/site-packages/sklearn/metrics/_classification.py:1221: UndefinedMetricWarning: Recall is ill-defined and being set to 0.0 due to no true samples. Use `zero_division` parameter to control this behavior.\n",
      "  _warn_prf(average, modifier, msg_start, len(result))\n"
     ]
    },
    {
     "name": "stdout",
     "output_type": "stream",
     "text": [
      "Results for r0c1.png                   (non_roi - unet     - 0.68 accuracy)\n",
      "Results for r1c0.png                   (non_roi - unet     - 0.69 accuracy)\n",
      "Results for r1c1.png                   (non_roi - unet     - 0.16 accuracy)\n"
     ]
    },
    {
     "name": "stderr",
     "output_type": "stream",
     "text": [
      "/home/dalifreire/.local/lib/python3.8/site-packages/sklearn/metrics/_classification.py:1221: UndefinedMetricWarning: Precision is ill-defined and being set to 0.0 due to no predicted samples. Use `zero_division` parameter to control this behavior.\n",
      "  _warn_prf(average, modifier, msg_start, len(result))\n",
      "/home/dalifreire/.local/lib/python3.8/site-packages/sklearn/metrics/_classification.py:1464: UndefinedMetricWarning: F-score is ill-defined and being set to 0.0 due to no true nor predicted samples. Use `zero_division` parameter to control this behavior.\n",
      "  _warn_prf(\n",
      "/home/dalifreire/.local/lib/python3.8/site-packages/sklearn/metrics/_classification.py:1221: UndefinedMetricWarning: Jaccard is ill-defined and being set to 0.0 due to no true or predicted samples. Use `zero_division` parameter to control this behavior.\n",
      "  _warn_prf(average, modifier, msg_start, len(result))\n"
     ]
    },
    {
     "name": "stdout",
     "output_type": "stream",
     "text": [
      "Results for r2c0.png                   (non_roi - unet     - 1.00 accuracy)\n",
      "Results for r2c1.png                   (non_roi - unet     - 0.10 accuracy)\n",
      "Results for r3c0.png                   (non_roi - unet     - 1.00 accuracy)\n",
      "Results for r3c1.png                   (non_roi - unet     - 0.11 accuracy)\n",
      "Results for r4c0.png                   (non_roi - unet     - 0.25 accuracy)\n",
      "Results for r4c1.png                   (non_roi - unet     - 0.10 accuracy)\n",
      "Results for r5c0.png                   (non_roi - unet     - 0.67 accuracy)\n",
      "Results for r5c1.png                   (non_roi - unet     - 0.14 accuracy)\n",
      "Results for r6c1.png                   (non_roi - unet     - 0.67 accuracy)\n"
     ]
    },
    {
     "name": "stderr",
     "output_type": "stream",
     "text": [
      "2021-06-04 02:46:55,127 :: INFO extract_normal_region_from_wsi :: \t Extracting normal regions from wsi image: 'TCGA-CN-5365-01Z-00-DX1.26a33bd0-1eb3-4774-8be6-bf8501f4a9f9_1.png'\n"
     ]
    },
    {
     "name": "stdout",
     "output_type": "stream",
     "text": [
      "Results for r0c2.png                   (roi     - unet     - 0.49 accuracy)\n",
      "Results for r0c3.png                   (roi     - unet     - 0.90 accuracy)\n",
      "Results for r0c4.png                   (roi     - unet     - 0.99 accuracy)\n"
     ]
    },
    {
     "name": "stderr",
     "output_type": "stream",
     "text": [
      "/home/dalifreire/.local/lib/python3.8/site-packages/sklearn/metrics/_classification.py:1221: UndefinedMetricWarning: Precision is ill-defined and being set to 0.0 due to no predicted samples. Use `zero_division` parameter to control this behavior.\n",
      "  _warn_prf(average, modifier, msg_start, len(result))\n"
     ]
    },
    {
     "name": "stdout",
     "output_type": "stream",
     "text": [
      "Results for r0c5.png                   (roi     - unet     - 0.65 accuracy)\n",
      "Results for r1c2.png                   (roi     - unet     - 0.85 accuracy)\n",
      "Results for r1c3.png                   (roi     - unet     - 0.98 accuracy)\n",
      "Results for r1c4.png                   (roi     - unet     - 0.98 accuracy)\n",
      "Results for r1c5.png                   (roi     - unet     - 0.98 accuracy)\n",
      "Results for r1c6.png                   (roi     - unet     - 0.99 accuracy)\n",
      "Results for r2c2.png                   (roi     - unet     - 0.82 accuracy)\n",
      "Results for r2c3.png                   (roi     - unet     - 0.98 accuracy)\n",
      "Results for r2c4.png                   (roi     - unet     - 0.97 accuracy)\n",
      "Results for r2c5.png                   (roi     - unet     - 0.98 accuracy)\n",
      "Results for r2c6.png                   (roi     - unet     - 0.98 accuracy)\n",
      "Results for r3c2.png                   (roi     - unet     - 0.73 accuracy)\n",
      "Results for r3c3.png                   (roi     - unet     - 0.97 accuracy)\n",
      "Results for r3c4.png                   (roi     - unet     - 0.98 accuracy)\n",
      "Results for r3c5.png                   (roi     - unet     - 0.97 accuracy)\n",
      "Results for r3c6.png                   (roi     - unet     - 0.98 accuracy)\n",
      "Results for r4c2.png                   (roi     - unet     - 0.92 accuracy)\n",
      "Results for r4c3.png                   (roi     - unet     - 0.97 accuracy)\n",
      "Results for r4c4.png                   (roi     - unet     - 0.97 accuracy)\n",
      "Results for r4c5.png                   (roi     - unet     - 0.98 accuracy)\n",
      "Results for r4c6.png                   (roi     - unet     - 0.98 accuracy)\n",
      "Results for r5c2.png                   (roi     - unet     - 0.91 accuracy)\n",
      "Results for r5c3.png                   (roi     - unet     - 0.96 accuracy)\n",
      "Results for r5c4.png                   (roi     - unet     - 0.97 accuracy)\n",
      "Results for r5c5.png                   (roi     - unet     - 0.96 accuracy)\n",
      "Results for r5c6.png                   (roi     - unet     - 0.99 accuracy)\n",
      "Results for r6c3.png                   (roi     - unet     - 0.87 accuracy)\n",
      "Results for r6c4.png                   (roi     - unet     - 0.97 accuracy)\n",
      "Results for r6c5.png                   (roi     - unet     - 0.99 accuracy)\n"
     ]
    },
    {
     "name": "stderr",
     "output_type": "stream",
     "text": [
      "/home/dalifreire/.local/lib/python3.8/site-packages/sklearn/metrics/_classification.py:1221: UndefinedMetricWarning: Precision is ill-defined and being set to 0.0 due to no predicted samples. Use `zero_division` parameter to control this behavior.\n",
      "  _warn_prf(average, modifier, msg_start, len(result))\n",
      "/home/dalifreire/.local/lib/python3.8/site-packages/sklearn/metrics/_classification.py:1221: UndefinedMetricWarning: Recall is ill-defined and being set to 0.0 due to no true samples. Use `zero_division` parameter to control this behavior.\n",
      "  _warn_prf(average, modifier, msg_start, len(result))\n",
      "/home/dalifreire/.local/lib/python3.8/site-packages/sklearn/metrics/_classification.py:1464: UndefinedMetricWarning: F-score is ill-defined and being set to 0.0 due to no true nor predicted samples. Use `zero_division` parameter to control this behavior.\n",
      "  _warn_prf(\n",
      "/home/dalifreire/.local/lib/python3.8/site-packages/sklearn/metrics/_classification.py:1221: UndefinedMetricWarning: Jaccard is ill-defined and being set to 0.0 due to no true or predicted samples. Use `zero_division` parameter to control this behavior.\n",
      "  _warn_prf(average, modifier, msg_start, len(result))\n"
     ]
    },
    {
     "name": "stdout",
     "output_type": "stream",
     "text": [
      "Results for r0c1.png                   (non_roi - unet     - 1.00 accuracy)\n",
      "Results for r1c0.png                   (non_roi - unet     - 0.70 accuracy)\n",
      "Results for r1c1.png                   (non_roi - unet     - 0.15 accuracy)\n",
      "Results for r2c0.png                   (non_roi - unet     - 0.39 accuracy)\n",
      "Results for r2c1.png                   (non_roi - unet     - 0.17 accuracy)\n",
      "Results for r3c0.png                   (non_roi - unet     - 0.91 accuracy)\n",
      "Results for r3c1.png                   (non_roi - unet     - 0.18 accuracy)\n",
      "Results for r4c0.png                   (non_roi - unet     - 1.00 accuracy)\n",
      "Results for r4c1.png                   (non_roi - unet     - 0.28 accuracy)\n",
      "Results for r5c0.png                   (non_roi - unet     - 1.00 accuracy)\n",
      "Results for r5c1.png                   (non_roi - unet     - 0.33 accuracy)\n",
      "Results for r6c1.png                   (non_roi - unet     - 0.99 accuracy)\n",
      "Results for r6c2.png                   (non_roi - unet     - 0.23 accuracy)\n"
     ]
    },
    {
     "name": "stderr",
     "output_type": "stream",
     "text": [
      "2021-06-04 02:50:12,623 :: INFO extract_normal_region_from_wsi :: \t Extracting normal regions from wsi image: 'TCGA-CN-5366-01Z-00-DX1.dcc14c44-6dd1-48a1-a21c-736c6b9551e1_0.png'\n"
     ]
    },
    {
     "name": "stdout",
     "output_type": "stream",
     "text": [
      "Results for r0c1.png                   (roi     - unet     - 0.68 accuracy)\n",
      "Results for r0c2.png                   (roi     - unet     - 0.99 accuracy)\n",
      "Results for r0c3.png                   (roi     - unet     - 0.99 accuracy)\n",
      "Results for r0c4.png                   (roi     - unet     - 0.99 accuracy)\n",
      "Results for r0c5.png                   (roi     - unet     - 0.99 accuracy)\n"
     ]
    },
    {
     "name": "stderr",
     "output_type": "stream",
     "text": [
      "/home/dalifreire/.local/lib/python3.8/site-packages/sklearn/metrics/_classification.py:1221: UndefinedMetricWarning: Precision is ill-defined and being set to 0.0 due to no predicted samples. Use `zero_division` parameter to control this behavior.\n",
      "  _warn_prf(average, modifier, msg_start, len(result))\n"
     ]
    },
    {
     "name": "stdout",
     "output_type": "stream",
     "text": [
      "Results for r1c0.png                   (roi     - unet     - 0.67 accuracy)\n",
      "Results for r1c1.png                   (roi     - unet     - 0.98 accuracy)\n",
      "Results for r1c2.png                   (roi     - unet     - 0.99 accuracy)\n",
      "Results for r1c3.png                   (roi     - unet     - 0.98 accuracy)\n",
      "Results for r1c4.png                   (roi     - unet     - 0.69 accuracy)\n",
      "Results for r1c5.png                   (roi     - unet     - 0.79 accuracy)\n"
     ]
    },
    {
     "name": "stderr",
     "output_type": "stream",
     "text": [
      "/home/dalifreire/.local/lib/python3.8/site-packages/sklearn/metrics/_classification.py:1221: UndefinedMetricWarning: Precision is ill-defined and being set to 0.0 due to no predicted samples. Use `zero_division` parameter to control this behavior.\n",
      "  _warn_prf(average, modifier, msg_start, len(result))\n"
     ]
    },
    {
     "name": "stdout",
     "output_type": "stream",
     "text": [
      "Results for r1c6.png                   (roi     - unet     - 0.78 accuracy)\n",
      "Results for r2c0.png                   (roi     - unet     - 0.99 accuracy)\n",
      "Results for r2c1.png                   (roi     - unet     - 0.98 accuracy)\n",
      "Results for r2c2.png                   (roi     - unet     - 0.96 accuracy)\n",
      "Results for r2c3.png                   (roi     - unet     - 0.98 accuracy)\n",
      "Results for r2c4.png                   (roi     - unet     - 0.82 accuracy)\n",
      "Results for r2c5.png                   (roi     - unet     - 0.85 accuracy)\n"
     ]
    },
    {
     "name": "stderr",
     "output_type": "stream",
     "text": [
      "/home/dalifreire/.local/lib/python3.8/site-packages/sklearn/metrics/_classification.py:1221: UndefinedMetricWarning: Precision is ill-defined and being set to 0.0 due to no predicted samples. Use `zero_division` parameter to control this behavior.\n",
      "  _warn_prf(average, modifier, msg_start, len(result))\n"
     ]
    },
    {
     "name": "stdout",
     "output_type": "stream",
     "text": [
      "Results for r2c6.png                   (roi     - unet     - 0.93 accuracy)\n",
      "Results for r3c0.png                   (roi     - unet     - 0.99 accuracy)\n",
      "Results for r3c1.png                   (roi     - unet     - 0.98 accuracy)\n",
      "Results for r3c2.png                   (roi     - unet     - 0.98 accuracy)\n",
      "Results for r3c3.png                   (roi     - unet     - 0.97 accuracy)\n",
      "Results for r3c4.png                   (roi     - unet     - 0.82 accuracy)\n",
      "Results for r3c5.png                   (roi     - unet     - 0.43 accuracy)\n",
      "Results for r4c0.png                   (roi     - unet     - 0.99 accuracy)\n",
      "Results for r4c1.png                   (roi     - unet     - 0.98 accuracy)\n",
      "Results for r4c2.png                   (roi     - unet     - 0.98 accuracy)\n",
      "Results for r4c3.png                   (roi     - unet     - 0.77 accuracy)\n",
      "Results for r4c4.png                   (roi     - unet     - 0.93 accuracy)\n"
     ]
    },
    {
     "name": "stderr",
     "output_type": "stream",
     "text": [
      "/home/dalifreire/.local/lib/python3.8/site-packages/sklearn/metrics/_classification.py:1221: UndefinedMetricWarning: Precision is ill-defined and being set to 0.0 due to no predicted samples. Use `zero_division` parameter to control this behavior.\n",
      "  _warn_prf(average, modifier, msg_start, len(result))\n"
     ]
    },
    {
     "name": "stdout",
     "output_type": "stream",
     "text": [
      "Results for r5c0.png                   (roi     - unet     - 0.64 accuracy)\n",
      "Results for r5c1.png                   (roi     - unet     - 0.98 accuracy)\n",
      "Results for r5c2.png                   (roi     - unet     - 0.82 accuracy)\n",
      "Results for r5c3.png                   (roi     - unet     - 0.60 accuracy)\n",
      "Results for r5c4.png                   (roi     - unet     - 0.73 accuracy)\n",
      "Results for r6c1.png                   (roi     - unet     - 1.00 accuracy)\n",
      "Results for r6c2.png                   (roi     - unet     - 0.80 accuracy)\n",
      "Results for r6c3.png                   (roi     - unet     - 0.26 accuracy)\n"
     ]
    },
    {
     "name": "stderr",
     "output_type": "stream",
     "text": [
      "/home/dalifreire/.local/lib/python3.8/site-packages/sklearn/metrics/_classification.py:1221: UndefinedMetricWarning: Recall is ill-defined and being set to 0.0 due to no true samples. Use `zero_division` parameter to control this behavior.\n",
      "  _warn_prf(average, modifier, msg_start, len(result))\n"
     ]
    },
    {
     "name": "stdout",
     "output_type": "stream",
     "text": [
      "Results for r3c6.png                   (non_roi - unet     - 0.75 accuracy)\n",
      "Results for r4c5.png                   (non_roi - unet     - 0.25 accuracy)\n"
     ]
    },
    {
     "name": "stderr",
     "output_type": "stream",
     "text": [
      "/home/dalifreire/.local/lib/python3.8/site-packages/sklearn/metrics/_classification.py:1221: UndefinedMetricWarning: Precision is ill-defined and being set to 0.0 due to no predicted samples. Use `zero_division` parameter to control this behavior.\n",
      "  _warn_prf(average, modifier, msg_start, len(result))\n",
      "/home/dalifreire/.local/lib/python3.8/site-packages/sklearn/metrics/_classification.py:1464: UndefinedMetricWarning: F-score is ill-defined and being set to 0.0 due to no true nor predicted samples. Use `zero_division` parameter to control this behavior.\n",
      "  _warn_prf(\n",
      "/home/dalifreire/.local/lib/python3.8/site-packages/sklearn/metrics/_classification.py:1221: UndefinedMetricWarning: Jaccard is ill-defined and being set to 0.0 due to no true or predicted samples. Use `zero_division` parameter to control this behavior.\n",
      "  _warn_prf(average, modifier, msg_start, len(result))\n"
     ]
    },
    {
     "name": "stdout",
     "output_type": "stream",
     "text": [
      "Results for r4c6.png                   (non_roi - unet     - 1.00 accuracy)\n",
      "Results for r5c5.png                   (non_roi - unet     - 0.30 accuracy)\n",
      "Results for r5c6.png                   (non_roi - unet     - 0.69 accuracy)\n",
      "Results for r6c4.png                   (non_roi - unet     - 0.63 accuracy)\n",
      "Results for r6c5.png                   (non_roi - unet     - 0.92 accuracy)\n"
     ]
    },
    {
     "name": "stderr",
     "output_type": "stream",
     "text": [
      "2021-06-04 02:53:30,286 :: INFO extract_normal_region_from_wsi :: \t Extracting normal regions from wsi image: 'TCGA-CN-5366-01Z-00-DX1.dcc14c44-6dd1-48a1-a21c-736c6b9551e1_1.png'\n"
     ]
    },
    {
     "name": "stdout",
     "output_type": "stream",
     "text": [
      "Results for r0c3.png                   (roi     - unet     - 0.30 accuracy)\n",
      "Results for r0c4.png                   (roi     - unet     - 0.88 accuracy)\n",
      "Results for r0c5.png                   (roi     - unet     - 0.85 accuracy)\n",
      "Results for r1c3.png                   (roi     - unet     - 0.57 accuracy)\n",
      "Results for r1c4.png                   (roi     - unet     - 0.71 accuracy)\n",
      "Results for r1c5.png                   (roi     - unet     - 0.80 accuracy)\n"
     ]
    },
    {
     "name": "stderr",
     "output_type": "stream",
     "text": [
      "/home/dalifreire/.local/lib/python3.8/site-packages/sklearn/metrics/_classification.py:1221: UndefinedMetricWarning: Precision is ill-defined and being set to 0.0 due to no predicted samples. Use `zero_division` parameter to control this behavior.\n",
      "  _warn_prf(average, modifier, msg_start, len(result))\n"
     ]
    },
    {
     "name": "stdout",
     "output_type": "stream",
     "text": [
      "Results for r1c6.png                   (roi     - unet     - 0.76 accuracy)\n",
      "Results for r2c3.png                   (roi     - unet     - 0.76 accuracy)\n",
      "Results for r2c4.png                   (roi     - unet     - 0.72 accuracy)\n",
      "Results for r2c5.png                   (roi     - unet     - 0.91 accuracy)\n",
      "Results for r2c6.png                   (roi     - unet     - 0.79 accuracy)\n",
      "Results for r3c3.png                   (roi     - unet     - 0.35 accuracy)\n",
      "Results for r3c4.png                   (roi     - unet     - 0.90 accuracy)\n",
      "Results for r3c5.png                   (roi     - unet     - 0.92 accuracy)\n",
      "Results for r3c6.png                   (roi     - unet     - 0.94 accuracy)\n",
      "Results for r4c3.png                   (roi     - unet     - 0.39 accuracy)\n",
      "Results for r4c4.png                   (roi     - unet     - 0.82 accuracy)\n",
      "Results for r4c5.png                   (roi     - unet     - 0.96 accuracy)\n",
      "Results for r4c6.png                   (roi     - unet     - 0.96 accuracy)\n",
      "Results for r5c3.png                   (roi     - unet     - 0.73 accuracy)\n",
      "Results for r5c4.png                   (roi     - unet     - 0.98 accuracy)\n",
      "Results for r5c5.png                   (roi     - unet     - 0.98 accuracy)\n",
      "Results for r5c6.png                   (roi     - unet     - 0.62 accuracy)\n",
      "Results for r6c2.png                   (roi     - unet     - 0.58 accuracy)\n",
      "Results for r6c3.png                   (roi     - unet     - 0.87 accuracy)\n",
      "Results for r6c4.png                   (roi     - unet     - 0.97 accuracy)\n"
     ]
    },
    {
     "name": "stderr",
     "output_type": "stream",
     "text": [
      "/home/dalifreire/.local/lib/python3.8/site-packages/sklearn/metrics/_classification.py:1221: UndefinedMetricWarning: Precision is ill-defined and being set to 0.0 due to no predicted samples. Use `zero_division` parameter to control this behavior.\n",
      "  _warn_prf(average, modifier, msg_start, len(result))\n"
     ]
    },
    {
     "name": "stdout",
     "output_type": "stream",
     "text": [
      "Results for r6c5.png                   (roi     - unet     - 0.64 accuracy)\n"
     ]
    },
    {
     "name": "stderr",
     "output_type": "stream",
     "text": [
      "/home/dalifreire/.local/lib/python3.8/site-packages/sklearn/metrics/_classification.py:1221: UndefinedMetricWarning: Recall is ill-defined and being set to 0.0 due to no true samples. Use `zero_division` parameter to control this behavior.\n",
      "  _warn_prf(average, modifier, msg_start, len(result))\n",
      "/home/dalifreire/.local/lib/python3.8/site-packages/sklearn/metrics/_classification.py:1464: UndefinedMetricWarning: F-score is ill-defined and being set to 0.0 due to no true nor predicted samples. Use `zero_division` parameter to control this behavior.\n",
      "  _warn_prf(\n",
      "/home/dalifreire/.local/lib/python3.8/site-packages/sklearn/metrics/_classification.py:1221: UndefinedMetricWarning: Jaccard is ill-defined and being set to 0.0 due to no true or predicted samples. Use `zero_division` parameter to control this behavior.\n",
      "  _warn_prf(average, modifier, msg_start, len(result))\n"
     ]
    },
    {
     "name": "stdout",
     "output_type": "stream",
     "text": [
      "Results for r0c1.png                   (non_roi - unet     - 1.00 accuracy)\n",
      "Results for r0c2.png                   (non_roi - unet     - 0.97 accuracy)\n",
      "Results for r1c0.png                   (non_roi - unet     - 1.00 accuracy)\n",
      "Results for r1c1.png                   (non_roi - unet     - 0.95 accuracy)\n",
      "Results for r1c2.png                   (non_roi - unet     - 0.95 accuracy)\n",
      "Results for r2c0.png                   (non_roi - unet     - 1.00 accuracy)\n",
      "Results for r2c1.png                   (non_roi - unet     - 1.00 accuracy)\n",
      "Results for r2c2.png                   (non_roi - unet     - 1.00 accuracy)\n",
      "Results for r3c0.png                   (non_roi - unet     - 1.00 accuracy)\n",
      "Results for r3c1.png                   (non_roi - unet     - 1.00 accuracy)\n",
      "Results for r3c2.png                   (non_roi - unet     - 1.00 accuracy)\n",
      "Results for r4c0.png                   (non_roi - unet     - 1.00 accuracy)\n",
      "Results for r4c1.png                   (non_roi - unet     - 1.00 accuracy)\n",
      "Results for r4c2.png                   (non_roi - unet     - 1.00 accuracy)\n",
      "Results for r5c0.png                   (non_roi - unet     - 1.00 accuracy)\n",
      "Results for r5c1.png                   (non_roi - unet     - 1.00 accuracy)\n",
      "Results for r5c2.png                   (non_roi - unet     - 1.00 accuracy)\n",
      "Results for r6c1.png                   (non_roi - unet     - 1.00 accuracy)\n"
     ]
    },
    {
     "name": "stderr",
     "output_type": "stream",
     "text": [
      "2021-06-04 02:56:42,779 :: INFO extract_normal_region_from_wsi :: \t Extracting normal regions from wsi image: 'TCGA-CN-5367-01Z-00-DX1.5b09e54e-4140-4709-bc60-e201f9a72b24_0.png'\n"
     ]
    },
    {
     "name": "stdout",
     "output_type": "stream",
     "text": [
      "Results for r0c2.png                   (roi     - unet     - 0.89 accuracy)\n",
      "Results for r0c3.png                   (roi     - unet     - 0.96 accuracy)\n",
      "Results for r0c4.png                   (roi     - unet     - 0.98 accuracy)\n",
      "Results for r0c5.png                   (roi     - unet     - 0.95 accuracy)\n",
      "Results for r1c2.png                   (roi     - unet     - 0.82 accuracy)\n",
      "Results for r1c3.png                   (roi     - unet     - 0.95 accuracy)\n",
      "Results for r1c4.png                   (roi     - unet     - 0.96 accuracy)\n",
      "Results for r1c5.png                   (roi     - unet     - 0.84 accuracy)\n",
      "Results for r1c6.png                   (roi     - unet     - 0.96 accuracy)\n",
      "Results for r2c1.png                   (roi     - unet     - 0.89 accuracy)\n",
      "Results for r2c2.png                   (roi     - unet     - 0.91 accuracy)\n",
      "Results for r2c3.png                   (roi     - unet     - 0.93 accuracy)\n",
      "Results for r2c4.png                   (roi     - unet     - 0.92 accuracy)\n",
      "Results for r2c5.png                   (roi     - unet     - 0.92 accuracy)\n",
      "Results for r2c6.png                   (roi     - unet     - 0.98 accuracy)\n",
      "Results for r3c1.png                   (roi     - unet     - 0.80 accuracy)\n",
      "Results for r3c2.png                   (roi     - unet     - 0.89 accuracy)\n",
      "Results for r3c3.png                   (roi     - unet     - 0.97 accuracy)\n",
      "Results for r3c4.png                   (roi     - unet     - 0.92 accuracy)\n",
      "Results for r3c5.png                   (roi     - unet     - 0.92 accuracy)\n",
      "Results for r3c6.png                   (roi     - unet     - 0.96 accuracy)\n",
      "Results for r4c2.png                   (roi     - unet     - 0.95 accuracy)\n",
      "Results for r4c3.png                   (roi     - unet     - 0.94 accuracy)\n",
      "Results for r4c4.png                   (roi     - unet     - 0.93 accuracy)\n",
      "Results for r4c5.png                   (roi     - unet     - 0.98 accuracy)\n",
      "Results for r4c6.png                   (roi     - unet     - 0.62 accuracy)\n",
      "Results for r5c2.png                   (roi     - unet     - 0.82 accuracy)\n",
      "Results for r5c3.png                   (roi     - unet     - 0.86 accuracy)\n",
      "Results for r5c4.png                   (roi     - unet     - 0.95 accuracy)\n",
      "Results for r5c5.png                   (roi     - unet     - 0.94 accuracy)\n",
      "Results for r5c6.png                   (roi     - unet     - 0.97 accuracy)\n",
      "Results for r6c3.png                   (roi     - unet     - 0.58 accuracy)\n",
      "Results for r6c4.png                   (roi     - unet     - 0.98 accuracy)\n",
      "Results for r6c5.png                   (roi     - unet     - 0.98 accuracy)\n"
     ]
    },
    {
     "name": "stderr",
     "output_type": "stream",
     "text": [
      "/home/dalifreire/.local/lib/python3.8/site-packages/sklearn/metrics/_classification.py:1221: UndefinedMetricWarning: Recall is ill-defined and being set to 0.0 due to no true samples. Use `zero_division` parameter to control this behavior.\n",
      "  _warn_prf(average, modifier, msg_start, len(result))\n"
     ]
    },
    {
     "name": "stdout",
     "output_type": "stream",
     "text": [
      "Results for r0c1.png                   (non_roi - unet     - 0.99 accuracy)\n",
      "Results for r1c0.png                   (non_roi - unet     - 1.00 accuracy)\n",
      "Results for r1c1.png                   (non_roi - unet     - 0.98 accuracy)\n"
     ]
    },
    {
     "name": "stderr",
     "output_type": "stream",
     "text": [
      "/home/dalifreire/.local/lib/python3.8/site-packages/sklearn/metrics/_classification.py:1221: UndefinedMetricWarning: Precision is ill-defined and being set to 0.0 due to no predicted samples. Use `zero_division` parameter to control this behavior.\n",
      "  _warn_prf(average, modifier, msg_start, len(result))\n",
      "/home/dalifreire/.local/lib/python3.8/site-packages/sklearn/metrics/_classification.py:1464: UndefinedMetricWarning: F-score is ill-defined and being set to 0.0 due to no true nor predicted samples. Use `zero_division` parameter to control this behavior.\n",
      "  _warn_prf(\n",
      "/home/dalifreire/.local/lib/python3.8/site-packages/sklearn/metrics/_classification.py:1221: UndefinedMetricWarning: Jaccard is ill-defined and being set to 0.0 due to no true or predicted samples. Use `zero_division` parameter to control this behavior.\n",
      "  _warn_prf(average, modifier, msg_start, len(result))\n"
     ]
    },
    {
     "name": "stdout",
     "output_type": "stream",
     "text": [
      "Results for r2c0.png                   (non_roi - unet     - 1.00 accuracy)\n",
      "Results for r3c0.png                   (non_roi - unet     - 1.00 accuracy)\n",
      "Results for r4c0.png                   (non_roi - unet     - 1.00 accuracy)\n",
      "Results for r4c1.png                   (non_roi - unet     - 1.00 accuracy)\n",
      "Results for r5c0.png                   (non_roi - unet     - 1.00 accuracy)\n",
      "Results for r5c1.png                   (non_roi - unet     - 1.00 accuracy)\n",
      "Results for r6c1.png                   (non_roi - unet     - 1.00 accuracy)\n",
      "Results for r6c2.png                   (non_roi - unet     - 1.00 accuracy)\n"
     ]
    },
    {
     "name": "stderr",
     "output_type": "stream",
     "text": [
      "2021-06-04 02:59:59,475 :: INFO extract_normal_region_from_wsi :: \t Extracting normal regions from wsi image: 'TCGA-CN-5367-01Z-00-DX1.5b09e54e-4140-4709-bc60-e201f9a72b24_1.png'\n"
     ]
    },
    {
     "name": "stdout",
     "output_type": "stream",
     "text": [
      "Results for r0c4.png                   (roi     - unet     - 0.97 accuracy)\n"
     ]
    },
    {
     "name": "stderr",
     "output_type": "stream",
     "text": [
      "/home/dalifreire/.local/lib/python3.8/site-packages/sklearn/metrics/_classification.py:1221: UndefinedMetricWarning: Precision is ill-defined and being set to 0.0 due to no predicted samples. Use `zero_division` parameter to control this behavior.\n",
      "  _warn_prf(average, modifier, msg_start, len(result))\n"
     ]
    },
    {
     "name": "stdout",
     "output_type": "stream",
     "text": [
      "Results for r1c0.png                   (roi     - unet     - 0.94 accuracy)\n",
      "Results for r1c1.png                   (roi     - unet     - 0.93 accuracy)\n"
     ]
    },
    {
     "name": "stderr",
     "output_type": "stream",
     "text": [
      "/home/dalifreire/.local/lib/python3.8/site-packages/sklearn/metrics/_classification.py:1221: UndefinedMetricWarning: Precision is ill-defined and being set to 0.0 due to no predicted samples. Use `zero_division` parameter to control this behavior.\n",
      "  _warn_prf(average, modifier, msg_start, len(result))\n"
     ]
    },
    {
     "name": "stdout",
     "output_type": "stream",
     "text": [
      "Results for r1c2.png                   (roi     - unet     - 0.90 accuracy)\n",
      "Results for r1c4.png                   (roi     - unet     - 0.97 accuracy)\n",
      "Results for r1c5.png                   (roi     - unet     - 0.91 accuracy)\n",
      "Results for r1c6.png                   (roi     - unet     - 0.96 accuracy)\n",
      "Results for r2c0.png                   (roi     - unet     - 0.92 accuracy)\n",
      "Results for r2c1.png                   (roi     - unet     - 0.96 accuracy)\n"
     ]
    },
    {
     "name": "stderr",
     "output_type": "stream",
     "text": [
      "/home/dalifreire/.local/lib/python3.8/site-packages/sklearn/metrics/_classification.py:1221: UndefinedMetricWarning: Precision is ill-defined and being set to 0.0 due to no predicted samples. Use `zero_division` parameter to control this behavior.\n",
      "  _warn_prf(average, modifier, msg_start, len(result))\n"
     ]
    },
    {
     "name": "stdout",
     "output_type": "stream",
     "text": [
      "Results for r2c2.png                   (roi     - unet     - 0.89 accuracy)\n",
      "Results for r2c3.png                   (roi     - unet     - 0.95 accuracy)\n",
      "Results for r2c4.png                   (roi     - unet     - 0.92 accuracy)\n",
      "Results for r2c5.png                   (roi     - unet     - 0.66 accuracy)\n",
      "Results for r2c6.png                   (roi     - unet     - 0.87 accuracy)\n",
      "Results for r3c0.png                   (roi     - unet     - 0.88 accuracy)\n",
      "Results for r3c1.png                   (roi     - unet     - 0.76 accuracy)\n",
      "Results for r3c2.png                   (roi     - unet     - 0.58 accuracy)\n",
      "Results for r3c3.png                   (roi     - unet     - 0.91 accuracy)\n",
      "Results for r3c4.png                   (roi     - unet     - 0.99 accuracy)\n",
      "Results for r3c5.png                   (roi     - unet     - 0.90 accuracy)\n",
      "Results for r3c6.png                   (roi     - unet     - 0.92 accuracy)\n",
      "Results for r4c0.png                   (roi     - unet     - 0.92 accuracy)\n",
      "Results for r4c1.png                   (roi     - unet     - 0.98 accuracy)\n",
      "Results for r4c2.png                   (roi     - unet     - 0.93 accuracy)\n",
      "Results for r4c3.png                   (roi     - unet     - 0.71 accuracy)\n",
      "Results for r4c4.png                   (roi     - unet     - 0.74 accuracy)\n",
      "Results for r4c5.png                   (roi     - unet     - 0.44 accuracy)\n",
      "Results for r4c6.png                   (roi     - unet     - 0.75 accuracy)\n",
      "Results for r5c0.png                   (roi     - unet     - 0.98 accuracy)\n",
      "Results for r5c1.png                   (roi     - unet     - 0.95 accuracy)\n",
      "Results for r5c2.png                   (roi     - unet     - 0.88 accuracy)\n",
      "Results for r5c3.png                   (roi     - unet     - 0.73 accuracy)\n",
      "Results for r5c4.png                   (roi     - unet     - 0.98 accuracy)\n",
      "Results for r5c5.png                   (roi     - unet     - 0.95 accuracy)\n",
      "Results for r5c6.png                   (roi     - unet     - 0.94 accuracy)\n",
      "Results for r6c1.png                   (roi     - unet     - 0.98 accuracy)\n",
      "Results for r6c2.png                   (roi     - unet     - 0.95 accuracy)\n",
      "Results for r6c3.png                   (roi     - unet     - 0.99 accuracy)\n",
      "Results for r6c4.png                   (roi     - unet     - 0.74 accuracy)\n",
      "Results for r6c5.png                   (roi     - unet     - 0.90 accuracy)\n"
     ]
    },
    {
     "name": "stderr",
     "output_type": "stream",
     "text": [
      "/home/dalifreire/.local/lib/python3.8/site-packages/sklearn/metrics/_classification.py:1221: UndefinedMetricWarning: Precision is ill-defined and being set to 0.0 due to no predicted samples. Use `zero_division` parameter to control this behavior.\n",
      "  _warn_prf(average, modifier, msg_start, len(result))\n",
      "/home/dalifreire/.local/lib/python3.8/site-packages/sklearn/metrics/_classification.py:1221: UndefinedMetricWarning: Recall is ill-defined and being set to 0.0 due to no true samples. Use `zero_division` parameter to control this behavior.\n",
      "  _warn_prf(average, modifier, msg_start, len(result))\n",
      "/home/dalifreire/.local/lib/python3.8/site-packages/sklearn/metrics/_classification.py:1464: UndefinedMetricWarning: F-score is ill-defined and being set to 0.0 due to no true nor predicted samples. Use `zero_division` parameter to control this behavior.\n",
      "  _warn_prf(\n",
      "/home/dalifreire/.local/lib/python3.8/site-packages/sklearn/metrics/_classification.py:1221: UndefinedMetricWarning: Jaccard is ill-defined and being set to 0.0 due to no true or predicted samples. Use `zero_division` parameter to control this behavior.\n",
      "  _warn_prf(average, modifier, msg_start, len(result))\n"
     ]
    },
    {
     "name": "stdout",
     "output_type": "stream",
     "text": [
      "Results for r0c1.png                   (non_roi - unet     - 1.00 accuracy)\n",
      "Results for r0c2.png                   (non_roi - unet     - 1.00 accuracy)\n",
      "Results for r0c3.png                   (non_roi - unet     - 1.00 accuracy)\n",
      "Results for r0c5.png                   (non_roi - unet     - 1.00 accuracy)\n",
      "Results for r1c3.png                   (non_roi - unet     - 1.00 accuracy)\n"
     ]
    },
    {
     "name": "stderr",
     "output_type": "stream",
     "text": [
      "2021-06-04 03:03:14,370 :: INFO extract_normal_region_from_wsi :: \t Extracting normal regions from wsi image: 'TCGA-CN-5369-01Z-00-DX1.be289b39-c6c2-43a6-8feb-75ad5829ec81_0.png'\n"
     ]
    },
    {
     "name": "stdout",
     "output_type": "stream",
     "text": [
      "Results for r0c1.png                   (roi     - unet     - 0.78 accuracy)\n",
      "Results for r0c2.png                   (roi     - unet     - 0.17 accuracy)\n",
      "Results for r0c3.png                   (roi     - unet     - 1.00 accuracy)\n",
      "Results for r0c4.png                   (roi     - unet     - 0.20 accuracy)\n",
      "Results for r0c5.png                   (roi     - unet     - 0.88 accuracy)\n",
      "Results for r1c1.png                   (roi     - unet     - 0.79 accuracy)\n"
     ]
    },
    {
     "name": "stderr",
     "output_type": "stream",
     "text": [
      "/home/dalifreire/.local/lib/python3.8/site-packages/sklearn/metrics/_classification.py:1221: UndefinedMetricWarning: Precision is ill-defined and being set to 0.0 due to no predicted samples. Use `zero_division` parameter to control this behavior.\n",
      "  _warn_prf(average, modifier, msg_start, len(result))\n"
     ]
    },
    {
     "name": "stdout",
     "output_type": "stream",
     "text": [
      "Results for r1c2.png                   (roi     - unet     - 0.54 accuracy)\n",
      "Results for r1c3.png                   (roi     - unet     - 0.33 accuracy)\n",
      "Results for r1c4.png                   (roi     - unet     - 0.77 accuracy)\n",
      "Results for r1c5.png                   (roi     - unet     - 0.61 accuracy)\n"
     ]
    },
    {
     "name": "stderr",
     "output_type": "stream",
     "text": [
      "/home/dalifreire/.local/lib/python3.8/site-packages/sklearn/metrics/_classification.py:1221: UndefinedMetricWarning: Precision is ill-defined and being set to 0.0 due to no predicted samples. Use `zero_division` parameter to control this behavior.\n",
      "  _warn_prf(average, modifier, msg_start, len(result))\n"
     ]
    },
    {
     "name": "stdout",
     "output_type": "stream",
     "text": [
      "Results for r1c6.png                   (roi     - unet     - 0.63 accuracy)\n",
      "Results for r2c1.png                   (roi     - unet     - 0.60 accuracy)\n"
     ]
    },
    {
     "name": "stderr",
     "output_type": "stream",
     "text": [
      "/home/dalifreire/.local/lib/python3.8/site-packages/sklearn/metrics/_classification.py:1221: UndefinedMetricWarning: Precision is ill-defined and being set to 0.0 due to no predicted samples. Use `zero_division` parameter to control this behavior.\n",
      "  _warn_prf(average, modifier, msg_start, len(result))\n"
     ]
    },
    {
     "name": "stdout",
     "output_type": "stream",
     "text": [
      "Results for r2c2.png                   (roi     - unet     - 0.29 accuracy)\n",
      "Results for r2c3.png                   (roi     - unet     - 0.89 accuracy)\n",
      "Results for r2c4.png                   (roi     - unet     - 0.68 accuracy)\n",
      "Results for r2c5.png                   (roi     - unet     - 0.54 accuracy)\n",
      "Results for r2c6.png                   (roi     - unet     - 0.66 accuracy)\n",
      "Results for r3c1.png                   (roi     - unet     - 0.58 accuracy)\n"
     ]
    },
    {
     "name": "stderr",
     "output_type": "stream",
     "text": [
      "/home/dalifreire/.local/lib/python3.8/site-packages/sklearn/metrics/_classification.py:1221: UndefinedMetricWarning: Precision is ill-defined and being set to 0.0 due to no predicted samples. Use `zero_division` parameter to control this behavior.\n",
      "  _warn_prf(average, modifier, msg_start, len(result))\n"
     ]
    },
    {
     "name": "stdout",
     "output_type": "stream",
     "text": [
      "Results for r3c2.png                   (roi     - unet     - 0.15 accuracy)\n",
      "Results for r3c3.png                   (roi     - unet     - 0.79 accuracy)\n"
     ]
    },
    {
     "name": "stderr",
     "output_type": "stream",
     "text": [
      "/home/dalifreire/.local/lib/python3.8/site-packages/sklearn/metrics/_classification.py:1221: UndefinedMetricWarning: Precision is ill-defined and being set to 0.0 due to no predicted samples. Use `zero_division` parameter to control this behavior.\n",
      "  _warn_prf(average, modifier, msg_start, len(result))\n"
     ]
    },
    {
     "name": "stdout",
     "output_type": "stream",
     "text": [
      "Results for r3c4.png                   (roi     - unet     - 0.00 accuracy)\n",
      "Results for r3c5.png                   (roi     - unet     - 0.26 accuracy)\n",
      "Results for r4c1.png                   (roi     - unet     - 0.73 accuracy)\n",
      "Results for r4c2.png                   (roi     - unet     - 0.59 accuracy)\n",
      "Results for r4c4.png                   (roi     - unet     - 0.81 accuracy)\n",
      "Results for r4c5.png                   (roi     - unet     - 0.88 accuracy)\n",
      "Results for r5c1.png                   (roi     - unet     - 0.42 accuracy)\n"
     ]
    },
    {
     "name": "stderr",
     "output_type": "stream",
     "text": [
      "/home/dalifreire/.local/lib/python3.8/site-packages/sklearn/metrics/_classification.py:1221: UndefinedMetricWarning: Precision is ill-defined and being set to 0.0 due to no predicted samples. Use `zero_division` parameter to control this behavior.\n",
      "  _warn_prf(average, modifier, msg_start, len(result))\n"
     ]
    },
    {
     "name": "stdout",
     "output_type": "stream",
     "text": [
      "Results for r5c2.png                   (roi     - unet     - 0.48 accuracy)\n"
     ]
    },
    {
     "name": "stderr",
     "output_type": "stream",
     "text": [
      "/home/dalifreire/.local/lib/python3.8/site-packages/sklearn/metrics/_classification.py:1221: UndefinedMetricWarning: Recall is ill-defined and being set to 0.0 due to no true samples. Use `zero_division` parameter to control this behavior.\n",
      "  _warn_prf(average, modifier, msg_start, len(result))\n",
      "/home/dalifreire/.local/lib/python3.8/site-packages/sklearn/metrics/_classification.py:1464: UndefinedMetricWarning: F-score is ill-defined and being set to 0.0 due to no true nor predicted samples. Use `zero_division` parameter to control this behavior.\n",
      "  _warn_prf(\n",
      "/home/dalifreire/.local/lib/python3.8/site-packages/sklearn/metrics/_classification.py:1221: UndefinedMetricWarning: Jaccard is ill-defined and being set to 0.0 due to no true or predicted samples. Use `zero_division` parameter to control this behavior.\n",
      "  _warn_prf(average, modifier, msg_start, len(result))\n"
     ]
    },
    {
     "name": "stdout",
     "output_type": "stream",
     "text": [
      "Results for r1c0.png                   (non_roi - unet     - 1.00 accuracy)\n",
      "Results for r2c0.png                   (non_roi - unet     - 0.59 accuracy)\n",
      "Results for r3c0.png                   (non_roi - unet     - 0.62 accuracy)\n",
      "Results for r3c6.png                   (non_roi - unet     - 1.00 accuracy)\n",
      "Results for r4c0.png                   (non_roi - unet     - 0.16 accuracy)\n",
      "Results for r4c3.png                   (non_roi - unet     - 1.00 accuracy)\n",
      "Results for r4c6.png                   (non_roi - unet     - 1.00 accuracy)\n",
      "Results for r5c0.png                   (non_roi - unet     - 0.64 accuracy)\n",
      "Results for r5c3.png                   (non_roi - unet     - 0.27 accuracy)\n",
      "Results for r5c4.png                   (non_roi - unet     - 1.00 accuracy)\n",
      "Results for r5c5.png                   (non_roi - unet     - 0.95 accuracy)\n",
      "Results for r5c6.png                   (non_roi - unet     - 1.00 accuracy)\n",
      "Results for r6c1.png                   (non_roi - unet     - 0.70 accuracy)\n",
      "Results for r6c2.png                   (non_roi - unet     - 0.99 accuracy)\n",
      "Results for r6c3.png                   (non_roi - unet     - 0.54 accuracy)\n",
      "Results for r6c4.png                   (non_roi - unet     - 0.47 accuracy)\n",
      "Results for r6c5.png                   (non_roi - unet     - 1.00 accuracy)\n"
     ]
    },
    {
     "name": "stderr",
     "output_type": "stream",
     "text": [
      "2021-06-04 03:06:27,359 :: INFO extract_normal_region_from_wsi :: \t Extracting normal regions from wsi image: 'TCGA-CN-5369-01Z-00-DX1.be289b39-c6c2-43a6-8feb-75ad5829ec81_1.png'\n"
     ]
    },
    {
     "name": "stdout",
     "output_type": "stream",
     "text": [
      "Results for r0c1.png                   (roi     - unet     - 0.68 accuracy)\n",
      "Results for r0c2.png                   (roi     - unet     - 0.50 accuracy)\n"
     ]
    },
    {
     "name": "stderr",
     "output_type": "stream",
     "text": [
      "/home/dalifreire/.local/lib/python3.8/site-packages/sklearn/metrics/_classification.py:1221: UndefinedMetricWarning: Precision is ill-defined and being set to 0.0 due to no predicted samples. Use `zero_division` parameter to control this behavior.\n",
      "  _warn_prf(average, modifier, msg_start, len(result))\n"
     ]
    },
    {
     "name": "stdout",
     "output_type": "stream",
     "text": [
      "Results for r0c3.png                   (roi     - unet     - 0.93 accuracy)\n",
      "Results for r0c4.png                   (roi     - unet     - 0.37 accuracy)\n"
     ]
    },
    {
     "name": "stderr",
     "output_type": "stream",
     "text": [
      "/home/dalifreire/.local/lib/python3.8/site-packages/sklearn/metrics/_classification.py:1221: UndefinedMetricWarning: Precision is ill-defined and being set to 0.0 due to no predicted samples. Use `zero_division` parameter to control this behavior.\n",
      "  _warn_prf(average, modifier, msg_start, len(result))\n"
     ]
    },
    {
     "name": "stdout",
     "output_type": "stream",
     "text": [
      "Results for r0c5.png                   (roi     - unet     - 0.66 accuracy)\n",
      "Results for r1c1.png                   (roi     - unet     - 0.85 accuracy)\n",
      "Results for r1c2.png                   (roi     - unet     - 0.57 accuracy)\n",
      "Results for r1c3.png                   (roi     - unet     - 0.25 accuracy)\n",
      "Results for r1c4.png                   (roi     - unet     - 0.09 accuracy)\n",
      "Results for r1c5.png                   (roi     - unet     - 0.43 accuracy)\n"
     ]
    },
    {
     "name": "stderr",
     "output_type": "stream",
     "text": [
      "/home/dalifreire/.local/lib/python3.8/site-packages/sklearn/metrics/_classification.py:1221: UndefinedMetricWarning: Precision is ill-defined and being set to 0.0 due to no predicted samples. Use `zero_division` parameter to control this behavior.\n",
      "  _warn_prf(average, modifier, msg_start, len(result))\n"
     ]
    },
    {
     "name": "stdout",
     "output_type": "stream",
     "text": [
      "Results for r1c6.png                   (roi     - unet     - 0.66 accuracy)\n",
      "Results for r2c3.png                   (roi     - unet     - 0.17 accuracy)\n",
      "Results for r2c4.png                   (roi     - unet     - 0.00 accuracy)\n",
      "Results for r2c5.png                   (roi     - unet     - 0.95 accuracy)\n",
      "Results for r2c6.png                   (roi     - unet     - 0.81 accuracy)\n"
     ]
    },
    {
     "name": "stderr",
     "output_type": "stream",
     "text": [
      "/home/dalifreire/.local/lib/python3.8/site-packages/sklearn/metrics/_classification.py:1221: UndefinedMetricWarning: Precision is ill-defined and being set to 0.0 due to no predicted samples. Use `zero_division` parameter to control this behavior.\n",
      "  _warn_prf(average, modifier, msg_start, len(result))\n"
     ]
    },
    {
     "name": "stdout",
     "output_type": "stream",
     "text": [
      "Results for r3c3.png                   (roi     - unet     - 0.41 accuracy)\n"
     ]
    },
    {
     "ename": "ValueError",
     "evalue": "Only one class present in y_true. ROC AUC score is not defined in that case.",
     "output_type": "error",
     "traceback": [
      "\u001b[0;31m---------------------------------------------------------------------------\u001b[0m",
      "\u001b[0;31mValueError\u001b[0m                                Traceback (most recent call last)",
      "\u001b[0;32m<ipython-input-3-512212e69061>\u001b[0m in \u001b[0;36m<module>\u001b[0;34m\u001b[0m\n\u001b[1;32m    115\u001b[0m \u001b[0;34m\u001b[0m\u001b[0m\n\u001b[1;32m    116\u001b[0m         \u001b[0;31m# metrics\u001b[0m\u001b[0;34m\u001b[0m\u001b[0;34m\u001b[0m\u001b[0;34m\u001b[0m\u001b[0m\n\u001b[0;32m--> 117\u001b[0;31m         \u001b[0mauc\u001b[0m \u001b[0;34m=\u001b[0m \u001b[0mroc_auc_score\u001b[0m\u001b[0;34m(\u001b[0m\u001b[0mmask_np_img\u001b[0m\u001b[0;34m,\u001b[0m \u001b[0mpredicted_np_img\u001b[0m\u001b[0;34m)\u001b[0m\u001b[0;34m\u001b[0m\u001b[0;34m\u001b[0m\u001b[0m\n\u001b[0m\u001b[1;32m    118\u001b[0m         \u001b[0mprecision\u001b[0m \u001b[0;34m=\u001b[0m \u001b[0mprecision_score\u001b[0m\u001b[0;34m(\u001b[0m\u001b[0mmask_np_img\u001b[0m\u001b[0;34m,\u001b[0m \u001b[0mpredicted_np_img\u001b[0m\u001b[0;34m)\u001b[0m\u001b[0;34m\u001b[0m\u001b[0;34m\u001b[0m\u001b[0m\n\u001b[1;32m    119\u001b[0m         \u001b[0mrecall\u001b[0m \u001b[0;34m=\u001b[0m \u001b[0mrecall_score\u001b[0m\u001b[0;34m(\u001b[0m\u001b[0mmask_np_img\u001b[0m\u001b[0;34m,\u001b[0m \u001b[0mpredicted_np_img\u001b[0m\u001b[0;34m)\u001b[0m\u001b[0;34m\u001b[0m\u001b[0;34m\u001b[0m\u001b[0m\n",
      "\u001b[0;32m/media/dalifreire/DADOS/PhD/github/tumor_regions_segmentation/sourcecode/evaluation_utils.py\u001b[0m in \u001b[0;36mroc_auc_score\u001b[0;34m(target, prediction, pixel)\u001b[0m\n\u001b[1;32m     92\u001b[0m \u001b[0;34m\u001b[0m\u001b[0m\n\u001b[1;32m     93\u001b[0m     \u001b[0mtotal_patches\u001b[0m\u001b[0;34m,\u001b[0m \u001b[0mtn\u001b[0m\u001b[0;34m,\u001b[0m \u001b[0mfp\u001b[0m\u001b[0;34m,\u001b[0m \u001b[0mfn\u001b[0m\u001b[0;34m,\u001b[0m \u001b[0mtp\u001b[0m \u001b[0;34m=\u001b[0m \u001b[0mtn_fp_fn_tp\u001b[0m\u001b[0;34m(\u001b[0m\u001b[0mtarget\u001b[0m\u001b[0;34m,\u001b[0m \u001b[0mprediction\u001b[0m\u001b[0;34m,\u001b[0m \u001b[0mpixel\u001b[0m\u001b[0;34m)\u001b[0m\u001b[0;34m\u001b[0m\u001b[0;34m\u001b[0m\u001b[0m\n\u001b[0;32m---> 94\u001b[0;31m     \u001b[0;32mreturn\u001b[0m \u001b[0;36m0.0\u001b[0m \u001b[0;32mif\u001b[0m \u001b[0mtp\u001b[0m \u001b[0;34m==\u001b[0m \u001b[0;36m0\u001b[0m \u001b[0;32melse\u001b[0m \u001b[0mmetrics\u001b[0m\u001b[0;34m.\u001b[0m\u001b[0mroc_auc_score\u001b[0m\u001b[0;34m(\u001b[0m\u001b[0mmask_np\u001b[0m\u001b[0;34m.\u001b[0m\u001b[0mravel\u001b[0m\u001b[0;34m(\u001b[0m\u001b[0;34m)\u001b[0m\u001b[0;34m,\u001b[0m \u001b[0moutput_np\u001b[0m\u001b[0;34m.\u001b[0m\u001b[0mravel\u001b[0m\u001b[0;34m(\u001b[0m\u001b[0;34m)\u001b[0m\u001b[0;34m,\u001b[0m \u001b[0maverage\u001b[0m\u001b[0;34m=\u001b[0m\u001b[0;34m'micro'\u001b[0m\u001b[0;34m)\u001b[0m\u001b[0;34m\u001b[0m\u001b[0;34m\u001b[0m\u001b[0m\n\u001b[0m\u001b[1;32m     95\u001b[0m \u001b[0;34m\u001b[0m\u001b[0m\n\u001b[1;32m     96\u001b[0m \u001b[0;34m\u001b[0m\u001b[0m\n",
      "\u001b[0;32m~/.local/lib/python3.8/site-packages/sklearn/utils/validation.py\u001b[0m in \u001b[0;36minner_f\u001b[0;34m(*args, **kwargs)\u001b[0m\n\u001b[1;32m     71\u001b[0m                           FutureWarning)\n\u001b[1;32m     72\u001b[0m         \u001b[0mkwargs\u001b[0m\u001b[0;34m.\u001b[0m\u001b[0mupdate\u001b[0m\u001b[0;34m(\u001b[0m\u001b[0;34m{\u001b[0m\u001b[0mk\u001b[0m\u001b[0;34m:\u001b[0m \u001b[0marg\u001b[0m \u001b[0;32mfor\u001b[0m \u001b[0mk\u001b[0m\u001b[0;34m,\u001b[0m \u001b[0marg\u001b[0m \u001b[0;32min\u001b[0m \u001b[0mzip\u001b[0m\u001b[0;34m(\u001b[0m\u001b[0msig\u001b[0m\u001b[0;34m.\u001b[0m\u001b[0mparameters\u001b[0m\u001b[0;34m,\u001b[0m \u001b[0margs\u001b[0m\u001b[0;34m)\u001b[0m\u001b[0;34m}\u001b[0m\u001b[0;34m)\u001b[0m\u001b[0;34m\u001b[0m\u001b[0;34m\u001b[0m\u001b[0m\n\u001b[0;32m---> 73\u001b[0;31m         \u001b[0;32mreturn\u001b[0m \u001b[0mf\u001b[0m\u001b[0;34m(\u001b[0m\u001b[0;34m**\u001b[0m\u001b[0mkwargs\u001b[0m\u001b[0;34m)\u001b[0m\u001b[0;34m\u001b[0m\u001b[0;34m\u001b[0m\u001b[0m\n\u001b[0m\u001b[1;32m     74\u001b[0m     \u001b[0;32mreturn\u001b[0m \u001b[0minner_f\u001b[0m\u001b[0;34m\u001b[0m\u001b[0;34m\u001b[0m\u001b[0m\n\u001b[1;32m     75\u001b[0m \u001b[0;34m\u001b[0m\u001b[0m\n",
      "\u001b[0;32m~/.local/lib/python3.8/site-packages/sklearn/metrics/_ranking.py\u001b[0m in \u001b[0;36mroc_auc_score\u001b[0;34m(y_true, y_score, average, sample_weight, max_fpr, multi_class, labels)\u001b[0m\n\u001b[1;32m    388\u001b[0m         \u001b[0mlabels\u001b[0m \u001b[0;34m=\u001b[0m \u001b[0mnp\u001b[0m\u001b[0;34m.\u001b[0m\u001b[0munique\u001b[0m\u001b[0;34m(\u001b[0m\u001b[0my_true\u001b[0m\u001b[0;34m)\u001b[0m\u001b[0;34m\u001b[0m\u001b[0;34m\u001b[0m\u001b[0m\n\u001b[1;32m    389\u001b[0m         \u001b[0my_true\u001b[0m \u001b[0;34m=\u001b[0m \u001b[0mlabel_binarize\u001b[0m\u001b[0;34m(\u001b[0m\u001b[0my_true\u001b[0m\u001b[0;34m,\u001b[0m \u001b[0mclasses\u001b[0m\u001b[0;34m=\u001b[0m\u001b[0mlabels\u001b[0m\u001b[0;34m)\u001b[0m\u001b[0;34m[\u001b[0m\u001b[0;34m:\u001b[0m\u001b[0;34m,\u001b[0m \u001b[0;36m0\u001b[0m\u001b[0;34m]\u001b[0m\u001b[0;34m\u001b[0m\u001b[0;34m\u001b[0m\u001b[0m\n\u001b[0;32m--> 390\u001b[0;31m         return _average_binary_score(partial(_binary_roc_auc_score,\n\u001b[0m\u001b[1;32m    391\u001b[0m                                              max_fpr=max_fpr),\n\u001b[1;32m    392\u001b[0m                                      \u001b[0my_true\u001b[0m\u001b[0;34m,\u001b[0m \u001b[0my_score\u001b[0m\u001b[0;34m,\u001b[0m \u001b[0maverage\u001b[0m\u001b[0;34m,\u001b[0m\u001b[0;34m\u001b[0m\u001b[0;34m\u001b[0m\u001b[0m\n",
      "\u001b[0;32m~/.local/lib/python3.8/site-packages/sklearn/metrics/_base.py\u001b[0m in \u001b[0;36m_average_binary_score\u001b[0;34m(binary_metric, y_true, y_score, average, sample_weight)\u001b[0m\n\u001b[1;32m     75\u001b[0m \u001b[0;34m\u001b[0m\u001b[0m\n\u001b[1;32m     76\u001b[0m     \u001b[0;32mif\u001b[0m \u001b[0my_type\u001b[0m \u001b[0;34m==\u001b[0m \u001b[0;34m\"binary\"\u001b[0m\u001b[0;34m:\u001b[0m\u001b[0;34m\u001b[0m\u001b[0;34m\u001b[0m\u001b[0m\n\u001b[0;32m---> 77\u001b[0;31m         \u001b[0;32mreturn\u001b[0m \u001b[0mbinary_metric\u001b[0m\u001b[0;34m(\u001b[0m\u001b[0my_true\u001b[0m\u001b[0;34m,\u001b[0m \u001b[0my_score\u001b[0m\u001b[0;34m,\u001b[0m \u001b[0msample_weight\u001b[0m\u001b[0;34m=\u001b[0m\u001b[0msample_weight\u001b[0m\u001b[0;34m)\u001b[0m\u001b[0;34m\u001b[0m\u001b[0;34m\u001b[0m\u001b[0m\n\u001b[0m\u001b[1;32m     78\u001b[0m \u001b[0;34m\u001b[0m\u001b[0m\n\u001b[1;32m     79\u001b[0m     \u001b[0mcheck_consistent_length\u001b[0m\u001b[0;34m(\u001b[0m\u001b[0my_true\u001b[0m\u001b[0;34m,\u001b[0m \u001b[0my_score\u001b[0m\u001b[0;34m,\u001b[0m \u001b[0msample_weight\u001b[0m\u001b[0;34m)\u001b[0m\u001b[0;34m\u001b[0m\u001b[0;34m\u001b[0m\u001b[0m\n",
      "\u001b[0;32m~/.local/lib/python3.8/site-packages/sklearn/metrics/_ranking.py\u001b[0m in \u001b[0;36m_binary_roc_auc_score\u001b[0;34m(y_true, y_score, sample_weight, max_fpr)\u001b[0m\n\u001b[1;32m    221\u001b[0m     \u001b[0;34m\"\"\"Binary roc auc score\"\"\"\u001b[0m\u001b[0;34m\u001b[0m\u001b[0;34m\u001b[0m\u001b[0m\n\u001b[1;32m    222\u001b[0m     \u001b[0;32mif\u001b[0m \u001b[0mlen\u001b[0m\u001b[0;34m(\u001b[0m\u001b[0mnp\u001b[0m\u001b[0;34m.\u001b[0m\u001b[0munique\u001b[0m\u001b[0;34m(\u001b[0m\u001b[0my_true\u001b[0m\u001b[0;34m)\u001b[0m\u001b[0;34m)\u001b[0m \u001b[0;34m!=\u001b[0m \u001b[0;36m2\u001b[0m\u001b[0;34m:\u001b[0m\u001b[0;34m\u001b[0m\u001b[0;34m\u001b[0m\u001b[0m\n\u001b[0;32m--> 223\u001b[0;31m         raise ValueError(\"Only one class present in y_true. ROC AUC score \"\n\u001b[0m\u001b[1;32m    224\u001b[0m                          \"is not defined in that case.\")\n\u001b[1;32m    225\u001b[0m \u001b[0;34m\u001b[0m\u001b[0m\n",
      "\u001b[0;31mValueError\u001b[0m: Only one class present in y_true. ROC AUC score is not defined in that case."
     ]
    }
   ],
   "source": [
    "import os\n",
    "import sys\n",
    "import csv\n",
    "\n",
    "from scipy import ndimage as nd\n",
    "from skimage import measure\n",
    "\n",
    "\n",
    "\n",
    "current_path = os.path.abspath('.')\n",
    "root_path = os.path.dirname(os.path.dirname(current_path))\n",
    "sys.path.append(root_path)\n",
    "\n",
    "from sourcecode.ORCA.orca_dataloader import *\n",
    "from sourcecode.wsi_image_utils import *\n",
    "from sourcecode.evaluation_utils import *\n",
    "\n",
    "\n",
    "\n",
    "dataset_dir = \"../../datasets/ORCA\"\n",
    "\n",
    "batch_size = 1\n",
    "patch_size = (640, 640)\n",
    "color_model = \"LAB\"\n",
    "dataloaders = create_dataloader(tile_size=\"{}x{}\".format(patch_size[0], patch_size[1]),\n",
    "                                batch_size=batch_size, \n",
    "                                shuffle=False,\n",
    "                                img_input_size=patch_size,\n",
    "                                img_output_size=patch_size,\n",
    "                                dataset_dir=dataset_dir,\n",
    "                                color_model=color_model)\n",
    "\n",
    "dataset_train_size = len(dataloaders['train'].dataset)\n",
    "dataset_test_size = len(dataloaders['test'].dataset)\n",
    "print(\"-\")\n",
    "\n",
    "tile_size = 20\n",
    "magnification=0.625\n",
    "\n",
    "threshold_prob = 0.50\n",
    "threshold_itc = 200/(0.243 * pow(2, 5))\n",
    "\n",
    "wsi_images_dir_normal = \"{}/testing/normal/wsi\".format(dataset_dir)\n",
    "wsi_images_dir_tumor = \"{}/testing/tumor/wsi\".format(dataset_dir)\n",
    "\n",
    "trained_model_version = \"ORCA__Size-640x640_Epoch-97_Images-3344_Batch-1__one_by_epoch\"\n",
    "results_dir=\"{}/results/{}/testing\".format(dataset_dir, trained_model_version)\n",
    "csv_file_path = \"{}/quantitative_analysis_{}.csv\".format(results_dir, threshold_prob)\n",
    "\n",
    "wsi_tissue_patches = {}\n",
    "with open(csv_file_path, mode='w') as medidas_file:\n",
    "\n",
    "    medidas_writer = csv.writer(medidas_file, delimiter=',', quotechar='\"', quoting=csv.QUOTE_MINIMAL)\n",
    "    medidas_writer.writerow(['wsi_image', 'patch_image', 'class', 'auc', 'accuracy', 'precision', 'f1/dice', 'jaccard', 'sensitivity/recall', 'specificity', 'pixels', 'tp', 'tn', 'fp', 'fn'])\n",
    "\n",
    "    for batch_idx, (data, target, fname, original_size) in enumerate(dataloaders['test']):\n",
    "\n",
    "        # wsi image number\n",
    "        wsi_image_number = fname[0].split(\"_\")[0] + \"_\" + fname[0].split(\"_\")[1]\n",
    "        if wsi_image_number not in wsi_tissue_patches:\n",
    "            \n",
    "            # extract the tissue region from original image and draw the heat grid\n",
    "            wsi_image_path = \"{}/{}.png\".format(wsi_images_dir_tumor, wsi_image_number)\n",
    "            if not os.path.exists(wsi_image_path):\n",
    "                wsi_image_path = \"{}/{}.tif\".format(wsi_images_dir_normal, wsi_image_number)\n",
    "            \n",
    "             # scale down image\n",
    "            wsi_image = open_wsi(wsi_image_path)\n",
    "            pil_scaled_down_image = scale_down_wsi(wsi_image, magnification, False)\n",
    "            np_scaled_down_image = pil_to_np(pil_scaled_down_image)\n",
    "\n",
    "            # extract tissue region \n",
    "            np_tissue_mask, np_masked_image = extract_normal_region_from_wsi(wsi_image_path, np_scaled_down_image, None)\n",
    "            pil_masked_image = np_to_pil(np_masked_image)\n",
    "\n",
    "            # draw the heat grid\n",
    "            pil_img_result, heat_grid, number_of_tiles = draw_heat_grid(np_masked_image, tile_size)\n",
    "\n",
    "            tissue_patches = []\n",
    "            for idx, (position, row, column, location, size, color) in enumerate(heat_grid):\n",
    "                if color != GREEN_COLOR: \n",
    "                    tissue_patches.append(\"{}_r{}c{}.png\".format(wsi_image_number, row, column))\n",
    "\n",
    "            wsi_tissue_patches[wsi_image_number] = tissue_patches\n",
    "            #print(wsi_tissue_patches)\n",
    "\n",
    "        # check if the patch was excluded in preprocessing step\n",
    "        patch_excludde_in_preprocessing = fname[0] not in wsi_tissue_patches[wsi_image_number]\n",
    "\n",
    "        # load the mask image\n",
    "        mask_np_img = target[0].numpy()\n",
    "\n",
    "        # roi x non_roi classes\n",
    "        wsi_class = \"tumor\" if wsi_image_path.find(\"tumor\") > 0 else \"normal\"\n",
    "        patch_class = \"roi\" if np.max(np.unique(mask_np_img)) > 0 else 'non_roi'\n",
    "                \n",
    "\n",
    "        # load the predicted image result\n",
    "        patch_results_dir = \"{}/{}/patch/640x640/{}\".format(results_dir, wsi_class, wsi_image_number)\n",
    "        unet_result_img = \"{}/01-unet_result/{}\".format(patch_results_dir, fname[0])\n",
    "        predicted_pil_img = Image.fromarray(np.zeros(mask_np_img.shape)) if patch_excludde_in_preprocessing else load_pil_image(unet_result_img, gray=True) if os.path.isfile(unet_result_img) else Image.fromarray(np.zeros(mask_np_img.shape))\n",
    "        predicted_np_img = np.copy(pil_to_np(predicted_pil_img))\n",
    "        predicted_np_img = predicted_np_img * (1.0/255)\n",
    "        predicted_np_img = basic_threshold(predicted_np_img, threshold=threshold_prob, output_type=\"uint8\")\n",
    "\n",
    "        predicted_labels = measure.label(predicted_np_img, connectivity=2)\n",
    "        predicted_np_img = np.zeros((predicted_np_img.shape[0], predicted_np_img.shape[1]))\n",
    "        labels = np.unique(predicted_labels)\n",
    "        properties = measure.regionprops(predicted_labels)\n",
    "        for lbl in range(1, np.max(labels)):\n",
    "            major_axis_length = properties[lbl-1].major_axis_length\n",
    "            if major_axis_length > threshold_itc:\n",
    "                predicted_np_img[predicted_labels == lbl] = 1\n",
    "\n",
    "\n",
    "        # metrics\n",
    "        auc = roc_auc_score(mask_np_img, predicted_np_img)\n",
    "        precision = precision_score(mask_np_img, predicted_np_img)\n",
    "        recall = recall_score(mask_np_img, predicted_np_img)\n",
    "        accuracy = accuracy_score(mask_np_img, predicted_np_img)\n",
    "        f1 = f1_score(mask_np_img, predicted_np_img)\n",
    "        specificity = specificity_score(mask_np_img, predicted_np_img)\n",
    "        jaccard = jaccard_score(mask_np_img, predicted_np_img)\n",
    "\n",
    "        total_pixels, tn, fp, fn, tp = tn_fp_fn_tp(mask_np_img, predicted_np_img)\n",
    "\n",
    "        print(\"Results for {:26} ({:7} - {:8} - {:04.2f} accuracy)\".format(fname[0].split(\"_\")[2], patch_class, \"excluded\" if patch_excludde_in_preprocessing else \"unet\", accuracy))\n",
    "        #print(\"   Precision: \\t{}\".format(precision))\n",
    "        #print(\"   Recall/Sen: \\t{}\".format(recall))\n",
    "        #print(\"   F1/Dice: \\t{}\".format(f1))\n",
    "        #print(\"   Accuracy: \\t{}\".format(accuracy))\n",
    "        #print(\"   Specificity: {}\".format(specificity))\n",
    "        #print(\"   Jaccard: \\t{}\".format(jaccard))\n",
    "        #print(\"   TP = {} TN = {} FP = {} FN = {}\".format(tp, tn, fp, fn))\n",
    "        #print(\"-\")\n",
    "\n",
    "        medidas_writer.writerow([wsi_image_number, fname[0].split(\"_\")[2], patch_class, auc, accuracy, precision, f1, jaccard, recall, specificity, total_pixels, tp, tn, fp, fn])\n"
   ]
  },
  {
   "cell_type": "code",
   "execution_count": null,
   "metadata": {},
   "outputs": [],
   "source": [
    "Results for r3c3.png                   (roi     - unet     - 0.41 accuracy)\n",
    "---------------------------------------------------------------------------\n",
    "ValueError                                Traceback (most recent call last)\n",
    "<ipython-input-3-512212e69061> in <module>\n",
    "    115 \n",
    "    116         # metrics\n",
    "--> 117         auc = roc_auc_score(mask_np_img, predicted_np_img)\n",
    "    118         precision = precision_score(mask_np_img, predicted_np_img)\n",
    "    119         recall = recall_score(mask_np_img, predicted_np_img)\n",
    "    \n",
    "ValueError: Only one class present in y_true. ROC AUC score is not defined in that case."
   ]
  },
  {
   "cell_type": "code",
   "execution_count": null,
   "metadata": {},
   "outputs": [],
   "source": []
  },
  {
   "cell_type": "markdown",
   "metadata": {},
   "source": [
    "# Quantitative metrics for image-patches (512x512)"
   ]
  },
  {
   "cell_type": "code",
   "execution_count": 3,
   "metadata": {},
   "outputs": [
    {
     "name": "stderr",
     "output_type": "stream",
     "text": [
      "2021-06-10 20:26:52,372 :: INFO load_dataset :: [training] ../../datasets/ORCA_512x512/training\n",
      "2021-06-10 20:26:52,374 :: INFO load_dataset :: [training] ../../datasets/ORCA_512x512/training\n",
      "2021-06-10 20:26:52,375 :: INFO load_dataset :: [testing] ../../datasets/ORCA_512x512/testing\n",
      "2021-06-10 20:26:52,377 :: INFO create_dataloader :: Train images: 100 augmentation: random\n",
      "2021-06-10 20:26:52,377 :: INFO create_dataloader :: Test images: 100 augmentation: no_augmentation\n",
      "2021-06-10 20:26:52,444 :: INFO transform :: Epoch: '1' augmentation no_augmentation None\n"
     ]
    },
    {
     "name": "stdout",
     "output_type": "stream",
     "text": [
      "-\n",
      "TCGA-CN-4723-01Z-00-DX1.13483e7b-9322-4d39-8cd6-91e898bf2ee9_0.png\n",
      "Results for TCGA-CN-4723-01Z-00-DX1.13483e7b-9322-4d39-8cd6-91e898bf2ee9_0.png (roi     - unet     - 0.87 accuracy)\n",
      "TCGA-CN-4723-01Z-00-DX1.13483e7b-9322-4d39-8cd6-91e898bf2ee9_1.png\n",
      "Results for TCGA-CN-4723-01Z-00-DX1.13483e7b-9322-4d39-8cd6-91e898bf2ee9_1.png (roi     - unet     - 0.76 accuracy)\n",
      "TCGA-CN-4725-01Z-00-DX1.fe518acf-cceb-4be4-b01a-63d66248d6d4_0.png\n",
      "Results for TCGA-CN-4725-01Z-00-DX1.fe518acf-cceb-4be4-b01a-63d66248d6d4_0.png (roi     - unet     - 0.88 accuracy)\n",
      "TCGA-CN-4725-01Z-00-DX1.fe518acf-cceb-4be4-b01a-63d66248d6d4_1.png\n",
      "Results for TCGA-CN-4725-01Z-00-DX1.fe518acf-cceb-4be4-b01a-63d66248d6d4_1.png (roi     - unet     - 0.91 accuracy)\n",
      "TCGA-CN-4726-01Z-00-DX1.0ddf44ae-1cb7-41f1-8b59-a5a689f5a71c_0.png\n",
      "Results for TCGA-CN-4726-01Z-00-DX1.0ddf44ae-1cb7-41f1-8b59-a5a689f5a71c_0.png (roi     - unet     - 0.91 accuracy)\n",
      "TCGA-CN-4726-01Z-00-DX1.0ddf44ae-1cb7-41f1-8b59-a5a689f5a71c_1.png\n",
      "Results for TCGA-CN-4726-01Z-00-DX1.0ddf44ae-1cb7-41f1-8b59-a5a689f5a71c_1.png (roi     - unet     - 0.94 accuracy)\n",
      "TCGA-CN-4727-01Z-00-DX1.bee9d488-0f05-4579-8c34-aa4197972bb1_0.png\n",
      "Results for TCGA-CN-4727-01Z-00-DX1.bee9d488-0f05-4579-8c34-aa4197972bb1_0.png (roi     - unet     - 0.90 accuracy)\n",
      "TCGA-CN-4727-01Z-00-DX1.bee9d488-0f05-4579-8c34-aa4197972bb1_1.png\n",
      "Results for TCGA-CN-4727-01Z-00-DX1.bee9d488-0f05-4579-8c34-aa4197972bb1_1.png (roi     - unet     - 0.92 accuracy)\n",
      "TCGA-CN-4728-01Z-00-DX1.69fc04ce-cc6b-4c63-9322-b5ffb0056828_0.png\n",
      "Results for TCGA-CN-4728-01Z-00-DX1.69fc04ce-cc6b-4c63-9322-b5ffb0056828_0.png (roi     - unet     - 0.92 accuracy)\n",
      "TCGA-CN-4728-01Z-00-DX1.69fc04ce-cc6b-4c63-9322-b5ffb0056828_1.png\n",
      "Results for TCGA-CN-4728-01Z-00-DX1.69fc04ce-cc6b-4c63-9322-b5ffb0056828_1.png (roi     - unet     - 0.94 accuracy)\n",
      "TCGA-CN-4729-01Z-00-DX1.fd5f9170-c35b-4095-aff3-4c95921e0e68_0.png\n",
      "Results for TCGA-CN-4729-01Z-00-DX1.fd5f9170-c35b-4095-aff3-4c95921e0e68_0.png (roi     - unet     - 0.92 accuracy)\n",
      "TCGA-CN-4729-01Z-00-DX1.fd5f9170-c35b-4095-aff3-4c95921e0e68_1.png\n",
      "Results for TCGA-CN-4729-01Z-00-DX1.fd5f9170-c35b-4095-aff3-4c95921e0e68_1.png (roi     - unet     - 0.92 accuracy)\n",
      "TCGA-CN-4730-01Z-00-DX1.a76280e8-6591-4d51-afc9-2f01e87346ab_0.png\n",
      "Results for TCGA-CN-4730-01Z-00-DX1.a76280e8-6591-4d51-afc9-2f01e87346ab_0.png (roi     - unet     - 0.95 accuracy)\n",
      "TCGA-CN-4730-01Z-00-DX1.a76280e8-6591-4d51-afc9-2f01e87346ab_1.png\n",
      "Results for TCGA-CN-4730-01Z-00-DX1.a76280e8-6591-4d51-afc9-2f01e87346ab_1.png (roi     - unet     - 0.95 accuracy)\n",
      "TCGA-CN-4731-01Z-00-DX1.07b0bf3b-77f3-4471-a63c-1afc54714a60_0.png\n",
      "Results for TCGA-CN-4731-01Z-00-DX1.07b0bf3b-77f3-4471-a63c-1afc54714a60_0.png (roi     - unet     - 0.87 accuracy)\n",
      "TCGA-CN-4731-01Z-00-DX1.07b0bf3b-77f3-4471-a63c-1afc54714a60_1.png\n",
      "Results for TCGA-CN-4731-01Z-00-DX1.07b0bf3b-77f3-4471-a63c-1afc54714a60_1.png (roi     - unet     - 0.88 accuracy)\n",
      "TCGA-CN-4733-01Z-00-DX1.03cccb3f-c551-450f-b00a-f808a237db0b_0.png\n",
      "Results for TCGA-CN-4733-01Z-00-DX1.03cccb3f-c551-450f-b00a-f808a237db0b_0.png (roi     - unet     - 0.88 accuracy)\n",
      "TCGA-CN-4733-01Z-00-DX1.03cccb3f-c551-450f-b00a-f808a237db0b_1.png\n",
      "Results for TCGA-CN-4733-01Z-00-DX1.03cccb3f-c551-450f-b00a-f808a237db0b_1.png (roi     - unet     - 0.89 accuracy)\n",
      "TCGA-CN-4734-01Z-00-DX1.9cd35e43-7132-478a-9d08-a88d150b7127_0.png\n",
      "Results for TCGA-CN-4734-01Z-00-DX1.9cd35e43-7132-478a-9d08-a88d150b7127_0.png (roi     - unet     - 0.90 accuracy)\n",
      "TCGA-CN-4734-01Z-00-DX1.9cd35e43-7132-478a-9d08-a88d150b7127_1.png\n",
      "Results for TCGA-CN-4734-01Z-00-DX1.9cd35e43-7132-478a-9d08-a88d150b7127_1.png (roi     - unet     - 0.88 accuracy)\n",
      "TCGA-CN-4735-01Z-00-DX1.b7d37666-bd65-4d3b-826b-97e560444956_0.png\n",
      "Results for TCGA-CN-4735-01Z-00-DX1.b7d37666-bd65-4d3b-826b-97e560444956_0.png (roi     - unet     - 0.89 accuracy)\n",
      "TCGA-CN-4735-01Z-00-DX1.b7d37666-bd65-4d3b-826b-97e560444956_1.png\n",
      "Results for TCGA-CN-4735-01Z-00-DX1.b7d37666-bd65-4d3b-826b-97e560444956_1.png (roi     - unet     - 0.88 accuracy)\n",
      "TCGA-CN-4736-01Z-00-DX1.883fda2c-82bd-46c1-b220-b9961d8700cc_0.png\n",
      "Results for TCGA-CN-4736-01Z-00-DX1.883fda2c-82bd-46c1-b220-b9961d8700cc_0.png (roi     - unet     - 0.86 accuracy)\n",
      "TCGA-CN-4736-01Z-00-DX1.883fda2c-82bd-46c1-b220-b9961d8700cc_1.png\n",
      "Results for TCGA-CN-4736-01Z-00-DX1.883fda2c-82bd-46c1-b220-b9961d8700cc_1.png (roi     - unet     - 0.85 accuracy)\n",
      "TCGA-CN-4737-01Z-00-DX1.15951662-62c1-49e1-94ea-1f4ebad55507_0.png\n",
      "Results for TCGA-CN-4737-01Z-00-DX1.15951662-62c1-49e1-94ea-1f4ebad55507_0.png (roi     - unet     - 0.90 accuracy)\n",
      "TCGA-CN-4737-01Z-00-DX1.15951662-62c1-49e1-94ea-1f4ebad55507_1.png\n",
      "Results for TCGA-CN-4737-01Z-00-DX1.15951662-62c1-49e1-94ea-1f4ebad55507_1.png (roi     - unet     - 0.95 accuracy)\n",
      "TCGA-CN-4738-01Z-00-DX1.9c456d54-0bde-4f04-ba53-17c09e692491_0.png\n",
      "Results for TCGA-CN-4738-01Z-00-DX1.9c456d54-0bde-4f04-ba53-17c09e692491_0.png (roi     - unet     - 0.92 accuracy)\n",
      "TCGA-CN-4738-01Z-00-DX1.9c456d54-0bde-4f04-ba53-17c09e692491_1.png\n",
      "Results for TCGA-CN-4738-01Z-00-DX1.9c456d54-0bde-4f04-ba53-17c09e692491_1.png (roi     - unet     - 0.87 accuracy)\n",
      "TCGA-CN-4739-01Z-00-DX1.e50266c3-606e-4103-a029-021246d4d1df_0.png\n",
      "Results for TCGA-CN-4739-01Z-00-DX1.e50266c3-606e-4103-a029-021246d4d1df_0.png (roi     - unet     - 0.83 accuracy)\n",
      "TCGA-CN-4739-01Z-00-DX1.e50266c3-606e-4103-a029-021246d4d1df_1.png\n",
      "Results for TCGA-CN-4739-01Z-00-DX1.e50266c3-606e-4103-a029-021246d4d1df_1.png (roi     - unet     - 0.84 accuracy)\n",
      "TCGA-CN-4740-01Z-00-DX1.f7b9f5ec-cb4e-4604-9d64-2bdc20ac5bec_0.png\n",
      "Results for TCGA-CN-4740-01Z-00-DX1.f7b9f5ec-cb4e-4604-9d64-2bdc20ac5bec_0.png (roi     - unet     - 0.74 accuracy)\n",
      "TCGA-CN-4740-01Z-00-DX1.f7b9f5ec-cb4e-4604-9d64-2bdc20ac5bec_1.png\n",
      "Results for TCGA-CN-4740-01Z-00-DX1.f7b9f5ec-cb4e-4604-9d64-2bdc20ac5bec_1.png (roi     - unet     - 0.65 accuracy)\n",
      "TCGA-CN-4741-01Z-00-DX1.6adfce37-b5b0-44ff-834e-85059eec24c0_0.png\n",
      "Results for TCGA-CN-4741-01Z-00-DX1.6adfce37-b5b0-44ff-834e-85059eec24c0_0.png (roi     - unet     - 0.84 accuracy)\n",
      "TCGA-CN-4741-01Z-00-DX1.6adfce37-b5b0-44ff-834e-85059eec24c0_1.png\n",
      "Results for TCGA-CN-4741-01Z-00-DX1.6adfce37-b5b0-44ff-834e-85059eec24c0_1.png (roi     - unet     - 0.85 accuracy)\n",
      "TCGA-CN-4742-01Z-00-DX1.d03eaeac-cc05-4b13-962e-d4d10617d692_0.png\n",
      "Results for TCGA-CN-4742-01Z-00-DX1.d03eaeac-cc05-4b13-962e-d4d10617d692_0.png (roi     - unet     - 0.85 accuracy)\n",
      "TCGA-CN-4742-01Z-00-DX1.d03eaeac-cc05-4b13-962e-d4d10617d692_1.png\n",
      "Results for TCGA-CN-4742-01Z-00-DX1.d03eaeac-cc05-4b13-962e-d4d10617d692_1.png (roi     - unet     - 0.70 accuracy)\n",
      "TCGA-CN-5355-01Z-00-DX1.8fb23e44-fc59-4191-b825-cc021807a338_0.png\n",
      "Results for TCGA-CN-5355-01Z-00-DX1.8fb23e44-fc59-4191-b825-cc021807a338_0.png (roi     - unet     - 0.88 accuracy)\n",
      "TCGA-CN-5355-01Z-00-DX1.8fb23e44-fc59-4191-b825-cc021807a338_1.png\n",
      "Results for TCGA-CN-5355-01Z-00-DX1.8fb23e44-fc59-4191-b825-cc021807a338_1.png (roi     - unet     - 0.88 accuracy)\n",
      "TCGA-CN-5356-01Z-00-DX1.53360c41-d0d2-465e-8b53-ccd1a2ce248f_0.png\n",
      "Results for TCGA-CN-5356-01Z-00-DX1.53360c41-d0d2-465e-8b53-ccd1a2ce248f_0.png (roi     - unet     - 0.89 accuracy)\n",
      "TCGA-CN-5356-01Z-00-DX1.53360c41-d0d2-465e-8b53-ccd1a2ce248f_1.png\n",
      "Results for TCGA-CN-5356-01Z-00-DX1.53360c41-d0d2-465e-8b53-ccd1a2ce248f_1.png (roi     - unet     - 0.90 accuracy)\n",
      "TCGA-CN-5358-01Z-00-DX1.6554cdc1-7d01-4310-a60a-79b8ed7a8679_0.png\n",
      "Results for TCGA-CN-5358-01Z-00-DX1.6554cdc1-7d01-4310-a60a-79b8ed7a8679_0.png (roi     - unet     - 0.80 accuracy)\n",
      "TCGA-CN-5358-01Z-00-DX1.6554cdc1-7d01-4310-a60a-79b8ed7a8679_1.png\n",
      "Results for TCGA-CN-5358-01Z-00-DX1.6554cdc1-7d01-4310-a60a-79b8ed7a8679_1.png (roi     - unet     - 0.83 accuracy)\n",
      "TCGA-CN-5359-01Z-00-DX1.30a19cad-c2b0-4c5f-bd5d-89aa8ac2bb91_0.png\n",
      "Results for TCGA-CN-5359-01Z-00-DX1.30a19cad-c2b0-4c5f-bd5d-89aa8ac2bb91_0.png (roi     - unet     - 0.89 accuracy)\n",
      "TCGA-CN-5359-01Z-00-DX1.30a19cad-c2b0-4c5f-bd5d-89aa8ac2bb91_1.png\n",
      "Results for TCGA-CN-5359-01Z-00-DX1.30a19cad-c2b0-4c5f-bd5d-89aa8ac2bb91_1.png (roi     - unet     - 0.91 accuracy)\n",
      "TCGA-CN-5360-01Z-00-DX1.d3657b07-9ea0-41fc-b858-c9a1497340c8_0.png\n",
      "Results for TCGA-CN-5360-01Z-00-DX1.d3657b07-9ea0-41fc-b858-c9a1497340c8_0.png (roi     - unet     - 0.90 accuracy)\n"
     ]
    },
    {
     "name": "stdout",
     "output_type": "stream",
     "text": [
      "TCGA-CN-5360-01Z-00-DX1.d3657b07-9ea0-41fc-b858-c9a1497340c8_1.png\n",
      "Results for TCGA-CN-5360-01Z-00-DX1.d3657b07-9ea0-41fc-b858-c9a1497340c8_1.png (roi     - unet     - 0.89 accuracy)\n",
      "TCGA-CN-5361-01Z-00-DX1.719cf77b-0dd4-4419-be8f-0d3dadedd7cb_0.png\n",
      "Results for TCGA-CN-5361-01Z-00-DX1.719cf77b-0dd4-4419-be8f-0d3dadedd7cb_0.png (roi     - unet     - 0.87 accuracy)\n",
      "TCGA-CN-5361-01Z-00-DX1.719cf77b-0dd4-4419-be8f-0d3dadedd7cb_1.png\n",
      "Results for TCGA-CN-5361-01Z-00-DX1.719cf77b-0dd4-4419-be8f-0d3dadedd7cb_1.png (roi     - unet     - 0.80 accuracy)\n",
      "TCGA-CN-5363-01Z-00-DX1.bd9c87d4-de64-4932-a90f-95888150d780_0.png\n",
      "Results for TCGA-CN-5363-01Z-00-DX1.bd9c87d4-de64-4932-a90f-95888150d780_0.png (roi     - unet     - 0.56 accuracy)\n",
      "TCGA-CN-5363-01Z-00-DX1.bd9c87d4-de64-4932-a90f-95888150d780_1.png\n",
      "Results for TCGA-CN-5363-01Z-00-DX1.bd9c87d4-de64-4932-a90f-95888150d780_1.png (roi     - unet     - 0.96 accuracy)\n",
      "TCGA-CN-5364-01Z-00-DX1.caeed5d0-cd48-40f3-b81b-099637341563_0.png\n",
      "Results for TCGA-CN-5364-01Z-00-DX1.caeed5d0-cd48-40f3-b81b-099637341563_0.png (roi     - unet     - 0.95 accuracy)\n",
      "TCGA-CN-5364-01Z-00-DX1.caeed5d0-cd48-40f3-b81b-099637341563_1.png\n",
      "Results for TCGA-CN-5364-01Z-00-DX1.caeed5d0-cd48-40f3-b81b-099637341563_1.png (roi     - unet     - 0.92 accuracy)\n",
      "TCGA-CN-5365-01Z-00-DX1.26a33bd0-1eb3-4774-8be6-bf8501f4a9f9_0.png\n",
      "Results for TCGA-CN-5365-01Z-00-DX1.26a33bd0-1eb3-4774-8be6-bf8501f4a9f9_0.png (roi     - unet     - 0.84 accuracy)\n",
      "TCGA-CN-5365-01Z-00-DX1.26a33bd0-1eb3-4774-8be6-bf8501f4a9f9_1.png\n",
      "Results for TCGA-CN-5365-01Z-00-DX1.26a33bd0-1eb3-4774-8be6-bf8501f4a9f9_1.png (roi     - unet     - 0.95 accuracy)\n",
      "TCGA-CN-5366-01Z-00-DX1.dcc14c44-6dd1-48a1-a21c-736c6b9551e1_0.png\n",
      "Results for TCGA-CN-5366-01Z-00-DX1.dcc14c44-6dd1-48a1-a21c-736c6b9551e1_0.png (roi     - unet     - 0.93 accuracy)\n",
      "TCGA-CN-5366-01Z-00-DX1.dcc14c44-6dd1-48a1-a21c-736c6b9551e1_1.png\n",
      "Results for TCGA-CN-5366-01Z-00-DX1.dcc14c44-6dd1-48a1-a21c-736c6b9551e1_1.png (roi     - unet     - 0.92 accuracy)\n",
      "TCGA-CN-5367-01Z-00-DX1.5b09e54e-4140-4709-bc60-e201f9a72b24_0.png\n",
      "Results for TCGA-CN-5367-01Z-00-DX1.5b09e54e-4140-4709-bc60-e201f9a72b24_0.png (roi     - unet     - 0.88 accuracy)\n",
      "TCGA-CN-5367-01Z-00-DX1.5b09e54e-4140-4709-bc60-e201f9a72b24_1.png\n",
      "Results for TCGA-CN-5367-01Z-00-DX1.5b09e54e-4140-4709-bc60-e201f9a72b24_1.png (roi     - unet     - 0.89 accuracy)\n",
      "TCGA-CN-5369-01Z-00-DX1.be289b39-c6c2-43a6-8feb-75ad5829ec81_0.png\n",
      "Results for TCGA-CN-5369-01Z-00-DX1.be289b39-c6c2-43a6-8feb-75ad5829ec81_0.png (roi     - unet     - 0.74 accuracy)\n",
      "TCGA-CN-5369-01Z-00-DX1.be289b39-c6c2-43a6-8feb-75ad5829ec81_1.png\n",
      "Results for TCGA-CN-5369-01Z-00-DX1.be289b39-c6c2-43a6-8feb-75ad5829ec81_1.png (roi     - unet     - 0.73 accuracy)\n",
      "TCGA-CN-5373-01Z-00-DX1.c423a74f-cdb6-41b1-9483-be854827434e_0.png\n",
      "Results for TCGA-CN-5373-01Z-00-DX1.c423a74f-cdb6-41b1-9483-be854827434e_0.png (roi     - unet     - 0.87 accuracy)\n",
      "TCGA-CN-5373-01Z-00-DX1.c423a74f-cdb6-41b1-9483-be854827434e_1.png\n",
      "Results for TCGA-CN-5373-01Z-00-DX1.c423a74f-cdb6-41b1-9483-be854827434e_1.png (roi     - unet     - 0.85 accuracy)\n",
      "TCGA-CN-5374-01Z-00-DX1.027c681b-d8d8-47fd-b0f8-917d6ddb3b83_0.png\n",
      "Results for TCGA-CN-5374-01Z-00-DX1.027c681b-d8d8-47fd-b0f8-917d6ddb3b83_0.png (roi     - unet     - 0.89 accuracy)\n",
      "TCGA-CN-5374-01Z-00-DX1.027c681b-d8d8-47fd-b0f8-917d6ddb3b83_1.png\n",
      "Results for TCGA-CN-5374-01Z-00-DX1.027c681b-d8d8-47fd-b0f8-917d6ddb3b83_1.png (roi     - unet     - 0.90 accuracy)\n",
      "TCGA-CN-6010-01Z-00-DX1.8a82a2d0-c687-4b75-922f-b5b64b5a99df_0.png\n",
      "Results for TCGA-CN-6010-01Z-00-DX1.8a82a2d0-c687-4b75-922f-b5b64b5a99df_0.png (roi     - unet     - 0.86 accuracy)\n",
      "TCGA-CN-6010-01Z-00-DX1.8a82a2d0-c687-4b75-922f-b5b64b5a99df_1.png\n",
      "Results for TCGA-CN-6010-01Z-00-DX1.8a82a2d0-c687-4b75-922f-b5b64b5a99df_1.png (roi     - unet     - 0.87 accuracy)\n",
      "TCGA-CN-6011-01Z-00-DX1.a3a73ffe-06b8-42ea-820b-9c2824d96585_0.png\n",
      "Results for TCGA-CN-6011-01Z-00-DX1.a3a73ffe-06b8-42ea-820b-9c2824d96585_0.png (roi     - unet     - 0.92 accuracy)\n",
      "TCGA-CN-6011-01Z-00-DX1.a3a73ffe-06b8-42ea-820b-9c2824d96585_1.png\n",
      "Results for TCGA-CN-6011-01Z-00-DX1.a3a73ffe-06b8-42ea-820b-9c2824d96585_1.png (roi     - unet     - 0.92 accuracy)\n",
      "TCGA-CN-6012-01Z-00-DX1.bd9283bb-47c7-41ab-996a-f3f5070cfc73_0.png\n",
      "Results for TCGA-CN-6012-01Z-00-DX1.bd9283bb-47c7-41ab-996a-f3f5070cfc73_0.png (roi     - unet     - 0.88 accuracy)\n",
      "TCGA-CN-6012-01Z-00-DX1.bd9283bb-47c7-41ab-996a-f3f5070cfc73_1.png\n",
      "Results for TCGA-CN-6012-01Z-00-DX1.bd9283bb-47c7-41ab-996a-f3f5070cfc73_1.png (roi     - unet     - 0.90 accuracy)\n",
      "TCGA-CN-6016-01Z-00-DX1.737054ae-50f4-42c4-b79c-c462220b12f3_0.png\n",
      "Results for TCGA-CN-6016-01Z-00-DX1.737054ae-50f4-42c4-b79c-c462220b12f3_0.png (roi     - unet     - 0.92 accuracy)\n",
      "TCGA-CN-6016-01Z-00-DX1.737054ae-50f4-42c4-b79c-c462220b12f3_1.png\n",
      "Results for TCGA-CN-6016-01Z-00-DX1.737054ae-50f4-42c4-b79c-c462220b12f3_1.png (roi     - unet     - 0.91 accuracy)\n",
      "TCGA-CN-6017-01Z-00-DX1.690fa1af-4b51-41c8-a52d-bd1341f990e9_0.png\n",
      "Results for TCGA-CN-6017-01Z-00-DX1.690fa1af-4b51-41c8-a52d-bd1341f990e9_0.png (roi     - unet     - 0.90 accuracy)\n",
      "TCGA-CN-6017-01Z-00-DX1.690fa1af-4b51-41c8-a52d-bd1341f990e9_1.png\n",
      "Results for TCGA-CN-6017-01Z-00-DX1.690fa1af-4b51-41c8-a52d-bd1341f990e9_1.png (roi     - unet     - 0.77 accuracy)\n",
      "TCGA-CN-6018-01Z-00-DX1.77855643-92a9-40a7-b4a8-0e32b89fc597_0.png\n",
      "Results for TCGA-CN-6018-01Z-00-DX1.77855643-92a9-40a7-b4a8-0e32b89fc597_0.png (roi     - unet     - 0.89 accuracy)\n",
      "TCGA-CN-6018-01Z-00-DX1.77855643-92a9-40a7-b4a8-0e32b89fc597_1.png\n",
      "Results for TCGA-CN-6018-01Z-00-DX1.77855643-92a9-40a7-b4a8-0e32b89fc597_1.png (roi     - unet     - 0.82 accuracy)\n",
      "TCGA-CN-6019-01Z-00-DX1.0a01c44a-b7f4-427e-9854-fe2f0db631ab_0.png\n",
      "Results for TCGA-CN-6019-01Z-00-DX1.0a01c44a-b7f4-427e-9854-fe2f0db631ab_0.png (roi     - unet     - 0.85 accuracy)\n",
      "TCGA-CN-6019-01Z-00-DX1.0a01c44a-b7f4-427e-9854-fe2f0db631ab_1.png\n",
      "Results for TCGA-CN-6019-01Z-00-DX1.0a01c44a-b7f4-427e-9854-fe2f0db631ab_1.png (roi     - unet     - 0.84 accuracy)\n",
      "TCGA-CN-6020-01Z-00-DX1.910f4ce3-873f-4712-b896-789d764513a7_0.png\n",
      "Results for TCGA-CN-6020-01Z-00-DX1.910f4ce3-873f-4712-b896-789d764513a7_0.png (roi     - unet     - 0.88 accuracy)\n",
      "TCGA-CN-6020-01Z-00-DX1.910f4ce3-873f-4712-b896-789d764513a7_1.png\n",
      "Results for TCGA-CN-6020-01Z-00-DX1.910f4ce3-873f-4712-b896-789d764513a7_1.png (roi     - unet     - 0.89 accuracy)\n",
      "TCGA-CN-6021-01Z-00-DX1.613eb0f9-f1ca-49a9-9bb8-7fdbb29d7665_0.png\n",
      "Results for TCGA-CN-6021-01Z-00-DX1.613eb0f9-f1ca-49a9-9bb8-7fdbb29d7665_0.png (roi     - unet     - 0.86 accuracy)\n",
      "TCGA-CN-6021-01Z-00-DX1.613eb0f9-f1ca-49a9-9bb8-7fdbb29d7665_1.png\n",
      "Results for TCGA-CN-6021-01Z-00-DX1.613eb0f9-f1ca-49a9-9bb8-7fdbb29d7665_1.png (roi     - unet     - 0.88 accuracy)\n",
      "TCGA-CN-6022-01Z-00-DX1.46951ba2-f656-41b9-95c7-a3026ddbd562_0.png\n",
      "Results for TCGA-CN-6022-01Z-00-DX1.46951ba2-f656-41b9-95c7-a3026ddbd562_0.png (roi     - unet     - 0.90 accuracy)\n",
      "TCGA-CN-6022-01Z-00-DX1.46951ba2-f656-41b9-95c7-a3026ddbd562_1.png\n",
      "Results for TCGA-CN-6022-01Z-00-DX1.46951ba2-f656-41b9-95c7-a3026ddbd562_1.png (roi     - unet     - 0.80 accuracy)\n",
      "TCGA-CN-6023-01Z-00-DX1.abfbc2c7-109b-4b72-8645-8e4135d00306_0.png\n",
      "Results for TCGA-CN-6023-01Z-00-DX1.abfbc2c7-109b-4b72-8645-8e4135d00306_0.png (roi     - unet     - 0.88 accuracy)\n",
      "TCGA-CN-6023-01Z-00-DX1.abfbc2c7-109b-4b72-8645-8e4135d00306_1.png\n",
      "Results for TCGA-CN-6023-01Z-00-DX1.abfbc2c7-109b-4b72-8645-8e4135d00306_1.png (roi     - unet     - 0.87 accuracy)\n",
      "TCGA-CN-6024-01Z-00-DX1.c5791a72-1ded-4723-a33a-68da0685c80b_0.png\n",
      "Results for TCGA-CN-6024-01Z-00-DX1.c5791a72-1ded-4723-a33a-68da0685c80b_0.png (roi     - unet     - 0.86 accuracy)\n",
      "TCGA-CN-6024-01Z-00-DX1.c5791a72-1ded-4723-a33a-68da0685c80b_1.png\n",
      "Results for TCGA-CN-6024-01Z-00-DX1.c5791a72-1ded-4723-a33a-68da0685c80b_1.png (roi     - unet     - 0.81 accuracy)\n",
      "TCGA-CN-6988-01Z-00-DX1.1fc4c572-3495-4f5a-9f1a-60c04096d188_0.png\n",
      "Results for TCGA-CN-6988-01Z-00-DX1.1fc4c572-3495-4f5a-9f1a-60c04096d188_0.png (roi     - unet     - 0.92 accuracy)\n",
      "TCGA-CN-6988-01Z-00-DX1.1fc4c572-3495-4f5a-9f1a-60c04096d188_1.png\n",
      "Results for TCGA-CN-6988-01Z-00-DX1.1fc4c572-3495-4f5a-9f1a-60c04096d188_1.png (roi     - unet     - 0.89 accuracy)\n"
     ]
    },
    {
     "name": "stdout",
     "output_type": "stream",
     "text": [
      "TCGA-CN-6989-01Z-00-DX1.dd68e391-1d00-4bfc-9be9-ff5024bea237_0.png\n",
      "Results for TCGA-CN-6989-01Z-00-DX1.dd68e391-1d00-4bfc-9be9-ff5024bea237_0.png (roi     - unet     - 0.76 accuracy)\n",
      "TCGA-CN-6989-01Z-00-DX1.dd68e391-1d00-4bfc-9be9-ff5024bea237_1.png\n",
      "Results for TCGA-CN-6989-01Z-00-DX1.dd68e391-1d00-4bfc-9be9-ff5024bea237_1.png (roi     - unet     - 0.81 accuracy)\n",
      "TCGA-CN-6994-01Z-00-DX1.0aa71a4c-25e5-417d-86cf-ce2756e3dd8a_0.png\n",
      "Results for TCGA-CN-6994-01Z-00-DX1.0aa71a4c-25e5-417d-86cf-ce2756e3dd8a_0.png (roi     - unet     - 0.87 accuracy)\n",
      "TCGA-CN-6994-01Z-00-DX1.0aa71a4c-25e5-417d-86cf-ce2756e3dd8a_1.png\n",
      "Results for TCGA-CN-6994-01Z-00-DX1.0aa71a4c-25e5-417d-86cf-ce2756e3dd8a_1.png (roi     - unet     - 0.82 accuracy)\n",
      "TCGA-CN-6996-01Z-00-DX1.b3a1162b-9adb-4fb2-b472-5b9781b9364d_0.png\n",
      "Results for TCGA-CN-6996-01Z-00-DX1.b3a1162b-9adb-4fb2-b472-5b9781b9364d_0.png (roi     - unet     - 0.76 accuracy)\n",
      "TCGA-CN-6996-01Z-00-DX1.b3a1162b-9adb-4fb2-b472-5b9781b9364d_1.png\n",
      "Results for TCGA-CN-6996-01Z-00-DX1.b3a1162b-9adb-4fb2-b472-5b9781b9364d_1.png (roi     - unet     - 0.79 accuracy)\n",
      "TCGA-CN-6997-01Z-00-DX1.7c1686d4-7c15-4332-b962-b36b499dee85_0.png\n",
      "Results for TCGA-CN-6997-01Z-00-DX1.7c1686d4-7c15-4332-b962-b36b499dee85_0.png (roi     - unet     - 0.90 accuracy)\n",
      "TCGA-CN-6997-01Z-00-DX1.7c1686d4-7c15-4332-b962-b36b499dee85_1.png\n",
      "Results for TCGA-CN-6997-01Z-00-DX1.7c1686d4-7c15-4332-b962-b36b499dee85_1.png (roi     - unet     - 0.86 accuracy)\n",
      "TCGA-CN-6998-01Z-00-DX1.5780b8b9-0a1f-4330-889c-b345b29396b2_0.png\n",
      "Results for TCGA-CN-6998-01Z-00-DX1.5780b8b9-0a1f-4330-889c-b345b29396b2_0.png (roi     - unet     - 0.81 accuracy)\n",
      "TCGA-CN-6998-01Z-00-DX1.5780b8b9-0a1f-4330-889c-b345b29396b2_1.png\n",
      "Results for TCGA-CN-6998-01Z-00-DX1.5780b8b9-0a1f-4330-889c-b345b29396b2_1.png (roi     - unet     - 0.74 accuracy)\n"
     ]
    }
   ],
   "source": [
    "import os\n",
    "import sys\n",
    "import csv\n",
    "\n",
    "from scipy import ndimage as nd\n",
    "from skimage import measure\n",
    "\n",
    "\n",
    "\n",
    "current_path = os.path.abspath('.')\n",
    "root_path = os.path.dirname(os.path.dirname(current_path))\n",
    "sys.path.append(root_path)\n",
    "\n",
    "from sourcecode.ORCA.orca_dataloader_512x512 import *\n",
    "from sourcecode.wsi_image_utils import *\n",
    "from sourcecode.evaluation_utils import *\n",
    "\n",
    "\n",
    "\n",
    "dataset_dir = \"../../datasets/ORCA_512x512\"\n",
    "dataset_dir_results = \"/media/dalifreire/DADOS/PhD/github/tumor_regions_segmentation/datasets/ORCA_512x512\"\n",
    "\n",
    "batch_size = 1\n",
    "patch_size = (512, 512)\n",
    "color_model = \"LAB\"\n",
    "dataloaders = create_dataloader(batch_size=batch_size, \n",
    "                                shuffle=False,\n",
    "                                dataset_dir=dataset_dir,\n",
    "                                color_model=color_model)\n",
    "\n",
    "dataset_train_size = len(dataloaders['train'].dataset)\n",
    "dataset_test_size = len(dataloaders['test'].dataset)\n",
    "print(\"-\")\n",
    "\n",
    "tile_size = 20\n",
    "magnification=0.625\n",
    "\n",
    "threshold_prob = 0.50\n",
    "threshold_itc = 200/(0.243 * pow(2, 5))\n",
    "\n",
    "wsi_images_dir_normal = \"{}/testing/normal/wsi\".format(dataset_dir)\n",
    "wsi_images_dir_tumor = \"{}/testing/tumor/wsi\".format(dataset_dir)\n",
    "\n",
    "trained_model_version = \"ORCA__Size-512x512_Epoch-352_Images-80_Batch-1__one_by_epoch\"\n",
    "results_dir=\"{}/results/{}/testing\".format(dataset_dir_results, trained_model_version)\n",
    "csv_file_path = \"{}/quantitative_analysis_{}.csv\".format(results_dir, threshold_prob)\n",
    "\n",
    "wsi_tissue_patches = {}\n",
    "with open(csv_file_path, mode='w') as medidas_file:\n",
    "\n",
    "    medidas_writer = csv.writer(medidas_file, delimiter=',', quotechar='\"', quoting=csv.QUOTE_MINIMAL)\n",
    "    medidas_writer.writerow(['wsi_image', 'patch_image', 'class', 'auc', 'accuracy', 'precision', 'f1/dice', 'jaccard', 'sensitivity/recall', 'specificity', 'pixels', 'tp', 'tn', 'fp', 'fn'])\n",
    "\n",
    "    for batch_idx, (data, target, fname, original_size) in enumerate(dataloaders['test']):\n",
    "        \n",
    "        # load the mask image\n",
    "        mask_np_img = target[0].numpy()\n",
    "\n",
    "        # roi x non_roi classes\n",
    "        wsi_class = \"tumor\"\n",
    "        patch_class = \"roi\"                \n",
    "\n",
    "        # load the predicted image result\n",
    "        patch_results_dir = \"{}/{}/patch/{}x{}/{}\".format(results_dir, wsi_class, patch_size[0], patch_size[1], fname[0])\n",
    "        unet_result_img = \"{}/01-unet_result/{}\".format(patch_results_dir, fname[0])\n",
    "        predicted_pil_img = load_pil_image(unet_result_img, gray=True) if os.path.isfile(unet_result_img) else Image.fromarray(np.zeros(mask_np_img.shape))\n",
    "        predicted_np_img = np.copy(pil_to_np(predicted_pil_img))\n",
    "        predicted_np_img = predicted_np_img * (1.0/255)\n",
    "        predicted_np_img = basic_threshold(predicted_np_img, threshold=threshold_prob, output_type=\"uint8\")\n",
    "\n",
    "        predicted_labels = measure.label(predicted_np_img, connectivity=2)\n",
    "        predicted_np_img = np.zeros((predicted_np_img.shape[0], predicted_np_img.shape[1]))\n",
    "        labels = np.unique(predicted_labels)\n",
    "        properties = measure.regionprops(predicted_labels)\n",
    "        for lbl in range(1, np.max(labels)):\n",
    "            major_axis_length = properties[lbl-1].major_axis_length\n",
    "            if major_axis_length > threshold_itc:\n",
    "                predicted_np_img[predicted_labels == lbl] = 1\n",
    "\n",
    "\n",
    "        # metrics\n",
    "        auc = roc_auc_score(mask_np_img, predicted_np_img)\n",
    "        precision = precision_score(mask_np_img, predicted_np_img)\n",
    "        recall = recall_score(mask_np_img, predicted_np_img)\n",
    "        accuracy = accuracy_score(mask_np_img, predicted_np_img)\n",
    "        f1 = f1_score(mask_np_img, predicted_np_img)\n",
    "        specificity = specificity_score(mask_np_img, predicted_np_img)\n",
    "        jaccard = jaccard_score(mask_np_img, predicted_np_img)\n",
    "\n",
    "        total_pixels, tn, fp, fn, tp = tn_fp_fn_tp(mask_np_img, predicted_np_img)\n",
    "\n",
    "        print(fname[0])\n",
    "        print(\"Results for {:26} ({:7} - {:8} - {:04.2f} accuracy)\".format(fname[0], patch_class, \"unet\", accuracy))\n",
    "        #print(\"   Precision: \\t{}\".format(precision))\n",
    "        #print(\"   Recall/Sen: \\t{}\".format(recall))\n",
    "        #print(\"   F1/Dice: \\t{}\".format(f1))\n",
    "        #print(\"   Accuracy: \\t{}\".format(accuracy))\n",
    "        #print(\"   Specificity: {}\".format(specificity))\n",
    "        #print(\"   Jaccard: \\t{}\".format(jaccard))\n",
    "        #print(\"   TP = {} TN = {} FP = {} FN = {}\".format(tp, tn, fp, fn))\n",
    "        #print(\"-\")\n",
    "\n",
    "        medidas_writer.writerow([fname[0], '-', patch_class, auc, accuracy, precision, f1, jaccard, recall, specificity, total_pixels, tp, tn, fp, fn])\n"
   ]
  },
  {
   "cell_type": "code",
   "execution_count": null,
   "metadata": {},
   "outputs": [],
   "source": []
  },
  {
   "cell_type": "code",
   "execution_count": null,
   "metadata": {},
   "outputs": [],
   "source": []
  },
  {
   "cell_type": "code",
   "execution_count": null,
   "metadata": {},
   "outputs": [],
   "source": []
  }
 ],
 "metadata": {
  "kernelspec": {
   "display_name": "Python 3",
   "language": "python",
   "name": "python3"
  },
  "language_info": {
   "codemirror_mode": {
    "name": "ipython",
    "version": 3
   },
   "file_extension": ".py",
   "mimetype": "text/x-python",
   "name": "python",
   "nbconvert_exporter": "python",
   "pygments_lexer": "ipython3",
   "version": "3.8.5"
  }
 },
 "nbformat": 4,
 "nbformat_minor": 4
}
