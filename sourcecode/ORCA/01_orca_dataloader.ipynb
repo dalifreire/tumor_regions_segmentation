{
 "cells": [
  {
   "cell_type": "markdown",
   "metadata": {},
   "source": [
    "# Instanciate the 'train' and 'test' dataloaders"
   ]
  },
  {
   "cell_type": "code",
   "execution_count": null,
   "metadata": {},
   "outputs": [],
   "source": [
    "from orca_dataloader import *\n",
    "\n",
    "dataset_dir = \"../../datasets/ORCA\"\n",
    "\n",
    "batch_size = 6\n",
    "patch_size = (640, 640)\n",
    "color_model = \"LAB\"\n",
    "dataloaders = create_dataloader(tile_size=\"{}x{}\".format(patch_size[0], patch_size[1]),\n",
    "                                batch_size=batch_size, \n",
    "                                shuffle=True,\n",
    "                                img_input_size=patch_size,\n",
    "                                img_output_size=patch_size,\n",
    "                                dataset_dir=dataset_dir,\n",
    "                                color_model=color_model)\n",
    "\n",
    "dataset_train_size = len(dataloaders['train'].dataset)\n",
    "dataset_test_size = len(dataloaders['test'].dataset)"
   ]
  },
  {
   "cell_type": "code",
   "execution_count": null,
   "metadata": {},
   "outputs": [],
   "source": []
  },
  {
   "cell_type": "markdown",
   "metadata": {},
   "source": [
    "# Show some train images"
   ]
  },
  {
   "cell_type": "code",
   "execution_count": null,
   "metadata": {},
   "outputs": [],
   "source": [
    "dataset_show(dataloaders['train'], batch_size=batch_size, show_masks=True, row_limit=1)"
   ]
  },
  {
   "cell_type": "code",
   "execution_count": null,
   "metadata": {},
   "outputs": [],
   "source": []
  },
  {
   "cell_type": "markdown",
   "metadata": {},
   "source": [
    "# Show some test images"
   ]
  },
  {
   "cell_type": "code",
   "execution_count": null,
   "metadata": {},
   "outputs": [],
   "source": [
    "dataset_show(dataloaders['test'], batch_size=batch_size, show_masks=True, row_limit=1)"
   ]
  },
  {
   "cell_type": "code",
   "execution_count": null,
   "metadata": {},
   "outputs": [],
   "source": []
  }
 ],
 "metadata": {
  "kernelspec": {
   "display_name": "Python 3",
   "language": "python",
   "name": "python3"
  },
  "language_info": {
   "codemirror_mode": {
    "name": "ipython",
    "version": 3
   },
   "file_extension": ".py",
   "mimetype": "text/x-python",
   "name": "python",
   "nbconvert_exporter": "python",
   "pygments_lexer": "ipython3",
   "version": "3.8.5"
  }
 },
 "nbformat": 4,
 "nbformat_minor": 4
}
