{
 "cells": [
  {
   "cell_type": "code",
   "execution_count": null,
   "metadata": {},
   "outputs": [],
   "source": []
  },
  {
   "cell_type": "code",
   "execution_count": 1,
   "metadata": {},
   "outputs": [
    {
     "name": "stdout",
     "output_type": "stream",
     "text": [
      "statistic: 8.857142857142847\n",
      "pvalue: 0.011931522535756207\n",
      "Different distribution (reject H0)\n"
     ]
    }
   ],
   "source": [
    "# Mann-Whitney U test\n",
    "import scipy.stats as stats\n",
    "\n",
    "ocdc_f1_results =    [68.41, 83.65, 87.29, 88.21, 88.78, 85.08, 90.06]\n",
    "orca_f1_results =    [79.13, 80.98, 81.01, 80.43, 81.73, 81.53, 82.14]\n",
    "orca512_f1_results = [75.45, 74.88, 76.16, 73.83, 76.51, 74.78, 77.16]\n",
    "\n",
    "# compare samples\n",
    "#statistic, pvalue = stats.mannwhitneyu(data1, data2)\n",
    "#statistic, pvalue = stats.wilcoxon(data1, data2)\n",
    "#statistic, pvalue = stats.kruskal(data1, data2)\n",
    "statistic, pvalue = stats.friedmanchisquare(ocdc_f1_results, orca_f1_results, orca512_f1_results)\n",
    "print(\"statistic: {}\".format(statistic))\n",
    "print(\"pvalue: {}\".format(pvalue))\n",
    "\n",
    "# interpret\n",
    "alpha = 0.05\n",
    "if pvalue > alpha:\n",
    "    print('Same distribution (fail to reject H0)')\n",
    "else:\n",
    "    print('Different distribution (reject H0)')"
   ]
  },
  {
   "cell_type": "code",
   "execution_count": null,
   "metadata": {},
   "outputs": [],
   "source": []
  },
  {
   "cell_type": "code",
   "execution_count": null,
   "metadata": {},
   "outputs": [],
   "source": []
  },
  {
   "cell_type": "code",
   "execution_count": 3,
   "metadata": {},
   "outputs": [
    {
     "name": "stdout",
     "output_type": "stream",
     "text": [
      "statistic: 13.57142857142857\n",
      "pvalue: 0.034807652072610204\n",
      "Different distribution (reject H0)\n"
     ]
    }
   ],
   "source": [
    "# Mann-Whitney U test\n",
    "import scipy.stats as stats\n",
    "\n",
    "noaugmentation_f1_results = [68.41, 79.13, 75.45] # ocdc, orca, orca 512\n",
    "colortransfer_f1_results =  [83.65, 80.98, 74.88]\n",
    "inpainting_f1_results =     [87.29, 81.01, 76.16]\n",
    "geometric_f1_results =      [88.21, 80.43, 73.83]\n",
    "distortion_f1_results =     [88.78, 81.73, 76.51]\n",
    "standard_f1_results =       [85.08, 81.53, 74.48]\n",
    "rcaug_f1_results    =       [90.06, 82.14, 77.16]\n",
    "\n",
    "# compare samples\n",
    "#statistic, pvalue = stats.mannwhitneyu(data1, data2)\n",
    "#statistic, pvalue = stats.wilcoxon(data1, data2)\n",
    "#statistic, pvalue = stats.kruskal(data1, data2)\n",
    "statistic, pvalue = stats.friedmanchisquare(noaugmentation_f1_results, \n",
    "                                            colortransfer_f1_results, \n",
    "                                            inpainting_f1_results, \n",
    "                                            geometric_f1_results,\n",
    "                                            distortion_f1_results,\n",
    "                                            standard_f1_results,\n",
    "                                            rcaug_f1_results)\n",
    "print(\"statistic: {}\".format(statistic))\n",
    "print(\"pvalue: {}\".format(pvalue))\n",
    "\n",
    "# interpret\n",
    "alpha = 0.05\n",
    "if pvalue > alpha:\n",
    "    print('Same distribution (fail to reject H0)')\n",
    "else:\n",
    "    print('Different distribution (reject H0)')"
   ]
  },
  {
   "cell_type": "code",
   "execution_count": null,
   "metadata": {},
   "outputs": [],
   "source": []
  },
  {
   "cell_type": "code",
   "execution_count": null,
   "metadata": {},
   "outputs": [],
   "source": []
  },
  {
   "cell_type": "code",
   "execution_count": 25,
   "metadata": {},
   "outputs": [
    {
     "name": "stdout",
     "output_type": "stream",
     "text": [
      "statistic: 1.0\n",
      "pvalue: 0.09521513191276199\n",
      "Same distribution (fail to reject H0)\n"
     ]
    }
   ],
   "source": [
    "# Mann-Whitney U test\n",
    "import scipy.stats as stats\n",
    "\n",
    "noaugmentation_iou_results = [51.98, 65.46, 60.57]\n",
    "colortransfer_iou_results =  []\n",
    "inpainting_iou_results =     []\n",
    "geometric_iou_results =      []\n",
    "distortion_iou_results =     []\n",
    "standard_iou_results =       []\n",
    "rcaug_iou_results    =       [81.92, 69.69, 62.81]\n",
    "\n",
    "# compare samples\n",
    "data1 = noaugmentation_f1_results\n",
    "data2 = rcaug_f1_results\n",
    "statistic, pvalue = stats.mannwhitneyu(data1, data2)\n",
    "#statistic, pvalue = stats.wilcoxon(data1, data2)\n",
    "#statistic, pvalue = stats.kruskal(data1, data2)\n",
    "#statistic, pvalue = stats.friedmanchisquare(data1, data2)\n",
    "print(\"statistic: {}\".format(statistic))\n",
    "print(\"pvalue: {}\".format(pvalue))\n",
    "\n",
    "# interpret\n",
    "alpha = 0.05\n",
    "if pvalue > alpha:\n",
    "    print('Same distribution (fail to reject H0)')\n",
    "else:\n",
    "    print('Different distribution (reject H0)')"
   ]
  },
  {
   "cell_type": "code",
   "execution_count": 5,
   "metadata": {},
   "outputs": [
    {
     "name": "stdout",
     "output_type": "stream",
     "text": [
      "statistic: 4.0\n",
      "pvalue: 0.1353352832366127\n",
      "Same distribution (fail to reject H0)\n"
     ]
    }
   ],
   "source": [
    "# Mann-Whitney U test\n",
    "import scipy.stats as stats\n",
    "\n",
    "noaugmentation_orca_results = [82.73, 78.75, 79.13, 56.46, 79.50, 84.99]\n",
    "standard_orca_results =       [84.42, 79.61, 81.53, 68.82, 83.54, 85.03]\n",
    "rcaug_orca_results =          [84.60, 78.58, 82.14, 69.69, 86.04, 83.59]\n",
    "\n",
    "# compare samples\n",
    "data1 = rcaug_orca_results\n",
    "data2 = noaugmentation_orca_results\n",
    "#statistic, pvalue = stats.mannwhitneyu(data1, data2)\n",
    "#statistic, pvalue = stats.wilcoxon(data1, data2)\n",
    "#statistic, pvalue = stats.kruskal(data1, data2)\n",
    "statistic, pvalue = stats.friedmanchisquare(noaugmentation_orca_results, standard_orca_results, rcaug_orca_results)\n",
    "print(\"statistic: {}\".format(statistic))\n",
    "print(\"pvalue: {}\".format(pvalue))\n",
    "\n",
    "# interpret\n",
    "alpha = 0.05\n",
    "if pvalue > alpha:\n",
    "    print('Same distribution (fail to reject H0)')\n",
    "else:\n",
    "    print('Different distribution (reject H0)')"
   ]
  },
  {
   "cell_type": "code",
   "execution_count": null,
   "metadata": {},
   "outputs": [],
   "source": []
  },
  {
   "cell_type": "code",
   "execution_count": null,
   "metadata": {},
   "outputs": [],
   "source": []
  },
  {
   "cell_type": "code",
   "execution_count": 19,
   "metadata": {},
   "outputs": [
    {
     "name": "stdout",
     "output_type": "stream",
     "text": [
      "statistic: 12.0\n",
      "pvalue: 0.18923879662233944\n",
      "Same distribution (fail to reject H0)\n"
     ]
    }
   ],
   "source": [
    "# Mann-Whitney U test\n",
    "import scipy.stats as stats\n",
    "\n",
    "noaugmentation_ocdc_results = [92.44, 89.83, 68.41, 51.98, 55.24, 98.91]\n",
    "standard_ocdc_results =       [95.72, 88.11, 85.08, 74.04, 82.26, 98.07]\n",
    "rcaug_ocdc_results =          [96.99, 88.29, 90.06, 81.82, 91.91, 97.88]\n",
    "\n",
    "# compare samples\n",
    "data1 = rcaug_ocdc_results\n",
    "data2 = noaugmentation_ocdc_results\n",
    "statistic, pvalue = stats.mannwhitneyu(data1, data2)\n",
    "#statistic, pvalue = stats.wilcoxon(data1, data2)\n",
    "#statistic, pvalue = stats.kruskal(data1, data2)\n",
    "#statistic, pvalue = stats.friedmanchisquare(data1, data2)\n",
    "print(\"statistic: {}\".format(statistic))\n",
    "print(\"pvalue: {}\".format(pvalue))\n",
    "\n",
    "# interpret\n",
    "alpha = 0.05\n",
    "if pvalue > alpha:\n",
    "    print('Same distribution (fail to reject H0)')\n",
    "else:\n",
    "    print('Different distribution (reject H0)')"
   ]
  },
  {
   "cell_type": "code",
   "execution_count": null,
   "metadata": {},
   "outputs": [],
   "source": []
  }
 ],
 "metadata": {
  "interpreter": {
   "hash": "916dbcbb3f70747c44a77c7bcd40155683ae19c65e1c03b4aa3499c5328201f1"
  },
  "kernelspec": {
   "display_name": "Python 3.8.10 64-bit",
   "language": "python",
   "name": "python3"
  },
  "language_info": {
   "codemirror_mode": {
    "name": "ipython",
    "version": 3
   },
   "file_extension": ".py",
   "mimetype": "text/x-python",
   "name": "python",
   "nbconvert_exporter": "python",
   "pygments_lexer": "ipython3",
   "version": "3.8.10"
  },
  "orig_nbformat": 4
 },
 "nbformat": 4,
 "nbformat_minor": 2
}
